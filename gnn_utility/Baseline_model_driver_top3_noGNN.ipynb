{
  "cells": [
    {
      "cell_type": "markdown",
      "metadata": {
        "id": "view-in-github"
      },
      "source": [
        "<a href=\"https://colab.research.google.com/github/Andrea-1704/Pytorch_Geometric_tutorial/blob/main/train_model_baseline_f1.ipynb\" target=\"_parent\"><img src=\"https://colab.research.google.com/assets/colab-badge.svg\" alt=\"Open In Colab\"/></a>"
      ]
    },
    {
      "cell_type": "markdown",
      "metadata": {
        "id": "gAnf26iN5QYQ"
      },
      "source": [
        "# Obiettivo\n",
        "Verifichiamo che succede se non mettiamo la gnn per questo task: i risultati peggiorano?"
      ]
    },
    {
      "cell_type": "markdown",
      "metadata": {
        "id": "4D3ONst6S0pI"
      },
      "source": [
        "# Libraries to install"
      ]
    },
    {
      "cell_type": "code",
      "execution_count": 48,
      "metadata": {
        "id": "zNziUzq9nTdU"
      },
      "outputs": [],
      "source": [
        "# !pip install torch==2.6.0+cu118 torchvision torchaudio --index-url https://download.pytorch.org/whl/cu118\n",
        "\n",
        "# !pip install pyg-lib -f https://data.pyg.org/whl/torch-2.6.0+cu118.html\n",
        "# !pip install torch-scatter -f https://data.pyg.org/whl/torch-2.6.0+cu118.html\n",
        "# !pip install torch-sparse -f https://data.pyg.org/whl/torch-2.6.0+cu118.html\n",
        "# !pip install torch-cluster -f https://data.pyg.org/whl/torch-2.6.0+cu118.html\n",
        "# !pip install torch-spline-conv -f https://data.pyg.org/whl/torch-2.6.0+cu118.html\n",
        "# !pip install torch-geometric==2.6.0 -f https://data.pyg.org/whl/torch-2.6.0+cu118.html\n",
        "\n",
        "# !pip install pytorch_frame[full]==1.2.2\n",
        "# !pip install relbench[full]==1.0.0"
      ]
    },
    {
      "cell_type": "markdown",
      "metadata": {
        "id": "UnQsMT_H0Cd5"
      },
      "source": [
        "# Import"
      ]
    },
    {
      "cell_type": "code",
      "execution_count": 49,
      "metadata": {
        "id": "I4CRrrOj0Dyp"
      },
      "outputs": [],
      "source": [
        "import os\n",
        "import torch\n",
        "import relbench\n",
        "import numpy as np\n",
        "from torch.nn import BCEWithLogitsLoss, L1Loss\n",
        "from relbench.datasets import get_dataset\n",
        "from relbench.tasks import get_task\n",
        "import math\n",
        "from tqdm import tqdm\n",
        "import torch_geometric\n",
        "import torch_frame\n",
        "from torch_geometric.seed import seed_everything\n",
        "from relbench.modeling.utils import get_stype_proposal\n",
        "from collections import defaultdict\n",
        "import requests\n",
        "from io import StringIO\n",
        "from torch_frame.config.text_embedder import TextEmbedderConfig\n",
        "from relbench.modeling.graph import make_pkey_fkey_graph\n",
        "from torch.nn import BCEWithLogitsLoss\n",
        "import copy\n",
        "from typing import Any, Dict, List\n",
        "from torch import Tensor\n",
        "from torch.nn import Embedding, ModuleDict\n",
        "from torch_frame.data.stats import StatType\n",
        "from torch_geometric.data import HeteroData\n",
        "from torch_geometric.nn import MLP\n",
        "from torch_geometric.typing import NodeType\n",
        "from relbench.modeling.nn import HeteroEncoder, HeteroGraphSAGE, HeteroTemporalEncoder\n",
        "from relbench.modeling.graph import get_node_train_table_input, make_pkey_fkey_graph\n",
        "from torch_geometric.loader import NeighborLoader\n",
        "import pyg_lib\n",
        "import matplotlib.pyplot as plt\n",
        "from sklearn.metrics import mean_squared_error\n",
        "from torch.optim.lr_scheduler import CosineAnnealingLR\n",
        "from sklearn.metrics import roc_auc_score"
      ]
    },
    {
      "cell_type": "markdown",
      "metadata": {
        "id": "M8e0jO0M3VIe"
      },
      "source": [
        "# Dataset and task creation"
      ]
    },
    {
      "cell_type": "code",
      "execution_count": 50,
      "metadata": {
        "colab": {
          "base_uri": "https://localhost:8080/"
        },
        "id": "A33ePq1F3X3L",
        "outputId": "c0a488cf-1b5d-446b-9a2b-1d78cad43ddc"
      },
      "outputs": [
        {
          "output_type": "stream",
          "name": "stdout",
          "text": [
            "cuda\n"
          ]
        }
      ],
      "source": [
        "dataset = get_dataset(\"rel-f1\", download=True)\n",
        "task = get_task(\"rel-f1\", \"driver-top3\", download=True)\n",
        "\n",
        "train_table = task.get_table(\"train\") #date  driverId  qualifying\n",
        "val_table = task.get_table(\"val\") #date  driverId  qualifying\n",
        "test_table = task.get_table(\"test\") # date  driverId\n",
        "\n",
        "out_channels = 1\n",
        "loss_fn = BCEWithLogitsLoss()\n",
        "tune_metric = \"roc_auc\"\n",
        "higher_is_better = True\n",
        "\n",
        "seed_everything(42)\n",
        "device = torch.device(\"cuda\" if torch.cuda.is_available() else \"cpu\")\n",
        "print(device)\n",
        "root_dir = \"./data\"\n",
        "\n",
        "db = dataset.get_db() #get all tables\n",
        "col_to_stype_dict = get_stype_proposal(db)\n",
        "#this is used to get the stype of the columns"
      ]
    },
    {
      "cell_type": "markdown",
      "metadata": {
        "id": "3JWVJkt7XmNa"
      },
      "source": [
        "#Utility functions"
      ]
    },
    {
      "cell_type": "code",
      "execution_count": 51,
      "metadata": {
        "id": "nVP-uHSKYA5H"
      },
      "outputs": [],
      "source": [
        "def evaluate_performance(pred: np.ndarray, target_table, metrics) -> dict:\n",
        "    \"\"\"Custom evaluation function to replace task.evaluate.\"\"\"\n",
        "    target = target_table.df[task.target_col].to_numpy()\n",
        "\n",
        "    if len(pred) != len(target):\n",
        "        raise ValueError(\n",
        "            f\"The length of pred and target must be the same (got \"\n",
        "            f\"{len(pred)} and {len(target)}, respectively).\"\n",
        "        )\n",
        "\n",
        "    results = {}\n",
        "    for metric_fn in metrics:\n",
        "        if metric_fn.__name__ == \"rmse\":\n",
        "            results[\"rmse\"] = np.sqrt(np.mean((target - pred)**2))\n",
        "        else:\n",
        "            results[metric_fn.__name__] = metric_fn(target, pred)\n",
        "\n",
        "    return results"
      ]
    },
    {
      "cell_type": "code",
      "execution_count": 52,
      "metadata": {
        "id": "0rqwI5h4YH6j"
      },
      "outputs": [],
      "source": [
        "def rmse(true, pred):\n",
        "    \"\"\"Calculate the Root Mean Squared Error (RMSE).\"\"\"\n",
        "    return np.sqrt(np.mean((true - pred)**2))"
      ]
    },
    {
      "cell_type": "code",
      "execution_count": 53,
      "metadata": {
        "id": "QuupsoIvdGj2"
      },
      "outputs": [],
      "source": [
        "@torch.no_grad()\n",
        "def evaluate_on_full_train(model, loader) -> float:\n",
        "    model.eval()\n",
        "    pred_list, target_list = [], []\n",
        "\n",
        "    for batch in loader:\n",
        "        batch = batch.to(device)\n",
        "        pred = model(batch, task.entity_table)\n",
        "        pred = pred.view(-1) if pred.size(1) == 1 else pred\n",
        "        pred = torch.sigmoid(pred)\n",
        "        pred_list.append(pred.cpu())\n",
        "        target_list.append(batch[task.entity_table].y.cpu())\n",
        "\n",
        "    pred_all = torch.cat(pred_list, dim=0).numpy()\n",
        "    target_all = torch.cat(target_list, dim=0).numpy()\n",
        "\n",
        "    #mae = np.mean(np.abs(pred_all - target_all))\n",
        "    results = roc_auc_score(target_all, pred_all)\n",
        "    return results\n"
      ]
    },
    {
      "cell_type": "code",
      "execution_count": 54,
      "metadata": {
        "id": "cPY4bzTVpzsf"
      },
      "outputs": [],
      "source": [
        "class EarlyStopping:\n",
        "    def __init__(self, patience=10, delta=0, verbose=False, path='checkpoint.pt'):\n",
        "        \"\"\"\n",
        "        Args:\n",
        "            patience (int): Epoche senza miglioramenti da tollerare.\n",
        "            delta (float): Cambiamento minimo per considerare un miglioramento.\n",
        "            verbose (bool): Se stampare i messaggi.\n",
        "            path (str): Dove salvare il modello migliore.\n",
        "            higher_is_better (bool): True se la metrica va massimizzata (es: AUC), False se minimizzata (es: MAE).\n",
        "        \"\"\"\n",
        "        self.patience = patience\n",
        "        self.counter = 0\n",
        "        self.best_score = None\n",
        "        self.early_stop = False\n",
        "        self.best_metric = None\n",
        "        self.delta = delta\n",
        "        self.verbose = verbose\n",
        "        self.path = path\n",
        "        self.higher_is_better = higher_is_better\n",
        "\n",
        "    def __call__(self, metric_value, model):\n",
        "        score = metric_value if self.higher_is_better else -metric_value\n",
        "\n",
        "        if self.best_score is None:\n",
        "            self.best_score = score\n",
        "            self.save_checkpoint(metric_value, model)\n",
        "\n",
        "        elif score < self.best_score + self.delta:\n",
        "            self.counter += 1\n",
        "            if self.verbose:\n",
        "                print(f\"EarlyStopping counter: {self.counter} / {self.patience}\")\n",
        "            if self.counter >= self.patience:\n",
        "                self.early_stop = True\n",
        "\n",
        "        else:\n",
        "            self.best_score = score\n",
        "            self.save_checkpoint(metric_value, model)\n",
        "            self.counter = 0\n",
        "\n",
        "    def save_checkpoint(self, metric_value, model):\n",
        "        if self.verbose:\n",
        "            print(f\"Validation metric migliorata. Salvo modello...\")\n",
        "        torch.save(model.state_dict(), self.path)\n",
        "        self.best_metric = metric_value\n"
      ]
    },
    {
      "cell_type": "markdown",
      "metadata": {
        "id": "1gvkjcjPr7dB"
      },
      "source": [
        "# Embedder"
      ]
    },
    {
      "cell_type": "code",
      "execution_count": 55,
      "metadata": {
        "id": "QQHYmgIxkX1j"
      },
      "outputs": [],
      "source": [
        "class LightweightGloveEmbedder:\n",
        "    def __init__(self, device=None):\n",
        "        self.device = device\n",
        "        self.embeddings = defaultdict(lambda: np.zeros(300))\n",
        "        self._load_embeddings()\n",
        "\n",
        "    def _load_embeddings(self):\n",
        "      try:\n",
        "          path = \"glove.6B.300d.txt\"\n",
        "          with open(path, encoding=\"utf-8\") as f:\n",
        "              for line in f:\n",
        "                  parts = line.strip().split()\n",
        "                  word = parts[0]\n",
        "                  vector = np.array(parts[1:], dtype=np.float32)\n",
        "                  self.embeddings[word] = vector\n",
        "          print(f\"Loaded {len(self.embeddings)} GloVe embeddings.\")\n",
        "      except Exception as e:\n",
        "          print(f\"Failed to load GloVe: {e}\")\n",
        "\n",
        "    def __call__(self, sentences):\n",
        "        results = []\n",
        "        for text in sentences:\n",
        "            words = text.lower().split()\n",
        "            vectors = [self.embeddings[w] for w in words if w in self.embeddings]\n",
        "            if vectors:\n",
        "                avg_vector = np.mean(vectors, axis=0)\n",
        "            else:\n",
        "                print(\"non trovato\")\n",
        "                print(f\"Numero parole in embedding: {len(self.embeddings)}\")\n",
        "\n",
        "                avg_vector = np.zeros(300)\n",
        "            results.append(avg_vector)\n",
        "\n",
        "        tensor = torch.tensor(np.array(results), dtype=torch.float32)\n",
        "        return tensor.to(self.device) if self.device else tensor"
      ]
    },
    {
      "cell_type": "code",
      "execution_count": 56,
      "metadata": {
        "colab": {
          "base_uri": "https://localhost:8080/"
        },
        "id": "L-BBpUrakdwY",
        "outputId": "eb0dd41d-267f-483b-ed51-56552c17b319"
      },
      "outputs": [
        {
          "output_type": "stream",
          "name": "stdout",
          "text": [
            "Failed to load GloVe: [Errno 2] No such file or directory: 'glove.6B.300d.txt'\n"
          ]
        },
        {
          "output_type": "stream",
          "name": "stderr",
          "text": [
            "/usr/local/lib/python3.11/dist-packages/torch_frame/utils/io.py:113: UserWarning: Weights only load failed. Please file an issue to make `torch.load(weights_only=True)` compatible in your case. Please use `torch.serialization.add_safe_globals([scalar])` to allowlist this global.\n",
            "  warnings.warn(f\"{warn_msg} Please use \"\n",
            "/usr/local/lib/python3.11/dist-packages/torch_frame/utils/io.py:113: UserWarning: Weights only load failed. Please file an issue to make `torch.load(weights_only=True)` compatible in your case. Please use `torch.serialization.add_safe_globals([scalar])` to allowlist this global.\n",
            "  warnings.warn(f\"{warn_msg} Please use \"\n",
            "/usr/local/lib/python3.11/dist-packages/torch_frame/utils/io.py:113: UserWarning: Weights only load failed. Please file an issue to make `torch.load(weights_only=True)` compatible in your case. Please use `torch.serialization.add_safe_globals([scalar])` to allowlist this global.\n",
            "  warnings.warn(f\"{warn_msg} Please use \"\n",
            "/usr/local/lib/python3.11/dist-packages/torch_frame/utils/io.py:113: UserWarning: Weights only load failed. Please file an issue to make `torch.load(weights_only=True)` compatible in your case. Please use `torch.serialization.add_safe_globals([scalar])` to allowlist this global.\n",
            "  warnings.warn(f\"{warn_msg} Please use \"\n",
            "/usr/local/lib/python3.11/dist-packages/torch_frame/utils/io.py:113: UserWarning: Weights only load failed. Please file an issue to make `torch.load(weights_only=True)` compatible in your case. Please use `torch.serialization.add_safe_globals([scalar])` to allowlist this global.\n",
            "  warnings.warn(f\"{warn_msg} Please use \"\n",
            "/usr/local/lib/python3.11/dist-packages/torch_frame/utils/io.py:113: UserWarning: Weights only load failed. Please file an issue to make `torch.load(weights_only=True)` compatible in your case. Please use `torch.serialization.add_safe_globals([scalar])` to allowlist this global.\n",
            "  warnings.warn(f\"{warn_msg} Please use \"\n",
            "/usr/local/lib/python3.11/dist-packages/torch_frame/utils/io.py:113: UserWarning: Weights only load failed. Please file an issue to make `torch.load(weights_only=True)` compatible in your case. Please use `torch.serialization.add_safe_globals([scalar])` to allowlist this global.\n",
            "  warnings.warn(f\"{warn_msg} Please use \"\n"
          ]
        }
      ],
      "source": [
        "text_embedder_cfg = TextEmbedderConfig(\n",
        "    text_embedder=LightweightGloveEmbedder(device=device), batch_size=256\n",
        ")\n",
        "\n",
        "data, col_stats_dict = make_pkey_fkey_graph(\n",
        "    db,\n",
        "    col_to_stype_dict=col_to_stype_dict,\n",
        "    text_embedder_cfg=text_embedder_cfg,\n",
        "    cache_dir=os.path.join(\n",
        "        root_dir, f\"rel-f1_materialized_cache\"\n",
        "    ),\n",
        ")"
      ]
    },
    {
      "cell_type": "markdown",
      "metadata": {
        "id": "6xMIwSVTXXnr"
      },
      "source": [
        "# Graph Loader"
      ]
    },
    {
      "cell_type": "code",
      "execution_count": 57,
      "metadata": {
        "id": "HUHVG-g6lM-b"
      },
      "outputs": [],
      "source": [
        "loader_dict = {}\n",
        "\n",
        "for split, table in [\n",
        "    (\"train\", train_table),\n",
        "    (\"val\", val_table),\n",
        "    (\"test\", test_table),\n",
        "]:\n",
        "    table_input = get_node_train_table_input(\n",
        "        table=table,\n",
        "        task=task,\n",
        "    )\n",
        "\n",
        "    entity_table = table_input.nodes[0]\n",
        "\n",
        "    loader_dict[split] = NeighborLoader(\n",
        "        data,\n",
        "        num_neighbors=[\n",
        "            128 for i in range(2) #################################\n",
        "        ],\n",
        "        time_attr=\"time\",\n",
        "        input_nodes=table_input.nodes,\n",
        "        input_time=table_input.time,\n",
        "        transform=table_input.transform,\n",
        "        batch_size=512,\n",
        "        temporal_strategy=\"uniform\",\n",
        "        shuffle=split == \"train\",\n",
        "        num_workers=0,\n",
        "        persistent_workers=False,\n",
        "    )"
      ]
    },
    {
      "cell_type": "code",
      "execution_count": 58,
      "metadata": {
        "id": "LDbdc2Iz1Odp"
      },
      "outputs": [],
      "source": [
        "# qui i parametri di train_table, val_table, test_table, task e data sono\n",
        "#parametri globali\n",
        "\n",
        "def loader_dict_fn(batch_size, num_neighbours):\n",
        "    loader_dict = {}\n",
        "\n",
        "    for split, table in [\n",
        "        (\"train\", train_table),\n",
        "        (\"val\", val_table),\n",
        "        (\"test\", test_table),\n",
        "    ]:\n",
        "        table_input = get_node_train_table_input(\n",
        "            table=table,\n",
        "            task=task,\n",
        "        )\n",
        "\n",
        "        loader_dict[split] = NeighborLoader(\n",
        "            data,\n",
        "            num_neighbors=[num_neighbours for _ in range(2)],\n",
        "            time_attr=\"time\",\n",
        "            input_nodes=table_input.nodes,\n",
        "            input_time=table_input.time,\n",
        "            transform=table_input.transform,\n",
        "            batch_size=batch_size,\n",
        "            temporal_strategy=\"uniform\",\n",
        "            shuffle=split == \"train\",\n",
        "            num_workers=0,\n",
        "            persistent_workers=False,\n",
        "        )\n",
        "\n",
        "    return loader_dict\n"
      ]
    },
    {
      "cell_type": "markdown",
      "metadata": {
        "id": "Nr7qtFXgr7dE"
      },
      "source": [
        "# Model"
      ]
    },
    {
      "cell_type": "code",
      "execution_count": 59,
      "metadata": {
        "id": "u3m3jEqClQnw"
      },
      "outputs": [],
      "source": [
        "class Model(torch.nn.Module):\n",
        "\n",
        "    def __init__(\n",
        "        self,\n",
        "        data: HeteroData,\n",
        "        col_stats_dict: Dict[str, Dict[str, Dict[StatType, Any]]],\n",
        "        num_layers: int,\n",
        "        channels: int,\n",
        "        out_channels: int,\n",
        "        aggr: str,\n",
        "        norm: str,\n",
        "        shallow_list: List[NodeType] = [],\n",
        "        id_awareness: bool = False,\n",
        "    ):\n",
        "        super().__init__()\n",
        "\n",
        "        self.encoder = HeteroEncoder(\n",
        "            channels=channels,\n",
        "            node_to_col_names_dict={\n",
        "                node_type: data[node_type].tf.col_names_dict\n",
        "                for node_type in data.node_types\n",
        "            },\n",
        "            node_to_col_stats=col_stats_dict,\n",
        "        )\n",
        "\n",
        "        self.temporal_encoder = HeteroTemporalEncoder(\n",
        "            node_types=[\n",
        "                node_type for node_type in data.node_types if \"time\" in data[node_type]\n",
        "            ],\n",
        "            channels=channels,\n",
        "        )\n",
        "\n",
        "        self.pre_gnn_mlp = torch.nn.ModuleDict({\n",
        "            node_type: MLP(\n",
        "                in_channels=channels,\n",
        "                hidden_channels=channels,\n",
        "                out_channels=channels,\n",
        "                num_layers=3,\n",
        "                norm=norm,\n",
        "            )\n",
        "            for node_type in data.node_types\n",
        "        })\n",
        "\n",
        "\n",
        "\n",
        "        self.gnn = HeteroGraphSAGE(\n",
        "            node_types=data.node_types,\n",
        "            edge_types=data.edge_types,\n",
        "            channels=channels,\n",
        "            aggr=aggr,\n",
        "            num_layers=num_layers,\n",
        "        )\n",
        "        self.head = MLP(\n",
        "            channels,\n",
        "            out_channels=out_channels,\n",
        "            #hidden_channels=channels,\n",
        "            norm=norm,\n",
        "            num_layers=1, ###################################################\n",
        "        )\n",
        "        self.embedding_dict = ModuleDict(\n",
        "            {\n",
        "                node: Embedding(data.num_nodes_dict[node], channels)\n",
        "                for node in shallow_list\n",
        "            }\n",
        "        )\n",
        "\n",
        "        self.id_awareness_emb = None\n",
        "        if id_awareness:\n",
        "            self.id_awareness_emb = torch.nn.Embedding(1, channels)\n",
        "        self.reset_parameters()\n",
        "\n",
        "    def reset_parameters(self):\n",
        "        self.encoder.reset_parameters()\n",
        "        self.temporal_encoder.reset_parameters()\n",
        "        self.gnn.reset_parameters()\n",
        "        self.head.reset_parameters()\n",
        "        for embedding in self.embedding_dict.values():\n",
        "            torch.nn.init.normal_(embedding.weight, std=0.1)\n",
        "        if self.id_awareness_emb is not None:\n",
        "            self.id_awareness_emb.reset_parameters()\n",
        "\n",
        "    def forward(\n",
        "        self,\n",
        "        batch: HeteroData,\n",
        "        entity_table: NodeType,\n",
        "    ) -> Tensor:\n",
        "        seed_time = batch[entity_table].seed_time\n",
        "        x_dict = self.encoder(batch.tf_dict)\n",
        "\n",
        "        for node_type in x_dict:\n",
        "          x_dict[node_type] = self.pre_gnn_mlp[node_type](x_dict[node_type])\n",
        "\n",
        "\n",
        "        rel_time_dict = self.temporal_encoder(\n",
        "            seed_time, batch.time_dict, batch.batch_dict\n",
        "        )\n",
        "\n",
        "        for node_type, rel_time in rel_time_dict.items():\n",
        "            x_dict[node_type] = x_dict[node_type] + rel_time\n",
        "\n",
        "        for node_type, embedding in self.embedding_dict.items():\n",
        "            x_dict[node_type] = x_dict[node_type] + embedding(batch[node_type].n_id)\n",
        "\n",
        "        # x_dict = self.gnn(\n",
        "        #     x_dict,\n",
        "        #     batch.edge_index_dict,\n",
        "        #     batch.num_sampled_nodes_dict,\n",
        "        #     batch.num_sampled_edges_dict,\n",
        "        # )\n",
        "\n",
        "        return self.head(x_dict[entity_table][: seed_time.size(0)])\n",
        "\n",
        "    def forward_dst_readout(\n",
        "        self,\n",
        "        batch: HeteroData,\n",
        "        entity_table: NodeType,\n",
        "        dst_table: NodeType,\n",
        "    ) -> Tensor:\n",
        "        if self.id_awareness_emb is None:\n",
        "            raise RuntimeError(\n",
        "                \"id_awareness must be set True to use forward_dst_readout\"\n",
        "            )\n",
        "        seed_time = batch[entity_table].seed_time\n",
        "        x_dict = self.encoder(batch.tf_dict)\n",
        "        x_dict[entity_table][: seed_time.size(0)] += self.id_awareness_emb.weight\n",
        "\n",
        "        rel_time_dict = self.temporal_encoder(\n",
        "            seed_time, batch.time_dict, batch.batch_dict\n",
        "        )\n",
        "\n",
        "        for node_type, rel_time in rel_time_dict.items():\n",
        "            x_dict[node_type] = x_dict[node_type] + rel_time\n",
        "\n",
        "        for node_type, embedding in self.embedding_dict.items():\n",
        "            x_dict[node_type] = x_dict[node_type] + embedding(batch[node_type].n_id)\n",
        "\n",
        "        x_dict = self.gnn(\n",
        "            x_dict,\n",
        "            batch.edge_index_dict,\n",
        "        )\n",
        "\n",
        "        return self.head(x_dict[dst_table])"
      ]
    },
    {
      "cell_type": "markdown",
      "metadata": {
        "id": "-H1f8MgdYMFQ"
      },
      "source": [
        "# Training functions"
      ]
    },
    {
      "cell_type": "markdown",
      "metadata": {
        "id": "04u3lZVg4I3n"
      },
      "source": [
        "Ora necessito di modificare la funzione di train per prendere anche il valore del loader_dict: utile per tuning dei parametri (vedi il codice della funzione di tuning)."
      ]
    },
    {
      "cell_type": "markdown",
      "source": [
        "NB: nella funzione di train non sto mettendo la sigmoide come invece faccio per il test perché per il training usiamo BCE loss che lo fa già internamente."
      ],
      "metadata": {
        "id": "RgmPwrfJzLoN"
      }
    },
    {
      "cell_type": "code",
      "execution_count": 60,
      "metadata": {
        "id": "SAHRIr15lVs6"
      },
      "outputs": [],
      "source": [
        "def train(model, optimizer, loader_dict) -> float:\n",
        "    model.train()\n",
        "\n",
        "    loss_accum = count_accum = 0\n",
        "    for batch in tqdm(loader_dict[\"train\"]):\n",
        "        batch = batch.to(device)\n",
        "\n",
        "        optimizer.zero_grad()\n",
        "        pred = model(\n",
        "            batch,\n",
        "            task.entity_table,\n",
        "        )\n",
        "        pred = pred.view(-1) if pred.size(1) == 1 else pred\n",
        "\n",
        "        loss = loss_fn(pred.float(), batch[entity_table].y.float())\n",
        "        loss.backward()\n",
        "        optimizer.step()\n",
        "\n",
        "        loss_accum += loss.detach().item() * pred.size(0)\n",
        "        count_accum += pred.size(0)\n",
        "\n",
        "    return loss_accum / count_accum\n",
        "\n",
        "\n",
        "@torch.no_grad()\n",
        "def test(model, loader: NeighborLoader) -> np.ndarray:\n",
        "    model.eval()\n",
        "\n",
        "    pred_list = []\n",
        "    for batch in loader:\n",
        "        batch = batch.to(device)\n",
        "        pred = model(\n",
        "            batch,\n",
        "            task.entity_table,\n",
        "        )\n",
        "        pred = pred.view(-1) if pred.size(1) == 1 else pred\n",
        "        pred = torch.sigmoid(pred)\n",
        "        pred_list.append(pred.detach().cpu())\n",
        "    return torch.cat(pred_list, dim=0).numpy()"
      ]
    },
    {
      "cell_type": "code",
      "execution_count": 61,
      "metadata": {
        "colab": {
          "base_uri": "https://localhost:8080/"
        },
        "id": "A9TjoM9pzkAy",
        "outputId": "3d0c12b6-d6ad-49a0-f2da-70bd279720fb"
      },
      "outputs": [
        {
          "output_type": "stream",
          "name": "stdout",
          "text": [
            "qualifying\n"
          ]
        }
      ],
      "source": [
        "print(task.target_col)"
      ]
    },
    {
      "cell_type": "markdown",
      "metadata": {
        "id": "kgdIEP05xmmg"
      },
      "source": [
        "# Hyperparameters tuning"
      ]
    },
    {
      "cell_type": "markdown",
      "metadata": {
        "id": "EWXD3sHJ2qva"
      },
      "source": [
        "Voglio sia testare e trovare la migliore combinazione di hyperparametri (sia del modello che del graph loader), ma voglio anche avere una chiara idea di quali siano i parametri più critici, ovvero quelli che comportano il maggiore cambiamento di risultato per il modello."
      ]
    },
    {
      "cell_type": "code",
      "execution_count": 62,
      "metadata": {
        "id": "MoTIvgzTyswf"
      },
      "outputs": [],
      "source": [
        "from itertools import product\n",
        "import torch\n",
        "import numpy as np\n",
        "import copy\n",
        "import pandas as pd\n",
        "\n",
        "def tune_hyperparameters(\n",
        "    data,\n",
        "    train_table,\n",
        "    val_table,\n",
        "    loader_dict_fn,\n",
        "    model_class,\n",
        "    evaluate_fn,\n",
        "    train_fn,\n",
        "    test_fn,\n",
        "    device,\n",
        "    col_stats_dict,\n",
        "    task,\n",
        "    tune_metric='mae'\n",
        "):\n",
        "    param_grid = {\n",
        "        'lr': [0.0005, 0.001, 0.005],\n",
        "        'weight_decay': [0, 1e-4],\n",
        "        'channels': [128, 256],\n",
        "        'num_layers': [1, 2, 3],\n",
        "        'aggr': ['mean', 'sum', 'max'],\n",
        "        'norm': [\"batch_norm\", \"layer_norm\"],\n",
        "        'batch_size': [512, 1024],\n",
        "        'num_neighbours': [128, 256]\n",
        "    }\n",
        "\n",
        "    combinations = list(product(\n",
        "        param_grid['lr'],\n",
        "        param_grid['weight_decay'],\n",
        "        param_grid['channels'],\n",
        "        param_grid['num_layers'],\n",
        "        param_grid['aggr'],\n",
        "        param_grid['norm'],\n",
        "        param_grid['batch_size'],\n",
        "        param_grid['num_neighbours']\n",
        "    ))\n",
        "\n",
        "    print(f\"Testiamo {len(combinations)} combinazioni di iperparametri...\\n\")\n",
        "\n",
        "    best_score = float('inf')\n",
        "    best_config = None\n",
        "    results = []\n",
        "\n",
        "    for i, (lr, wd, ch, nl, aggr, norm, batch_size, num_neighbours) in enumerate(combinations):\n",
        "        print(f\"\\nRun {i+1}/{len(combinations)}\")\n",
        "        print(f\"Params: lr={lr}, wd={wd}, ch={ch}, nl={nl}, aggr={aggr}, norm={norm}, batch_size={batch_size}, num_neighbours={num_neighbours}\")\n",
        "\n",
        "        loader_dict = loader_dict_fn(batch_size=batch_size, num_neighbours=num_neighbours)\n",
        "\n",
        "        model = model_class(\n",
        "            data=data,\n",
        "            col_stats_dict=col_stats_dict,\n",
        "            num_layers=nl,\n",
        "            channels=ch,\n",
        "            out_channels=1,\n",
        "            aggr=aggr,\n",
        "            norm=norm,\n",
        "        ).to(device)\n",
        "\n",
        "        optimizer = torch.optim.Adam(model.parameters(), lr=lr, weight_decay=wd)\n",
        "        scheduler = torch.optim.lr_scheduler.ReduceLROnPlateau(optimizer, mode='min', factor=0.5, patience=5)\n",
        "        early_stopping = EarlyStopping(patience=10, delta=0.0, verbose=False)\n",
        "\n",
        "        for epoch in range(1, 101):\n",
        "            train_fn(model, optimizer, loader_dict)\n",
        "            val_pred = test_fn(model, loader_dict[\"val\"])\n",
        "            val_metrics = evaluate_fn(val_pred, val_table, task.metrics)\n",
        "            val_score = val_metrics[tune_metric]\n",
        "\n",
        "            scheduler.step(val_score)\n",
        "            early_stopping(val_score, model)\n",
        "\n",
        "            if early_stopping.early_stop:\n",
        "                print(f\"Early stopping at epoch {epoch}\")\n",
        "                break\n",
        "\n",
        "        model.load_state_dict(torch.load(early_stopping.path))\n",
        "        final_pred = test_fn(model, loader_dict[\"val\"])\n",
        "        final_metrics = evaluate_fn(final_pred, val_table, task.metrics)\n",
        "        final_score = final_metrics[tune_metric]\n",
        "        results.append((final_score, lr, wd, ch, nl, aggr, norm, batch_size, num_neighbours))\n",
        "\n",
        "\n",
        "\n",
        "        print(f\"Final validation {tune_metric.upper()}: {final_score:.3f}\")\n",
        "\n",
        "        if final_score < best_score:\n",
        "            best_score = final_score\n",
        "            best_config = {\n",
        "                'lr': lr, 'weight_decay': wd, 'channels': ch,\n",
        "                'num_layers': nl, 'aggr': aggr, 'norm': norm,\n",
        "                'batch_size': batch_size, 'num_neighbours': num_neighbours,\n",
        "                'val_score': final_score\n",
        "            }\n",
        "            best_model = copy.deepcopy(model.state_dict())\n",
        "\n",
        "    print(\"\\nBest hyperparameter configuration:\")\n",
        "    for k, v in best_config.items():\n",
        "        print(f\"{k}: {v}\")\n",
        "\n",
        "    # === Analisi importanza parametri ===\n",
        "    print(\"\\nAnalisi importanza parametri (varianza media delle performance):\")\n",
        "\n",
        "    df = pd.DataFrame(results, columns=[\n",
        "        'val_score', 'lr', 'weight_decay', 'channels',\n",
        "        'num_layers', 'aggr', 'norm', 'batch_size', 'num_neighbours'\n",
        "    ])\n",
        "\n",
        "    importance = {}\n",
        "    for col in df.columns[1:]:  # escludi 'val_score'\n",
        "        grouped = df.groupby(col)['val_score']\n",
        "        var = grouped.var()\n",
        "        importance[col] = var.mean()\n",
        "\n",
        "    sorted_imp = sorted(importance.items(), key=lambda x: x[1], reverse=True)\n",
        "    for param, var in sorted_imp:\n",
        "        print(f\"- {param:15s} → varianza media: {var:.5f}\")\n",
        "\n",
        "    print(\"\\nParametri con varianza più alta sono più critici: cambiano le prestazioni quando li modifichi.\\n\")\n",
        "\n",
        "    # Crea grafico a barre sull'importanza dei parametri\n",
        "    params, variances = zip(*sorted_imp)\n",
        "    plt.figure(figsize=(10, 6))\n",
        "    plt.barh(params, variances)\n",
        "    plt.gca().invert_yaxis()\n",
        "    plt.xlabel(\"Varianza media del validation score\")\n",
        "    plt.title(\"Importanza degli iperparametri\")\n",
        "    plt.grid(axis='x')\n",
        "    plt.tight_layout()\n",
        "\n",
        "    # Salva su file\n",
        "    plt.savefig(\"hyperparameter_importance.png\")\n",
        "    plt.close()\n",
        "\n",
        "    return best_config, results\n"
      ]
    },
    {
      "cell_type": "code",
      "execution_count": 63,
      "metadata": {
        "id": "yHmSKi243KTf"
      },
      "outputs": [],
      "source": [
        "# best_config, all_results = tune_hyperparameters(\n",
        "#     data=data,\n",
        "#     train_table=train_table,\n",
        "#     val_table=val_table,\n",
        "#     loader_dict_fn=loader_dict_fn,\n",
        "#     model_class=Model,\n",
        "#     evaluate_fn=evaluate_performance,\n",
        "#     train_fn=train,\n",
        "#     test_fn=test,\n",
        "#     device=device,\n",
        "#     col_stats_dict=col_stats_dict,\n",
        "#     task=task,\n",
        "#     tune_metric=\"mae\"\n",
        "# )\n"
      ]
    },
    {
      "cell_type": "markdown",
      "metadata": {
        "id": "5aKjwXOC0QEA"
      },
      "source": [
        "![Aggregation functions.png](data:image/png;base64,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)"
      ]
    },
    {
      "cell_type": "markdown",
      "metadata": {
        "id": "mdIxPWt60TTM"
      },
      "source": [
        "Configurazione migliore:\n",
        "Params: lr=0.0005, wd=0, ch=256, nl=2, aggr=max, norm=batch_norm, batch_size=512, num_neighbours=256\n",
        "Early stopping at epoch 33\n",
        "Final validation MAE: 2.693"
      ]
    },
    {
      "cell_type": "markdown",
      "metadata": {
        "id": "Jd12y-XUr7dI"
      },
      "source": [
        "# Training loop"
      ]
    },
    {
      "cell_type": "code",
      "execution_count": 64,
      "metadata": {
        "colab": {
          "base_uri": "https://localhost:8080/"
        },
        "id": "yF3W68Eqlew_",
        "outputId": "bc088d8d-948a-44ee-c1b4-f5d5ec3db1ff"
      },
      "outputs": [
        {
          "output_type": "stream",
          "name": "stderr",
          "text": [
            "100%|██████████| 3/3 [00:00<00:00,  7.36it/s]\n",
            "/usr/local/lib/python3.11/dist-packages/torch/optim/lr_scheduler.py:243: UserWarning: The epoch parameter in `scheduler.step()` was not necessary and is being deprecated where possible. Please use `scheduler.step()` to step the scheduler. During the deprecation, if epoch is different from None, the closed form is used instead of the new chainable form, where available. Please open an issue if you are unable to replicate your use case: https://github.com/pytorch/pytorch/issues/new/choose.\n",
            "  warnings.warn(EPOCH_DEPRECATION_WARNING, UserWarning)\n"
          ]
        },
        {
          "output_type": "stream",
          "name": "stdout",
          "text": [
            "Epoch: 01, Train roc_auc: 0.64, Validation roc_auc: 0.48, Test roc_auc: 0.63, LR: 0.000500\n",
            "Validation metric migliorata. Salvo modello...\n"
          ]
        },
        {
          "output_type": "stream",
          "name": "stderr",
          "text": [
            "100%|██████████| 3/3 [00:00<00:00,  6.88it/s]\n",
            "/usr/local/lib/python3.11/dist-packages/torch/optim/lr_scheduler.py:243: UserWarning: The epoch parameter in `scheduler.step()` was not necessary and is being deprecated where possible. Please use `scheduler.step()` to step the scheduler. During the deprecation, if epoch is different from None, the closed form is used instead of the new chainable form, where available. Please open an issue if you are unable to replicate your use case: https://github.com/pytorch/pytorch/issues/new/choose.\n",
            "  warnings.warn(EPOCH_DEPRECATION_WARNING, UserWarning)\n"
          ]
        },
        {
          "output_type": "stream",
          "name": "stdout",
          "text": [
            "Epoch: 02, Train roc_auc: 0.68, Validation roc_auc: 0.52, Test roc_auc: 0.51, LR: 0.000500\n",
            "Validation metric migliorata. Salvo modello...\n"
          ]
        },
        {
          "output_type": "stream",
          "name": "stderr",
          "text": [
            "100%|██████████| 3/3 [00:00<00:00,  9.74it/s]\n",
            "/usr/local/lib/python3.11/dist-packages/torch/optim/lr_scheduler.py:243: UserWarning: The epoch parameter in `scheduler.step()` was not necessary and is being deprecated where possible. Please use `scheduler.step()` to step the scheduler. During the deprecation, if epoch is different from None, the closed form is used instead of the new chainable form, where available. Please open an issue if you are unable to replicate your use case: https://github.com/pytorch/pytorch/issues/new/choose.\n",
            "  warnings.warn(EPOCH_DEPRECATION_WARNING, UserWarning)\n"
          ]
        },
        {
          "output_type": "stream",
          "name": "stdout",
          "text": [
            "Epoch: 03, Train roc_auc: 0.74, Validation roc_auc: 0.49, Test roc_auc: 0.65, LR: 0.000500\n",
            "EarlyStopping counter: 1 / 30\n"
          ]
        },
        {
          "output_type": "stream",
          "name": "stderr",
          "text": [
            "100%|██████████| 3/3 [00:00<00:00,  9.67it/s]\n",
            "/usr/local/lib/python3.11/dist-packages/torch/optim/lr_scheduler.py:243: UserWarning: The epoch parameter in `scheduler.step()` was not necessary and is being deprecated where possible. Please use `scheduler.step()` to step the scheduler. During the deprecation, if epoch is different from None, the closed form is used instead of the new chainable form, where available. Please open an issue if you are unable to replicate your use case: https://github.com/pytorch/pytorch/issues/new/choose.\n",
            "  warnings.warn(EPOCH_DEPRECATION_WARNING, UserWarning)\n"
          ]
        },
        {
          "output_type": "stream",
          "name": "stdout",
          "text": [
            "Epoch: 04, Train roc_auc: 0.73, Validation roc_auc: 0.54, Test roc_auc: 0.71, LR: 0.000500\n",
            "Validation metric migliorata. Salvo modello...\n"
          ]
        },
        {
          "output_type": "stream",
          "name": "stderr",
          "text": [
            "100%|██████████| 3/3 [00:00<00:00,  9.43it/s]\n",
            "/usr/local/lib/python3.11/dist-packages/torch/optim/lr_scheduler.py:243: UserWarning: The epoch parameter in `scheduler.step()` was not necessary and is being deprecated where possible. Please use `scheduler.step()` to step the scheduler. During the deprecation, if epoch is different from None, the closed form is used instead of the new chainable form, where available. Please open an issue if you are unable to replicate your use case: https://github.com/pytorch/pytorch/issues/new/choose.\n",
            "  warnings.warn(EPOCH_DEPRECATION_WARNING, UserWarning)\n"
          ]
        },
        {
          "output_type": "stream",
          "name": "stdout",
          "text": [
            "Epoch: 05, Train roc_auc: 0.71, Validation roc_auc: 0.54, Test roc_auc: 0.71, LR: 0.000500\n",
            "EarlyStopping counter: 1 / 30\n"
          ]
        },
        {
          "output_type": "stream",
          "name": "stderr",
          "text": [
            "100%|██████████| 3/3 [00:00<00:00,  9.38it/s]\n",
            "/usr/local/lib/python3.11/dist-packages/torch/optim/lr_scheduler.py:243: UserWarning: The epoch parameter in `scheduler.step()` was not necessary and is being deprecated where possible. Please use `scheduler.step()` to step the scheduler. During the deprecation, if epoch is different from None, the closed form is used instead of the new chainable form, where available. Please open an issue if you are unable to replicate your use case: https://github.com/pytorch/pytorch/issues/new/choose.\n",
            "  warnings.warn(EPOCH_DEPRECATION_WARNING, UserWarning)\n"
          ]
        },
        {
          "output_type": "stream",
          "name": "stdout",
          "text": [
            "Epoch: 06, Train roc_auc: 0.72, Validation roc_auc: 0.53, Test roc_auc: 0.70, LR: 0.000500\n",
            "EarlyStopping counter: 2 / 30\n"
          ]
        },
        {
          "output_type": "stream",
          "name": "stderr",
          "text": [
            "100%|██████████| 3/3 [00:00<00:00,  9.52it/s]\n",
            "/usr/local/lib/python3.11/dist-packages/torch/optim/lr_scheduler.py:243: UserWarning: The epoch parameter in `scheduler.step()` was not necessary and is being deprecated where possible. Please use `scheduler.step()` to step the scheduler. During the deprecation, if epoch is different from None, the closed form is used instead of the new chainable form, where available. Please open an issue if you are unable to replicate your use case: https://github.com/pytorch/pytorch/issues/new/choose.\n",
            "  warnings.warn(EPOCH_DEPRECATION_WARNING, UserWarning)\n"
          ]
        },
        {
          "output_type": "stream",
          "name": "stdout",
          "text": [
            "Epoch: 07, Train roc_auc: 0.73, Validation roc_auc: 0.53, Test roc_auc: 0.72, LR: 0.000500\n",
            "EarlyStopping counter: 3 / 30\n"
          ]
        },
        {
          "output_type": "stream",
          "name": "stderr",
          "text": [
            "100%|██████████| 3/3 [00:00<00:00,  9.60it/s]\n",
            "/usr/local/lib/python3.11/dist-packages/torch/optim/lr_scheduler.py:243: UserWarning: The epoch parameter in `scheduler.step()` was not necessary and is being deprecated where possible. Please use `scheduler.step()` to step the scheduler. During the deprecation, if epoch is different from None, the closed form is used instead of the new chainable form, where available. Please open an issue if you are unable to replicate your use case: https://github.com/pytorch/pytorch/issues/new/choose.\n",
            "  warnings.warn(EPOCH_DEPRECATION_WARNING, UserWarning)\n"
          ]
        },
        {
          "output_type": "stream",
          "name": "stdout",
          "text": [
            "Epoch: 08, Train roc_auc: 0.76, Validation roc_auc: 0.49, Test roc_auc: 0.70, LR: 0.000500\n",
            "EarlyStopping counter: 4 / 30\n"
          ]
        },
        {
          "output_type": "stream",
          "name": "stderr",
          "text": [
            "100%|██████████| 3/3 [00:00<00:00,  9.59it/s]\n",
            "/usr/local/lib/python3.11/dist-packages/torch/optim/lr_scheduler.py:243: UserWarning: The epoch parameter in `scheduler.step()` was not necessary and is being deprecated where possible. Please use `scheduler.step()` to step the scheduler. During the deprecation, if epoch is different from None, the closed form is used instead of the new chainable form, where available. Please open an issue if you are unable to replicate your use case: https://github.com/pytorch/pytorch/issues/new/choose.\n",
            "  warnings.warn(EPOCH_DEPRECATION_WARNING, UserWarning)\n"
          ]
        },
        {
          "output_type": "stream",
          "name": "stdout",
          "text": [
            "Epoch: 09, Train roc_auc: 0.79, Validation roc_auc: 0.47, Test roc_auc: 0.67, LR: 0.000500\n",
            "EarlyStopping counter: 5 / 30\n"
          ]
        },
        {
          "output_type": "stream",
          "name": "stderr",
          "text": [
            "100%|██████████| 3/3 [00:00<00:00,  7.76it/s]\n",
            "/usr/local/lib/python3.11/dist-packages/torch/optim/lr_scheduler.py:243: UserWarning: The epoch parameter in `scheduler.step()` was not necessary and is being deprecated where possible. Please use `scheduler.step()` to step the scheduler. During the deprecation, if epoch is different from None, the closed form is used instead of the new chainable form, where available. Please open an issue if you are unable to replicate your use case: https://github.com/pytorch/pytorch/issues/new/choose.\n",
            "  warnings.warn(EPOCH_DEPRECATION_WARNING, UserWarning)\n"
          ]
        },
        {
          "output_type": "stream",
          "name": "stdout",
          "text": [
            "Epoch: 10, Train roc_auc: 0.81, Validation roc_auc: 0.49, Test roc_auc: 0.66, LR: 0.000500\n",
            "EarlyStopping counter: 6 / 30\n"
          ]
        },
        {
          "output_type": "stream",
          "name": "stderr",
          "text": [
            "100%|██████████| 3/3 [00:00<00:00,  7.09it/s]\n",
            "/usr/local/lib/python3.11/dist-packages/torch/optim/lr_scheduler.py:243: UserWarning: The epoch parameter in `scheduler.step()` was not necessary and is being deprecated where possible. Please use `scheduler.step()` to step the scheduler. During the deprecation, if epoch is different from None, the closed form is used instead of the new chainable form, where available. Please open an issue if you are unable to replicate your use case: https://github.com/pytorch/pytorch/issues/new/choose.\n",
            "  warnings.warn(EPOCH_DEPRECATION_WARNING, UserWarning)\n"
          ]
        },
        {
          "output_type": "stream",
          "name": "stdout",
          "text": [
            "Epoch: 11, Train roc_auc: 0.82, Validation roc_auc: 0.48, Test roc_auc: 0.61, LR: 0.000500\n",
            "EarlyStopping counter: 7 / 30\n"
          ]
        },
        {
          "output_type": "stream",
          "name": "stderr",
          "text": [
            "100%|██████████| 3/3 [00:00<00:00,  9.34it/s]\n",
            "/usr/local/lib/python3.11/dist-packages/torch/optim/lr_scheduler.py:243: UserWarning: The epoch parameter in `scheduler.step()` was not necessary and is being deprecated where possible. Please use `scheduler.step()` to step the scheduler. During the deprecation, if epoch is different from None, the closed form is used instead of the new chainable form, where available. Please open an issue if you are unable to replicate your use case: https://github.com/pytorch/pytorch/issues/new/choose.\n",
            "  warnings.warn(EPOCH_DEPRECATION_WARNING, UserWarning)\n"
          ]
        },
        {
          "output_type": "stream",
          "name": "stdout",
          "text": [
            "Epoch: 12, Train roc_auc: 0.83, Validation roc_auc: 0.48, Test roc_auc: 0.60, LR: 0.000500\n",
            "EarlyStopping counter: 8 / 30\n"
          ]
        },
        {
          "output_type": "stream",
          "name": "stderr",
          "text": [
            "100%|██████████| 3/3 [00:00<00:00,  9.66it/s]\n",
            "/usr/local/lib/python3.11/dist-packages/torch/optim/lr_scheduler.py:243: UserWarning: The epoch parameter in `scheduler.step()` was not necessary and is being deprecated where possible. Please use `scheduler.step()` to step the scheduler. During the deprecation, if epoch is different from None, the closed form is used instead of the new chainable form, where available. Please open an issue if you are unable to replicate your use case: https://github.com/pytorch/pytorch/issues/new/choose.\n",
            "  warnings.warn(EPOCH_DEPRECATION_WARNING, UserWarning)\n"
          ]
        },
        {
          "output_type": "stream",
          "name": "stdout",
          "text": [
            "Epoch: 13, Train roc_auc: 0.84, Validation roc_auc: 0.52, Test roc_auc: 0.57, LR: 0.000500\n",
            "EarlyStopping counter: 9 / 30\n"
          ]
        },
        {
          "output_type": "stream",
          "name": "stderr",
          "text": [
            "100%|██████████| 3/3 [00:00<00:00,  9.35it/s]\n",
            "/usr/local/lib/python3.11/dist-packages/torch/optim/lr_scheduler.py:243: UserWarning: The epoch parameter in `scheduler.step()` was not necessary and is being deprecated where possible. Please use `scheduler.step()` to step the scheduler. During the deprecation, if epoch is different from None, the closed form is used instead of the new chainable form, where available. Please open an issue if you are unable to replicate your use case: https://github.com/pytorch/pytorch/issues/new/choose.\n",
            "  warnings.warn(EPOCH_DEPRECATION_WARNING, UserWarning)\n"
          ]
        },
        {
          "output_type": "stream",
          "name": "stdout",
          "text": [
            "Epoch: 14, Train roc_auc: 0.86, Validation roc_auc: 0.53, Test roc_auc: 0.55, LR: 0.000500\n",
            "EarlyStopping counter: 10 / 30\n"
          ]
        },
        {
          "output_type": "stream",
          "name": "stderr",
          "text": [
            "100%|██████████| 3/3 [00:00<00:00,  9.67it/s]\n",
            "/usr/local/lib/python3.11/dist-packages/torch/optim/lr_scheduler.py:243: UserWarning: The epoch parameter in `scheduler.step()` was not necessary and is being deprecated where possible. Please use `scheduler.step()` to step the scheduler. During the deprecation, if epoch is different from None, the closed form is used instead of the new chainable form, where available. Please open an issue if you are unable to replicate your use case: https://github.com/pytorch/pytorch/issues/new/choose.\n",
            "  warnings.warn(EPOCH_DEPRECATION_WARNING, UserWarning)\n"
          ]
        },
        {
          "output_type": "stream",
          "name": "stdout",
          "text": [
            "Epoch: 15, Train roc_auc: 0.87, Validation roc_auc: 0.49, Test roc_auc: 0.54, LR: 0.000500\n",
            "EarlyStopping counter: 11 / 30\n"
          ]
        },
        {
          "output_type": "stream",
          "name": "stderr",
          "text": [
            "100%|██████████| 3/3 [00:00<00:00,  9.36it/s]\n",
            "/usr/local/lib/python3.11/dist-packages/torch/optim/lr_scheduler.py:243: UserWarning: The epoch parameter in `scheduler.step()` was not necessary and is being deprecated where possible. Please use `scheduler.step()` to step the scheduler. During the deprecation, if epoch is different from None, the closed form is used instead of the new chainable form, where available. Please open an issue if you are unable to replicate your use case: https://github.com/pytorch/pytorch/issues/new/choose.\n",
            "  warnings.warn(EPOCH_DEPRECATION_WARNING, UserWarning)\n"
          ]
        },
        {
          "output_type": "stream",
          "name": "stdout",
          "text": [
            "Epoch: 16, Train roc_auc: 0.87, Validation roc_auc: 0.50, Test roc_auc: 0.53, LR: 0.000500\n",
            "EarlyStopping counter: 12 / 30\n"
          ]
        },
        {
          "output_type": "stream",
          "name": "stderr",
          "text": [
            "100%|██████████| 3/3 [00:00<00:00,  9.82it/s]\n",
            "/usr/local/lib/python3.11/dist-packages/torch/optim/lr_scheduler.py:243: UserWarning: The epoch parameter in `scheduler.step()` was not necessary and is being deprecated where possible. Please use `scheduler.step()` to step the scheduler. During the deprecation, if epoch is different from None, the closed form is used instead of the new chainable form, where available. Please open an issue if you are unable to replicate your use case: https://github.com/pytorch/pytorch/issues/new/choose.\n",
            "  warnings.warn(EPOCH_DEPRECATION_WARNING, UserWarning)\n"
          ]
        },
        {
          "output_type": "stream",
          "name": "stdout",
          "text": [
            "Epoch: 17, Train roc_auc: 0.87, Validation roc_auc: 0.50, Test roc_auc: 0.53, LR: 0.000500\n",
            "EarlyStopping counter: 13 / 30\n"
          ]
        },
        {
          "output_type": "stream",
          "name": "stderr",
          "text": [
            "100%|██████████| 3/3 [00:00<00:00,  9.87it/s]\n",
            "/usr/local/lib/python3.11/dist-packages/torch/optim/lr_scheduler.py:243: UserWarning: The epoch parameter in `scheduler.step()` was not necessary and is being deprecated where possible. Please use `scheduler.step()` to step the scheduler. During the deprecation, if epoch is different from None, the closed form is used instead of the new chainable form, where available. Please open an issue if you are unable to replicate your use case: https://github.com/pytorch/pytorch/issues/new/choose.\n",
            "  warnings.warn(EPOCH_DEPRECATION_WARNING, UserWarning)\n"
          ]
        },
        {
          "output_type": "stream",
          "name": "stdout",
          "text": [
            "Epoch: 18, Train roc_auc: 0.88, Validation roc_auc: 0.53, Test roc_auc: 0.49, LR: 0.000500\n",
            "EarlyStopping counter: 14 / 30\n"
          ]
        },
        {
          "output_type": "stream",
          "name": "stderr",
          "text": [
            "100%|██████████| 3/3 [00:00<00:00,  9.98it/s]\n",
            "/usr/local/lib/python3.11/dist-packages/torch/optim/lr_scheduler.py:243: UserWarning: The epoch parameter in `scheduler.step()` was not necessary and is being deprecated where possible. Please use `scheduler.step()` to step the scheduler. During the deprecation, if epoch is different from None, the closed form is used instead of the new chainable form, where available. Please open an issue if you are unable to replicate your use case: https://github.com/pytorch/pytorch/issues/new/choose.\n",
            "  warnings.warn(EPOCH_DEPRECATION_WARNING, UserWarning)\n"
          ]
        },
        {
          "output_type": "stream",
          "name": "stdout",
          "text": [
            "Epoch: 19, Train roc_auc: 0.88, Validation roc_auc: 0.54, Test roc_auc: 0.48, LR: 0.000500\n",
            "EarlyStopping counter: 15 / 30\n"
          ]
        },
        {
          "output_type": "stream",
          "name": "stderr",
          "text": [
            "100%|██████████| 3/3 [00:00<00:00,  7.57it/s]\n",
            "/usr/local/lib/python3.11/dist-packages/torch/optim/lr_scheduler.py:243: UserWarning: The epoch parameter in `scheduler.step()` was not necessary and is being deprecated where possible. Please use `scheduler.step()` to step the scheduler. During the deprecation, if epoch is different from None, the closed form is used instead of the new chainable form, where available. Please open an issue if you are unable to replicate your use case: https://github.com/pytorch/pytorch/issues/new/choose.\n",
            "  warnings.warn(EPOCH_DEPRECATION_WARNING, UserWarning)\n"
          ]
        },
        {
          "output_type": "stream",
          "name": "stdout",
          "text": [
            "Epoch: 20, Train roc_auc: 0.88, Validation roc_auc: 0.56, Test roc_auc: 0.50, LR: 0.000500\n",
            "Validation metric migliorata. Salvo modello...\n"
          ]
        },
        {
          "output_type": "stream",
          "name": "stderr",
          "text": [
            "100%|██████████| 3/3 [00:00<00:00,  9.83it/s]\n",
            "/usr/local/lib/python3.11/dist-packages/torch/optim/lr_scheduler.py:243: UserWarning: The epoch parameter in `scheduler.step()` was not necessary and is being deprecated where possible. Please use `scheduler.step()` to step the scheduler. During the deprecation, if epoch is different from None, the closed form is used instead of the new chainable form, where available. Please open an issue if you are unable to replicate your use case: https://github.com/pytorch/pytorch/issues/new/choose.\n",
            "  warnings.warn(EPOCH_DEPRECATION_WARNING, UserWarning)\n"
          ]
        },
        {
          "output_type": "stream",
          "name": "stdout",
          "text": [
            "Epoch: 21, Train roc_auc: 0.89, Validation roc_auc: 0.56, Test roc_auc: 0.53, LR: 0.000500\n",
            "EarlyStopping counter: 1 / 30\n"
          ]
        },
        {
          "output_type": "stream",
          "name": "stderr",
          "text": [
            "100%|██████████| 3/3 [00:00<00:00,  9.48it/s]\n",
            "/usr/local/lib/python3.11/dist-packages/torch/optim/lr_scheduler.py:243: UserWarning: The epoch parameter in `scheduler.step()` was not necessary and is being deprecated where possible. Please use `scheduler.step()` to step the scheduler. During the deprecation, if epoch is different from None, the closed form is used instead of the new chainable form, where available. Please open an issue if you are unable to replicate your use case: https://github.com/pytorch/pytorch/issues/new/choose.\n",
            "  warnings.warn(EPOCH_DEPRECATION_WARNING, UserWarning)\n"
          ]
        },
        {
          "output_type": "stream",
          "name": "stdout",
          "text": [
            "Epoch: 22, Train roc_auc: 0.89, Validation roc_auc: 0.55, Test roc_auc: 0.53, LR: 0.000500\n",
            "EarlyStopping counter: 2 / 30\n"
          ]
        },
        {
          "output_type": "stream",
          "name": "stderr",
          "text": [
            "100%|██████████| 3/3 [00:00<00:00,  9.63it/s]\n",
            "/usr/local/lib/python3.11/dist-packages/torch/optim/lr_scheduler.py:243: UserWarning: The epoch parameter in `scheduler.step()` was not necessary and is being deprecated where possible. Please use `scheduler.step()` to step the scheduler. During the deprecation, if epoch is different from None, the closed form is used instead of the new chainable form, where available. Please open an issue if you are unable to replicate your use case: https://github.com/pytorch/pytorch/issues/new/choose.\n",
            "  warnings.warn(EPOCH_DEPRECATION_WARNING, UserWarning)\n"
          ]
        },
        {
          "output_type": "stream",
          "name": "stdout",
          "text": [
            "Epoch: 23, Train roc_auc: 0.88, Validation roc_auc: 0.55, Test roc_auc: 0.50, LR: 0.000500\n",
            "EarlyStopping counter: 3 / 30\n"
          ]
        },
        {
          "output_type": "stream",
          "name": "stderr",
          "text": [
            "100%|██████████| 3/3 [00:00<00:00,  9.51it/s]\n",
            "/usr/local/lib/python3.11/dist-packages/torch/optim/lr_scheduler.py:243: UserWarning: The epoch parameter in `scheduler.step()` was not necessary and is being deprecated where possible. Please use `scheduler.step()` to step the scheduler. During the deprecation, if epoch is different from None, the closed form is used instead of the new chainable form, where available. Please open an issue if you are unable to replicate your use case: https://github.com/pytorch/pytorch/issues/new/choose.\n",
            "  warnings.warn(EPOCH_DEPRECATION_WARNING, UserWarning)\n"
          ]
        },
        {
          "output_type": "stream",
          "name": "stdout",
          "text": [
            "Epoch: 24, Train roc_auc: 0.89, Validation roc_auc: 0.52, Test roc_auc: 0.51, LR: 0.000500\n",
            "EarlyStopping counter: 4 / 30\n"
          ]
        },
        {
          "output_type": "stream",
          "name": "stderr",
          "text": [
            "100%|██████████| 3/3 [00:00<00:00,  9.35it/s]\n",
            "/usr/local/lib/python3.11/dist-packages/torch/optim/lr_scheduler.py:243: UserWarning: The epoch parameter in `scheduler.step()` was not necessary and is being deprecated where possible. Please use `scheduler.step()` to step the scheduler. During the deprecation, if epoch is different from None, the closed form is used instead of the new chainable form, where available. Please open an issue if you are unable to replicate your use case: https://github.com/pytorch/pytorch/issues/new/choose.\n",
            "  warnings.warn(EPOCH_DEPRECATION_WARNING, UserWarning)\n"
          ]
        },
        {
          "output_type": "stream",
          "name": "stdout",
          "text": [
            "Epoch: 25, Train roc_auc: 0.89, Validation roc_auc: 0.52, Test roc_auc: 0.56, LR: 0.000500\n",
            "EarlyStopping counter: 5 / 30\n"
          ]
        },
        {
          "output_type": "stream",
          "name": "stderr",
          "text": [
            "100%|██████████| 3/3 [00:00<00:00,  9.64it/s]\n",
            "/usr/local/lib/python3.11/dist-packages/torch/optim/lr_scheduler.py:243: UserWarning: The epoch parameter in `scheduler.step()` was not necessary and is being deprecated where possible. Please use `scheduler.step()` to step the scheduler. During the deprecation, if epoch is different from None, the closed form is used instead of the new chainable form, where available. Please open an issue if you are unable to replicate your use case: https://github.com/pytorch/pytorch/issues/new/choose.\n",
            "  warnings.warn(EPOCH_DEPRECATION_WARNING, UserWarning)\n"
          ]
        },
        {
          "output_type": "stream",
          "name": "stdout",
          "text": [
            "Epoch: 26, Train roc_auc: 0.89, Validation roc_auc: 0.47, Test roc_auc: 0.56, LR: 0.000500\n",
            "EarlyStopping counter: 6 / 30\n"
          ]
        },
        {
          "output_type": "stream",
          "name": "stderr",
          "text": [
            "100%|██████████| 3/3 [00:00<00:00,  9.56it/s]\n",
            "/usr/local/lib/python3.11/dist-packages/torch/optim/lr_scheduler.py:243: UserWarning: The epoch parameter in `scheduler.step()` was not necessary and is being deprecated where possible. Please use `scheduler.step()` to step the scheduler. During the deprecation, if epoch is different from None, the closed form is used instead of the new chainable form, where available. Please open an issue if you are unable to replicate your use case: https://github.com/pytorch/pytorch/issues/new/choose.\n",
            "  warnings.warn(EPOCH_DEPRECATION_WARNING, UserWarning)\n"
          ]
        },
        {
          "output_type": "stream",
          "name": "stdout",
          "text": [
            "Epoch: 27, Train roc_auc: 0.89, Validation roc_auc: 0.49, Test roc_auc: 0.54, LR: 0.000500\n",
            "EarlyStopping counter: 7 / 30\n"
          ]
        },
        {
          "output_type": "stream",
          "name": "stderr",
          "text": [
            "100%|██████████| 3/3 [00:00<00:00,  9.33it/s]\n",
            "/usr/local/lib/python3.11/dist-packages/torch/optim/lr_scheduler.py:243: UserWarning: The epoch parameter in `scheduler.step()` was not necessary and is being deprecated where possible. Please use `scheduler.step()` to step the scheduler. During the deprecation, if epoch is different from None, the closed form is used instead of the new chainable form, where available. Please open an issue if you are unable to replicate your use case: https://github.com/pytorch/pytorch/issues/new/choose.\n",
            "  warnings.warn(EPOCH_DEPRECATION_WARNING, UserWarning)\n"
          ]
        },
        {
          "output_type": "stream",
          "name": "stdout",
          "text": [
            "Epoch: 28, Train roc_auc: 0.89, Validation roc_auc: 0.52, Test roc_auc: 0.54, LR: 0.000500\n",
            "EarlyStopping counter: 8 / 30\n"
          ]
        },
        {
          "output_type": "stream",
          "name": "stderr",
          "text": [
            "100%|██████████| 3/3 [00:00<00:00,  7.90it/s]\n",
            "/usr/local/lib/python3.11/dist-packages/torch/optim/lr_scheduler.py:243: UserWarning: The epoch parameter in `scheduler.step()` was not necessary and is being deprecated where possible. Please use `scheduler.step()` to step the scheduler. During the deprecation, if epoch is different from None, the closed form is used instead of the new chainable form, where available. Please open an issue if you are unable to replicate your use case: https://github.com/pytorch/pytorch/issues/new/choose.\n",
            "  warnings.warn(EPOCH_DEPRECATION_WARNING, UserWarning)\n"
          ]
        },
        {
          "output_type": "stream",
          "name": "stdout",
          "text": [
            "Epoch: 29, Train roc_auc: 0.89, Validation roc_auc: 0.55, Test roc_auc: 0.52, LR: 0.000500\n",
            "EarlyStopping counter: 9 / 30\n"
          ]
        },
        {
          "output_type": "stream",
          "name": "stderr",
          "text": [
            "100%|██████████| 3/3 [00:00<00:00,  9.07it/s]\n",
            "/usr/local/lib/python3.11/dist-packages/torch/optim/lr_scheduler.py:243: UserWarning: The epoch parameter in `scheduler.step()` was not necessary and is being deprecated where possible. Please use `scheduler.step()` to step the scheduler. During the deprecation, if epoch is different from None, the closed form is used instead of the new chainable form, where available. Please open an issue if you are unable to replicate your use case: https://github.com/pytorch/pytorch/issues/new/choose.\n",
            "  warnings.warn(EPOCH_DEPRECATION_WARNING, UserWarning)\n"
          ]
        },
        {
          "output_type": "stream",
          "name": "stdout",
          "text": [
            "Epoch: 30, Train roc_auc: 0.89, Validation roc_auc: 0.54, Test roc_auc: 0.53, LR: 0.000500\n",
            "EarlyStopping counter: 10 / 30\n"
          ]
        },
        {
          "output_type": "stream",
          "name": "stderr",
          "text": [
            "100%|██████████| 3/3 [00:00<00:00,  9.29it/s]\n",
            "/usr/local/lib/python3.11/dist-packages/torch/optim/lr_scheduler.py:243: UserWarning: The epoch parameter in `scheduler.step()` was not necessary and is being deprecated where possible. Please use `scheduler.step()` to step the scheduler. During the deprecation, if epoch is different from None, the closed form is used instead of the new chainable form, where available. Please open an issue if you are unable to replicate your use case: https://github.com/pytorch/pytorch/issues/new/choose.\n",
            "  warnings.warn(EPOCH_DEPRECATION_WARNING, UserWarning)\n"
          ]
        },
        {
          "output_type": "stream",
          "name": "stdout",
          "text": [
            "Epoch: 31, Train roc_auc: 0.90, Validation roc_auc: 0.54, Test roc_auc: 0.54, LR: 0.000500\n",
            "EarlyStopping counter: 11 / 30\n"
          ]
        },
        {
          "output_type": "stream",
          "name": "stderr",
          "text": [
            "100%|██████████| 3/3 [00:00<00:00,  8.53it/s]\n",
            "/usr/local/lib/python3.11/dist-packages/torch/optim/lr_scheduler.py:243: UserWarning: The epoch parameter in `scheduler.step()` was not necessary and is being deprecated where possible. Please use `scheduler.step()` to step the scheduler. During the deprecation, if epoch is different from None, the closed form is used instead of the new chainable form, where available. Please open an issue if you are unable to replicate your use case: https://github.com/pytorch/pytorch/issues/new/choose.\n",
            "  warnings.warn(EPOCH_DEPRECATION_WARNING, UserWarning)\n"
          ]
        },
        {
          "output_type": "stream",
          "name": "stdout",
          "text": [
            "Epoch: 32, Train roc_auc: 0.90, Validation roc_auc: 0.53, Test roc_auc: 0.56, LR: 0.000500\n",
            "EarlyStopping counter: 12 / 30\n"
          ]
        },
        {
          "output_type": "stream",
          "name": "stderr",
          "text": [
            "100%|██████████| 3/3 [00:00<00:00,  9.12it/s]\n",
            "/usr/local/lib/python3.11/dist-packages/torch/optim/lr_scheduler.py:243: UserWarning: The epoch parameter in `scheduler.step()` was not necessary and is being deprecated where possible. Please use `scheduler.step()` to step the scheduler. During the deprecation, if epoch is different from None, the closed form is used instead of the new chainable form, where available. Please open an issue if you are unable to replicate your use case: https://github.com/pytorch/pytorch/issues/new/choose.\n",
            "  warnings.warn(EPOCH_DEPRECATION_WARNING, UserWarning)\n"
          ]
        },
        {
          "output_type": "stream",
          "name": "stdout",
          "text": [
            "Epoch: 33, Train roc_auc: 0.90, Validation roc_auc: 0.52, Test roc_auc: 0.53, LR: 0.000500\n",
            "EarlyStopping counter: 13 / 30\n"
          ]
        },
        {
          "output_type": "stream",
          "name": "stderr",
          "text": [
            "100%|██████████| 3/3 [00:00<00:00,  9.45it/s]\n",
            "/usr/local/lib/python3.11/dist-packages/torch/optim/lr_scheduler.py:243: UserWarning: The epoch parameter in `scheduler.step()` was not necessary and is being deprecated where possible. Please use `scheduler.step()` to step the scheduler. During the deprecation, if epoch is different from None, the closed form is used instead of the new chainable form, where available. Please open an issue if you are unable to replicate your use case: https://github.com/pytorch/pytorch/issues/new/choose.\n",
            "  warnings.warn(EPOCH_DEPRECATION_WARNING, UserWarning)\n"
          ]
        },
        {
          "output_type": "stream",
          "name": "stdout",
          "text": [
            "Epoch: 34, Train roc_auc: 0.90, Validation roc_auc: 0.54, Test roc_auc: 0.53, LR: 0.000500\n",
            "EarlyStopping counter: 14 / 30\n"
          ]
        },
        {
          "output_type": "stream",
          "name": "stderr",
          "text": [
            "100%|██████████| 3/3 [00:00<00:00,  9.14it/s]\n",
            "/usr/local/lib/python3.11/dist-packages/torch/optim/lr_scheduler.py:243: UserWarning: The epoch parameter in `scheduler.step()` was not necessary and is being deprecated where possible. Please use `scheduler.step()` to step the scheduler. During the deprecation, if epoch is different from None, the closed form is used instead of the new chainable form, where available. Please open an issue if you are unable to replicate your use case: https://github.com/pytorch/pytorch/issues/new/choose.\n",
            "  warnings.warn(EPOCH_DEPRECATION_WARNING, UserWarning)\n"
          ]
        },
        {
          "output_type": "stream",
          "name": "stdout",
          "text": [
            "Epoch: 35, Train roc_auc: 0.90, Validation roc_auc: 0.56, Test roc_auc: 0.53, LR: 0.000500\n",
            "EarlyStopping counter: 15 / 30\n"
          ]
        },
        {
          "output_type": "stream",
          "name": "stderr",
          "text": [
            "100%|██████████| 3/3 [00:00<00:00,  9.18it/s]\n",
            "/usr/local/lib/python3.11/dist-packages/torch/optim/lr_scheduler.py:243: UserWarning: The epoch parameter in `scheduler.step()` was not necessary and is being deprecated where possible. Please use `scheduler.step()` to step the scheduler. During the deprecation, if epoch is different from None, the closed form is used instead of the new chainable form, where available. Please open an issue if you are unable to replicate your use case: https://github.com/pytorch/pytorch/issues/new/choose.\n",
            "  warnings.warn(EPOCH_DEPRECATION_WARNING, UserWarning)\n"
          ]
        },
        {
          "output_type": "stream",
          "name": "stdout",
          "text": [
            "Epoch: 36, Train roc_auc: 0.89, Validation roc_auc: 0.57, Test roc_auc: 0.51, LR: 0.000500\n",
            "Validation metric migliorata. Salvo modello...\n"
          ]
        },
        {
          "output_type": "stream",
          "name": "stderr",
          "text": [
            "100%|██████████| 3/3 [00:00<00:00,  6.29it/s]\n",
            "/usr/local/lib/python3.11/dist-packages/torch/optim/lr_scheduler.py:243: UserWarning: The epoch parameter in `scheduler.step()` was not necessary and is being deprecated where possible. Please use `scheduler.step()` to step the scheduler. During the deprecation, if epoch is different from None, the closed form is used instead of the new chainable form, where available. Please open an issue if you are unable to replicate your use case: https://github.com/pytorch/pytorch/issues/new/choose.\n",
            "  warnings.warn(EPOCH_DEPRECATION_WARNING, UserWarning)\n"
          ]
        },
        {
          "output_type": "stream",
          "name": "stdout",
          "text": [
            "Epoch: 37, Train roc_auc: 0.90, Validation roc_auc: 0.53, Test roc_auc: 0.50, LR: 0.000500\n",
            "EarlyStopping counter: 1 / 30\n"
          ]
        },
        {
          "output_type": "stream",
          "name": "stderr",
          "text": [
            "100%|██████████| 3/3 [00:00<00:00,  9.12it/s]\n",
            "/usr/local/lib/python3.11/dist-packages/torch/optim/lr_scheduler.py:243: UserWarning: The epoch parameter in `scheduler.step()` was not necessary and is being deprecated where possible. Please use `scheduler.step()` to step the scheduler. During the deprecation, if epoch is different from None, the closed form is used instead of the new chainable form, where available. Please open an issue if you are unable to replicate your use case: https://github.com/pytorch/pytorch/issues/new/choose.\n",
            "  warnings.warn(EPOCH_DEPRECATION_WARNING, UserWarning)\n"
          ]
        },
        {
          "output_type": "stream",
          "name": "stdout",
          "text": [
            "Epoch: 38, Train roc_auc: 0.90, Validation roc_auc: 0.51, Test roc_auc: 0.48, LR: 0.000500\n",
            "EarlyStopping counter: 2 / 30\n"
          ]
        },
        {
          "output_type": "stream",
          "name": "stderr",
          "text": [
            "100%|██████████| 3/3 [00:00<00:00,  7.06it/s]\n",
            "/usr/local/lib/python3.11/dist-packages/torch/optim/lr_scheduler.py:243: UserWarning: The epoch parameter in `scheduler.step()` was not necessary and is being deprecated where possible. Please use `scheduler.step()` to step the scheduler. During the deprecation, if epoch is different from None, the closed form is used instead of the new chainable form, where available. Please open an issue if you are unable to replicate your use case: https://github.com/pytorch/pytorch/issues/new/choose.\n",
            "  warnings.warn(EPOCH_DEPRECATION_WARNING, UserWarning)\n"
          ]
        },
        {
          "output_type": "stream",
          "name": "stdout",
          "text": [
            "Epoch: 39, Train roc_auc: 0.90, Validation roc_auc: 0.51, Test roc_auc: 0.51, LR: 0.000500\n",
            "EarlyStopping counter: 3 / 30\n"
          ]
        },
        {
          "output_type": "stream",
          "name": "stderr",
          "text": [
            "100%|██████████| 3/3 [00:00<00:00,  4.52it/s]\n",
            "/usr/local/lib/python3.11/dist-packages/torch/optim/lr_scheduler.py:243: UserWarning: The epoch parameter in `scheduler.step()` was not necessary and is being deprecated where possible. Please use `scheduler.step()` to step the scheduler. During the deprecation, if epoch is different from None, the closed form is used instead of the new chainable form, where available. Please open an issue if you are unable to replicate your use case: https://github.com/pytorch/pytorch/issues/new/choose.\n",
            "  warnings.warn(EPOCH_DEPRECATION_WARNING, UserWarning)\n"
          ]
        },
        {
          "output_type": "stream",
          "name": "stdout",
          "text": [
            "Epoch: 40, Train roc_auc: 0.90, Validation roc_auc: 0.49, Test roc_auc: 0.53, LR: 0.000500\n",
            "EarlyStopping counter: 4 / 30\n"
          ]
        },
        {
          "output_type": "stream",
          "name": "stderr",
          "text": [
            "100%|██████████| 3/3 [00:00<00:00,  9.19it/s]\n",
            "/usr/local/lib/python3.11/dist-packages/torch/optim/lr_scheduler.py:243: UserWarning: The epoch parameter in `scheduler.step()` was not necessary and is being deprecated where possible. Please use `scheduler.step()` to step the scheduler. During the deprecation, if epoch is different from None, the closed form is used instead of the new chainable form, where available. Please open an issue if you are unable to replicate your use case: https://github.com/pytorch/pytorch/issues/new/choose.\n",
            "  warnings.warn(EPOCH_DEPRECATION_WARNING, UserWarning)\n"
          ]
        },
        {
          "output_type": "stream",
          "name": "stdout",
          "text": [
            "Epoch: 41, Train roc_auc: 0.90, Validation roc_auc: 0.49, Test roc_auc: 0.53, LR: 0.000500\n",
            "EarlyStopping counter: 5 / 30\n"
          ]
        },
        {
          "output_type": "stream",
          "name": "stderr",
          "text": [
            "100%|██████████| 3/3 [00:00<00:00,  9.14it/s]\n",
            "/usr/local/lib/python3.11/dist-packages/torch/optim/lr_scheduler.py:243: UserWarning: The epoch parameter in `scheduler.step()` was not necessary and is being deprecated where possible. Please use `scheduler.step()` to step the scheduler. During the deprecation, if epoch is different from None, the closed form is used instead of the new chainable form, where available. Please open an issue if you are unable to replicate your use case: https://github.com/pytorch/pytorch/issues/new/choose.\n",
            "  warnings.warn(EPOCH_DEPRECATION_WARNING, UserWarning)\n"
          ]
        },
        {
          "output_type": "stream",
          "name": "stdout",
          "text": [
            "Epoch: 42, Train roc_auc: 0.90, Validation roc_auc: 0.53, Test roc_auc: 0.50, LR: 0.000500\n",
            "EarlyStopping counter: 6 / 30\n"
          ]
        },
        {
          "output_type": "stream",
          "name": "stderr",
          "text": [
            "100%|██████████| 3/3 [00:00<00:00,  9.14it/s]\n",
            "/usr/local/lib/python3.11/dist-packages/torch/optim/lr_scheduler.py:243: UserWarning: The epoch parameter in `scheduler.step()` was not necessary and is being deprecated where possible. Please use `scheduler.step()` to step the scheduler. During the deprecation, if epoch is different from None, the closed form is used instead of the new chainable form, where available. Please open an issue if you are unable to replicate your use case: https://github.com/pytorch/pytorch/issues/new/choose.\n",
            "  warnings.warn(EPOCH_DEPRECATION_WARNING, UserWarning)\n"
          ]
        },
        {
          "output_type": "stream",
          "name": "stdout",
          "text": [
            "Epoch: 43, Train roc_auc: 0.90, Validation roc_auc: 0.50, Test roc_auc: 0.49, LR: 0.000500\n",
            "EarlyStopping counter: 7 / 30\n"
          ]
        },
        {
          "output_type": "stream",
          "name": "stderr",
          "text": [
            "100%|██████████| 3/3 [00:00<00:00,  9.29it/s]\n",
            "/usr/local/lib/python3.11/dist-packages/torch/optim/lr_scheduler.py:243: UserWarning: The epoch parameter in `scheduler.step()` was not necessary and is being deprecated where possible. Please use `scheduler.step()` to step the scheduler. During the deprecation, if epoch is different from None, the closed form is used instead of the new chainable form, where available. Please open an issue if you are unable to replicate your use case: https://github.com/pytorch/pytorch/issues/new/choose.\n",
            "  warnings.warn(EPOCH_DEPRECATION_WARNING, UserWarning)\n"
          ]
        },
        {
          "output_type": "stream",
          "name": "stdout",
          "text": [
            "Epoch: 44, Train roc_auc: 0.90, Validation roc_auc: 0.49, Test roc_auc: 0.50, LR: 0.000500\n",
            "EarlyStopping counter: 8 / 30\n"
          ]
        },
        {
          "output_type": "stream",
          "name": "stderr",
          "text": [
            "100%|██████████| 3/3 [00:00<00:00,  7.62it/s]\n",
            "/usr/local/lib/python3.11/dist-packages/torch/optim/lr_scheduler.py:243: UserWarning: The epoch parameter in `scheduler.step()` was not necessary and is being deprecated where possible. Please use `scheduler.step()` to step the scheduler. During the deprecation, if epoch is different from None, the closed form is used instead of the new chainable form, where available. Please open an issue if you are unable to replicate your use case: https://github.com/pytorch/pytorch/issues/new/choose.\n",
            "  warnings.warn(EPOCH_DEPRECATION_WARNING, UserWarning)\n"
          ]
        },
        {
          "output_type": "stream",
          "name": "stdout",
          "text": [
            "Epoch: 45, Train roc_auc: 0.90, Validation roc_auc: 0.52, Test roc_auc: 0.53, LR: 0.000500\n",
            "EarlyStopping counter: 9 / 30\n"
          ]
        },
        {
          "output_type": "stream",
          "name": "stderr",
          "text": [
            "100%|██████████| 3/3 [00:00<00:00,  6.89it/s]\n",
            "/usr/local/lib/python3.11/dist-packages/torch/optim/lr_scheduler.py:243: UserWarning: The epoch parameter in `scheduler.step()` was not necessary and is being deprecated where possible. Please use `scheduler.step()` to step the scheduler. During the deprecation, if epoch is different from None, the closed form is used instead of the new chainable form, where available. Please open an issue if you are unable to replicate your use case: https://github.com/pytorch/pytorch/issues/new/choose.\n",
            "  warnings.warn(EPOCH_DEPRECATION_WARNING, UserWarning)\n"
          ]
        },
        {
          "output_type": "stream",
          "name": "stdout",
          "text": [
            "Epoch: 46, Train roc_auc: 0.90, Validation roc_auc: 0.54, Test roc_auc: 0.54, LR: 0.000500\n",
            "EarlyStopping counter: 10 / 30\n"
          ]
        },
        {
          "output_type": "stream",
          "name": "stderr",
          "text": [
            "100%|██████████| 3/3 [00:00<00:00,  9.41it/s]\n",
            "/usr/local/lib/python3.11/dist-packages/torch/optim/lr_scheduler.py:243: UserWarning: The epoch parameter in `scheduler.step()` was not necessary and is being deprecated where possible. Please use `scheduler.step()` to step the scheduler. During the deprecation, if epoch is different from None, the closed form is used instead of the new chainable form, where available. Please open an issue if you are unable to replicate your use case: https://github.com/pytorch/pytorch/issues/new/choose.\n",
            "  warnings.warn(EPOCH_DEPRECATION_WARNING, UserWarning)\n"
          ]
        },
        {
          "output_type": "stream",
          "name": "stdout",
          "text": [
            "Epoch: 47, Train roc_auc: 0.90, Validation roc_auc: 0.54, Test roc_auc: 0.56, LR: 0.000500\n",
            "EarlyStopping counter: 11 / 30\n"
          ]
        },
        {
          "output_type": "stream",
          "name": "stderr",
          "text": [
            "100%|██████████| 3/3 [00:00<00:00,  9.44it/s]\n",
            "/usr/local/lib/python3.11/dist-packages/torch/optim/lr_scheduler.py:243: UserWarning: The epoch parameter in `scheduler.step()` was not necessary and is being deprecated where possible. Please use `scheduler.step()` to step the scheduler. During the deprecation, if epoch is different from None, the closed form is used instead of the new chainable form, where available. Please open an issue if you are unable to replicate your use case: https://github.com/pytorch/pytorch/issues/new/choose.\n",
            "  warnings.warn(EPOCH_DEPRECATION_WARNING, UserWarning)\n"
          ]
        },
        {
          "output_type": "stream",
          "name": "stdout",
          "text": [
            "Epoch: 48, Train roc_auc: 0.90, Validation roc_auc: 0.54, Test roc_auc: 0.55, LR: 0.000500\n",
            "EarlyStopping counter: 12 / 30\n"
          ]
        },
        {
          "output_type": "stream",
          "name": "stderr",
          "text": [
            "100%|██████████| 3/3 [00:00<00:00,  9.56it/s]\n",
            "/usr/local/lib/python3.11/dist-packages/torch/optim/lr_scheduler.py:243: UserWarning: The epoch parameter in `scheduler.step()` was not necessary and is being deprecated where possible. Please use `scheduler.step()` to step the scheduler. During the deprecation, if epoch is different from None, the closed form is used instead of the new chainable form, where available. Please open an issue if you are unable to replicate your use case: https://github.com/pytorch/pytorch/issues/new/choose.\n",
            "  warnings.warn(EPOCH_DEPRECATION_WARNING, UserWarning)\n"
          ]
        },
        {
          "output_type": "stream",
          "name": "stdout",
          "text": [
            "Epoch: 49, Train roc_auc: 0.90, Validation roc_auc: 0.54, Test roc_auc: 0.56, LR: 0.000500\n",
            "EarlyStopping counter: 13 / 30\n"
          ]
        },
        {
          "output_type": "stream",
          "name": "stderr",
          "text": [
            "100%|██████████| 3/3 [00:00<00:00,  8.69it/s]\n",
            "/usr/local/lib/python3.11/dist-packages/torch/optim/lr_scheduler.py:243: UserWarning: The epoch parameter in `scheduler.step()` was not necessary and is being deprecated where possible. Please use `scheduler.step()` to step the scheduler. During the deprecation, if epoch is different from None, the closed form is used instead of the new chainable form, where available. Please open an issue if you are unable to replicate your use case: https://github.com/pytorch/pytorch/issues/new/choose.\n",
            "  warnings.warn(EPOCH_DEPRECATION_WARNING, UserWarning)\n"
          ]
        },
        {
          "output_type": "stream",
          "name": "stdout",
          "text": [
            "Epoch: 50, Train roc_auc: 0.90, Validation roc_auc: 0.53, Test roc_auc: 0.55, LR: 0.000500\n",
            "EarlyStopping counter: 14 / 30\n"
          ]
        },
        {
          "output_type": "stream",
          "name": "stderr",
          "text": [
            "100%|██████████| 3/3 [00:00<00:00,  9.08it/s]\n",
            "/usr/local/lib/python3.11/dist-packages/torch/optim/lr_scheduler.py:243: UserWarning: The epoch parameter in `scheduler.step()` was not necessary and is being deprecated where possible. Please use `scheduler.step()` to step the scheduler. During the deprecation, if epoch is different from None, the closed form is used instead of the new chainable form, where available. Please open an issue if you are unable to replicate your use case: https://github.com/pytorch/pytorch/issues/new/choose.\n",
            "  warnings.warn(EPOCH_DEPRECATION_WARNING, UserWarning)\n"
          ]
        },
        {
          "output_type": "stream",
          "name": "stdout",
          "text": [
            "Epoch: 51, Train roc_auc: 0.90, Validation roc_auc: 0.53, Test roc_auc: 0.55, LR: 0.000500\n",
            "EarlyStopping counter: 15 / 30\n"
          ]
        },
        {
          "output_type": "stream",
          "name": "stderr",
          "text": [
            "100%|██████████| 3/3 [00:00<00:00,  8.99it/s]\n",
            "/usr/local/lib/python3.11/dist-packages/torch/optim/lr_scheduler.py:243: UserWarning: The epoch parameter in `scheduler.step()` was not necessary and is being deprecated where possible. Please use `scheduler.step()` to step the scheduler. During the deprecation, if epoch is different from None, the closed form is used instead of the new chainable form, where available. Please open an issue if you are unable to replicate your use case: https://github.com/pytorch/pytorch/issues/new/choose.\n",
            "  warnings.warn(EPOCH_DEPRECATION_WARNING, UserWarning)\n"
          ]
        },
        {
          "output_type": "stream",
          "name": "stdout",
          "text": [
            "Epoch: 52, Train roc_auc: 0.90, Validation roc_auc: 0.55, Test roc_auc: 0.54, LR: 0.000500\n",
            "EarlyStopping counter: 16 / 30\n"
          ]
        },
        {
          "output_type": "stream",
          "name": "stderr",
          "text": [
            "100%|██████████| 3/3 [00:00<00:00,  9.32it/s]\n",
            "/usr/local/lib/python3.11/dist-packages/torch/optim/lr_scheduler.py:243: UserWarning: The epoch parameter in `scheduler.step()` was not necessary and is being deprecated where possible. Please use `scheduler.step()` to step the scheduler. During the deprecation, if epoch is different from None, the closed form is used instead of the new chainable form, where available. Please open an issue if you are unable to replicate your use case: https://github.com/pytorch/pytorch/issues/new/choose.\n",
            "  warnings.warn(EPOCH_DEPRECATION_WARNING, UserWarning)\n"
          ]
        },
        {
          "output_type": "stream",
          "name": "stdout",
          "text": [
            "Epoch: 53, Train roc_auc: 0.90, Validation roc_auc: 0.58, Test roc_auc: 0.53, LR: 0.000500\n",
            "Validation metric migliorata. Salvo modello...\n"
          ]
        },
        {
          "output_type": "stream",
          "name": "stderr",
          "text": [
            "100%|██████████| 3/3 [00:00<00:00,  7.52it/s]\n",
            "/usr/local/lib/python3.11/dist-packages/torch/optim/lr_scheduler.py:243: UserWarning: The epoch parameter in `scheduler.step()` was not necessary and is being deprecated where possible. Please use `scheduler.step()` to step the scheduler. During the deprecation, if epoch is different from None, the closed form is used instead of the new chainable form, where available. Please open an issue if you are unable to replicate your use case: https://github.com/pytorch/pytorch/issues/new/choose.\n",
            "  warnings.warn(EPOCH_DEPRECATION_WARNING, UserWarning)\n"
          ]
        },
        {
          "output_type": "stream",
          "name": "stdout",
          "text": [
            "Epoch: 54, Train roc_auc: 0.90, Validation roc_auc: 0.56, Test roc_auc: 0.54, LR: 0.000500\n",
            "EarlyStopping counter: 1 / 30\n"
          ]
        },
        {
          "output_type": "stream",
          "name": "stderr",
          "text": [
            "100%|██████████| 3/3 [00:00<00:00,  7.05it/s]\n",
            "/usr/local/lib/python3.11/dist-packages/torch/optim/lr_scheduler.py:243: UserWarning: The epoch parameter in `scheduler.step()` was not necessary and is being deprecated where possible. Please use `scheduler.step()` to step the scheduler. During the deprecation, if epoch is different from None, the closed form is used instead of the new chainable form, where available. Please open an issue if you are unable to replicate your use case: https://github.com/pytorch/pytorch/issues/new/choose.\n",
            "  warnings.warn(EPOCH_DEPRECATION_WARNING, UserWarning)\n"
          ]
        },
        {
          "output_type": "stream",
          "name": "stdout",
          "text": [
            "Epoch: 55, Train roc_auc: 0.90, Validation roc_auc: 0.54, Test roc_auc: 0.56, LR: 0.000500\n",
            "EarlyStopping counter: 2 / 30\n"
          ]
        },
        {
          "output_type": "stream",
          "name": "stderr",
          "text": [
            "100%|██████████| 3/3 [00:00<00:00,  9.18it/s]\n",
            "/usr/local/lib/python3.11/dist-packages/torch/optim/lr_scheduler.py:243: UserWarning: The epoch parameter in `scheduler.step()` was not necessary and is being deprecated where possible. Please use `scheduler.step()` to step the scheduler. During the deprecation, if epoch is different from None, the closed form is used instead of the new chainable form, where available. Please open an issue if you are unable to replicate your use case: https://github.com/pytorch/pytorch/issues/new/choose.\n",
            "  warnings.warn(EPOCH_DEPRECATION_WARNING, UserWarning)\n"
          ]
        },
        {
          "output_type": "stream",
          "name": "stdout",
          "text": [
            "Epoch: 56, Train roc_auc: 0.90, Validation roc_auc: 0.54, Test roc_auc: 0.56, LR: 0.000500\n",
            "EarlyStopping counter: 3 / 30\n"
          ]
        },
        {
          "output_type": "stream",
          "name": "stderr",
          "text": [
            "100%|██████████| 3/3 [00:00<00:00,  9.08it/s]\n",
            "/usr/local/lib/python3.11/dist-packages/torch/optim/lr_scheduler.py:243: UserWarning: The epoch parameter in `scheduler.step()` was not necessary and is being deprecated where possible. Please use `scheduler.step()` to step the scheduler. During the deprecation, if epoch is different from None, the closed form is used instead of the new chainable form, where available. Please open an issue if you are unable to replicate your use case: https://github.com/pytorch/pytorch/issues/new/choose.\n",
            "  warnings.warn(EPOCH_DEPRECATION_WARNING, UserWarning)\n"
          ]
        },
        {
          "output_type": "stream",
          "name": "stdout",
          "text": [
            "Epoch: 57, Train roc_auc: 0.90, Validation roc_auc: 0.54, Test roc_auc: 0.55, LR: 0.000500\n",
            "EarlyStopping counter: 4 / 30\n"
          ]
        },
        {
          "output_type": "stream",
          "name": "stderr",
          "text": [
            "100%|██████████| 3/3 [00:00<00:00,  9.31it/s]\n",
            "/usr/local/lib/python3.11/dist-packages/torch/optim/lr_scheduler.py:243: UserWarning: The epoch parameter in `scheduler.step()` was not necessary and is being deprecated where possible. Please use `scheduler.step()` to step the scheduler. During the deprecation, if epoch is different from None, the closed form is used instead of the new chainable form, where available. Please open an issue if you are unable to replicate your use case: https://github.com/pytorch/pytorch/issues/new/choose.\n",
            "  warnings.warn(EPOCH_DEPRECATION_WARNING, UserWarning)\n"
          ]
        },
        {
          "output_type": "stream",
          "name": "stdout",
          "text": [
            "Epoch: 58, Train roc_auc: 0.90, Validation roc_auc: 0.55, Test roc_auc: 0.54, LR: 0.000500\n",
            "EarlyStopping counter: 5 / 30\n"
          ]
        },
        {
          "output_type": "stream",
          "name": "stderr",
          "text": [
            "100%|██████████| 3/3 [00:00<00:00,  8.97it/s]\n",
            "/usr/local/lib/python3.11/dist-packages/torch/optim/lr_scheduler.py:243: UserWarning: The epoch parameter in `scheduler.step()` was not necessary and is being deprecated where possible. Please use `scheduler.step()` to step the scheduler. During the deprecation, if epoch is different from None, the closed form is used instead of the new chainable form, where available. Please open an issue if you are unable to replicate your use case: https://github.com/pytorch/pytorch/issues/new/choose.\n",
            "  warnings.warn(EPOCH_DEPRECATION_WARNING, UserWarning)\n"
          ]
        },
        {
          "output_type": "stream",
          "name": "stdout",
          "text": [
            "Epoch: 59, Train roc_auc: 0.90, Validation roc_auc: 0.55, Test roc_auc: 0.55, LR: 0.000500\n",
            "EarlyStopping counter: 6 / 30\n"
          ]
        },
        {
          "output_type": "stream",
          "name": "stderr",
          "text": [
            "100%|██████████| 3/3 [00:00<00:00,  8.89it/s]\n",
            "/usr/local/lib/python3.11/dist-packages/torch/optim/lr_scheduler.py:243: UserWarning: The epoch parameter in `scheduler.step()` was not necessary and is being deprecated where possible. Please use `scheduler.step()` to step the scheduler. During the deprecation, if epoch is different from None, the closed form is used instead of the new chainable form, where available. Please open an issue if you are unable to replicate your use case: https://github.com/pytorch/pytorch/issues/new/choose.\n",
            "  warnings.warn(EPOCH_DEPRECATION_WARNING, UserWarning)\n"
          ]
        },
        {
          "output_type": "stream",
          "name": "stdout",
          "text": [
            "Epoch: 60, Train roc_auc: 0.90, Validation roc_auc: 0.56, Test roc_auc: 0.55, LR: 0.000500\n",
            "EarlyStopping counter: 7 / 30\n"
          ]
        },
        {
          "output_type": "stream",
          "name": "stderr",
          "text": [
            "100%|██████████| 3/3 [00:00<00:00,  9.22it/s]\n",
            "/usr/local/lib/python3.11/dist-packages/torch/optim/lr_scheduler.py:243: UserWarning: The epoch parameter in `scheduler.step()` was not necessary and is being deprecated where possible. Please use `scheduler.step()` to step the scheduler. During the deprecation, if epoch is different from None, the closed form is used instead of the new chainable form, where available. Please open an issue if you are unable to replicate your use case: https://github.com/pytorch/pytorch/issues/new/choose.\n",
            "  warnings.warn(EPOCH_DEPRECATION_WARNING, UserWarning)\n"
          ]
        },
        {
          "output_type": "stream",
          "name": "stdout",
          "text": [
            "Epoch: 61, Train roc_auc: 0.90, Validation roc_auc: 0.55, Test roc_auc: 0.55, LR: 0.000500\n",
            "EarlyStopping counter: 8 / 30\n"
          ]
        },
        {
          "output_type": "stream",
          "name": "stderr",
          "text": [
            "100%|██████████| 3/3 [00:00<00:00,  9.50it/s]\n",
            "/usr/local/lib/python3.11/dist-packages/torch/optim/lr_scheduler.py:243: UserWarning: The epoch parameter in `scheduler.step()` was not necessary and is being deprecated where possible. Please use `scheduler.step()` to step the scheduler. During the deprecation, if epoch is different from None, the closed form is used instead of the new chainable form, where available. Please open an issue if you are unable to replicate your use case: https://github.com/pytorch/pytorch/issues/new/choose.\n",
            "  warnings.warn(EPOCH_DEPRECATION_WARNING, UserWarning)\n"
          ]
        },
        {
          "output_type": "stream",
          "name": "stdout",
          "text": [
            "Epoch: 62, Train roc_auc: 0.90, Validation roc_auc: 0.55, Test roc_auc: 0.58, LR: 0.000500\n",
            "EarlyStopping counter: 9 / 30\n"
          ]
        },
        {
          "output_type": "stream",
          "name": "stderr",
          "text": [
            "100%|██████████| 3/3 [00:00<00:00,  7.18it/s]\n",
            "/usr/local/lib/python3.11/dist-packages/torch/optim/lr_scheduler.py:243: UserWarning: The epoch parameter in `scheduler.step()` was not necessary and is being deprecated where possible. Please use `scheduler.step()` to step the scheduler. During the deprecation, if epoch is different from None, the closed form is used instead of the new chainable form, where available. Please open an issue if you are unable to replicate your use case: https://github.com/pytorch/pytorch/issues/new/choose.\n",
            "  warnings.warn(EPOCH_DEPRECATION_WARNING, UserWarning)\n"
          ]
        },
        {
          "output_type": "stream",
          "name": "stdout",
          "text": [
            "Epoch: 63, Train roc_auc: 0.90, Validation roc_auc: 0.55, Test roc_auc: 0.58, LR: 0.000500\n",
            "EarlyStopping counter: 10 / 30\n"
          ]
        },
        {
          "output_type": "stream",
          "name": "stderr",
          "text": [
            "100%|██████████| 3/3 [00:00<00:00,  7.51it/s]\n",
            "/usr/local/lib/python3.11/dist-packages/torch/optim/lr_scheduler.py:243: UserWarning: The epoch parameter in `scheduler.step()` was not necessary and is being deprecated where possible. Please use `scheduler.step()` to step the scheduler. During the deprecation, if epoch is different from None, the closed form is used instead of the new chainable form, where available. Please open an issue if you are unable to replicate your use case: https://github.com/pytorch/pytorch/issues/new/choose.\n",
            "  warnings.warn(EPOCH_DEPRECATION_WARNING, UserWarning)\n"
          ]
        },
        {
          "output_type": "stream",
          "name": "stdout",
          "text": [
            "Epoch: 64, Train roc_auc: 0.90, Validation roc_auc: 0.56, Test roc_auc: 0.58, LR: 0.000500\n",
            "EarlyStopping counter: 11 / 30\n"
          ]
        },
        {
          "output_type": "stream",
          "name": "stderr",
          "text": [
            "100%|██████████| 3/3 [00:00<00:00,  9.09it/s]\n",
            "/usr/local/lib/python3.11/dist-packages/torch/optim/lr_scheduler.py:243: UserWarning: The epoch parameter in `scheduler.step()` was not necessary and is being deprecated where possible. Please use `scheduler.step()` to step the scheduler. During the deprecation, if epoch is different from None, the closed form is used instead of the new chainable form, where available. Please open an issue if you are unable to replicate your use case: https://github.com/pytorch/pytorch/issues/new/choose.\n",
            "  warnings.warn(EPOCH_DEPRECATION_WARNING, UserWarning)\n"
          ]
        },
        {
          "output_type": "stream",
          "name": "stdout",
          "text": [
            "Epoch: 65, Train roc_auc: 0.90, Validation roc_auc: 0.56, Test roc_auc: 0.57, LR: 0.000500\n",
            "EarlyStopping counter: 12 / 30\n"
          ]
        },
        {
          "output_type": "stream",
          "name": "stderr",
          "text": [
            "100%|██████████| 3/3 [00:00<00:00,  9.27it/s]\n",
            "/usr/local/lib/python3.11/dist-packages/torch/optim/lr_scheduler.py:243: UserWarning: The epoch parameter in `scheduler.step()` was not necessary and is being deprecated where possible. Please use `scheduler.step()` to step the scheduler. During the deprecation, if epoch is different from None, the closed form is used instead of the new chainable form, where available. Please open an issue if you are unable to replicate your use case: https://github.com/pytorch/pytorch/issues/new/choose.\n",
            "  warnings.warn(EPOCH_DEPRECATION_WARNING, UserWarning)\n"
          ]
        },
        {
          "output_type": "stream",
          "name": "stdout",
          "text": [
            "Epoch: 66, Train roc_auc: 0.90, Validation roc_auc: 0.56, Test roc_auc: 0.55, LR: 0.000500\n",
            "EarlyStopping counter: 13 / 30\n"
          ]
        },
        {
          "output_type": "stream",
          "name": "stderr",
          "text": [
            "100%|██████████| 3/3 [00:00<00:00,  9.39it/s]\n",
            "/usr/local/lib/python3.11/dist-packages/torch/optim/lr_scheduler.py:243: UserWarning: The epoch parameter in `scheduler.step()` was not necessary and is being deprecated where possible. Please use `scheduler.step()` to step the scheduler. During the deprecation, if epoch is different from None, the closed form is used instead of the new chainable form, where available. Please open an issue if you are unable to replicate your use case: https://github.com/pytorch/pytorch/issues/new/choose.\n",
            "  warnings.warn(EPOCH_DEPRECATION_WARNING, UserWarning)\n"
          ]
        },
        {
          "output_type": "stream",
          "name": "stdout",
          "text": [
            "Epoch: 67, Train roc_auc: 0.90, Validation roc_auc: 0.57, Test roc_auc: 0.55, LR: 0.000500\n",
            "EarlyStopping counter: 14 / 30\n"
          ]
        },
        {
          "output_type": "stream",
          "name": "stderr",
          "text": [
            "100%|██████████| 3/3 [00:00<00:00,  9.68it/s]\n",
            "/usr/local/lib/python3.11/dist-packages/torch/optim/lr_scheduler.py:243: UserWarning: The epoch parameter in `scheduler.step()` was not necessary and is being deprecated where possible. Please use `scheduler.step()` to step the scheduler. During the deprecation, if epoch is different from None, the closed form is used instead of the new chainable form, where available. Please open an issue if you are unable to replicate your use case: https://github.com/pytorch/pytorch/issues/new/choose.\n",
            "  warnings.warn(EPOCH_DEPRECATION_WARNING, UserWarning)\n"
          ]
        },
        {
          "output_type": "stream",
          "name": "stdout",
          "text": [
            "Epoch: 68, Train roc_auc: 0.90, Validation roc_auc: 0.56, Test roc_auc: 0.56, LR: 0.000500\n",
            "EarlyStopping counter: 15 / 30\n"
          ]
        },
        {
          "output_type": "stream",
          "name": "stderr",
          "text": [
            "100%|██████████| 3/3 [00:00<00:00,  9.41it/s]\n",
            "/usr/local/lib/python3.11/dist-packages/torch/optim/lr_scheduler.py:243: UserWarning: The epoch parameter in `scheduler.step()` was not necessary and is being deprecated where possible. Please use `scheduler.step()` to step the scheduler. During the deprecation, if epoch is different from None, the closed form is used instead of the new chainable form, where available. Please open an issue if you are unable to replicate your use case: https://github.com/pytorch/pytorch/issues/new/choose.\n",
            "  warnings.warn(EPOCH_DEPRECATION_WARNING, UserWarning)\n"
          ]
        },
        {
          "output_type": "stream",
          "name": "stdout",
          "text": [
            "Epoch: 69, Train roc_auc: 0.90, Validation roc_auc: 0.53, Test roc_auc: 0.56, LR: 0.000500\n",
            "EarlyStopping counter: 16 / 30\n"
          ]
        },
        {
          "output_type": "stream",
          "name": "stderr",
          "text": [
            "100%|██████████| 3/3 [00:00<00:00,  9.51it/s]\n",
            "/usr/local/lib/python3.11/dist-packages/torch/optim/lr_scheduler.py:243: UserWarning: The epoch parameter in `scheduler.step()` was not necessary and is being deprecated where possible. Please use `scheduler.step()` to step the scheduler. During the deprecation, if epoch is different from None, the closed form is used instead of the new chainable form, where available. Please open an issue if you are unable to replicate your use case: https://github.com/pytorch/pytorch/issues/new/choose.\n",
            "  warnings.warn(EPOCH_DEPRECATION_WARNING, UserWarning)\n"
          ]
        },
        {
          "output_type": "stream",
          "name": "stdout",
          "text": [
            "Epoch: 70, Train roc_auc: 0.90, Validation roc_auc: 0.51, Test roc_auc: 0.56, LR: 0.000500\n",
            "EarlyStopping counter: 17 / 30\n"
          ]
        },
        {
          "output_type": "stream",
          "name": "stderr",
          "text": [
            "100%|██████████| 3/3 [00:00<00:00,  9.57it/s]\n",
            "/usr/local/lib/python3.11/dist-packages/torch/optim/lr_scheduler.py:243: UserWarning: The epoch parameter in `scheduler.step()` was not necessary and is being deprecated where possible. Please use `scheduler.step()` to step the scheduler. During the deprecation, if epoch is different from None, the closed form is used instead of the new chainable form, where available. Please open an issue if you are unable to replicate your use case: https://github.com/pytorch/pytorch/issues/new/choose.\n",
            "  warnings.warn(EPOCH_DEPRECATION_WARNING, UserWarning)\n"
          ]
        },
        {
          "output_type": "stream",
          "name": "stdout",
          "text": [
            "Epoch: 71, Train roc_auc: 0.90, Validation roc_auc: 0.54, Test roc_auc: 0.58, LR: 0.000500\n",
            "EarlyStopping counter: 18 / 30\n"
          ]
        },
        {
          "output_type": "stream",
          "name": "stderr",
          "text": [
            "100%|██████████| 3/3 [00:00<00:00,  7.49it/s]\n",
            "/usr/local/lib/python3.11/dist-packages/torch/optim/lr_scheduler.py:243: UserWarning: The epoch parameter in `scheduler.step()` was not necessary and is being deprecated where possible. Please use `scheduler.step()` to step the scheduler. During the deprecation, if epoch is different from None, the closed form is used instead of the new chainable form, where available. Please open an issue if you are unable to replicate your use case: https://github.com/pytorch/pytorch/issues/new/choose.\n",
            "  warnings.warn(EPOCH_DEPRECATION_WARNING, UserWarning)\n"
          ]
        },
        {
          "output_type": "stream",
          "name": "stdout",
          "text": [
            "Epoch: 72, Train roc_auc: 0.90, Validation roc_auc: 0.56, Test roc_auc: 0.60, LR: 0.000500\n",
            "EarlyStopping counter: 19 / 30\n"
          ]
        },
        {
          "output_type": "stream",
          "name": "stderr",
          "text": [
            "100%|██████████| 3/3 [00:00<00:00,  6.78it/s]\n",
            "/usr/local/lib/python3.11/dist-packages/torch/optim/lr_scheduler.py:243: UserWarning: The epoch parameter in `scheduler.step()` was not necessary and is being deprecated where possible. Please use `scheduler.step()` to step the scheduler. During the deprecation, if epoch is different from None, the closed form is used instead of the new chainable form, where available. Please open an issue if you are unable to replicate your use case: https://github.com/pytorch/pytorch/issues/new/choose.\n",
            "  warnings.warn(EPOCH_DEPRECATION_WARNING, UserWarning)\n"
          ]
        },
        {
          "output_type": "stream",
          "name": "stdout",
          "text": [
            "Epoch: 73, Train roc_auc: 0.90, Validation roc_auc: 0.56, Test roc_auc: 0.60, LR: 0.000500\n",
            "EarlyStopping counter: 20 / 30\n"
          ]
        },
        {
          "output_type": "stream",
          "name": "stderr",
          "text": [
            "100%|██████████| 3/3 [00:00<00:00,  9.58it/s]\n",
            "/usr/local/lib/python3.11/dist-packages/torch/optim/lr_scheduler.py:243: UserWarning: The epoch parameter in `scheduler.step()` was not necessary and is being deprecated where possible. Please use `scheduler.step()` to step the scheduler. During the deprecation, if epoch is different from None, the closed form is used instead of the new chainable form, where available. Please open an issue if you are unable to replicate your use case: https://github.com/pytorch/pytorch/issues/new/choose.\n",
            "  warnings.warn(EPOCH_DEPRECATION_WARNING, UserWarning)\n"
          ]
        },
        {
          "output_type": "stream",
          "name": "stdout",
          "text": [
            "Epoch: 74, Train roc_auc: 0.90, Validation roc_auc: 0.57, Test roc_auc: 0.60, LR: 0.000500\n",
            "EarlyStopping counter: 21 / 30\n"
          ]
        },
        {
          "output_type": "stream",
          "name": "stderr",
          "text": [
            "100%|██████████| 3/3 [00:00<00:00,  9.68it/s]\n",
            "/usr/local/lib/python3.11/dist-packages/torch/optim/lr_scheduler.py:243: UserWarning: The epoch parameter in `scheduler.step()` was not necessary and is being deprecated where possible. Please use `scheduler.step()` to step the scheduler. During the deprecation, if epoch is different from None, the closed form is used instead of the new chainable form, where available. Please open an issue if you are unable to replicate your use case: https://github.com/pytorch/pytorch/issues/new/choose.\n",
            "  warnings.warn(EPOCH_DEPRECATION_WARNING, UserWarning)\n"
          ]
        },
        {
          "output_type": "stream",
          "name": "stdout",
          "text": [
            "Epoch: 75, Train roc_auc: 0.90, Validation roc_auc: 0.57, Test roc_auc: 0.58, LR: 0.000500\n",
            "EarlyStopping counter: 22 / 30\n"
          ]
        },
        {
          "output_type": "stream",
          "name": "stderr",
          "text": [
            "100%|██████████| 3/3 [00:00<00:00,  9.57it/s]\n",
            "/usr/local/lib/python3.11/dist-packages/torch/optim/lr_scheduler.py:243: UserWarning: The epoch parameter in `scheduler.step()` was not necessary and is being deprecated where possible. Please use `scheduler.step()` to step the scheduler. During the deprecation, if epoch is different from None, the closed form is used instead of the new chainable form, where available. Please open an issue if you are unable to replicate your use case: https://github.com/pytorch/pytorch/issues/new/choose.\n",
            "  warnings.warn(EPOCH_DEPRECATION_WARNING, UserWarning)\n"
          ]
        },
        {
          "output_type": "stream",
          "name": "stdout",
          "text": [
            "Epoch: 76, Train roc_auc: 0.90, Validation roc_auc: 0.55, Test roc_auc: 0.57, LR: 0.000500\n",
            "EarlyStopping counter: 23 / 30\n"
          ]
        },
        {
          "output_type": "stream",
          "name": "stderr",
          "text": [
            "100%|██████████| 3/3 [00:00<00:00,  9.15it/s]\n",
            "/usr/local/lib/python3.11/dist-packages/torch/optim/lr_scheduler.py:243: UserWarning: The epoch parameter in `scheduler.step()` was not necessary and is being deprecated where possible. Please use `scheduler.step()` to step the scheduler. During the deprecation, if epoch is different from None, the closed form is used instead of the new chainable form, where available. Please open an issue if you are unable to replicate your use case: https://github.com/pytorch/pytorch/issues/new/choose.\n",
            "  warnings.warn(EPOCH_DEPRECATION_WARNING, UserWarning)\n"
          ]
        },
        {
          "output_type": "stream",
          "name": "stdout",
          "text": [
            "Epoch: 77, Train roc_auc: 0.90, Validation roc_auc: 0.58, Test roc_auc: 0.58, LR: 0.000500\n",
            "Validation metric migliorata. Salvo modello...\n"
          ]
        },
        {
          "output_type": "stream",
          "name": "stderr",
          "text": [
            "100%|██████████| 3/3 [00:00<00:00,  9.58it/s]\n",
            "/usr/local/lib/python3.11/dist-packages/torch/optim/lr_scheduler.py:243: UserWarning: The epoch parameter in `scheduler.step()` was not necessary and is being deprecated where possible. Please use `scheduler.step()` to step the scheduler. During the deprecation, if epoch is different from None, the closed form is used instead of the new chainable form, where available. Please open an issue if you are unable to replicate your use case: https://github.com/pytorch/pytorch/issues/new/choose.\n",
            "  warnings.warn(EPOCH_DEPRECATION_WARNING, UserWarning)\n"
          ]
        },
        {
          "output_type": "stream",
          "name": "stdout",
          "text": [
            "Epoch: 78, Train roc_auc: 0.90, Validation roc_auc: 0.56, Test roc_auc: 0.59, LR: 0.000500\n",
            "EarlyStopping counter: 1 / 30\n"
          ]
        },
        {
          "output_type": "stream",
          "name": "stderr",
          "text": [
            "100%|██████████| 3/3 [00:00<00:00,  9.62it/s]\n",
            "/usr/local/lib/python3.11/dist-packages/torch/optim/lr_scheduler.py:243: UserWarning: The epoch parameter in `scheduler.step()` was not necessary and is being deprecated where possible. Please use `scheduler.step()` to step the scheduler. During the deprecation, if epoch is different from None, the closed form is used instead of the new chainable form, where available. Please open an issue if you are unable to replicate your use case: https://github.com/pytorch/pytorch/issues/new/choose.\n",
            "  warnings.warn(EPOCH_DEPRECATION_WARNING, UserWarning)\n"
          ]
        },
        {
          "output_type": "stream",
          "name": "stdout",
          "text": [
            "Epoch: 79, Train roc_auc: 0.90, Validation roc_auc: 0.56, Test roc_auc: 0.59, LR: 0.000500\n",
            "EarlyStopping counter: 2 / 30\n"
          ]
        },
        {
          "output_type": "stream",
          "name": "stderr",
          "text": [
            "100%|██████████| 3/3 [00:00<00:00,  9.25it/s]\n",
            "/usr/local/lib/python3.11/dist-packages/torch/optim/lr_scheduler.py:243: UserWarning: The epoch parameter in `scheduler.step()` was not necessary and is being deprecated where possible. Please use `scheduler.step()` to step the scheduler. During the deprecation, if epoch is different from None, the closed form is used instead of the new chainable form, where available. Please open an issue if you are unable to replicate your use case: https://github.com/pytorch/pytorch/issues/new/choose.\n",
            "  warnings.warn(EPOCH_DEPRECATION_WARNING, UserWarning)\n"
          ]
        },
        {
          "output_type": "stream",
          "name": "stdout",
          "text": [
            "Epoch: 80, Train roc_auc: 0.90, Validation roc_auc: 0.57, Test roc_auc: 0.60, LR: 0.000500\n",
            "EarlyStopping counter: 3 / 30\n"
          ]
        },
        {
          "output_type": "stream",
          "name": "stderr",
          "text": [
            "100%|██████████| 3/3 [00:00<00:00,  7.68it/s]\n",
            "/usr/local/lib/python3.11/dist-packages/torch/optim/lr_scheduler.py:243: UserWarning: The epoch parameter in `scheduler.step()` was not necessary and is being deprecated where possible. Please use `scheduler.step()` to step the scheduler. During the deprecation, if epoch is different from None, the closed form is used instead of the new chainable form, where available. Please open an issue if you are unable to replicate your use case: https://github.com/pytorch/pytorch/issues/new/choose.\n",
            "  warnings.warn(EPOCH_DEPRECATION_WARNING, UserWarning)\n"
          ]
        },
        {
          "output_type": "stream",
          "name": "stdout",
          "text": [
            "Epoch: 81, Train roc_auc: 0.90, Validation roc_auc: 0.57, Test roc_auc: 0.61, LR: 0.000500\n",
            "EarlyStopping counter: 4 / 30\n"
          ]
        },
        {
          "output_type": "stream",
          "name": "stderr",
          "text": [
            "100%|██████████| 3/3 [00:00<00:00,  7.10it/s]\n",
            "/usr/local/lib/python3.11/dist-packages/torch/optim/lr_scheduler.py:243: UserWarning: The epoch parameter in `scheduler.step()` was not necessary and is being deprecated where possible. Please use `scheduler.step()` to step the scheduler. During the deprecation, if epoch is different from None, the closed form is used instead of the new chainable form, where available. Please open an issue if you are unable to replicate your use case: https://github.com/pytorch/pytorch/issues/new/choose.\n",
            "  warnings.warn(EPOCH_DEPRECATION_WARNING, UserWarning)\n"
          ]
        },
        {
          "output_type": "stream",
          "name": "stdout",
          "text": [
            "Epoch: 82, Train roc_auc: 0.90, Validation roc_auc: 0.56, Test roc_auc: 0.60, LR: 0.000500\n",
            "EarlyStopping counter: 5 / 30\n"
          ]
        },
        {
          "output_type": "stream",
          "name": "stderr",
          "text": [
            "100%|██████████| 3/3 [00:00<00:00,  9.41it/s]\n",
            "/usr/local/lib/python3.11/dist-packages/torch/optim/lr_scheduler.py:243: UserWarning: The epoch parameter in `scheduler.step()` was not necessary and is being deprecated where possible. Please use `scheduler.step()` to step the scheduler. During the deprecation, if epoch is different from None, the closed form is used instead of the new chainable form, where available. Please open an issue if you are unable to replicate your use case: https://github.com/pytorch/pytorch/issues/new/choose.\n",
            "  warnings.warn(EPOCH_DEPRECATION_WARNING, UserWarning)\n"
          ]
        },
        {
          "output_type": "stream",
          "name": "stdout",
          "text": [
            "Epoch: 83, Train roc_auc: 0.90, Validation roc_auc: 0.55, Test roc_auc: 0.59, LR: 0.000500\n",
            "EarlyStopping counter: 6 / 30\n"
          ]
        },
        {
          "output_type": "stream",
          "name": "stderr",
          "text": [
            "100%|██████████| 3/3 [00:00<00:00,  9.79it/s]\n",
            "/usr/local/lib/python3.11/dist-packages/torch/optim/lr_scheduler.py:243: UserWarning: The epoch parameter in `scheduler.step()` was not necessary and is being deprecated where possible. Please use `scheduler.step()` to step the scheduler. During the deprecation, if epoch is different from None, the closed form is used instead of the new chainable form, where available. Please open an issue if you are unable to replicate your use case: https://github.com/pytorch/pytorch/issues/new/choose.\n",
            "  warnings.warn(EPOCH_DEPRECATION_WARNING, UserWarning)\n"
          ]
        },
        {
          "output_type": "stream",
          "name": "stdout",
          "text": [
            "Epoch: 84, Train roc_auc: 0.90, Validation roc_auc: 0.56, Test roc_auc: 0.59, LR: 0.000500\n",
            "EarlyStopping counter: 7 / 30\n"
          ]
        },
        {
          "output_type": "stream",
          "name": "stderr",
          "text": [
            "100%|██████████| 3/3 [00:00<00:00,  9.54it/s]\n",
            "/usr/local/lib/python3.11/dist-packages/torch/optim/lr_scheduler.py:243: UserWarning: The epoch parameter in `scheduler.step()` was not necessary and is being deprecated where possible. Please use `scheduler.step()` to step the scheduler. During the deprecation, if epoch is different from None, the closed form is used instead of the new chainable form, where available. Please open an issue if you are unable to replicate your use case: https://github.com/pytorch/pytorch/issues/new/choose.\n",
            "  warnings.warn(EPOCH_DEPRECATION_WARNING, UserWarning)\n"
          ]
        },
        {
          "output_type": "stream",
          "name": "stdout",
          "text": [
            "Epoch: 85, Train roc_auc: 0.90, Validation roc_auc: 0.56, Test roc_auc: 0.55, LR: 0.000500\n",
            "EarlyStopping counter: 8 / 30\n"
          ]
        },
        {
          "output_type": "stream",
          "name": "stderr",
          "text": [
            "100%|██████████| 3/3 [00:00<00:00,  9.69it/s]\n",
            "/usr/local/lib/python3.11/dist-packages/torch/optim/lr_scheduler.py:243: UserWarning: The epoch parameter in `scheduler.step()` was not necessary and is being deprecated where possible. Please use `scheduler.step()` to step the scheduler. During the deprecation, if epoch is different from None, the closed form is used instead of the new chainable form, where available. Please open an issue if you are unable to replicate your use case: https://github.com/pytorch/pytorch/issues/new/choose.\n",
            "  warnings.warn(EPOCH_DEPRECATION_WARNING, UserWarning)\n"
          ]
        },
        {
          "output_type": "stream",
          "name": "stdout",
          "text": [
            "Epoch: 86, Train roc_auc: 0.90, Validation roc_auc: 0.55, Test roc_auc: 0.53, LR: 0.000500\n",
            "EarlyStopping counter: 9 / 30\n"
          ]
        },
        {
          "output_type": "stream",
          "name": "stderr",
          "text": [
            "100%|██████████| 3/3 [00:00<00:00,  9.20it/s]\n",
            "/usr/local/lib/python3.11/dist-packages/torch/optim/lr_scheduler.py:243: UserWarning: The epoch parameter in `scheduler.step()` was not necessary and is being deprecated where possible. Please use `scheduler.step()` to step the scheduler. During the deprecation, if epoch is different from None, the closed form is used instead of the new chainable form, where available. Please open an issue if you are unable to replicate your use case: https://github.com/pytorch/pytorch/issues/new/choose.\n",
            "  warnings.warn(EPOCH_DEPRECATION_WARNING, UserWarning)\n"
          ]
        },
        {
          "output_type": "stream",
          "name": "stdout",
          "text": [
            "Epoch: 87, Train roc_auc: 0.90, Validation roc_auc: 0.55, Test roc_auc: 0.54, LR: 0.000500\n",
            "EarlyStopping counter: 10 / 30\n"
          ]
        },
        {
          "output_type": "stream",
          "name": "stderr",
          "text": [
            "100%|██████████| 3/3 [00:00<00:00,  9.03it/s]\n",
            "/usr/local/lib/python3.11/dist-packages/torch/optim/lr_scheduler.py:243: UserWarning: The epoch parameter in `scheduler.step()` was not necessary and is being deprecated where possible. Please use `scheduler.step()` to step the scheduler. During the deprecation, if epoch is different from None, the closed form is used instead of the new chainable form, where available. Please open an issue if you are unable to replicate your use case: https://github.com/pytorch/pytorch/issues/new/choose.\n",
            "  warnings.warn(EPOCH_DEPRECATION_WARNING, UserWarning)\n"
          ]
        },
        {
          "output_type": "stream",
          "name": "stdout",
          "text": [
            "Epoch: 88, Train roc_auc: 0.90, Validation roc_auc: 0.55, Test roc_auc: 0.55, LR: 0.000500\n",
            "EarlyStopping counter: 11 / 30\n"
          ]
        },
        {
          "output_type": "stream",
          "name": "stderr",
          "text": [
            "100%|██████████| 3/3 [00:00<00:00,  9.38it/s]\n",
            "/usr/local/lib/python3.11/dist-packages/torch/optim/lr_scheduler.py:243: UserWarning: The epoch parameter in `scheduler.step()` was not necessary and is being deprecated where possible. Please use `scheduler.step()` to step the scheduler. During the deprecation, if epoch is different from None, the closed form is used instead of the new chainable form, where available. Please open an issue if you are unable to replicate your use case: https://github.com/pytorch/pytorch/issues/new/choose.\n",
            "  warnings.warn(EPOCH_DEPRECATION_WARNING, UserWarning)\n"
          ]
        },
        {
          "output_type": "stream",
          "name": "stdout",
          "text": [
            "Epoch: 89, Train roc_auc: 0.90, Validation roc_auc: 0.55, Test roc_auc: 0.56, LR: 0.000500\n",
            "EarlyStopping counter: 12 / 30\n"
          ]
        },
        {
          "output_type": "stream",
          "name": "stderr",
          "text": [
            "100%|██████████| 3/3 [00:00<00:00,  9.23it/s]\n",
            "/usr/local/lib/python3.11/dist-packages/torch/optim/lr_scheduler.py:243: UserWarning: The epoch parameter in `scheduler.step()` was not necessary and is being deprecated where possible. Please use `scheduler.step()` to step the scheduler. During the deprecation, if epoch is different from None, the closed form is used instead of the new chainable form, where available. Please open an issue if you are unable to replicate your use case: https://github.com/pytorch/pytorch/issues/new/choose.\n",
            "  warnings.warn(EPOCH_DEPRECATION_WARNING, UserWarning)\n"
          ]
        },
        {
          "output_type": "stream",
          "name": "stdout",
          "text": [
            "Epoch: 90, Train roc_auc: 0.90, Validation roc_auc: 0.55, Test roc_auc: 0.58, LR: 0.000500\n",
            "EarlyStopping counter: 13 / 30\n"
          ]
        },
        {
          "output_type": "stream",
          "name": "stderr",
          "text": [
            "100%|██████████| 3/3 [00:00<00:00,  7.22it/s]\n",
            "/usr/local/lib/python3.11/dist-packages/torch/optim/lr_scheduler.py:243: UserWarning: The epoch parameter in `scheduler.step()` was not necessary and is being deprecated where possible. Please use `scheduler.step()` to step the scheduler. During the deprecation, if epoch is different from None, the closed form is used instead of the new chainable form, where available. Please open an issue if you are unable to replicate your use case: https://github.com/pytorch/pytorch/issues/new/choose.\n",
            "  warnings.warn(EPOCH_DEPRECATION_WARNING, UserWarning)\n"
          ]
        },
        {
          "output_type": "stream",
          "name": "stdout",
          "text": [
            "Epoch: 91, Train roc_auc: 0.90, Validation roc_auc: 0.53, Test roc_auc: 0.57, LR: 0.000500\n",
            "EarlyStopping counter: 14 / 30\n"
          ]
        },
        {
          "output_type": "stream",
          "name": "stderr",
          "text": [
            "100%|██████████| 3/3 [00:00<00:00,  9.47it/s]\n",
            "/usr/local/lib/python3.11/dist-packages/torch/optim/lr_scheduler.py:243: UserWarning: The epoch parameter in `scheduler.step()` was not necessary and is being deprecated where possible. Please use `scheduler.step()` to step the scheduler. During the deprecation, if epoch is different from None, the closed form is used instead of the new chainable form, where available. Please open an issue if you are unable to replicate your use case: https://github.com/pytorch/pytorch/issues/new/choose.\n",
            "  warnings.warn(EPOCH_DEPRECATION_WARNING, UserWarning)\n"
          ]
        },
        {
          "output_type": "stream",
          "name": "stdout",
          "text": [
            "Epoch: 92, Train roc_auc: 0.90, Validation roc_auc: 0.52, Test roc_auc: 0.55, LR: 0.000500\n",
            "EarlyStopping counter: 15 / 30\n"
          ]
        },
        {
          "output_type": "stream",
          "name": "stderr",
          "text": [
            "100%|██████████| 3/3 [00:00<00:00,  9.56it/s]\n",
            "/usr/local/lib/python3.11/dist-packages/torch/optim/lr_scheduler.py:243: UserWarning: The epoch parameter in `scheduler.step()` was not necessary and is being deprecated where possible. Please use `scheduler.step()` to step the scheduler. During the deprecation, if epoch is different from None, the closed form is used instead of the new chainable form, where available. Please open an issue if you are unable to replicate your use case: https://github.com/pytorch/pytorch/issues/new/choose.\n",
            "  warnings.warn(EPOCH_DEPRECATION_WARNING, UserWarning)\n"
          ]
        },
        {
          "output_type": "stream",
          "name": "stdout",
          "text": [
            "Epoch: 93, Train roc_auc: 0.90, Validation roc_auc: 0.52, Test roc_auc: 0.55, LR: 0.000500\n",
            "EarlyStopping counter: 16 / 30\n"
          ]
        },
        {
          "output_type": "stream",
          "name": "stderr",
          "text": [
            "100%|██████████| 3/3 [00:00<00:00,  9.17it/s]\n",
            "/usr/local/lib/python3.11/dist-packages/torch/optim/lr_scheduler.py:243: UserWarning: The epoch parameter in `scheduler.step()` was not necessary and is being deprecated where possible. Please use `scheduler.step()` to step the scheduler. During the deprecation, if epoch is different from None, the closed form is used instead of the new chainable form, where available. Please open an issue if you are unable to replicate your use case: https://github.com/pytorch/pytorch/issues/new/choose.\n",
            "  warnings.warn(EPOCH_DEPRECATION_WARNING, UserWarning)\n"
          ]
        },
        {
          "output_type": "stream",
          "name": "stdout",
          "text": [
            "Epoch: 94, Train roc_auc: 0.90, Validation roc_auc: 0.52, Test roc_auc: 0.55, LR: 0.000500\n",
            "EarlyStopping counter: 17 / 30\n"
          ]
        },
        {
          "output_type": "stream",
          "name": "stderr",
          "text": [
            "100%|██████████| 3/3 [00:00<00:00,  9.39it/s]\n",
            "/usr/local/lib/python3.11/dist-packages/torch/optim/lr_scheduler.py:243: UserWarning: The epoch parameter in `scheduler.step()` was not necessary and is being deprecated where possible. Please use `scheduler.step()` to step the scheduler. During the deprecation, if epoch is different from None, the closed form is used instead of the new chainable form, where available. Please open an issue if you are unable to replicate your use case: https://github.com/pytorch/pytorch/issues/new/choose.\n",
            "  warnings.warn(EPOCH_DEPRECATION_WARNING, UserWarning)\n"
          ]
        },
        {
          "output_type": "stream",
          "name": "stdout",
          "text": [
            "Epoch: 95, Train roc_auc: 0.90, Validation roc_auc: 0.53, Test roc_auc: 0.52, LR: 0.000500\n",
            "EarlyStopping counter: 18 / 30\n"
          ]
        },
        {
          "output_type": "stream",
          "name": "stderr",
          "text": [
            "100%|██████████| 3/3 [00:00<00:00,  9.51it/s]\n",
            "/usr/local/lib/python3.11/dist-packages/torch/optim/lr_scheduler.py:243: UserWarning: The epoch parameter in `scheduler.step()` was not necessary and is being deprecated where possible. Please use `scheduler.step()` to step the scheduler. During the deprecation, if epoch is different from None, the closed form is used instead of the new chainable form, where available. Please open an issue if you are unable to replicate your use case: https://github.com/pytorch/pytorch/issues/new/choose.\n",
            "  warnings.warn(EPOCH_DEPRECATION_WARNING, UserWarning)\n"
          ]
        },
        {
          "output_type": "stream",
          "name": "stdout",
          "text": [
            "Epoch: 96, Train roc_auc: 0.90, Validation roc_auc: 0.54, Test roc_auc: 0.52, LR: 0.000500\n",
            "EarlyStopping counter: 19 / 30\n"
          ]
        },
        {
          "output_type": "stream",
          "name": "stderr",
          "text": [
            "100%|██████████| 3/3 [00:00<00:00,  9.31it/s]\n",
            "/usr/local/lib/python3.11/dist-packages/torch/optim/lr_scheduler.py:243: UserWarning: The epoch parameter in `scheduler.step()` was not necessary and is being deprecated where possible. Please use `scheduler.step()` to step the scheduler. During the deprecation, if epoch is different from None, the closed form is used instead of the new chainable form, where available. Please open an issue if you are unable to replicate your use case: https://github.com/pytorch/pytorch/issues/new/choose.\n",
            "  warnings.warn(EPOCH_DEPRECATION_WARNING, UserWarning)\n"
          ]
        },
        {
          "output_type": "stream",
          "name": "stdout",
          "text": [
            "Epoch: 97, Train roc_auc: 0.90, Validation roc_auc: 0.54, Test roc_auc: 0.55, LR: 0.000500\n",
            "EarlyStopping counter: 20 / 30\n"
          ]
        },
        {
          "output_type": "stream",
          "name": "stderr",
          "text": [
            "100%|██████████| 3/3 [00:00<00:00,  9.02it/s]\n",
            "/usr/local/lib/python3.11/dist-packages/torch/optim/lr_scheduler.py:243: UserWarning: The epoch parameter in `scheduler.step()` was not necessary and is being deprecated where possible. Please use `scheduler.step()` to step the scheduler. During the deprecation, if epoch is different from None, the closed form is used instead of the new chainable form, where available. Please open an issue if you are unable to replicate your use case: https://github.com/pytorch/pytorch/issues/new/choose.\n",
            "  warnings.warn(EPOCH_DEPRECATION_WARNING, UserWarning)\n"
          ]
        },
        {
          "output_type": "stream",
          "name": "stdout",
          "text": [
            "Epoch: 98, Train roc_auc: 0.90, Validation roc_auc: 0.54, Test roc_auc: 0.59, LR: 0.000500\n",
            "EarlyStopping counter: 21 / 30\n"
          ]
        },
        {
          "output_type": "stream",
          "name": "stderr",
          "text": [
            "100%|██████████| 3/3 [00:00<00:00,  9.17it/s]\n",
            "/usr/local/lib/python3.11/dist-packages/torch/optim/lr_scheduler.py:243: UserWarning: The epoch parameter in `scheduler.step()` was not necessary and is being deprecated where possible. Please use `scheduler.step()` to step the scheduler. During the deprecation, if epoch is different from None, the closed form is used instead of the new chainable form, where available. Please open an issue if you are unable to replicate your use case: https://github.com/pytorch/pytorch/issues/new/choose.\n",
            "  warnings.warn(EPOCH_DEPRECATION_WARNING, UserWarning)\n"
          ]
        },
        {
          "output_type": "stream",
          "name": "stdout",
          "text": [
            "Epoch: 99, Train roc_auc: 0.91, Validation roc_auc: 0.55, Test roc_auc: 0.57, LR: 0.000500\n",
            "EarlyStopping counter: 22 / 30\n"
          ]
        },
        {
          "output_type": "stream",
          "name": "stderr",
          "text": [
            "100%|██████████| 3/3 [00:00<00:00,  7.84it/s]\n",
            "/usr/local/lib/python3.11/dist-packages/torch/optim/lr_scheduler.py:243: UserWarning: The epoch parameter in `scheduler.step()` was not necessary and is being deprecated where possible. Please use `scheduler.step()` to step the scheduler. During the deprecation, if epoch is different from None, the closed form is used instead of the new chainable form, where available. Please open an issue if you are unable to replicate your use case: https://github.com/pytorch/pytorch/issues/new/choose.\n",
            "  warnings.warn(EPOCH_DEPRECATION_WARNING, UserWarning)\n"
          ]
        },
        {
          "output_type": "stream",
          "name": "stdout",
          "text": [
            "Epoch: 100, Train roc_auc: 0.90, Validation roc_auc: 0.54, Test roc_auc: 0.53, LR: 0.000500\n",
            "EarlyStopping counter: 23 / 30\n"
          ]
        },
        {
          "output_type": "stream",
          "name": "stderr",
          "text": [
            "100%|██████████| 3/3 [00:00<00:00,  8.61it/s]\n",
            "/usr/local/lib/python3.11/dist-packages/torch/optim/lr_scheduler.py:243: UserWarning: The epoch parameter in `scheduler.step()` was not necessary and is being deprecated where possible. Please use `scheduler.step()` to step the scheduler. During the deprecation, if epoch is different from None, the closed form is used instead of the new chainable form, where available. Please open an issue if you are unable to replicate your use case: https://github.com/pytorch/pytorch/issues/new/choose.\n",
            "  warnings.warn(EPOCH_DEPRECATION_WARNING, UserWarning)\n"
          ]
        },
        {
          "output_type": "stream",
          "name": "stdout",
          "text": [
            "Epoch: 101, Train roc_auc: 0.90, Validation roc_auc: 0.55, Test roc_auc: 0.49, LR: 0.000500\n",
            "EarlyStopping counter: 24 / 30\n"
          ]
        },
        {
          "output_type": "stream",
          "name": "stderr",
          "text": [
            "100%|██████████| 3/3 [00:00<00:00,  9.46it/s]\n",
            "/usr/local/lib/python3.11/dist-packages/torch/optim/lr_scheduler.py:243: UserWarning: The epoch parameter in `scheduler.step()` was not necessary and is being deprecated where possible. Please use `scheduler.step()` to step the scheduler. During the deprecation, if epoch is different from None, the closed form is used instead of the new chainable form, where available. Please open an issue if you are unable to replicate your use case: https://github.com/pytorch/pytorch/issues/new/choose.\n",
            "  warnings.warn(EPOCH_DEPRECATION_WARNING, UserWarning)\n"
          ]
        },
        {
          "output_type": "stream",
          "name": "stdout",
          "text": [
            "Epoch: 102, Train roc_auc: 0.91, Validation roc_auc: 0.55, Test roc_auc: 0.54, LR: 0.000500\n",
            "EarlyStopping counter: 25 / 30\n"
          ]
        },
        {
          "output_type": "stream",
          "name": "stderr",
          "text": [
            "100%|██████████| 3/3 [00:00<00:00,  9.04it/s]\n",
            "/usr/local/lib/python3.11/dist-packages/torch/optim/lr_scheduler.py:243: UserWarning: The epoch parameter in `scheduler.step()` was not necessary and is being deprecated where possible. Please use `scheduler.step()` to step the scheduler. During the deprecation, if epoch is different from None, the closed form is used instead of the new chainable form, where available. Please open an issue if you are unable to replicate your use case: https://github.com/pytorch/pytorch/issues/new/choose.\n",
            "  warnings.warn(EPOCH_DEPRECATION_WARNING, UserWarning)\n"
          ]
        },
        {
          "output_type": "stream",
          "name": "stdout",
          "text": [
            "Epoch: 103, Train roc_auc: 0.90, Validation roc_auc: 0.56, Test roc_auc: 0.57, LR: 0.000500\n",
            "EarlyStopping counter: 26 / 30\n"
          ]
        },
        {
          "output_type": "stream",
          "name": "stderr",
          "text": [
            "100%|██████████| 3/3 [00:00<00:00,  9.38it/s]\n",
            "/usr/local/lib/python3.11/dist-packages/torch/optim/lr_scheduler.py:243: UserWarning: The epoch parameter in `scheduler.step()` was not necessary and is being deprecated where possible. Please use `scheduler.step()` to step the scheduler. During the deprecation, if epoch is different from None, the closed form is used instead of the new chainable form, where available. Please open an issue if you are unable to replicate your use case: https://github.com/pytorch/pytorch/issues/new/choose.\n",
            "  warnings.warn(EPOCH_DEPRECATION_WARNING, UserWarning)\n"
          ]
        },
        {
          "output_type": "stream",
          "name": "stdout",
          "text": [
            "Epoch: 104, Train roc_auc: 0.90, Validation roc_auc: 0.55, Test roc_auc: 0.56, LR: 0.000500\n",
            "EarlyStopping counter: 27 / 30\n"
          ]
        },
        {
          "output_type": "stream",
          "name": "stderr",
          "text": [
            "100%|██████████| 3/3 [00:00<00:00,  9.12it/s]\n",
            "/usr/local/lib/python3.11/dist-packages/torch/optim/lr_scheduler.py:243: UserWarning: The epoch parameter in `scheduler.step()` was not necessary and is being deprecated where possible. Please use `scheduler.step()` to step the scheduler. During the deprecation, if epoch is different from None, the closed form is used instead of the new chainable form, where available. Please open an issue if you are unable to replicate your use case: https://github.com/pytorch/pytorch/issues/new/choose.\n",
            "  warnings.warn(EPOCH_DEPRECATION_WARNING, UserWarning)\n"
          ]
        },
        {
          "output_type": "stream",
          "name": "stdout",
          "text": [
            "Epoch: 105, Train roc_auc: 0.91, Validation roc_auc: 0.55, Test roc_auc: 0.56, LR: 0.000500\n",
            "EarlyStopping counter: 28 / 30\n"
          ]
        },
        {
          "output_type": "stream",
          "name": "stderr",
          "text": [
            "100%|██████████| 3/3 [00:00<00:00,  9.49it/s]\n",
            "/usr/local/lib/python3.11/dist-packages/torch/optim/lr_scheduler.py:243: UserWarning: The epoch parameter in `scheduler.step()` was not necessary and is being deprecated where possible. Please use `scheduler.step()` to step the scheduler. During the deprecation, if epoch is different from None, the closed form is used instead of the new chainable form, where available. Please open an issue if you are unable to replicate your use case: https://github.com/pytorch/pytorch/issues/new/choose.\n",
            "  warnings.warn(EPOCH_DEPRECATION_WARNING, UserWarning)\n"
          ]
        },
        {
          "output_type": "stream",
          "name": "stdout",
          "text": [
            "Epoch: 106, Train roc_auc: 0.91, Validation roc_auc: 0.55, Test roc_auc: 0.54, LR: 0.000500\n",
            "EarlyStopping counter: 29 / 30\n"
          ]
        },
        {
          "output_type": "stream",
          "name": "stderr",
          "text": [
            "100%|██████████| 3/3 [00:00<00:00,  9.31it/s]\n"
          ]
        },
        {
          "output_type": "stream",
          "name": "stdout",
          "text": [
            "Epoch: 107, Train roc_auc: 0.91, Validation roc_auc: 0.55, Test roc_auc: 0.52, LR: 0.000500\n",
            "EarlyStopping counter: 30 / 30\n",
            "Early stopping triggered at epoch 107\n",
            "best validation results: 0.577180125781656\n",
            "best test results: 0.7205267558528429\n"
          ]
        },
        {
          "output_type": "stream",
          "name": "stderr",
          "text": [
            "/usr/local/lib/python3.11/dist-packages/torch/optim/lr_scheduler.py:243: UserWarning: The epoch parameter in `scheduler.step()` was not necessary and is being deprecated where possible. Please use `scheduler.step()` to step the scheduler. During the deprecation, if epoch is different from None, the closed form is used instead of the new chainable form, where available. Please open an issue if you are unable to replicate your use case: https://github.com/pytorch/pytorch/issues/new/choose.\n",
            "  warnings.warn(EPOCH_DEPRECATION_WARNING, UserWarning)\n"
          ]
        }
      ],
      "source": [
        "model = Model(\n",
        "    data=data,\n",
        "    col_stats_dict=col_stats_dict,\n",
        "    num_layers=2,\n",
        "    channels=128,\n",
        "    out_channels=1,\n",
        "    aggr=\"max\",\n",
        "    norm=\"batch_norm\",\n",
        ").to(device)\n",
        "\n",
        "optimizer = torch.optim.Adam(\n",
        "    model.parameters(),\n",
        "    lr=0.0005,\n",
        "    weight_decay=0\n",
        ")\n",
        "\n",
        "scheduler = CosineAnnealingLR(optimizer, T_max=100)\n",
        "\n",
        "loader_dict = loader_dict_fn(batch_size=512, num_neighbours=256)\n",
        "\n",
        "early_stopping = EarlyStopping(\n",
        "    patience=30,\n",
        "    delta=0.0,\n",
        "    verbose=True,\n",
        "    path=\"best_basic_model.pt\"\n",
        ")\n",
        "\n",
        "epochs = 200\n",
        "state_dict = None\n",
        "test_table = task.get_table(\"test\", mask_input_cols=False)\n",
        "best_val_metric = -math.inf if higher_is_better else math.inf\n",
        "best_test_metric = -math.inf if higher_is_better else math.inf\n",
        "for epoch in range(1, epochs + 1):\n",
        "    train_loss = train(model, optimizer, loader_dict=loader_dict)\n",
        "\n",
        "    train_pred = test(model, loader_dict[\"train\"])\n",
        "    train_metrics = evaluate_performance(train_pred, train_table, task.metrics)\n",
        "    train_mae_preciso = evaluate_on_full_train(model, loader_dict[\"train\"])\n",
        "\n",
        "    val_pred = test(model, loader_dict[\"val\"])\n",
        "    val_metrics = evaluate_performance(val_pred, val_table, task.metrics)\n",
        "\n",
        "    test_pred = test(model, loader_dict[\"test\"])\n",
        "    test_metrics = evaluate_performance(test_pred, test_table, task.metrics)\n",
        "    #print(val_metrics)\n",
        "    scheduler.step(val_metrics[tune_metric])\n",
        "\n",
        "    if (higher_is_better and val_metrics[tune_metric] > best_val_metric) or (\n",
        "            not higher_is_better and val_metrics[tune_metric] < best_val_metric\n",
        "    ):\n",
        "        best_val_metric = val_metrics[tune_metric]\n",
        "        state_dict = copy.deepcopy(model.state_dict())\n",
        "\n",
        "    #test:\n",
        "    if (higher_is_better and test_metrics[tune_metric] > best_test_metric) or (\n",
        "            not higher_is_better and test_metrics[tune_metric] < best_test_metric\n",
        "    ):\n",
        "        best_test_metric = test_metrics[tune_metric]\n",
        "        state_dict_test = copy.deepcopy(model.state_dict())\n",
        "\n",
        "    current_lr = optimizer.param_groups[0][\"lr\"]\n",
        "    print(f\"Epoch: {epoch:02d}, Train {tune_metric}: {train_mae_preciso:.2f}, Validation {tune_metric}: {val_metrics[tune_metric]:.2f}, Test {tune_metric}: {test_metrics[tune_metric]:.2f}, LR: {current_lr:.6f}\")\n",
        "\n",
        "    early_stopping(val_metrics[tune_metric], model)\n",
        "\n",
        "    if early_stopping.early_stop:\n",
        "        print(f\"Early stopping triggered at epoch {epoch}\")\n",
        "        break\n",
        "print(f\"best validation results: {best_val_metric}\")\n",
        "print(f\"best test results: {best_test_metric}\")\n"
      ]
    },
    {
      "cell_type": "markdown",
      "source": [
        "# La gnn aiuta, e molto!"
      ],
      "metadata": {
        "id": "GHKUkX_R1-n9"
      }
    },
    {
      "cell_type": "markdown",
      "metadata": {
        "id": "Xkj8B_SNqK_v"
      },
      "source": [
        "# Loading the best model"
      ]
    },
    {
      "cell_type": "code",
      "execution_count": 65,
      "metadata": {
        "id": "Q0UpBFJmqM9k"
      },
      "outputs": [],
      "source": [
        "#model.load_state_dict(torch.load(\"best_model.pt\"))"
      ]
    }
  ],
  "metadata": {
    "accelerator": "GPU",
    "colab": {
      "collapsed_sections": [
        "4D3ONst6S0pI",
        "3JWVJkt7XmNa",
        "P-vR0q-lS3mL",
        "P6q-HPJfr7c_",
        "1gvkjcjPr7dB",
        "6xMIwSVTXXnr",
        "Nr7qtFXgr7dE",
        "kgdIEP05xmmg"
      ],
      "gpuType": "T4",
      "provenance": []
    },
    "kernelspec": {
      "display_name": "Python 3",
      "name": "python3"
    },
    "language_info": {
      "codemirror_mode": {
        "name": "ipython",
        "version": 3
      },
      "file_extension": ".py",
      "mimetype": "text/x-python",
      "name": "python",
      "nbconvert_exporter": "python",
      "pygments_lexer": "ipython3",
      "version": "3.10.0"
    }
  },
  "nbformat": 4,
  "nbformat_minor": 0
}