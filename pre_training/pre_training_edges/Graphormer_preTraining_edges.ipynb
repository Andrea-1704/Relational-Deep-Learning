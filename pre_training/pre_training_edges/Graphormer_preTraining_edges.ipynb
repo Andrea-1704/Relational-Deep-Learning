{
  "cells": [
    {
      "cell_type": "markdown",
      "metadata": {
        "id": "view-in-github"
      },
      "source": [
        "<a href=\"https://colab.research.google.com/github/Andrea-1704/Pytorch_Geometric_tutorial/blob/main/train_model_baseline_f1.ipynb\" target=\"_parent\"><img src=\"https://colab.research.google.com/assets/colab-badge.svg\" alt=\"Open In Colab\"/></a>"
      ]
    },
    {
      "cell_type": "markdown",
      "metadata": {
        "id": "iiCB_SVeanwO"
      },
      "source": [
        "In questo netebook proviamo ad implementare un processo di **pre gtraining** basato su self supervision tramite un task di edge prediction. L'obiettivo sarà quello di migliorare la capacità cognitiva dei dettagli strutturali della rete neurale. In pratica andremo a rimuovere dal grafo alcuni archi o aggiungerne altri e miglioreremo la capacità della rete nel riconoscere gli archi falsi e quelli mancanti."
      ]
    },
    {
      "cell_type": "code",
      "execution_count": 32,
      "metadata": {
        "id": "zNziUzq9nTdU"
      },
      "outputs": [],
      "source": [
        "# !pip install torch-scatter -f https://data.pyg.org/whl/torch-2.4.0+cpu.html\n",
        "# !pip install torch-sparse -f https://data.pyg.org/whl/torch-2.4.0+cpu.html\n",
        "# !pip install torch-cluster -f https://data.pyg.org/whl/torch-2.4.0+cpu.html\n",
        "# !pip install torch-spline-conv -f https://data.pyg.org/whl/torch-2.4.0+cpu.html\n",
        "# !pip install torch-geometric==2.6.0 -f https://data.pyg.org/whl/torch-2.4.0+cpu.html\n",
        "# !pip install pyg-lib -f https://data.pyg.org/whl/torch-2.4.0+cpu.html\n",
        "\n",
        "# !pip install pytorch_frame[full]==1.2.2\n",
        "# !pip install relbench[full]==1.0.0\n",
        "# !pip uninstall -y pyg_lib torch  # Uninstall current versions\n",
        "# !pip install torch==2.6.0  # Reinstall your desired PyTorch version\n",
        "# !pip install --no-cache-dir git+https://github.com/pyg-team/pyg-lib.git # Install pyg-lib; --no-cache-dir ensures a fresh install"
      ]
    },
    {
      "cell_type": "markdown",
      "metadata": {
        "id": "i8VinWw-anwR"
      },
      "source": [
        "New libraries to run on colab:"
      ]
    },
    {
      "cell_type": "code",
      "execution_count": 33,
      "metadata": {
        "id": "cTB7Q6qQanwR"
      },
      "outputs": [],
      "source": [
        "# !pip install torch==2.6.0+cu118 torchvision torchaudio --index-url https://download.pytorch.org/whl/cu118\n",
        "\n",
        "# !pip install pyg-lib -f https://data.pyg.org/whl/torch-2.6.0+cu118.html\n",
        "# !pip install torch-scatter -f https://data.pyg.org/whl/torch-2.6.0+cu118.html\n",
        "# !pip install torch-sparse -f https://data.pyg.org/whl/torch-2.6.0+cu118.html\n",
        "# !pip install torch-cluster -f https://data.pyg.org/whl/torch-2.6.0+cu118.html\n",
        "# !pip install torch-spline-conv -f https://data.pyg.org/whl/torch-2.6.0+cu118.html\n",
        "# !pip install torch-geometric==2.6.0 -f https://data.pyg.org/whl/torch-2.6.0+cu118.html\n",
        "\n",
        "# !pip install pytorch_frame[full]==1.2.2\n",
        "# !pip install relbench[full]==1.0.0"
      ]
    },
    {
      "cell_type": "code",
      "execution_count": 34,
      "metadata": {
        "id": "F454ta1Zg0Oq"
      },
      "outputs": [],
      "source": [
        "import os\n",
        "import torch\n",
        "import relbench\n",
        "import numpy as np\n",
        "from torch.nn import BCEWithLogitsLoss, L1Loss\n",
        "from relbench.datasets import get_dataset\n",
        "from relbench.tasks import get_task\n",
        "import math\n",
        "from tqdm import tqdm\n",
        "import torch_geometric\n",
        "import torch_frame\n",
        "from torch_geometric.seed import seed_everything\n",
        "from relbench.modeling.utils import get_stype_proposal\n",
        "from collections import defaultdict\n",
        "import requests\n",
        "from io import StringIO\n",
        "from torch_frame.config.text_embedder import TextEmbedderConfig\n",
        "from relbench.modeling.graph import make_pkey_fkey_graph\n",
        "from torch.nn import BCEWithLogitsLoss\n",
        "import copy\n",
        "from typing import Any, Dict, List\n",
        "from torch import Tensor\n",
        "from torch.nn import Embedding, ModuleDict\n",
        "from torch_frame.data.stats import StatType\n",
        "from torch_geometric.data import HeteroData\n",
        "from torch_geometric.nn import MLP\n",
        "from torch_geometric.typing import NodeType\n",
        "from relbench.modeling.nn import HeteroEncoder, HeteroGraphSAGE, HeteroTemporalEncoder\n",
        "from relbench.modeling.graph import get_node_train_table_input, make_pkey_fkey_graph\n",
        "from torch_geometric.loader import NeighborLoader\n",
        "import pyg_lib\n",
        "from sklearn.metrics import mean_squared_error\n",
        "#per lo scheduler\n",
        "from torch.optim.lr_scheduler import LambdaLR\n",
        "import matplotlib.pyplot as plt\n",
        "import networkx as nx\n",
        "import torch\n",
        "from torch import nn\n",
        "from torch_geometric.nn import Linear\n",
        "from torch_geometric.utils import softmax\n",
        "from torch_geometric.utils import degree\n",
        "from collections import defaultdict"
      ]
    },
    {
      "cell_type": "markdown",
      "metadata": {
        "id": "fTytIKXvanwT"
      },
      "source": [
        "# Dataset and task creation"
      ]
    },
    {
      "cell_type": "code",
      "execution_count": 35,
      "metadata": {
        "colab": {
          "base_uri": "https://localhost:8080/"
        },
        "id": "6DWB-Kf6nl2y",
        "outputId": "7607806a-aeee-4f4f-d9f8-eff64b1cf073"
      },
      "outputs": [
        {
          "name": "stdout",
          "output_type": "stream",
          "text": [
            "cuda\n"
          ]
        }
      ],
      "source": [
        "dataset = get_dataset(\"rel-f1\", download=True)\n",
        "task = get_task(\"rel-f1\", \"driver-position\", download=True)\n",
        "\n",
        "train_table = task.get_table(\"train\")\n",
        "val_table = task.get_table(\"val\")\n",
        "test_table = task.get_table(\"test\")\n",
        "\n",
        "out_channels = 1\n",
        "# one because we are estimating one single value.\n",
        "loss_fn = L1Loss()\n",
        "# this is the mae loss and is used when have regressions tasks.\n",
        "tune_metric = \"mae\"\n",
        "higher_is_better = False\n",
        "\n",
        "seed_everything(42)\n",
        "device = torch.device(\"cuda\" if torch.cuda.is_available() else \"cpu\")\n",
        "print(device)\n",
        "root_dir = \"./data\"\n",
        "\n",
        "db = dataset.get_db()\n",
        "col_to_stype_dict = get_stype_proposal(db)\n",
        "#this is used to get the stype of the columns"
      ]
    },
    {
      "cell_type": "markdown",
      "metadata": {
        "id": "qVsgNYpuanwU"
      },
      "source": [
        "# Embedder"
      ]
    },
    {
      "cell_type": "code",
      "execution_count": 36,
      "metadata": {
        "id": "QQHYmgIxkX1j"
      },
      "outputs": [],
      "source": [
        "# import torch\n",
        "# from typing import List, Optional\n",
        "# from sentence_transformers import SentenceTransformer\n",
        "# from torch import Tensor\n",
        "\n",
        "\n",
        "# class GloveTextEmbedding:\n",
        "#     def __init__(self, device: Optional[torch.device\n",
        "#                                        ] = None):\n",
        "#         self.model = SentenceTransformer(\n",
        "#             \"sentence-transformers/average_word_embeddings_glove.6B.300d\",\n",
        "#             device=device,\n",
        "#         )\n",
        "\n",
        "#     def __call__(self, sentences: List[str]) -> Tensor:\n",
        "#         return torch.from_numpy(self.model.encode(sentences))\n",
        "\n",
        "\n",
        "class LightweightGloveEmbedder:\n",
        "    def __init__(self, device=None):\n",
        "        self.device = device\n",
        "        self.embeddings = defaultdict(lambda: np.zeros(300))\n",
        "        self._load_embeddings()\n",
        "\n",
        "    def _load_embeddings(self):\n",
        "        try:\n",
        "            #(senza bisogno di estrarre zip\n",
        "            url = \"https://huggingface.co/stanfordnlp/glove/resolve/main/glove.6B.300d.txt\"\n",
        "            response = requests.get(url)\n",
        "            response.raise_for_status()\n",
        "\n",
        "            for line in StringIO(response.text):\n",
        "                parts = line.split()\n",
        "                word = parts[0]\n",
        "                vector = np.array(parts[1:], dtype=np.float32)\n",
        "                self.embeddings[word] = vector\n",
        "        except Exception as e:\n",
        "            print(f\"Warning: Couldn't load GloVe embeddings ({str(e)}). Using zero vectors.\")\n",
        "\n",
        "    def __call__(self, sentences):\n",
        "        results = []\n",
        "        for text in sentences:\n",
        "            words = text.lower().split()\n",
        "            vectors = [self.embeddings[w] for w in words if w in self.embeddings]\n",
        "            if vectors:\n",
        "                avg_vector = np.mean(vectors, axis=0)\n",
        "            else:\n",
        "                avg_vector = np.zeros(300)\n",
        "            results.append(avg_vector)\n",
        "\n",
        "        tensor = torch.tensor(np.array(results), dtype=torch.float32)\n",
        "        return tensor.to(self.device) if self.device else tensor"
      ]
    },
    {
      "cell_type": "code",
      "execution_count": 37,
      "metadata": {
        "colab": {
          "base_uri": "https://localhost:8080/"
        },
        "id": "L-BBpUrakdwY",
        "outputId": "657811d2-852c-4746-ebbd-8383739f8297"
      },
      "outputs": [
        {
          "name": "stdout",
          "output_type": "stream",
          "text": [
            "Warning: Couldn't load GloVe embeddings (404 Client Error: Not Found for url: https://huggingface.co/stanfordnlp/glove/resolve/main/glove.6B.300d.txt). Using zero vectors.\n"
          ]
        },
        {
          "name": "stderr",
          "output_type": "stream",
          "text": [
            "/usr/local/lib/python3.11/dist-packages/torch_frame/utils/io.py:113: UserWarning: Weights only load failed. Please file an issue to make `torch.load(weights_only=True)` compatible in your case. Please use `torch.serialization.add_safe_globals([scalar])` to allowlist this global.\n",
            "  warnings.warn(f\"{warn_msg} Please use \"\n",
            "/usr/local/lib/python3.11/dist-packages/torch_frame/utils/io.py:113: UserWarning: Weights only load failed. Please file an issue to make `torch.load(weights_only=True)` compatible in your case. Please use `torch.serialization.add_safe_globals([scalar])` to allowlist this global.\n",
            "  warnings.warn(f\"{warn_msg} Please use \"\n",
            "/usr/local/lib/python3.11/dist-packages/torch_frame/utils/io.py:113: UserWarning: Weights only load failed. Please file an issue to make `torch.load(weights_only=True)` compatible in your case. Please use `torch.serialization.add_safe_globals([scalar])` to allowlist this global.\n",
            "  warnings.warn(f\"{warn_msg} Please use \"\n",
            "/usr/local/lib/python3.11/dist-packages/torch_frame/utils/io.py:113: UserWarning: Weights only load failed. Please file an issue to make `torch.load(weights_only=True)` compatible in your case. Please use `torch.serialization.add_safe_globals([scalar])` to allowlist this global.\n",
            "  warnings.warn(f\"{warn_msg} Please use \"\n",
            "/usr/local/lib/python3.11/dist-packages/torch_frame/utils/io.py:113: UserWarning: Weights only load failed. Please file an issue to make `torch.load(weights_only=True)` compatible in your case. Please use `torch.serialization.add_safe_globals([scalar])` to allowlist this global.\n",
            "  warnings.warn(f\"{warn_msg} Please use \"\n",
            "/usr/local/lib/python3.11/dist-packages/torch_frame/utils/io.py:113: UserWarning: Weights only load failed. Please file an issue to make `torch.load(weights_only=True)` compatible in your case. Please use `torch.serialization.add_safe_globals([scalar])` to allowlist this global.\n",
            "  warnings.warn(f\"{warn_msg} Please use \"\n",
            "/usr/local/lib/python3.11/dist-packages/torch_frame/utils/io.py:113: UserWarning: Weights only load failed. Please file an issue to make `torch.load(weights_only=True)` compatible in your case. Please use `torch.serialization.add_safe_globals([scalar])` to allowlist this global.\n",
            "  warnings.warn(f\"{warn_msg} Please use \"\n"
          ]
        }
      ],
      "source": [
        "text_embedder_cfg = TextEmbedderConfig(\n",
        "    text_embedder=LightweightGloveEmbedder(device=device), batch_size=256\n",
        ")\n",
        "\n",
        "data, col_stats_dict = make_pkey_fkey_graph(\n",
        "    #Solution if not working: !pip install --upgrade torch torchvision transformers\n",
        "    db,\n",
        "    col_to_stype_dict=col_to_stype_dict,  # speficied column types\n",
        "    text_embedder_cfg=text_embedder_cfg,  # our chosen text encoder\n",
        "    cache_dir=os.path.join(\n",
        "        root_dir, f\"rel-f1_materialized_cache\"\n",
        "    ),  # store materialized graph for convenience\n",
        ")# create a graph how relbench requires."
      ]
    },
    {
      "cell_type": "code",
      "execution_count": 38,
      "metadata": {
        "id": "HUHVG-g6lM-b"
      },
      "outputs": [],
      "source": [
        "loader_dict = {}\n",
        "\n",
        "for split, table in [\n",
        "    (\"train\", train_table),\n",
        "    (\"val\", val_table),\n",
        "    (\"test\", test_table),\n",
        "]:\n",
        "    table_input = get_node_train_table_input(\n",
        "        table=table,\n",
        "        task=task,\n",
        "    )#notice that table_input is an object with three elements: nodes, time and transform.\n",
        "    #nodes contains the input nodes\n",
        "    #time contains the time for each node\n",
        "    #transform is the tranformation to be applied to nodes\n",
        "    entity_table = table_input.nodes[0]\n",
        "    #we need to populate the loader_dict with three elements: \"train\", \"val\", and \"test\".\n",
        "    loader_dict[split] = NeighborLoader(\n",
        "        data,\n",
        "        num_neighbors=[\n",
        "            128 for i in range(2)\n",
        "        ],  # we sample subgraphs of depth 2, 128 neighbors per node.\n",
        "        time_attr=\"time\",\n",
        "        input_nodes=table_input.nodes,\n",
        "        input_time=table_input.time,\n",
        "        transform=table_input.transform,\n",
        "        batch_size=512,\n",
        "        temporal_strategy=\"uniform\",\n",
        "        shuffle=split == \"train\",\n",
        "        num_workers=0,\n",
        "        persistent_workers=False,\n",
        "    )#this is the loader for grapg"
      ]
    },
    {
      "cell_type": "markdown",
      "metadata": {
        "id": "fNecfPt3anwW"
      },
      "source": [
        "Nota che ogni oggetto \"batch\" rappresenta un dizionario in cui le chiavi rappresentano i tipi di nodi oppure i tipi di archi e contengono gli embedding del nodo opppure l'edge index dell'arco (vale a dire un tensore di dimensione 2xnumero di edge, ovvero la lista dei nodi di tipo sorgente che presdentano una relazione di quel tipo con i nodi di tipo destinazione, ovvero quelli della seconda lista)."
      ]
    },
    {
      "cell_type": "markdown",
      "metadata": {
        "id": "B7DiIz69anwW"
      },
      "source": [
        "# Pre-training"
      ]
    },
    {
      "cell_type": "code",
      "execution_count": null,
      "metadata": {
        "id": "TZxabXSOanwW"
      },
      "outputs": [],
      "source": [
        "def sample_edge_prediction_batch(batch: HeteroData, edge_type, neg_ratio=1.0):\n",
        "\n",
        "    #prendiamo gli archi positivi, ovvero quelli che esistono davvero:\n",
        "    pos_edge_index = batch[edge_type].edge_index\n",
        "    num_pos = pos_edge_index.size(1)\n",
        "\n",
        "    if num_pos == 0:\n",
        "        #se non abbiamo archi positivie saltimao il batch\n",
        "        raise ValueError(f\"No positive edges found in batch for edge_type {edge_type}\")\n",
        "\n",
        "    #prendiamo ora i sample negativi: archi che non esistono nel grafo\n",
        "    src, dst = pos_edge_index[0], pos_edge_index[1]\n",
        "    neg_src = src[torch.randint(0, src.size(0), (int(num_pos * neg_ratio),))]\n",
        "    neg_dst = dst[torch.randint(0, dst.size(0), (int(num_pos * neg_ratio),))]\n",
        "    #nota potremmo averere come negativi degli archi che in realtà sono positivi\n",
        "    pos_labels = torch.ones(num_pos, device=src.device)\n",
        "    neg_labels = torch.zeros(neg_src.size(0), device=src.device)\n",
        "\n",
        "    edge_src = torch.cat([src, neg_src], dim=0)\n",
        "    edge_dst = torch.cat([dst, neg_dst], dim=0)\n",
        "    labels = torch.cat([pos_labels, neg_labels], dim=0)\n",
        "\n",
        "    return edge_src, edge_dst, labels\n"
      ]
    },
    {
      "cell_type": "markdown",
      "metadata": {},
      "source": [
        "Restituisce edge_src che è il tensore degli id dei nodi sorgenti per gli archi positivi e per quelli negativi; edge_dst che è il tensore degli archi destinazione sia positivi che negativi e labels che è un tensore di uni e zeri per dire se positivo o negativo."
      ]
    },
    {
      "cell_type": "markdown",
      "metadata": {
        "id": "b16yUmmaanwX"
      },
      "source": [
        "Adeso andiamo ad implementare un modello che verrà utilizzato per effettuare il processo di **edge prediction**, ovvero il pre training al fine di inizializzare in maniera \"intelligente\" i pesi della rete."
      ]
    },
    {
      "cell_type": "markdown",
      "metadata": {
        "id": "iQYKrvcWanwX"
      },
      "source": [
        "Adesso necessitiamo di definire un metodo che effettui il processo di pre training, sarebbe quindi come definire un codice alternativo di training per un task differente (quello di link prediction) questo modello verà poi raffinato tramite un processo di trainig per il downstream task (quello effettivo di relbench)."
      ]
    },
    {
      "cell_type": "code",
      "execution_count": 40,
      "metadata": {
        "id": "Xh7RauOmanwY"
      },
      "outputs": [],
      "source": [
        "def pretrain_edge_prediction(model, loader, edge_type, optimizer, epochs=10):\n",
        "    model.train()\n",
        "    loss_fn = torch.nn.BCEWithLogitsLoss()\n",
        "    #non lavora male per il task che dobbiamo effettuare sugli archi visto\n",
        "    #che effettuiamo un task di predizione binaria (link presente o meno)\n",
        "\n",
        "    for epoch in range(epochs):\n",
        "        total_loss = 0\n",
        "        for batch in loader:\n",
        "            batch = batch.to(device)\n",
        "            optimizer.zero_grad()\n",
        "\n",
        "            logits, labels = model(batch, edge_type)\n",
        "            loss = loss_fn(logits, labels)\n",
        "            loss.backward()\n",
        "            optimizer.step()\n",
        "\n",
        "            total_loss += loss.item()\n",
        "\n",
        "        print(f\"Epoch {epoch}, Loss: {total_loss / len(loader):.4f}\")\n"
      ]
    },
    {
      "cell_type": "markdown",
      "metadata": {
        "id": "Y3AfboisanwY"
      },
      "source": [
        "# Model"
      ]
    },
    {
      "cell_type": "code",
      "execution_count": 41,
      "metadata": {
        "id": "PoAmtoPsanwZ"
      },
      "outputs": [],
      "source": [
        "_spatial_bias_cache = None\n",
        "_node_offset_cache = None\n",
        "from collections import defaultdict\n",
        "\n",
        "\n",
        "def compute_spatial_bias(edge_index_dict, x_dict):\n",
        "    global _spatial_bias_cache, _node_offset_cache\n",
        "    if _spatial_bias_cache is not None:\n",
        "        return _spatial_bias_cache, _node_offset_cache\n",
        "    #creiamo un grafo diretto con Networkx\n",
        "    G = nx.DiGraph()\n",
        "\n",
        "    node_offset = {}\n",
        "    curr_offset = 0\n",
        "\n",
        "    #aggiungiamo i nodi con offset per mantenere indici globali univoci\n",
        "    for node_type, x in x_dict.items():\n",
        "        node_offset[node_type] = curr_offset\n",
        "        for i in range(x.size(0)):\n",
        "            G.add_node(curr_offset + i, type=node_type)\n",
        "        curr_offset += x.size(0)\n",
        "\n",
        "    #Aggiungiamo gli archi con offset\n",
        "    for (src_type, _, dst_type), edge_index in edge_index_dict.items():\n",
        "        src_offset = node_offset[src_type]\n",
        "        dst_offset = node_offset[dst_type]\n",
        "        src, dst = edge_index\n",
        "        for s, d in zip(src.tolist(), dst.tolist()):\n",
        "            G.add_edge(src_offset + s, dst_offset + d)\n",
        "\n",
        "\n",
        "    spatial_bias = defaultdict(lambda: -1)\n",
        "\n",
        "\n",
        "\n",
        "    for node in G.nodes():\n",
        "        lengths = nx.single_source_dijkstra_path_length(G, node)\n",
        "        for target, dist in lengths.items():\n",
        "            spatial_bias[(node, target)] = dist\n",
        "        #quelli non raggiungibili li lasciamo con default value, ovvero -1\n",
        "\n",
        "    _spatial_bias_cache = spatial_bias\n",
        "    _node_offset_cache = node_offset\n",
        "\n",
        "    return spatial_bias, node_offset"
      ]
    },
    {
      "cell_type": "code",
      "execution_count": 42,
      "metadata": {
        "id": "rN-8kKQianwa"
      },
      "outputs": [],
      "source": [
        "class HeteroGraphormerLayerComplete(nn.Module):\n",
        "    def __init__(self, channels, edge_types, device, num_heads=4, dropout=0.1):\n",
        "        super().__init__()\n",
        "        self.device = device\n",
        "        self.num_heads = num_heads\n",
        "        self.channels = channels\n",
        "        self.head_dim = channels // num_heads\n",
        "\n",
        "        assert self.channels % num_heads == 0, \"channels must be divisible by num_heads\"\n",
        "\n",
        "        self.q_lin = Linear(channels, channels)\n",
        "        self.k_lin = Linear(channels, channels)\n",
        "        self.v_lin = Linear(channels, channels)\n",
        "        self.out_lin = Linear(channels, channels)\n",
        "\n",
        "        self.dropout = nn.Dropout(dropout)\n",
        "        self.norm = nn.LayerNorm(channels)\n",
        "\n",
        "        # Registriamo i bias per ogni tipo di edge nel __init__\n",
        "        self.edge_type_bias = nn.ParameterDict({\n",
        "            \"__\".join(edge_type): nn.Parameter(torch.randn(1))\n",
        "            for edge_type in edge_types\n",
        "        })\n",
        "\n",
        "    def compute_total_degrees(self, x_dict, edge_index_dict):\n",
        "        device = self.device\n",
        "        in_deg = defaultdict(lambda: torch.zeros(0, device=device))\n",
        "        out_deg = defaultdict(lambda: torch.zeros(0, device=device))\n",
        "        for edge_type, edge_index in edge_index_dict.items():\n",
        "            src_type, _, dst_type = edge_type\n",
        "            src = edge_index[0]\n",
        "            dst = edge_index[1]\n",
        "\n",
        "            num_src = x_dict[src_type].size(0)\n",
        "            num_dst = x_dict[dst_type].size(0)\n",
        "\n",
        "            if out_deg[src_type].numel() == 0:\n",
        "                out_deg[src_type] = torch.zeros(num_src, device=device)\n",
        "            if in_deg[dst_type].numel() == 0:\n",
        "                in_deg[dst_type] = torch.zeros(num_dst, device=device)\n",
        "\n",
        "            out_deg[src_type] += degree(src, num_nodes=num_src)\n",
        "            in_deg[dst_type]  += degree(dst, num_nodes=num_dst)\n",
        "\n",
        "        total_deg = {\n",
        "            node_type: in_deg[node_type] + out_deg[node_type]\n",
        "            for node_type in x_dict\n",
        "        }\n",
        "\n",
        "        return total_deg\n",
        "\n",
        "    def forward(self, x_dict, edge_index_dict):\n",
        "        #print(edge_index_dict)\n",
        "        self.spatial_bias, self.node_offset = compute_spatial_bias(edge_index_dict, x_dict)\n",
        "\n",
        "        out_dict = {k: torch.zeros_like(v) for k, v in x_dict.items()}\n",
        "        for edge_type, edge_index in edge_index_dict.items():\n",
        "            src_type, _, dst_type = edge_type\n",
        "            x_src, x_dst = x_dict[src_type], x_dict[dst_type]\n",
        "\n",
        "            #src, dst = edge_index\n",
        "            src = edge_index[0]\n",
        "            dst = edge_index[1]\n",
        "\n",
        "            Q = self.q_lin(x_dst).view(-1, self.num_heads, self.head_dim)\n",
        "            K = self.k_lin(x_src).view(-1, self.num_heads, self.head_dim)\n",
        "            V = self.v_lin(x_src).view(-1, self.num_heads, self.head_dim)\n",
        "\n",
        "            attn_scores = (Q[dst] * K[src]).sum(dim=-1) / self.head_dim**0.5\n",
        "            src_offset = self.node_offset[src_type]\n",
        "            dst_offset = self.node_offset[dst_type]\n",
        "\n",
        "            spatial_bias_vals = []\n",
        "            for s, d in zip(src.tolist(), dst.tolist()):\n",
        "                global_s = src_offset + s\n",
        "                global_d = dst_offset + d\n",
        "                dist = self.spatial_bias.get((global_d, global_s), -1.0)\n",
        "                spatial_bias_vals.append(dist)\n",
        "\n",
        "            spatial_bias_tensor = torch.tensor(spatial_bias_vals, dtype=torch.float, device=self.device)\n",
        "            attn_scores = attn_scores + spatial_bias_tensor.unsqueeze(-1)  # broadcast su heads\n",
        "\n",
        "\n",
        "            bias_name = \"__\".join(edge_type)\n",
        "            attn_scores = attn_scores + self.edge_type_bias[bias_name]\n",
        "\n",
        "            attn_weights = softmax(attn_scores, dst)\n",
        "            attn_weights = self.dropout(attn_weights)\n",
        "\n",
        "            out = V[src] * attn_weights.unsqueeze(-1)\n",
        "            out = out.view(-1, self.channels)\n",
        "\n",
        "            out_dict[dst_type].index_add_(0, dst, out)\n",
        "\n",
        "        #calcolo della degree centrality\n",
        "\n",
        "        total_deg = self.compute_total_degrees(x_dict, edge_index_dict)\n",
        "\n",
        "\n",
        "        for node_type in out_dict:\n",
        "\n",
        "            degree_embed = total_deg[node_type].view(-1, 1)                                                                                  # Assicurati che sia una colonna\n",
        "            degree_embed = degree_embed.expand(-1, self.channels)                                                                            # Espandi lungo la dimensione dei canali\n",
        "\n",
        "\n",
        "            out_dict[node_type] = out_dict[node_type] + degree_embed\n",
        "\n",
        "\n",
        "        for node_type in out_dict:\n",
        "            out_dict[node_type] = self.norm(out_dict[node_type] + x_dict[node_type])\n",
        "\n",
        "        return out_dict\n"
      ]
    },
    {
      "cell_type": "markdown",
      "metadata": {
        "id": "c-ARUEdQanwa"
      },
      "source": [
        "## HeteroGraphormer"
      ]
    },
    {
      "cell_type": "code",
      "execution_count": 43,
      "metadata": {
        "id": "xz8Y3N_kanwa"
      },
      "outputs": [],
      "source": [
        "class HeteroGraphormer(torch.nn.Module):\n",
        "    def __init__(self, node_types, edge_types, channels, num_layers=2):\n",
        "        super().__init__()\n",
        "        self.layers = torch.nn.ModuleList([\n",
        "            HeteroGraphormerLayerComplete(channels, edge_types, device) for _ in range(num_layers)\n",
        "        ])\n",
        "\n",
        "    def forward(self, x_dict, edge_index_dict, *args, **kwargs):\n",
        "        for layer in self.layers:\n",
        "            x_dict = layer(x_dict, edge_index_dict)\n",
        "        return x_dict\n",
        "\n",
        "    def reset_parameters(self):\n",
        "        for layer in self.layers:\n",
        "            if hasattr(layer, \"reset_parameters\"):\n",
        "                layer.reset_parameters()"
      ]
    },
    {
      "cell_type": "code",
      "execution_count": 44,
      "metadata": {
        "id": "u3m3jEqClQnw"
      },
      "outputs": [],
      "source": [
        "class Model(torch.nn.Module):\n",
        "\n",
        "    def __init__(\n",
        "        self,\n",
        "        data: HeteroData, #notice that \"data2 is the graph we created with function make_pkey_fkey_graph\n",
        "        col_stats_dict: Dict[str, Dict[str, Dict[StatType, Any]]],\n",
        "        num_layers: int,\n",
        "        channels: int,\n",
        "        out_channels: int,\n",
        "        aggr: str,\n",
        "        norm: str,\n",
        "        # List of node types to add shallow embeddings to input\n",
        "        shallow_list: List[NodeType] = [],\n",
        "        # ID awareness\n",
        "        id_awareness: bool = False,\n",
        "    ):\n",
        "        super().__init__()\n",
        "\n",
        "        self.encoder = HeteroEncoder(\n",
        "            channels=channels,\n",
        "            node_to_col_names_dict={\n",
        "                node_type: data[node_type].tf.col_names_dict\n",
        "                for node_type in data.node_types\n",
        "            },\n",
        "            node_to_col_stats=col_stats_dict,\n",
        "        )\n",
        "        self.temporal_encoder = HeteroTemporalEncoder(\n",
        "            node_types=[\n",
        "                node_type for node_type in data.node_types if \"time\" in data[node_type]\n",
        "            ],\n",
        "            channels=channels,\n",
        "        )\n",
        "        self.gnn = HeteroGraphormer(\n",
        "            node_types=data.node_types,\n",
        "            edge_types=data.edge_types,\n",
        "            channels=channels,\n",
        "            num_layers=num_layers,\n",
        "        )\n",
        "        self.head = MLP(\n",
        "            channels,#one, since we are doing regression\n",
        "            out_channels=out_channels,\n",
        "            norm=norm,\n",
        "            num_layers=1,\n",
        "        )\n",
        "        self.embedding_dict = ModuleDict(\n",
        "            {\n",
        "                node: Embedding(data.num_nodes_dict[node], channels)\n",
        "                for node in shallow_list\n",
        "            }\n",
        "        )\n",
        "\n",
        "        self.id_awareness_emb = None\n",
        "        if id_awareness:\n",
        "            self.id_awareness_emb = torch.nn.Embedding(1, channels)\n",
        "        self.reset_parameters()\n",
        "\n",
        "    def reset_parameters(self):\n",
        "        self.encoder.reset_parameters()\n",
        "        self.temporal_encoder.reset_parameters()\n",
        "        self.gnn.reset_parameters()\n",
        "        self.head.reset_parameters()\n",
        "        for embedding in self.embedding_dict.values():\n",
        "            torch.nn.init.normal_(embedding.weight, std=0.1)\n",
        "        if self.id_awareness_emb is not None:\n",
        "            self.id_awareness_emb.reset_parameters()\n",
        "\n",
        "    def forward(\n",
        "        self,\n",
        "        batch: HeteroData,\n",
        "        entity_table: NodeType,\n",
        "    ) -> Tensor:\n",
        "        seed_time = batch[entity_table].seed_time\n",
        "        #takes the timestamp of the nodes for which we want to make predictions\n",
        "        #not the neighbours, but the nodes we want to make prediction for.\n",
        "        x_dict = self.encoder(batch.tf_dict)\n",
        "        #this creates a dictionar for all the nodes: each nodes has its\n",
        "        #embedding\n",
        "\n",
        "        rel_time_dict = self.temporal_encoder(\n",
        "            seed_time, batch.time_dict, batch.batch_dict\n",
        "        )\n",
        "        #this add the temporal information to the node using the\n",
        "        #HeteroTemporalEncoder\n",
        "\n",
        "        for node_type, rel_time in rel_time_dict.items():\n",
        "            x_dict[node_type] = x_dict[node_type] + rel_time\n",
        "        #add some other shallow embedder\n",
        "\n",
        "        for node_type, embedding in self.embedding_dict.items():\n",
        "            x_dict[node_type] = x_dict[node_type] + embedding(batch[node_type].n_id)\n",
        "\n",
        "        # for edge_type, edge_index in batch.edge_index_dict.items():\n",
        "        #     print(\"model edge_tipe: \", edge_type)\n",
        "        #     print(\"model edge_index: \", edge_index)\n",
        "        #print(\"model x_dict : \", x_dict['constructors'])\n",
        "\n",
        "        x_dict = self.gnn(\n",
        "            x_dict,#feature of nodes\n",
        "            batch.edge_index_dict,\n",
        "            batch.num_sampled_nodes_dict,\n",
        "            batch.num_sampled_edges_dict,\n",
        "        )#apply the gnn\n",
        "\n",
        "        return self.head(x_dict[entity_table][: seed_time.size(0)])#final prediction\n",
        "\n",
        "    def forward_dst_readout(\n",
        "        self,\n",
        "        batch: HeteroData,\n",
        "        entity_table: NodeType,\n",
        "        dst_table: NodeType,\n",
        "    ) -> Tensor:\n",
        "        if self.id_awareness_emb is None:\n",
        "            raise RuntimeError(\n",
        "                \"id_awareness must be set True to use forward_dst_readout\"\n",
        "            )\n",
        "        seed_time = batch[entity_table].seed_time\n",
        "        x_dict = self.encoder(batch.tf_dict)\n",
        "        # Add ID-awareness to the root node\n",
        "        x_dict[entity_table][: seed_time.size(0)] += self.id_awareness_emb.weight\n",
        "\n",
        "        rel_time_dict = self.temporal_encoder(\n",
        "            seed_time, batch.time_dict, batch.batch_dict\n",
        "        )\n",
        "\n",
        "        for node_type, rel_time in rel_time_dict.items():\n",
        "            x_dict[node_type] = x_dict[node_type] + rel_time\n",
        "\n",
        "        for node_type, embedding in self.embedding_dict.items():\n",
        "            x_dict[node_type] = x_dict[node_type] + embedding(batch[node_type].n_id)\n",
        "\n",
        "        x_dict = self.gnn(\n",
        "            x_dict,\n",
        "            batch.edge_index_dict,\n",
        "        )\n",
        "\n",
        "        return self.head(x_dict[dst_table])\n",
        "\n",
        "\n",
        "model = Model(\n",
        "    data=data,\n",
        "    col_stats_dict=col_stats_dict,\n",
        "    num_layers=2,\n",
        "    channels=128,\n",
        "    out_channels=1,\n",
        "    aggr=\"sum\",\n",
        "    norm=\"batch_norm\",\n",
        ").to(device)"
      ]
    },
    {
      "cell_type": "markdown",
      "metadata": {},
      "source": [
        "# Pre training Model"
      ]
    },
    {
      "cell_type": "code",
      "execution_count": null,
      "metadata": {
        "id": "skoIYQJYby7l"
      },
      "outputs": [],
      "source": [
        "class EdgePredictionModel(torch.nn.Module):\n",
        "    def __init__(self, base_model: Model):\n",
        "        super().__init__()\n",
        "        self.model=base_model\n",
        "        self.encoder = base_model.encoder\n",
        "        self.temporal_encoder = base_model.temporal_encoder\n",
        "        self.gnn = base_model.gnn\n",
        "\n",
        "    def encode(self, batch: HeteroData) -> Dict[str, Tensor]:\n",
        "        x_dict = self.encoder(batch.tf_dict)\n",
        "        x_dict = self.gnn(x_dict, batch.edge_index_dict)\n",
        "        return x_dict\n",
        "    #ottiene gli embeddings dei nodi\n",
        "\n",
        "    def decode(self, src_emb, dst_emb):\n",
        "        return (src_emb * dst_emb).sum(dim=1)  #dot product, calcolo similarity\n",
        "    #riceve gli embedding dei nodi sorgente e destinazione e calcola il prodotto \n",
        "    # scalare (dot product) tra le coppie → misura di similarità.\n",
        "    # Questo è un logit che può essere passato a una BCEWithLogitsLoss \n",
        "    # per predizione binaria (edge presente o assente).\n",
        "\n",
        "    def forward(self, batch: HeteroData, edge_type):\n",
        "        x_dict = self.encode(batch)\n",
        "\n",
        "        src, dst, labels = sample_edge_prediction_batch(batch, edge_type)\n",
        "\n",
        "        src_emb = x_dict[edge_type[0]][src]#embeddings dei nodi sorgente\n",
        "        dst_emb = x_dict[edge_type[2]][dst]#embeddings dei nodi destinazione\n",
        "        logits = self.decode(src_emb, dst_emb)\n",
        "\n",
        "        return logits, labels\n"
      ]
    },
    {
      "cell_type": "markdown",
      "metadata": {
        "id": "9MaL0--Sanwb"
      },
      "source": [
        "# Scheduler"
      ]
    },
    {
      "cell_type": "code",
      "execution_count": 46,
      "metadata": {
        "id": "K87Ya4wPanwc"
      },
      "outputs": [],
      "source": [
        "def get_cosine_schedule_with_warmup(optimizer, warmup_steps, total_steps, num_cycles=0.5):\n",
        "    def lr_lambda(current_step):\n",
        "        if current_step < warmup_steps:\n",
        "            return float(current_step) / float(max(1, warmup_steps))\n",
        "        progress = float(current_step - warmup_steps) / float(max(1, total_steps - warmup_steps))\n",
        "        return max(0.0, 0.5 * (1.0 + math.cos(math.pi * num_cycles * 2 * progress)))\n",
        "\n",
        "    return LambdaLR(optimizer, lr_lambda)\n"
      ]
    },
    {
      "cell_type": "code",
      "execution_count": 47,
      "metadata": {
        "id": "SAHRIr15lVs6"
      },
      "outputs": [],
      "source": [
        "def train(model, optimizer, scheduler) -> float:\n",
        "    model.train()\n",
        "\n",
        "    loss_accum = count_accum = 0\n",
        "    for batch in tqdm(loader_dict[\"train\"]):\n",
        "        batch = batch.to(device)\n",
        "\n",
        "        optimizer.zero_grad()\n",
        "        pred = model(\n",
        "            batch,\n",
        "            task.entity_table,\n",
        "        )\n",
        "        pred = pred.view(-1) if pred.size(1) == 1 else pred\n",
        "\n",
        "        loss = loss_fn(pred.float(), batch[entity_table].y.float())\n",
        "        loss.backward()\n",
        "        optimizer.step()\n",
        "        scheduler.step()\n",
        "\n",
        "        loss_accum += loss.detach().item() * pred.size(0)\n",
        "        count_accum += pred.size(0)\n",
        "\n",
        "    return loss_accum / count_accum\n",
        "\n",
        "\n",
        "@torch.no_grad()\n",
        "def test(model, loader: NeighborLoader) -> np.ndarray:\n",
        "    model.eval()\n",
        "\n",
        "    pred_list = []\n",
        "    for batch in loader:\n",
        "        batch = batch.to(device)\n",
        "        pred = model(\n",
        "            batch,\n",
        "            task.entity_table,\n",
        "        )\n",
        "        pred = pred.view(-1) if pred.size(1) == 1 else pred\n",
        "        pred_list.append(pred.detach().cpu())\n",
        "    return torch.cat(pred_list, dim=0).numpy()"
      ]
    },
    {
      "cell_type": "code",
      "execution_count": 48,
      "metadata": {
        "id": "d0lcTAwAanwc"
      },
      "outputs": [],
      "source": [
        "def rmse(true, pred):\n",
        "    \"\"\"Calculate the Root Mean Squared Error (RMSE).\"\"\"\n",
        "    return np.sqrt(np.mean((true - pred)**2)) # Calculate RMSE manually"
      ]
    },
    {
      "cell_type": "code",
      "execution_count": 49,
      "metadata": {
        "id": "qZOOyAblHwI4"
      },
      "outputs": [],
      "source": [
        "def custom_evaluate(pred: np.ndarray, target_table, metrics) -> dict:\n",
        "    \"\"\"Custom evaluation function to replace task.evaluate.\"\"\"\n",
        "\n",
        "    # Extract target values from the target table\n",
        "    target = target_table.df[task.target_col].to_numpy()\n",
        "\n",
        "    # Check for length mismatch\n",
        "    if len(pred) != len(target):\n",
        "        raise ValueError(\n",
        "            f\"The length of pred and target must be the same (got \"\n",
        "            f\"{len(pred)} and {len(target)}, respectively).\"\n",
        "        )\n",
        "\n",
        "    # Calculate metrics\n",
        "    results = {}\n",
        "    for metric_fn in metrics:\n",
        "        if metric_fn.__name__ == \"rmse\":  # Handle RMSE specifically\n",
        "            results[\"rmse\"] = np.sqrt(np.mean((target - pred)**2))\n",
        "        else:  # Handle other metrics (if any)\n",
        "            results[metric_fn.__name__] = metric_fn(target, pred)\n",
        "\n",
        "    return results"
      ]
    },
    {
      "cell_type": "code",
      "execution_count": 50,
      "metadata": {
        "id": "KMn-f8dmanwc"
      },
      "outputs": [],
      "source": [
        "def training_function(model, optimizer, epochs):\n",
        "    state_dict = None\n",
        "    best_val_metric = -math.inf if higher_is_better else math.inf\n",
        "    for epoch in range(1, epochs + 1):\n",
        "        train_loss = train(model, optimizer)\n",
        "        val_pred = test(model, loader_dict[\"val\"])\n",
        "        #val_metrics = task.evaluate(val_pred, val_table)\n",
        "        val_metrics = custom_evaluate(val_pred, val_table, task.metrics)\n",
        "        if epoch % 10 == 0:\n",
        "            print(f\"Epoch: {epoch:02d}, Train loss: {train_loss}, Val metrics: {val_metrics}\")\n",
        "        #print(f\"Epoch: {epoch:02d}, Train loss: {train_loss}, Val metrics: {val_metrics}\")\n",
        "\n",
        "        if (higher_is_better and val_metrics[tune_metric] > best_val_metric) or (\n",
        "            not higher_is_better and val_metrics[tune_metric] < best_val_metric\n",
        "        ):\n",
        "            best_val_metric = val_metrics[tune_metric]\n",
        "            state_dict = copy.deepcopy(model.state_dict())\n",
        "\n",
        "\n",
        "    model.load_state_dict(state_dict)\n",
        "    val_pred = test(model, loader_dict[\"val\"])\n",
        "    val_metrics = custom_evaluate(val_pred, val_table, task.metrics)\n",
        "    print(f\"Best Val metrics for parameters {optimizer}, are: {val_metrics}\")"
      ]
    },
    {
      "cell_type": "markdown",
      "metadata": {
        "id": "CpFIqgwTanwd"
      },
      "source": [
        "## Cross validation cycle"
      ]
    },
    {
      "cell_type": "code",
      "execution_count": 51,
      "metadata": {
        "id": "qLUoqMtranwd"
      },
      "outputs": [],
      "source": [
        "# #cross validation cycle:\n",
        "# #possible learning rates: [0.01, 0.001, 0.0001, 0.00001]\n",
        "# #possible batch sizes: [64, 256, 512]\n",
        "# #possible number of layers: [1, 2, 3]\n",
        "# #possible weight decay: [0.0001, 0.001, 0.01]\n",
        "\n",
        "# for lr in [0.01, 0.001, 0.0001, 0.00001]:#0.001\n",
        "#     #for batch_size in [64, 256, 512]:\n",
        "#         for num_layers in [1, 2, 3]:#1\n",
        "#             #for weight_decay in [0.0001, 0.001, 0.01]:\n",
        "#                 model = Model(\n",
        "#                     data=data,\n",
        "#                     col_stats_dict=col_stats_dict,\n",
        "#                     num_layers=num_layers,\n",
        "#                     channels=128,\n",
        "#                     out_channels=1,\n",
        "#                     aggr=\"sum\",\n",
        "#                     norm=\"batch_norm\",\n",
        "#                 ).to(device)\n",
        "#                 print(f\"Training with lr={lr}, num_layers={num_layers}\")\n",
        "#                 optimizer = torch.optim.Adam(model.parameters(), lr=lr, weight_decay=0.001)\n",
        "#                 training_function(model, optimizer, epochs=10) # Set epochs to a smaller number for testing"
      ]
    },
    {
      "cell_type": "markdown",
      "metadata": {
        "id": "3_RxdxPHanwd"
      },
      "source": [
        "# Training"
      ]
    },
    {
      "cell_type": "code",
      "execution_count": 52,
      "metadata": {
        "id": "lbPEXYnranwe"
      },
      "outputs": [],
      "source": [
        "def plot_validation_metrics(metric_histories, model_names=None, metric_name=\"MAE\", informationsTitle=\"\"):\n",
        "    \"\"\"\n",
        "    Plotta l'andamento del metric_name per più modelli nel tempo.\n",
        "\n",
        "    Args:\n",
        "        metric_histories (list of lists): Lista di liste, ognuna rappresenta i valori di metriche per un modello.\n",
        "        model_names (list of str): Nomi dei modelli (opzionale).\n",
        "        metric_name (str): Nome della metrica da visualizzare.\n",
        "        informationsTitle (str): info aggiungitive da mettere nel titolo (conf generale dei parametri ecc).\n",
        "    \"\"\"\n",
        "    plt.figure(figsize=(9, 5))\n",
        "\n",
        "    if model_names is None:\n",
        "        model_names = [f\"Model {i+1}\" for i in range(len(metric_histories))]\n",
        "\n",
        "    for metrics, name in zip(metric_histories, model_names):\n",
        "        plt.plot(metrics, marker='o', label=f'{name} {metric_name}')\n",
        "\n",
        "    plt.xlabel(\"Epoch\")\n",
        "    plt.ylabel(metric_name)\n",
        "    plt.title(f\"{metric_name} over Epochs for Multiple Models {informationsTitle}\")\n",
        "    plt.grid(True)\n",
        "    plt.legend()\n",
        "    plt.tight_layout()\n",
        "    plt.show()\n"
      ]
    },
    {
      "cell_type": "code",
      "execution_count": null,
      "metadata": {
        "colab": {
          "base_uri": "https://localhost:8080/",
          "height": 1000
        },
        "id": "yF3W68Eqlew_",
        "outputId": "6091dfd5-3b8f-4040-ee49-9f6055061f60"
      },
      "outputs": [
        {
          "name": "stdout",
          "output_type": "stream",
          "text": [
            "\n",
            "Pretraining per edge_type: ('races', 'rev_f2p_raceId', 'standings')\n",
            "Epoch 0, Loss: 4.3043\n",
            "Epoch 1, Loss: 0.7483\n",
            "Epoch 2, Loss: 0.3625\n",
            "Epoch 3, Loss: 0.2449\n",
            "Epoch 4, Loss: 0.1915\n",
            "Epoch 5, Loss: 0.1621\n",
            "Epoch 6, Loss: 0.1416\n",
            "Epoch 7, Loss: 0.1264\n",
            "Epoch 8, Loss: 0.1128\n",
            "Epoch 9, Loss: 0.1028\n",
            "Epoch 10, Loss: 0.0958\n",
            "Epoch 11, Loss: 0.0899\n",
            "Epoch 12, Loss: 0.0835\n",
            "Epoch 13, Loss: 0.0783\n",
            "Epoch 14, Loss: 0.0754\n",
            "Epoch 15, Loss: 0.0717\n",
            "Epoch 16, Loss: 0.0681\n",
            "Epoch 17, Loss: 0.0656\n",
            "Epoch 18, Loss: 0.0635\n",
            "Epoch 19, Loss: 0.0609\n",
            "Epoch 20, Loss: 0.0573\n",
            "Epoch 21, Loss: 0.0554\n",
            "Epoch 22, Loss: 0.0530\n",
            "Epoch 23, Loss: 0.0498\n",
            "Epoch 24, Loss: 0.0472\n",
            "Epoch 25, Loss: 0.0438\n",
            "Epoch 26, Loss: 0.0426\n",
            "Epoch 27, Loss: 0.0400\n",
            "Epoch 28, Loss: 0.0392\n",
            "Epoch 29, Loss: 0.0363\n",
            "Epoch 30, Loss: 0.0343\n",
            "Epoch 31, Loss: 0.0328\n",
            "Epoch 32, Loss: 0.0312\n",
            "Epoch 33, Loss: 0.0301\n",
            "Epoch 34, Loss: 0.0295\n",
            "Epoch 35, Loss: 0.0279\n",
            "Epoch 36, Loss: 0.0267\n",
            "Epoch 37, Loss: 0.0255\n",
            "Epoch 38, Loss: 0.0247\n",
            "Epoch 39, Loss: 0.0243\n",
            "Epoch 40, Loss: 0.0232\n",
            "Epoch 41, Loss: 0.0223\n",
            "Epoch 42, Loss: 0.0215\n",
            "Epoch 43, Loss: 0.0212\n",
            "Epoch 44, Loss: 0.0203\n",
            "Epoch 45, Loss: 0.0199\n",
            "Epoch 46, Loss: 0.0188\n",
            "Epoch 47, Loss: 0.0181\n",
            "Epoch 48, Loss: 0.0179\n",
            "Epoch 49, Loss: 0.0175\n",
            "\n",
            "Pretraining per edge_type: ('standings', 'f2p_driverId', 'drivers')\n",
            "Epoch 0, Loss: 5.8751\n",
            "Epoch 1, Loss: 1.6494\n",
            "Epoch 2, Loss: 0.9326\n",
            "Epoch 3, Loss: 0.7047\n",
            "Epoch 4, Loss: 0.6181\n",
            "Epoch 5, Loss: 0.5612\n",
            "Epoch 6, Loss: 0.5092\n",
            "Epoch 7, Loss: 0.4218\n",
            "Epoch 8, Loss: 0.3349\n",
            "Epoch 9, Loss: 0.2682\n",
            "Epoch 10, Loss: 0.2209\n",
            "Epoch 11, Loss: 0.1874\n",
            "Epoch 12, Loss: 0.1728\n",
            "Epoch 13, Loss: 0.1455\n",
            "Epoch 14, Loss: 0.1179\n",
            "Epoch 15, Loss: 0.1093\n",
            "Epoch 16, Loss: 0.0939\n",
            "Epoch 17, Loss: 0.0891\n",
            "Epoch 18, Loss: 0.0826\n",
            "Epoch 19, Loss: 0.0773\n",
            "Epoch 20, Loss: 0.0727\n",
            "Epoch 21, Loss: 0.0675\n",
            "Epoch 22, Loss: 0.0657\n",
            "Epoch 23, Loss: 0.0602\n",
            "Epoch 24, Loss: 0.0615\n",
            "Epoch 25, Loss: 0.0592\n",
            "Epoch 26, Loss: 0.0570\n",
            "Epoch 27, Loss: 0.0535\n",
            "Epoch 28, Loss: 0.0515\n",
            "Epoch 29, Loss: 0.0524\n",
            "Epoch 30, Loss: 0.0496\n",
            "Epoch 31, Loss: 0.0461\n",
            "Epoch 32, Loss: 0.0450\n",
            "Epoch 33, Loss: 0.0449\n",
            "Epoch 34, Loss: 0.0477\n",
            "Epoch 35, Loss: 0.0462\n",
            "Epoch 36, Loss: 0.0451\n",
            "Epoch 37, Loss: 0.0441\n",
            "Epoch 38, Loss: 0.0404\n",
            "Epoch 39, Loss: 0.0415\n",
            "Epoch 40, Loss: 0.0397\n",
            "Epoch 41, Loss: 0.0390\n",
            "Epoch 42, Loss: 0.0379\n",
            "Epoch 43, Loss: 0.0382\n",
            "Epoch 44, Loss: 0.0377\n",
            "Epoch 45, Loss: 0.0363\n",
            "Epoch 46, Loss: 0.0363\n",
            "Epoch 47, Loss: 0.0357\n",
            "Epoch 48, Loss: 0.0354\n",
            "Epoch 49, Loss: 0.0343\n",
            "\n",
            "Pretraining per edge_type: ('drivers', 'rev_f2p_driverId', 'standings')\n",
            "Epoch 0, Loss: 3.9935\n",
            "Epoch 1, Loss: 0.9427\n",
            "Epoch 2, Loss: 0.6652\n",
            "Epoch 3, Loss: 0.5712\n",
            "Epoch 4, Loss: 0.4926\n",
            "Epoch 5, Loss: 0.4310\n",
            "Epoch 6, Loss: 0.3733\n",
            "Epoch 7, Loss: 0.2975\n",
            "Epoch 8, Loss: 0.2239\n",
            "Epoch 9, Loss: 0.1733\n",
            "Epoch 10, Loss: 0.1452\n",
            "Epoch 11, Loss: 0.1218\n",
            "Epoch 12, Loss: 0.1060\n",
            "Epoch 13, Loss: 0.0977\n",
            "Epoch 14, Loss: 0.0881\n",
            "Epoch 15, Loss: 0.0825\n",
            "Epoch 16, Loss: 0.0767\n",
            "Epoch 17, Loss: 0.0739\n",
            "Epoch 18, Loss: 0.0681\n",
            "Epoch 19, Loss: 0.0637\n",
            "Epoch 20, Loss: 0.0609\n",
            "Epoch 21, Loss: 0.0594\n",
            "Epoch 22, Loss: 0.0557\n",
            "Epoch 23, Loss: 0.0551\n",
            "Epoch 24, Loss: 0.0539\n",
            "Epoch 25, Loss: 0.0490\n",
            "Epoch 26, Loss: 0.0483\n",
            "Epoch 27, Loss: 0.0471\n",
            "Epoch 28, Loss: 0.0457\n",
            "Epoch 29, Loss: 0.0440\n",
            "Epoch 30, Loss: 0.0440\n",
            "Epoch 31, Loss: 0.0420\n",
            "Epoch 32, Loss: 0.0440\n",
            "Epoch 33, Loss: 0.0418\n",
            "Epoch 34, Loss: 0.0398\n",
            "Epoch 35, Loss: 0.0377\n",
            "Epoch 36, Loss: 0.0371\n",
            "Epoch 37, Loss: 0.0384\n",
            "Epoch 38, Loss: 0.0375\n",
            "Epoch 39, Loss: 0.0352\n",
            "Epoch 40, Loss: 0.0352\n",
            "Epoch 41, Loss: 0.0327\n",
            "Epoch 42, Loss: 0.0340\n",
            "Epoch 43, Loss: 0.0378\n",
            "Epoch 44, Loss: 0.0345\n",
            "Epoch 45, Loss: 0.0332\n",
            "Epoch 46, Loss: 0.0331\n",
            "Epoch 47, Loss: 0.0330\n",
            "Epoch 48, Loss: 0.0313\n",
            "Epoch 49, Loss: 0.0304\n",
            "\n",
            "Pretraining per edge_type: ('races', 'rev_f2p_raceId', 'results')\n",
            "Epoch 0, Loss: 6.5995\n",
            "Epoch 1, Loss: 1.2755\n",
            "Epoch 2, Loss: 0.6187\n",
            "Epoch 3, Loss: 0.4175\n",
            "Epoch 4, Loss: 0.3343\n",
            "Epoch 5, Loss: 0.2817\n",
            "Epoch 6, Loss: 0.2441\n",
            "Epoch 7, Loss: 0.2151\n",
            "Epoch 8, Loss: 0.1905\n",
            "Epoch 9, Loss: 0.1686\n",
            "Epoch 10, Loss: 0.1527\n",
            "Epoch 11, Loss: 0.1379\n",
            "Epoch 12, Loss: 0.1242\n",
            "Epoch 13, Loss: 0.1147\n",
            "Epoch 14, Loss: 0.1063\n",
            "Epoch 15, Loss: 0.0990\n",
            "Epoch 16, Loss: 0.0938\n",
            "Epoch 17, Loss: 0.0875\n",
            "Epoch 18, Loss: 0.0846\n",
            "Epoch 19, Loss: 0.0801\n",
            "Epoch 20, Loss: 0.0775\n",
            "Epoch 21, Loss: 0.0737\n",
            "Epoch 22, Loss: 0.0701\n",
            "Epoch 23, Loss: 0.0679\n",
            "Epoch 24, Loss: 0.0668\n",
            "Epoch 25, Loss: 0.0629\n",
            "Epoch 26, Loss: 0.0591\n",
            "Epoch 27, Loss: 0.0567\n",
            "Epoch 28, Loss: 0.0549\n",
            "Epoch 29, Loss: 0.0526\n",
            "Epoch 30, Loss: 0.0496\n",
            "Epoch 31, Loss: 0.0485\n",
            "Epoch 32, Loss: 0.0464\n",
            "Epoch 33, Loss: 0.0444\n",
            "Epoch 34, Loss: 0.0426\n",
            "Epoch 35, Loss: 0.0409\n",
            "Epoch 36, Loss: 0.0402\n",
            "Epoch 37, Loss: 0.0385\n",
            "Epoch 38, Loss: 0.0369\n",
            "Epoch 39, Loss: 0.0363\n",
            "Epoch 40, Loss: 0.0346\n",
            "Epoch 41, Loss: 0.0337\n",
            "Epoch 42, Loss: 0.0328\n",
            "Epoch 43, Loss: 0.0320\n",
            "Epoch 44, Loss: 0.0314\n",
            "Epoch 45, Loss: 0.0306\n",
            "Epoch 46, Loss: 0.0290\n",
            "Epoch 47, Loss: 0.0288\n",
            "Epoch 48, Loss: 0.0282\n",
            "Epoch 49, Loss: 0.0274\n",
            "\n",
            "Pretraining per edge_type: ('results', 'f2p_driverId', 'drivers')\n",
            "Epoch 0, Loss: 9.5091\n",
            "Epoch 1, Loss: 2.1203\n",
            "Epoch 2, Loss: 1.0840\n",
            "Epoch 3, Loss: 0.7743\n",
            "Epoch 4, Loss: 0.6718\n",
            "Epoch 5, Loss: 0.6324\n",
            "Epoch 6, Loss: 0.5998\n",
            "Epoch 7, Loss: 0.5879\n",
            "Epoch 8, Loss: 0.5676\n",
            "Epoch 9, Loss: 0.5438\n",
            "Epoch 10, Loss: 0.5048\n",
            "Epoch 11, Loss: 0.4582\n",
            "Epoch 12, Loss: 0.4017\n",
            "Epoch 13, Loss: 0.3436\n",
            "Epoch 14, Loss: 0.2938\n",
            "Epoch 15, Loss: 0.2543\n",
            "Epoch 16, Loss: 0.2153\n",
            "Epoch 17, Loss: 0.1935\n",
            "Epoch 18, Loss: 0.1798\n",
            "Epoch 19, Loss: 0.1607\n",
            "Epoch 20, Loss: 0.1420\n",
            "Epoch 21, Loss: 0.1290\n",
            "Epoch 22, Loss: 0.1203\n",
            "Epoch 23, Loss: 0.1120\n",
            "Epoch 24, Loss: 0.1045\n",
            "Epoch 25, Loss: 0.0942\n",
            "Epoch 26, Loss: 0.0918\n",
            "Epoch 27, Loss: 0.0873\n",
            "Epoch 28, Loss: 0.0797\n",
            "Epoch 29, Loss: 0.0788\n",
            "Epoch 30, Loss: 0.0744\n",
            "Epoch 31, Loss: 0.0730\n",
            "Epoch 32, Loss: 0.0709\n",
            "Epoch 33, Loss: 0.0689\n",
            "Epoch 34, Loss: 0.0649\n",
            "Epoch 35, Loss: 0.0630\n",
            "Epoch 36, Loss: 0.0637\n",
            "Epoch 37, Loss: 0.0602\n",
            "Epoch 38, Loss: 0.0576\n",
            "Epoch 39, Loss: 0.0555\n",
            "Epoch 40, Loss: 0.0539\n",
            "Epoch 41, Loss: 0.0559\n",
            "Epoch 42, Loss: 0.0561\n",
            "Epoch 43, Loss: 0.0522\n",
            "Epoch 44, Loss: 0.0493\n",
            "Epoch 45, Loss: 0.0499\n",
            "Epoch 46, Loss: 0.0509\n",
            "Epoch 47, Loss: 0.0480\n",
            "Epoch 48, Loss: 0.0468\n",
            "Epoch 49, Loss: 0.0470\n",
            "\n",
            "Pretraining per edge_type: ('drivers', 'rev_f2p_driverId', 'results')\n",
            "Epoch 0, Loss: 8.7527\n",
            "Epoch 1, Loss: 2.1757\n",
            "Epoch 2, Loss: 1.0046\n",
            "Epoch 3, Loss: 0.7400\n",
            "Epoch 4, Loss: 0.6536\n",
            "Epoch 5, Loss: 0.6198\n",
            "Epoch 6, Loss: 0.5937\n",
            "Epoch 7, Loss: 0.5742\n",
            "Epoch 8, Loss: 0.5547\n",
            "Epoch 9, Loss: 0.5275\n",
            "Epoch 10, Loss: 0.4825\n",
            "Epoch 11, Loss: 0.4047\n",
            "Epoch 12, Loss: 0.3252\n",
            "Epoch 13, Loss: 0.2976\n",
            "Epoch 14, Loss: 0.2350\n",
            "Epoch 15, Loss: 0.2046\n",
            "Epoch 16, Loss: 0.1670\n",
            "Epoch 17, Loss: 0.1502\n",
            "Epoch 18, Loss: 0.1335\n",
            "Epoch 19, Loss: 0.1237\n",
            "Epoch 20, Loss: 0.1113\n",
            "Epoch 21, Loss: 0.1082\n",
            "Epoch 22, Loss: 0.0989\n",
            "Epoch 23, Loss: 0.0946\n",
            "Epoch 24, Loss: 0.0865\n",
            "Epoch 25, Loss: 0.0821\n",
            "Epoch 26, Loss: 0.0804\n",
            "Epoch 27, Loss: 0.0761\n",
            "Epoch 28, Loss: 0.0744\n",
            "Epoch 29, Loss: 0.0672\n",
            "Epoch 30, Loss: 0.0646\n",
            "Epoch 31, Loss: 0.0619\n",
            "Epoch 32, Loss: 0.0613\n",
            "Epoch 33, Loss: 0.0597\n",
            "Epoch 34, Loss: 0.0586\n",
            "Epoch 35, Loss: 0.0568\n",
            "Epoch 36, Loss: 0.0553\n",
            "Epoch 37, Loss: 0.0544\n",
            "Epoch 38, Loss: 0.0518\n",
            "Epoch 39, Loss: 0.0490\n",
            "Epoch 40, Loss: 0.0498\n",
            "Epoch 41, Loss: 0.0474\n",
            "Epoch 42, Loss: 0.0510\n",
            "Epoch 43, Loss: 0.0489\n",
            "Epoch 44, Loss: 0.0457\n",
            "Epoch 45, Loss: 0.0448\n",
            "Epoch 46, Loss: 0.0445\n",
            "Epoch 47, Loss: 0.0448\n",
            "Epoch 48, Loss: 0.0464\n",
            "Epoch 49, Loss: 0.0450\n",
            "\n",
            "Pretraining per edge_type: ('constructors', 'rev_f2p_constructorId', 'results')\n",
            "Epoch 0, Loss: 6.7895\n",
            "Epoch 1, Loss: 1.4880\n",
            "Epoch 2, Loss: 0.8795\n",
            "Epoch 3, Loss: 0.7352\n",
            "Epoch 4, Loss: 0.6782\n",
            "Epoch 5, Loss: 0.6403\n",
            "Epoch 6, Loss: 0.6026\n",
            "Epoch 7, Loss: 0.5451\n",
            "Epoch 8, Loss: 0.4671\n",
            "Epoch 9, Loss: 0.3782\n",
            "Epoch 10, Loss: 0.2860\n",
            "Epoch 11, Loss: 0.2292\n",
            "Epoch 12, Loss: 0.1913\n",
            "Epoch 13, Loss: 0.1601\n",
            "Epoch 14, Loss: 0.1404\n",
            "Epoch 15, Loss: 0.1230\n",
            "Epoch 16, Loss: 0.1076\n",
            "Epoch 17, Loss: 0.0961\n",
            "Epoch 18, Loss: 0.0871\n",
            "Epoch 19, Loss: 0.0815\n",
            "Epoch 20, Loss: 0.0749\n",
            "Epoch 21, Loss: 0.0678\n",
            "Epoch 22, Loss: 0.0689\n",
            "Epoch 23, Loss: 0.0617\n",
            "Epoch 24, Loss: 0.0591\n",
            "Epoch 25, Loss: 0.0589\n",
            "Epoch 26, Loss: 0.0556\n",
            "Epoch 27, Loss: 0.0513\n",
            "Epoch 28, Loss: 0.0477\n",
            "Epoch 29, Loss: 0.0483\n",
            "Epoch 30, Loss: 0.0446\n",
            "Epoch 31, Loss: 0.0430\n",
            "Epoch 32, Loss: 0.0414\n",
            "Epoch 33, Loss: 0.0415\n",
            "Epoch 34, Loss: 0.0390\n",
            "Epoch 35, Loss: 0.0390\n",
            "Epoch 36, Loss: 0.0391\n",
            "Epoch 37, Loss: 0.0369\n",
            "Epoch 38, Loss: 0.0377\n",
            "Epoch 39, Loss: 0.0336\n",
            "Epoch 40, Loss: 0.0340\n",
            "Epoch 41, Loss: 0.0349\n",
            "Epoch 42, Loss: 0.0336\n",
            "Epoch 43, Loss: 0.0321\n",
            "Epoch 44, Loss: 0.0300\n",
            "Epoch 45, Loss: 0.0312\n",
            "Epoch 46, Loss: 0.0322\n",
            "Epoch 47, Loss: 0.0308\n",
            "Epoch 48, Loss: 0.0291\n",
            "Epoch 49, Loss: 0.0295\n",
            "\n",
            "Pretraining per edge_type: ('races', 'rev_f2p_raceId', 'qualifying')\n",
            "Epoch 0, Loss: 4.5949\n",
            "Epoch 1, Loss: 0.8932\n",
            "Epoch 2, Loss: 0.4831\n",
            "Epoch 3, Loss: 0.3732\n",
            "Epoch 4, Loss: 0.3353\n",
            "Epoch 5, Loss: 0.3134\n",
            "Epoch 6, Loss: 0.2976\n",
            "Epoch 7, Loss: 0.2883\n",
            "Epoch 8, Loss: 0.2715\n",
            "Epoch 9, Loss: 0.2676\n",
            "Epoch 10, Loss: 0.2576\n",
            "Epoch 11, Loss: 0.2517\n",
            "Epoch 12, Loss: 0.2383\n",
            "Epoch 13, Loss: 0.2302\n",
            "Epoch 14, Loss: 0.2229\n",
            "Epoch 15, Loss: 0.2031\n",
            "Epoch 16, Loss: 0.1844\n",
            "Epoch 17, Loss: 0.1721\n",
            "Epoch 18, Loss: 0.1510\n",
            "Epoch 19, Loss: 0.1399\n",
            "Epoch 20, Loss: 0.1279\n",
            "Epoch 21, Loss: 0.1159\n",
            "Epoch 22, Loss: 0.1057\n",
            "Epoch 23, Loss: 0.1029\n",
            "Epoch 24, Loss: 0.0959\n",
            "Epoch 25, Loss: 0.0891\n",
            "Epoch 26, Loss: 0.0832\n",
            "Epoch 27, Loss: 0.0744\n",
            "Epoch 28, Loss: 0.0708\n",
            "Epoch 29, Loss: 0.0645\n",
            "Epoch 30, Loss: 0.0657\n",
            "Epoch 31, Loss: 0.0620\n",
            "Epoch 32, Loss: 0.0562\n",
            "Epoch 33, Loss: 0.0555\n",
            "Epoch 34, Loss: 0.0525\n",
            "Epoch 35, Loss: 0.0462\n",
            "Epoch 36, Loss: 0.0454\n",
            "Epoch 37, Loss: 0.0430\n",
            "Epoch 38, Loss: 0.0415\n",
            "Epoch 39, Loss: 0.0429\n",
            "Epoch 40, Loss: 0.0415\n",
            "Epoch 41, Loss: 0.0381\n",
            "Epoch 42, Loss: 0.0364\n",
            "Epoch 43, Loss: 0.0359\n",
            "Epoch 44, Loss: 0.0333\n",
            "Epoch 45, Loss: 0.0333\n",
            "Epoch 46, Loss: 0.0316\n",
            "Epoch 47, Loss: 0.0332\n",
            "Epoch 48, Loss: 0.0303\n",
            "Epoch 49, Loss: 0.0314\n",
            "\n",
            "Pretraining per edge_type: ('qualifying', 'f2p_driverId', 'drivers')\n",
            "Epoch 0, Loss: 11.1885\n",
            "Epoch 1, Loss: 2.3896\n",
            "Epoch 2, Loss: 1.2712\n",
            "Epoch 3, Loss: 0.9094\n",
            "Epoch 4, Loss: 0.8278\n",
            "Epoch 5, Loss: 0.7622\n",
            "Epoch 6, Loss: 0.7510\n",
            "Epoch 7, Loss: 0.7358\n",
            "Epoch 8, Loss: 0.7377\n",
            "Epoch 9, Loss: 0.7064\n",
            "Epoch 10, Loss: 0.6732\n",
            "Epoch 11, Loss: 0.6223\n",
            "Epoch 12, Loss: 0.6812\n",
            "Epoch 13, Loss: 0.6686\n",
            "Epoch 14, Loss: 0.5957\n",
            "Epoch 15, Loss: 0.5606\n",
            "Epoch 16, Loss: 0.6319\n",
            "Epoch 17, Loss: 0.6275\n",
            "Epoch 18, Loss: 0.5324\n",
            "Epoch 19, Loss: 0.5064\n",
            "Epoch 20, Loss: 0.4707\n",
            "Epoch 21, Loss: 0.4462\n",
            "Epoch 22, Loss: 0.4766\n",
            "Epoch 23, Loss: 0.3901\n",
            "Epoch 24, Loss: 0.3922\n",
            "Epoch 25, Loss: 0.4148\n",
            "Epoch 26, Loss: 0.3914\n",
            "Epoch 27, Loss: 0.3376\n",
            "Epoch 28, Loss: 0.3655\n",
            "Epoch 29, Loss: 0.3165\n",
            "Epoch 30, Loss: 0.2678\n",
            "Epoch 31, Loss: 0.2790\n",
            "Epoch 32, Loss: 0.2731\n",
            "Epoch 33, Loss: 0.2349\n",
            "Epoch 34, Loss: 0.2320\n",
            "Epoch 35, Loss: 0.2282\n",
            "Epoch 36, Loss: 0.2393\n",
            "Epoch 37, Loss: 0.2231\n",
            "Epoch 38, Loss: 0.2208\n",
            "Epoch 39, Loss: 0.2145\n",
            "Epoch 40, Loss: 0.2922\n",
            "Epoch 41, Loss: 0.2907\n",
            "Epoch 42, Loss: 0.2104\n",
            "Epoch 43, Loss: 0.1803\n",
            "Epoch 44, Loss: 0.1833\n",
            "Epoch 45, Loss: 0.1910\n",
            "Epoch 46, Loss: 0.1695\n",
            "Epoch 47, Loss: 0.1722\n",
            "Epoch 48, Loss: 0.1898\n",
            "Epoch 49, Loss: 0.1864\n",
            "\n",
            "Pretraining per edge_type: ('drivers', 'rev_f2p_driverId', 'qualifying')\n",
            "Epoch 0, Loss: 10.0106\n",
            "Epoch 1, Loss: 1.6474\n",
            "Epoch 2, Loss: 1.0035\n",
            "Epoch 3, Loss: 0.8964\n",
            "Epoch 4, Loss: 0.8848\n",
            "Epoch 5, Loss: 0.8432\n",
            "Epoch 6, Loss: 0.8011\n",
            "Epoch 7, Loss: 0.7698\n",
            "Epoch 8, Loss: 0.7338\n",
            "Epoch 9, Loss: 0.7030\n",
            "Epoch 10, Loss: 0.6876\n",
            "Epoch 11, Loss: 0.6894\n",
            "Epoch 12, Loss: 0.7040\n",
            "Epoch 13, Loss: 0.6574\n",
            "Epoch 14, Loss: 0.6638\n",
            "Epoch 15, Loss: 0.5483\n",
            "Epoch 16, Loss: 0.4894\n",
            "Epoch 17, Loss: 0.4844\n",
            "Epoch 18, Loss: 0.3785\n",
            "Epoch 19, Loss: 0.3495\n",
            "Epoch 20, Loss: 0.3259\n",
            "Epoch 21, Loss: 0.3562\n",
            "Epoch 22, Loss: 0.4223\n",
            "Epoch 23, Loss: 0.3209\n",
            "Epoch 24, Loss: 0.2848\n",
            "Epoch 25, Loss: 0.2655\n",
            "Epoch 26, Loss: 0.2745\n",
            "Epoch 27, Loss: 0.2425\n",
            "Epoch 28, Loss: 0.2362\n",
            "Epoch 29, Loss: 0.2381\n",
            "Epoch 30, Loss: 0.2118\n",
            "Epoch 31, Loss: 0.2179\n",
            "Epoch 32, Loss: 0.2310\n",
            "Epoch 33, Loss: 0.2176\n",
            "Epoch 34, Loss: 0.1969\n",
            "Epoch 35, Loss: 0.1908\n",
            "Epoch 36, Loss: 0.2203\n",
            "Epoch 37, Loss: 0.1950\n",
            "Epoch 38, Loss: 0.1980\n",
            "Epoch 39, Loss: 0.1844\n",
            "Epoch 40, Loss: 0.1840\n",
            "Epoch 41, Loss: 0.1778\n",
            "Epoch 42, Loss: 0.1808\n",
            "Epoch 43, Loss: 0.1954\n",
            "Epoch 44, Loss: 0.1547\n",
            "Epoch 45, Loss: 0.1613\n",
            "Epoch 46, Loss: 0.1683\n",
            "Epoch 47, Loss: 0.1769\n",
            "Epoch 48, Loss: 0.1623\n",
            "Epoch 49, Loss: 0.1716\n",
            "\n",
            "Pretraining per edge_type: ('constructors', 'rev_f2p_constructorId', 'qualifying')\n",
            "Epoch 0, Loss: 6.4569\n",
            "Epoch 1, Loss: 1.3131\n",
            "Epoch 2, Loss: 0.8387\n",
            "Epoch 3, Loss: 0.6970\n",
            "Epoch 4, Loss: 0.6442\n",
            "Epoch 5, Loss: 0.5944\n",
            "Epoch 6, Loss: 0.5450\n",
            "Epoch 7, Loss: 0.4865\n",
            "Epoch 8, Loss: 0.4359\n",
            "Epoch 9, Loss: 0.3790\n",
            "Epoch 10, Loss: 0.3396\n",
            "Epoch 11, Loss: 0.3039\n",
            "Epoch 12, Loss: 0.2714\n",
            "Epoch 13, Loss: 0.2491\n",
            "Epoch 14, Loss: 0.2219\n",
            "Epoch 15, Loss: 0.1918\n",
            "Epoch 16, Loss: 0.1776\n",
            "Epoch 17, Loss: 0.1645\n",
            "Epoch 18, Loss: 0.1638\n",
            "Epoch 19, Loss: 0.1485\n",
            "Epoch 20, Loss: 0.1436\n",
            "Epoch 21, Loss: 0.1407\n",
            "Epoch 22, Loss: 0.1322\n",
            "Epoch 23, Loss: 0.1424\n",
            "Epoch 24, Loss: 0.1318\n",
            "Epoch 25, Loss: 0.1303\n",
            "Epoch 26, Loss: 0.1191\n",
            "Epoch 27, Loss: 0.1138\n",
            "Epoch 28, Loss: 0.1120\n",
            "Epoch 29, Loss: 0.1095\n",
            "Epoch 30, Loss: 0.1132\n",
            "Epoch 31, Loss: 0.0953\n",
            "Epoch 32, Loss: 0.1008\n",
            "Epoch 33, Loss: 0.1035\n",
            "Epoch 34, Loss: 0.0970\n",
            "Epoch 35, Loss: 0.1008\n",
            "Epoch 36, Loss: 0.0999\n",
            "Epoch 37, Loss: 0.0974\n",
            "Epoch 38, Loss: 0.0931\n",
            "Epoch 39, Loss: 0.0894\n",
            "Epoch 40, Loss: 0.0830\n",
            "Epoch 41, Loss: 0.0813\n",
            "Epoch 42, Loss: 0.0911\n",
            "Epoch 43, Loss: 0.0867\n",
            "Epoch 44, Loss: 0.0936\n",
            "Epoch 45, Loss: 0.0922\n",
            "Epoch 46, Loss: 0.0797\n",
            "Epoch 47, Loss: 0.0814\n",
            "Epoch 48, Loss: 0.0777\n",
            "Epoch 49, Loss: 0.0788\n",
            "Parametri modificati: ['encoder.encoders.drivers.encoder.encoder_dict.timestamp.weight', 'encoder.encoders.drivers.encoder.encoder_dict.timestamp.bias', 'encoder.encoders.drivers.encoder.encoder_dict.embedding.biases', 'encoder.encoders.drivers.backbone.0.lin1.weight', 'encoder.encoders.drivers.backbone.0.lin1.bias', 'encoder.encoders.drivers.backbone.0.lin2.weight', 'encoder.encoders.drivers.backbone.0.lin2.bias', 'encoder.encoders.drivers.backbone.0.norm1.weight', 'encoder.encoders.drivers.backbone.0.norm1.bias', 'encoder.encoders.drivers.backbone.0.norm2.weight', 'encoder.encoders.drivers.backbone.0.norm2.bias', 'encoder.encoders.drivers.backbone.0.shortcut.weight', 'encoder.encoders.drivers.backbone.0.shortcut.bias', 'encoder.encoders.drivers.backbone.1.lin1.weight', 'encoder.encoders.drivers.backbone.1.lin1.bias', 'encoder.encoders.drivers.backbone.1.lin2.weight', 'encoder.encoders.drivers.backbone.1.lin2.bias', 'encoder.encoders.drivers.backbone.1.norm1.weight', 'encoder.encoders.drivers.backbone.1.norm1.bias', 'encoder.encoders.drivers.backbone.1.norm2.weight', 'encoder.encoders.drivers.backbone.1.norm2.bias', 'encoder.encoders.drivers.backbone.2.lin1.weight', 'encoder.encoders.drivers.backbone.2.lin1.bias', 'encoder.encoders.drivers.backbone.2.lin2.weight', 'encoder.encoders.drivers.backbone.2.lin2.bias', 'encoder.encoders.drivers.backbone.2.norm1.weight', 'encoder.encoders.drivers.backbone.2.norm1.bias', 'encoder.encoders.drivers.backbone.2.norm2.weight', 'encoder.encoders.drivers.backbone.2.norm2.bias', 'encoder.encoders.drivers.backbone.3.lin1.weight', 'encoder.encoders.drivers.backbone.3.lin1.bias', 'encoder.encoders.drivers.backbone.3.lin2.weight', 'encoder.encoders.drivers.backbone.3.lin2.bias', 'encoder.encoders.drivers.backbone.3.norm1.weight', 'encoder.encoders.drivers.backbone.3.norm1.bias', 'encoder.encoders.drivers.backbone.3.norm2.weight', 'encoder.encoders.drivers.backbone.3.norm2.bias', 'encoder.encoders.drivers.decoder.0.weight', 'encoder.encoders.drivers.decoder.0.bias', 'encoder.encoders.drivers.decoder.2.weight', 'encoder.encoders.drivers.decoder.2.bias', 'encoder.encoders.constructors.encoder.encoder_dict.embedding.biases', 'encoder.encoders.constructors.backbone.0.lin1.weight', 'encoder.encoders.constructors.backbone.0.lin1.bias', 'encoder.encoders.constructors.backbone.0.lin2.weight', 'encoder.encoders.constructors.backbone.0.lin2.bias', 'encoder.encoders.constructors.backbone.0.norm1.weight', 'encoder.encoders.constructors.backbone.0.norm1.bias', 'encoder.encoders.constructors.backbone.0.norm2.weight', 'encoder.encoders.constructors.backbone.0.norm2.bias', 'encoder.encoders.constructors.backbone.0.shortcut.weight', 'encoder.encoders.constructors.backbone.0.shortcut.bias', 'encoder.encoders.constructors.backbone.1.lin1.weight', 'encoder.encoders.constructors.backbone.1.lin1.bias', 'encoder.encoders.constructors.backbone.1.lin2.weight', 'encoder.encoders.constructors.backbone.1.lin2.bias', 'encoder.encoders.constructors.backbone.1.norm1.weight', 'encoder.encoders.constructors.backbone.1.norm1.bias', 'encoder.encoders.constructors.backbone.1.norm2.weight', 'encoder.encoders.constructors.backbone.1.norm2.bias', 'encoder.encoders.constructors.backbone.2.lin1.weight', 'encoder.encoders.constructors.backbone.2.lin1.bias', 'encoder.encoders.constructors.backbone.2.lin2.weight', 'encoder.encoders.constructors.backbone.2.lin2.bias', 'encoder.encoders.constructors.backbone.2.norm1.weight', 'encoder.encoders.constructors.backbone.2.norm1.bias', 'encoder.encoders.constructors.backbone.2.norm2.weight', 'encoder.encoders.constructors.backbone.2.norm2.bias', 'encoder.encoders.constructors.backbone.3.lin1.weight', 'encoder.encoders.constructors.backbone.3.lin1.bias', 'encoder.encoders.constructors.backbone.3.lin2.weight', 'encoder.encoders.constructors.backbone.3.lin2.bias', 'encoder.encoders.constructors.backbone.3.norm1.weight', 'encoder.encoders.constructors.backbone.3.norm1.bias', 'encoder.encoders.constructors.backbone.3.norm2.weight', 'encoder.encoders.constructors.backbone.3.norm2.bias', 'encoder.encoders.constructors.decoder.0.weight', 'encoder.encoders.constructors.decoder.0.bias', 'encoder.encoders.constructors.decoder.2.weight', 'encoder.encoders.constructors.decoder.2.bias', 'encoder.encoders.races.encoder.encoder_dict.categorical.emb.weight', 'encoder.encoders.races.encoder.encoder_dict.numerical.weight', 'encoder.encoders.races.encoder.encoder_dict.numerical.bias', 'encoder.encoders.races.encoder.encoder_dict.timestamp.weight', 'encoder.encoders.races.encoder.encoder_dict.timestamp.bias', 'encoder.encoders.races.encoder.encoder_dict.embedding.biases', 'encoder.encoders.races.backbone.0.lin1.weight', 'encoder.encoders.races.backbone.0.lin1.bias', 'encoder.encoders.races.backbone.0.lin2.weight', 'encoder.encoders.races.backbone.0.lin2.bias', 'encoder.encoders.races.backbone.0.norm1.weight', 'encoder.encoders.races.backbone.0.norm1.bias', 'encoder.encoders.races.backbone.0.norm2.weight', 'encoder.encoders.races.backbone.0.norm2.bias', 'encoder.encoders.races.backbone.0.shortcut.weight', 'encoder.encoders.races.backbone.0.shortcut.bias', 'encoder.encoders.races.backbone.1.lin1.weight', 'encoder.encoders.races.backbone.1.lin1.bias', 'encoder.encoders.races.backbone.1.lin2.weight', 'encoder.encoders.races.backbone.1.lin2.bias', 'encoder.encoders.races.backbone.1.norm1.weight', 'encoder.encoders.races.backbone.1.norm1.bias', 'encoder.encoders.races.backbone.1.norm2.weight', 'encoder.encoders.races.backbone.1.norm2.bias', 'encoder.encoders.races.backbone.2.lin1.weight', 'encoder.encoders.races.backbone.2.lin1.bias', 'encoder.encoders.races.backbone.2.lin2.weight', 'encoder.encoders.races.backbone.2.lin2.bias', 'encoder.encoders.races.backbone.2.norm1.weight', 'encoder.encoders.races.backbone.2.norm1.bias', 'encoder.encoders.races.backbone.2.norm2.weight', 'encoder.encoders.races.backbone.2.norm2.bias', 'encoder.encoders.races.backbone.3.lin1.weight', 'encoder.encoders.races.backbone.3.lin1.bias', 'encoder.encoders.races.backbone.3.lin2.weight', 'encoder.encoders.races.backbone.3.lin2.bias', 'encoder.encoders.races.backbone.3.norm1.weight', 'encoder.encoders.races.backbone.3.norm1.bias', 'encoder.encoders.races.backbone.3.norm2.weight', 'encoder.encoders.races.backbone.3.norm2.bias', 'encoder.encoders.races.decoder.0.weight', 'encoder.encoders.races.decoder.0.bias', 'encoder.encoders.races.decoder.2.weight', 'encoder.encoders.races.decoder.2.bias', 'encoder.encoders.results.encoder.encoder_dict.numerical.weight', 'encoder.encoders.qualifying.encoder.encoder_dict.numerical.weight', 'encoder.encoders.qualifying.encoder.encoder_dict.numerical.bias', 'encoder.encoders.qualifying.encoder.encoder_dict.timestamp.weight', 'encoder.encoders.qualifying.encoder.encoder_dict.timestamp.bias', 'encoder.encoders.qualifying.backbone.0.lin1.weight', 'encoder.encoders.qualifying.backbone.0.lin1.bias', 'encoder.encoders.qualifying.backbone.0.lin2.weight', 'encoder.encoders.qualifying.backbone.0.lin2.bias', 'encoder.encoders.qualifying.backbone.0.norm1.weight', 'encoder.encoders.qualifying.backbone.0.norm1.bias', 'encoder.encoders.qualifying.backbone.0.norm2.weight', 'encoder.encoders.qualifying.backbone.0.norm2.bias', 'encoder.encoders.qualifying.backbone.0.shortcut.weight', 'encoder.encoders.qualifying.backbone.0.shortcut.bias', 'encoder.encoders.qualifying.backbone.1.lin1.weight', 'encoder.encoders.qualifying.backbone.1.lin1.bias', 'encoder.encoders.qualifying.backbone.1.lin2.weight', 'encoder.encoders.qualifying.backbone.1.lin2.bias', 'encoder.encoders.qualifying.backbone.1.norm1.weight', 'encoder.encoders.qualifying.backbone.1.norm1.bias', 'encoder.encoders.qualifying.backbone.1.norm2.weight', 'encoder.encoders.qualifying.backbone.1.norm2.bias', 'encoder.encoders.qualifying.backbone.2.lin1.weight', 'encoder.encoders.qualifying.backbone.2.lin1.bias', 'encoder.encoders.qualifying.backbone.2.lin2.weight', 'encoder.encoders.qualifying.backbone.2.lin2.bias', 'encoder.encoders.qualifying.backbone.2.norm1.weight', 'encoder.encoders.qualifying.backbone.2.norm1.bias', 'encoder.encoders.qualifying.backbone.2.norm2.weight', 'encoder.encoders.qualifying.backbone.2.norm2.bias', 'encoder.encoders.qualifying.backbone.3.lin1.weight', 'encoder.encoders.qualifying.backbone.3.lin1.bias', 'encoder.encoders.qualifying.backbone.3.lin2.weight', 'encoder.encoders.qualifying.backbone.3.lin2.bias', 'encoder.encoders.qualifying.backbone.3.norm1.weight', 'encoder.encoders.qualifying.backbone.3.norm1.bias', 'encoder.encoders.qualifying.backbone.3.norm2.weight', 'encoder.encoders.qualifying.backbone.3.norm2.bias', 'encoder.encoders.qualifying.decoder.0.weight', 'encoder.encoders.qualifying.decoder.0.bias', 'encoder.encoders.qualifying.decoder.2.weight', 'encoder.encoders.qualifying.decoder.2.bias', 'gnn.layers.0.v_lin.weight', 'gnn.layers.0.v_lin.bias', 'gnn.layers.0.norm.weight', 'gnn.layers.0.norm.bias']\n"
          ]
        },
        {
          "name": "stderr",
          "output_type": "stream",
          "text": [
            "100%|██████████| 15/15 [00:03<00:00,  4.26it/s]\n"
          ]
        },
        {
          "name": "stdout",
          "output_type": "stream",
          "text": [
            "Epoch: 01, Train loss: 13.501905059200253, Val metrics: {'r2': -3.8737648024438336, 'mae': 9.117145528680656, 'rmse': np.float64(10.23487571431109)}\n"
          ]
        },
        {
          "name": "stderr",
          "output_type": "stream",
          "text": [
            "100%|██████████| 15/15 [00:03<00:00,  4.20it/s]\n"
          ]
        },
        {
          "name": "stdout",
          "output_type": "stream",
          "text": [
            "Epoch: 02, Train loss: 10.709976612793811, Val metrics: {'r2': -1.8020707574187274, 'mae': 6.548875175321906, 'rmse': np.float64(7.7605024175174275)}\n"
          ]
        },
        {
          "name": "stderr",
          "output_type": "stream",
          "text": [
            "100%|██████████| 15/15 [00:03<00:00,  3.91it/s]\n"
          ]
        },
        {
          "name": "stdout",
          "output_type": "stream",
          "text": [
            "Epoch: 03, Train loss: 8.768892973041623, Val metrics: {'r2': -0.9809455419365389, 'mae': 5.447440596333965, 'rmse': np.float64(6.525090776159976)}\n"
          ]
        },
        {
          "name": "stderr",
          "output_type": "stream",
          "text": [
            "100%|██████████| 15/15 [00:03<00:00,  4.23it/s]\n"
          ]
        },
        {
          "name": "stdout",
          "output_type": "stream",
          "text": [
            "Epoch: 04, Train loss: 7.9322524421985685, Val metrics: {'r2': -0.6255501317425958, 'mae': 4.945211573991285, 'rmse': np.float64(5.910857282400424)}\n"
          ]
        },
        {
          "name": "stderr",
          "output_type": "stream",
          "text": [
            "100%|██████████| 15/15 [00:03<00:00,  4.16it/s]\n"
          ]
        },
        {
          "name": "stdout",
          "output_type": "stream",
          "text": [
            "Epoch: 05, Train loss: 7.32131954341803, Val metrics: {'r2': -0.35095667672763775, 'mae': 4.524334662264796, 'rmse': np.float64(5.3885386302398794)}\n"
          ]
        },
        {
          "name": "stderr",
          "output_type": "stream",
          "text": [
            "100%|██████████| 15/15 [00:03<00:00,  4.01it/s]\n"
          ]
        },
        {
          "name": "stdout",
          "output_type": "stream",
          "text": [
            "Epoch: 06, Train loss: 6.774766865055561, Val metrics: {'r2': -0.1418936916212432, 'mae': 4.180910639740581, 'rmse': np.float64(4.954081266830614)}\n"
          ]
        },
        {
          "name": "stderr",
          "output_type": "stream",
          "text": [
            "100%|██████████| 15/15 [00:03<00:00,  4.24it/s]\n"
          ]
        },
        {
          "name": "stdout",
          "output_type": "stream",
          "text": [
            "Epoch: 07, Train loss: 6.29888071579436, Val metrics: {'r2': -0.02055514905131539, 'mae': 3.9458744087295683, 'rmse': np.float64(4.68347847670755)}\n"
          ]
        },
        {
          "name": "stderr",
          "output_type": "stream",
          "text": [
            "100%|██████████| 15/15 [00:03<00:00,  3.99it/s]\n"
          ]
        },
        {
          "name": "stdout",
          "output_type": "stream",
          "text": [
            "Epoch: 08, Train loss: 5.917357801511338, Val metrics: {'r2': -0.007848938511352044, 'mae': 3.860449213143898, 'rmse': np.float64(4.6542318197792785)}\n"
          ]
        },
        {
          "name": "stderr",
          "output_type": "stream",
          "text": [
            "100%|██████████| 15/15 [00:03<00:00,  4.07it/s]\n"
          ]
        },
        {
          "name": "stdout",
          "output_type": "stream",
          "text": [
            "Epoch: 09, Train loss: 5.683574975872462, Val metrics: {'r2': -0.07978769548713682, 'mae': 3.927258692443888, 'rmse': np.float64(4.817475079452381)}\n"
          ]
        },
        {
          "name": "stderr",
          "output_type": "stream",
          "text": [
            "100%|██████████| 15/15 [00:03<00:00,  4.18it/s]\n"
          ]
        },
        {
          "name": "stdout",
          "output_type": "stream",
          "text": [
            "Epoch: 10, Train loss: 5.579096104112485, Val metrics: {'r2': -0.1694002924710818, 'mae': 4.03594890790696, 'rmse': np.float64(5.013394597493396)}\n"
          ]
        },
        {
          "name": "stderr",
          "output_type": "stream",
          "text": [
            "100%|██████████| 15/15 [00:03<00:00,  3.93it/s]\n"
          ]
        },
        {
          "name": "stdout",
          "output_type": "stream",
          "text": [
            "Epoch: 11, Train loss: 5.551196614000184, Val metrics: {'r2': -0.193352221528728, 'mae': 4.067492649152268, 'rmse': np.float64(5.064477110058386)}\n"
          ]
        },
        {
          "name": "stderr",
          "output_type": "stream",
          "text": [
            "100%|██████████| 15/15 [00:03<00:00,  4.24it/s]\n"
          ]
        },
        {
          "name": "stdout",
          "output_type": "stream",
          "text": [
            "Epoch: 12, Train loss: 5.527779751842524, Val metrics: {'r2': 0.029129928650970305, 'mae': 3.7468032334913155, 'rmse': np.float64(4.56804997354811)}\n"
          ]
        },
        {
          "name": "stderr",
          "output_type": "stream",
          "text": [
            "100%|██████████| 15/15 [00:03<00:00,  4.26it/s]\n"
          ]
        },
        {
          "name": "stdout",
          "output_type": "stream",
          "text": [
            "Epoch: 13, Train loss: 5.432874870095559, Val metrics: {'r2': 0.20229888980681188, 'mae': 3.426090200662453, 'rmse': np.float64(4.140667788628067)}\n"
          ]
        },
        {
          "name": "stderr",
          "output_type": "stream",
          "text": [
            "100%|██████████| 15/15 [00:03<00:00,  3.83it/s]\n"
          ]
        },
        {
          "name": "stdout",
          "output_type": "stream",
          "text": [
            "Epoch: 14, Train loss: 5.158427379474566, Val metrics: {'r2': 0.23598954100156555, 'mae': 3.2544849174056116, 'rmse': np.float64(4.052284623064642)}\n"
          ]
        },
        {
          "name": "stderr",
          "output_type": "stream",
          "text": [
            "100%|██████████| 15/15 [00:03<00:00,  4.29it/s]\n"
          ]
        },
        {
          "name": "stdout",
          "output_type": "stream",
          "text": [
            "Epoch: 15, Train loss: 5.036977721175523, Val metrics: {'r2': 0.15486716562026925, 'mae': 3.3557336040234356, 'rmse': np.float64(4.261993441428805)}\n"
          ]
        },
        {
          "name": "stderr",
          "output_type": "stream",
          "text": [
            "100%|██████████| 15/15 [00:03<00:00,  4.22it/s]\n"
          ]
        },
        {
          "name": "stdout",
          "output_type": "stream",
          "text": [
            "Epoch: 16, Train loss: 4.968900846951954, Val metrics: {'r2': 0.28160857436721975, 'mae': 3.1069664290051655, 'rmse': np.float64(3.929441790987855)}\n"
          ]
        },
        {
          "name": "stderr",
          "output_type": "stream",
          "text": [
            "100%|██████████| 15/15 [00:03<00:00,  3.78it/s]\n"
          ]
        },
        {
          "name": "stdout",
          "output_type": "stream",
          "text": [
            "Epoch: 17, Train loss: 4.847433478435893, Val metrics: {'r2': 0.29689500891938037, 'mae': 2.967132325640661, 'rmse': np.float64(3.8874102912375967)}\n"
          ]
        },
        {
          "name": "stderr",
          "output_type": "stream",
          "text": [
            "100%|██████████| 15/15 [00:03<00:00,  4.29it/s]\n"
          ]
        },
        {
          "name": "stdout",
          "output_type": "stream",
          "text": [
            "Epoch: 18, Train loss: 4.752716973853818, Val metrics: {'r2': 0.3083994431758186, 'mae': 2.9512050699375436, 'rmse': np.float64(3.855475580407936)}\n"
          ]
        },
        {
          "name": "stderr",
          "output_type": "stream",
          "text": [
            "100%|██████████| 15/15 [00:03<00:00,  4.27it/s]\n"
          ]
        },
        {
          "name": "stdout",
          "output_type": "stream",
          "text": [
            "Epoch: 19, Train loss: 4.7096456320801146, Val metrics: {'r2': 0.23241709338920835, 'mae': 3.180087206948178, 'rmse': np.float64(4.061747642189041)}\n"
          ]
        },
        {
          "name": "stderr",
          "output_type": "stream",
          "text": [
            "100%|██████████| 15/15 [00:04<00:00,  3.71it/s]\n"
          ]
        },
        {
          "name": "stdout",
          "output_type": "stream",
          "text": [
            "Epoch: 20, Train loss: 4.685452202638651, Val metrics: {'r2': 0.31596055470298745, 'mae': 2.9305273735770085, 'rmse': np.float64(3.8343421412543544)}\n"
          ]
        },
        {
          "name": "stderr",
          "output_type": "stream",
          "text": [
            "100%|██████████| 15/15 [00:03<00:00,  4.26it/s]\n"
          ]
        },
        {
          "name": "stdout",
          "output_type": "stream",
          "text": [
            "Epoch: 21, Train loss: 4.696372593455261, Val metrics: {'r2': 0.21457591926034314, 'mae': 3.176078492829062, 'rmse': np.float64(4.108680736019478)}\n"
          ]
        },
        {
          "name": "stderr",
          "output_type": "stream",
          "text": [
            "100%|██████████| 15/15 [00:03<00:00,  4.25it/s]\n"
          ]
        },
        {
          "name": "stdout",
          "output_type": "stream",
          "text": [
            "Epoch: 22, Train loss: 4.645947177922279, Val metrics: {'r2': 0.37030409158441024, 'mae': 2.764799352287848, 'rmse': np.float64(3.678880875463291)}\n"
          ]
        },
        {
          "name": "stderr",
          "output_type": "stream",
          "text": [
            "100%|██████████| 15/15 [00:03<00:00,  3.75it/s]\n"
          ]
        },
        {
          "name": "stdout",
          "output_type": "stream",
          "text": [
            "Epoch: 23, Train loss: 4.6416857517375, Val metrics: {'r2': 0.2515469737844137, 'mae': 3.0648975376773846, 'rmse': np.float64(4.010814385823332)}\n"
          ]
        },
        {
          "name": "stderr",
          "output_type": "stream",
          "text": [
            "100%|██████████| 15/15 [00:03<00:00,  4.28it/s]\n"
          ]
        },
        {
          "name": "stdout",
          "output_type": "stream",
          "text": [
            "Epoch: 24, Train loss: 4.597029735046186, Val metrics: {'r2': 0.3743878059393231, 'mae': 2.763497268444869, 'rmse': np.float64(3.666932302029147)}\n"
          ]
        },
        {
          "name": "stderr",
          "output_type": "stream",
          "text": [
            "100%|██████████| 15/15 [00:03<00:00,  4.28it/s]\n"
          ]
        },
        {
          "name": "stdout",
          "output_type": "stream",
          "text": [
            "Epoch: 25, Train loss: 4.592360770991868, Val metrics: {'r2': 0.3725078493087931, 'mae': 2.776788962994246, 'rmse': np.float64(3.672437711511744)}\n"
          ]
        },
        {
          "name": "stderr",
          "output_type": "stream",
          "text": [
            "100%|██████████| 15/15 [00:04<00:00,  3.70it/s]\n"
          ]
        },
        {
          "name": "stdout",
          "output_type": "stream",
          "text": [
            "Epoch: 26, Train loss: 4.571557973385433, Val metrics: {'r2': 0.11396191675166956, 'mae': 3.4297143214690187, 'rmse': np.float64(4.363917022148197)}\n"
          ]
        },
        {
          "name": "stderr",
          "output_type": "stream",
          "text": [
            "100%|██████████| 15/15 [00:03<00:00,  4.33it/s]\n"
          ]
        },
        {
          "name": "stdout",
          "output_type": "stream",
          "text": [
            "Epoch: 27, Train loss: 4.542882889625163, Val metrics: {'r2': 0.3103656128817327, 'mae': 2.95324237071122, 'rmse': np.float64(3.8499912624728716)}\n"
          ]
        },
        {
          "name": "stderr",
          "output_type": "stream",
          "text": [
            "100%|██████████| 15/15 [00:03<00:00,  4.26it/s]\n"
          ]
        },
        {
          "name": "stdout",
          "output_type": "stream",
          "text": [
            "Epoch: 28, Train loss: 4.504757937914123, Val metrics: {'r2': 0.37657071306431655, 'mae': 2.8121644745051424, 'rmse': np.float64(3.6605293199665803)}\n"
          ]
        },
        {
          "name": "stderr",
          "output_type": "stream",
          "text": [
            "100%|██████████| 15/15 [00:04<00:00,  3.70it/s]\n"
          ]
        },
        {
          "name": "stdout",
          "output_type": "stream",
          "text": [
            "Epoch: 29, Train loss: 4.501961780941184, Val metrics: {'r2': 0.3155604694350539, 'mae': 2.953968603290871, 'rmse': np.float64(3.8354633043435924)}\n"
          ]
        },
        {
          "name": "stderr",
          "output_type": "stream",
          "text": [
            "100%|██████████| 15/15 [00:03<00:00,  4.34it/s]\n"
          ]
        },
        {
          "name": "stdout",
          "output_type": "stream",
          "text": [
            "Epoch: 30, Train loss: 4.45504164097534, Val metrics: {'r2': 0.23918297033715374, 'mae': 3.095673937692432, 'rmse': np.float64(4.043806836393006)}\n"
          ]
        },
        {
          "name": "stderr",
          "output_type": "stream",
          "text": [
            "100%|██████████| 15/15 [00:03<00:00,  4.24it/s]\n"
          ]
        },
        {
          "name": "stdout",
          "output_type": "stream",
          "text": [
            "Epoch: 31, Train loss: 4.490570407257326, Val metrics: {'r2': 0.28442628900338063, 'mae': 3.0499135492002476, 'rmse': np.float64(3.921728082664911)}\n"
          ]
        },
        {
          "name": "stderr",
          "output_type": "stream",
          "text": [
            "100%|██████████| 15/15 [00:03<00:00,  3.80it/s]\n"
          ]
        },
        {
          "name": "stdout",
          "output_type": "stream",
          "text": [
            "Epoch: 32, Train loss: 4.433002250619691, Val metrics: {'r2': 0.2864600628212617, 'mae': 2.978690866318717, 'rmse': np.float64(3.916151030965729)}\n"
          ]
        },
        {
          "name": "stderr",
          "output_type": "stream",
          "text": [
            "100%|██████████| 15/15 [00:03<00:00,  4.31it/s]\n"
          ]
        },
        {
          "name": "stdout",
          "output_type": "stream",
          "text": [
            "Epoch: 33, Train loss: 4.4520677689112516, Val metrics: {'r2': 0.3534986083803695, 'mae': 2.865463597088077, 'rmse': np.float64(3.727649083676773)}\n"
          ]
        },
        {
          "name": "stderr",
          "output_type": "stream",
          "text": [
            "100%|██████████| 15/15 [00:03<00:00,  4.27it/s]\n"
          ]
        },
        {
          "name": "stdout",
          "output_type": "stream",
          "text": [
            "Epoch: 34, Train loss: 4.419386943874464, Val metrics: {'r2': 0.3448029719957776, 'mae': 2.9155757296937423, 'rmse': np.float64(3.7526343450318915)}\n"
          ]
        },
        {
          "name": "stderr",
          "output_type": "stream",
          "text": [
            "100%|██████████| 15/15 [00:03<00:00,  3.79it/s]\n"
          ]
        },
        {
          "name": "stdout",
          "output_type": "stream",
          "text": [
            "Epoch: 35, Train loss: 4.41709830273754, Val metrics: {'r2': 0.36671069703384007, 'mae': 2.8593121548374256, 'rmse': np.float64(3.689362811457421)}\n"
          ]
        },
        {
          "name": "stderr",
          "output_type": "stream",
          "text": [
            "100%|██████████| 15/15 [00:03<00:00,  4.26it/s]\n"
          ]
        },
        {
          "name": "stdout",
          "output_type": "stream",
          "text": [
            "Epoch: 36, Train loss: 4.4345143338137785, Val metrics: {'r2': 0.3914236161446828, 'mae': 2.764516680290003, 'rmse': np.float64(3.6166612854787012)}\n"
          ]
        },
        {
          "name": "stderr",
          "output_type": "stream",
          "text": [
            "100%|██████████| 15/15 [00:03<00:00,  4.20it/s]\n"
          ]
        },
        {
          "name": "stdout",
          "output_type": "stream",
          "text": [
            "Epoch: 37, Train loss: 4.4091636235324, Val metrics: {'r2': 0.32516728477149504, 'mae': 2.9289224734844646, 'rmse': np.float64(3.8084508390708383)}\n"
          ]
        },
        {
          "name": "stderr",
          "output_type": "stream",
          "text": [
            "100%|██████████| 15/15 [00:04<00:00,  3.73it/s]\n"
          ]
        },
        {
          "name": "stdout",
          "output_type": "stream",
          "text": [
            "Epoch: 38, Train loss: 4.35618047299648, Val metrics: {'r2': 0.2555276578314737, 'mae': 3.117389078911098, 'rmse': np.float64(4.000134309970408)}\n"
          ]
        },
        {
          "name": "stderr",
          "output_type": "stream",
          "text": [
            "100%|██████████| 15/15 [00:03<00:00,  4.28it/s]\n"
          ]
        },
        {
          "name": "stdout",
          "output_type": "stream",
          "text": [
            "Epoch: 39, Train loss: 4.353179249430157, Val metrics: {'r2': 0.2600045986043571, 'mae': 3.0909741202910586, 'rmse': np.float64(3.9880886180367767)}\n"
          ]
        },
        {
          "name": "stderr",
          "output_type": "stream",
          "text": [
            "100%|██████████| 15/15 [00:03<00:00,  4.27it/s]\n"
          ]
        },
        {
          "name": "stdout",
          "output_type": "stream",
          "text": [
            "Epoch: 40, Train loss: 4.314565457674572, Val metrics: {'r2': 0.029820864164587402, 'mae': 3.574340503997777, 'rmse': np.float64(4.5664242206317125)}\n"
          ]
        },
        {
          "name": "stderr",
          "output_type": "stream",
          "text": [
            "100%|██████████| 15/15 [00:03<00:00,  3.78it/s]\n"
          ]
        },
        {
          "name": "stdout",
          "output_type": "stream",
          "text": [
            "Epoch: 41, Train loss: 4.352361529557702, Val metrics: {'r2': 0.2685885527970111, 'mae': 3.0905327461525527, 'rmse': np.float64(3.9648902120687133)}\n"
          ]
        },
        {
          "name": "stderr",
          "output_type": "stream",
          "text": [
            "100%|██████████| 15/15 [00:03<00:00,  4.33it/s]\n"
          ]
        },
        {
          "name": "stdout",
          "output_type": "stream",
          "text": [
            "Epoch: 42, Train loss: 4.303179187805368, Val metrics: {'r2': 0.26013109703829973, 'mae': 3.110930517282021, 'rmse': np.float64(3.987747731778994)}\n"
          ]
        },
        {
          "name": "stderr",
          "output_type": "stream",
          "text": [
            "100%|██████████| 15/15 [00:03<00:00,  4.20it/s]\n"
          ]
        },
        {
          "name": "stdout",
          "output_type": "stream",
          "text": [
            "Epoch: 43, Train loss: 4.293987343267484, Val metrics: {'r2': 0.3324584425848305, 'mae': 2.9664389210218736, 'rmse': np.float64(3.7878209647724383)}\n"
          ]
        },
        {
          "name": "stderr",
          "output_type": "stream",
          "text": [
            "100%|██████████| 15/15 [00:04<00:00,  3.75it/s]\n"
          ]
        },
        {
          "name": "stdout",
          "output_type": "stream",
          "text": [
            "Epoch: 44, Train loss: 4.306149010752313, Val metrics: {'r2': 0.30989218770223337, 'mae': 2.974106690273654, 'rmse': np.float64(3.851312520616149)}\n"
          ]
        },
        {
          "name": "stderr",
          "output_type": "stream",
          "text": [
            "100%|██████████| 15/15 [00:03<00:00,  4.31it/s]\n"
          ]
        },
        {
          "name": "stdout",
          "output_type": "stream",
          "text": [
            "Epoch: 45, Train loss: 4.252359159805623, Val metrics: {'r2': 0.22315949715529082, 'mae': 3.1894574126165236, 'rmse': np.float64(4.086168015000594)}\n"
          ]
        },
        {
          "name": "stderr",
          "output_type": "stream",
          "text": [
            "100%|██████████| 15/15 [00:03<00:00,  4.29it/s]\n"
          ]
        },
        {
          "name": "stdout",
          "output_type": "stream",
          "text": [
            "Epoch: 46, Train loss: 4.261922763687291, Val metrics: {'r2': 0.30131189668021785, 'mae': 2.979145859334177, 'rmse': np.float64(3.8751807480222795)}\n"
          ]
        },
        {
          "name": "stderr",
          "output_type": "stream",
          "text": [
            "100%|██████████| 15/15 [00:04<00:00,  3.74it/s]\n"
          ]
        },
        {
          "name": "stdout",
          "output_type": "stream",
          "text": [
            "Epoch: 47, Train loss: 4.252069349210886, Val metrics: {'r2': 0.28313516537721306, 'mae': 3.024876239384184, 'rmse': np.float64(3.9252645134681634)}\n"
          ]
        },
        {
          "name": "stderr",
          "output_type": "stream",
          "text": [
            "100%|██████████| 15/15 [00:03<00:00,  4.16it/s]\n"
          ]
        },
        {
          "name": "stdout",
          "output_type": "stream",
          "text": [
            "Epoch: 48, Train loss: 4.235647269164126, Val metrics: {'r2': 0.2467874463143297, 'mae': 3.150780112502889, 'rmse': np.float64(4.023546867555234)}\n"
          ]
        },
        {
          "name": "stderr",
          "output_type": "stream",
          "text": [
            "100%|██████████| 15/15 [00:03<00:00,  4.26it/s]\n"
          ]
        },
        {
          "name": "stdout",
          "output_type": "stream",
          "text": [
            "Epoch: 49, Train loss: 4.2289441709596485, Val metrics: {'r2': 0.2975366938331908, 'mae': 3.009947935676447, 'rmse': np.float64(3.885635974474506)}\n"
          ]
        },
        {
          "name": "stderr",
          "output_type": "stream",
          "text": [
            "100%|██████████| 15/15 [00:03<00:00,  3.76it/s]\n"
          ]
        },
        {
          "name": "stdout",
          "output_type": "stream",
          "text": [
            "Epoch: 50, Train loss: 4.207926737003385, Val metrics: {'r2': 0.17358190872273127, 'mae': 3.2999475161075273, 'rmse': np.float64(4.214540169704783)}\n"
          ]
        },
        {
          "name": "stderr",
          "output_type": "stream",
          "text": [
            "100%|██████████| 15/15 [00:03<00:00,  4.12it/s]\n"
          ]
        },
        {
          "name": "stdout",
          "output_type": "stream",
          "text": [
            "Epoch: 51, Train loss: 4.210454885837745, Val metrics: {'r2': 0.3005708484190289, 'mae': 3.0042961843028095, 'rmse': np.float64(3.8772352662648486)}\n"
          ]
        },
        {
          "name": "stderr",
          "output_type": "stream",
          "text": [
            "100%|██████████| 15/15 [00:03<00:00,  4.26it/s]\n"
          ]
        },
        {
          "name": "stdout",
          "output_type": "stream",
          "text": [
            "Epoch: 52, Train loss: 4.204692859897897, Val metrics: {'r2': 0.29009088081525536, 'mae': 3.0404399556164434, 'rmse': np.float64(3.9061747387939003)}\n"
          ]
        },
        {
          "name": "stderr",
          "output_type": "stream",
          "text": [
            "100%|██████████| 15/15 [00:03<00:00,  3.78it/s]\n"
          ]
        },
        {
          "name": "stdout",
          "output_type": "stream",
          "text": [
            "Epoch: 53, Train loss: 4.211000116434766, Val metrics: {'r2': 0.17582073355477057, 'mae': 3.310170851553291, 'rmse': np.float64(4.20882755499081)}\n"
          ]
        },
        {
          "name": "stderr",
          "output_type": "stream",
          "text": [
            "100%|██████████| 15/15 [00:03<00:00,  4.21it/s]\n"
          ]
        },
        {
          "name": "stdout",
          "output_type": "stream",
          "text": [
            "Epoch: 54, Train loss: 4.163125689135579, Val metrics: {'r2': 0.2913052257840144, 'mae': 3.022937324099646, 'rmse': np.float64(3.9028324279680118)}\n"
          ]
        },
        {
          "name": "stderr",
          "output_type": "stream",
          "text": [
            "100%|██████████| 15/15 [00:03<00:00,  4.31it/s]\n"
          ]
        },
        {
          "name": "stdout",
          "output_type": "stream",
          "text": [
            "Epoch: 55, Train loss: 4.15102468156885, Val metrics: {'r2': 0.2454198836070941, 'mae': 3.129265755817105, 'rmse': np.float64(4.027197867041868)}\n"
          ]
        },
        {
          "name": "stderr",
          "output_type": "stream",
          "text": [
            "100%|██████████| 15/15 [00:03<00:00,  3.84it/s]\n"
          ]
        },
        {
          "name": "stdout",
          "output_type": "stream",
          "text": [
            "Epoch: 56, Train loss: 4.130341848878593, Val metrics: {'r2': 0.312195500164683, 'mae': 2.956773958416406, 'rmse': np.float64(3.8448800544502526)}\n"
          ]
        },
        {
          "name": "stderr",
          "output_type": "stream",
          "text": [
            "100%|██████████| 15/15 [00:03<00:00,  4.24it/s]\n"
          ]
        },
        {
          "name": "stdout",
          "output_type": "stream",
          "text": [
            "Epoch: 57, Train loss: 4.135857281709828, Val metrics: {'r2': 0.20389098225622682, 'mae': 3.217773482380665, 'rmse': np.float64(4.13653364712508)}\n"
          ]
        },
        {
          "name": "stderr",
          "output_type": "stream",
          "text": [
            "100%|██████████| 15/15 [00:03<00:00,  4.12it/s]\n"
          ]
        },
        {
          "name": "stdout",
          "output_type": "stream",
          "text": [
            "Epoch: 58, Train loss: 4.142699304913636, Val metrics: {'r2': 0.23642696897004212, 'mae': 3.128704347448024, 'rmse': np.float64(4.051124405687005)}\n"
          ]
        },
        {
          "name": "stderr",
          "output_type": "stream",
          "text": [
            "100%|██████████| 15/15 [00:03<00:00,  3.82it/s]\n"
          ]
        },
        {
          "name": "stdout",
          "output_type": "stream",
          "text": [
            "Epoch: 59, Train loss: 4.109323452258932, Val metrics: {'r2': 0.18814679578156457, 'mae': 3.2515026891717294, 'rmse': np.float64(4.177236307945493)}\n"
          ]
        },
        {
          "name": "stderr",
          "output_type": "stream",
          "text": [
            "100%|██████████| 15/15 [00:03<00:00,  4.08it/s]\n"
          ]
        },
        {
          "name": "stdout",
          "output_type": "stream",
          "text": [
            "Epoch: 60, Train loss: 4.102668542054521, Val metrics: {'r2': 0.1839643090771388, 'mae': 3.262359369589475, 'rmse': np.float64(4.187982580195146)}\n"
          ]
        },
        {
          "name": "stderr",
          "output_type": "stream",
          "text": [
            "100%|██████████| 15/15 [00:03<00:00,  3.87it/s]\n"
          ]
        },
        {
          "name": "stdout",
          "output_type": "stream",
          "text": [
            "Epoch: 61, Train loss: 4.094501357933955, Val metrics: {'r2': 0.2986256325701956, 'mae': 3.0102170841329166, 'rmse': np.float64(3.88262310494471)}\n"
          ]
        },
        {
          "name": "stderr",
          "output_type": "stream",
          "text": [
            "100%|██████████| 15/15 [00:03<00:00,  4.11it/s]\n"
          ]
        },
        {
          "name": "stdout",
          "output_type": "stream",
          "text": [
            "Epoch: 62, Train loss: 4.076662734868654, Val metrics: {'r2': 0.24721189505539332, 'mae': 3.098772207035888, 'rmse': np.float64(4.022413037499917)}\n"
          ]
        },
        {
          "name": "stderr",
          "output_type": "stream",
          "text": [
            "100%|██████████| 15/15 [00:03<00:00,  4.20it/s]\n"
          ]
        },
        {
          "name": "stdout",
          "output_type": "stream",
          "text": [
            "Epoch: 63, Train loss: 4.061173449070617, Val metrics: {'r2': 0.30114410426288885, 'mae': 2.962575721199224, 'rmse': np.float64(3.87564603926481)}\n"
          ]
        },
        {
          "name": "stderr",
          "output_type": "stream",
          "text": [
            "100%|██████████| 15/15 [00:04<00:00,  3.71it/s]\n"
          ]
        },
        {
          "name": "stdout",
          "output_type": "stream",
          "text": [
            "Epoch: 64, Train loss: 4.070337723937112, Val metrics: {'r2': 0.25128154781913836, 'mae': 3.133368641118169, 'rmse': np.float64(4.0115255058777075)}\n"
          ]
        },
        {
          "name": "stderr",
          "output_type": "stream",
          "text": [
            "100%|██████████| 15/15 [00:03<00:00,  4.23it/s]\n"
          ]
        },
        {
          "name": "stdout",
          "output_type": "stream",
          "text": [
            "Epoch: 65, Train loss: 4.03379911485813, Val metrics: {'r2': 0.2574666717311399, 'mae': 3.061357596403133, 'rmse': np.float64(3.9949216428235417)}\n"
          ]
        },
        {
          "name": "stderr",
          "output_type": "stream",
          "text": [
            "100%|██████████| 15/15 [00:03<00:00,  4.23it/s]\n"
          ]
        },
        {
          "name": "stdout",
          "output_type": "stream",
          "text": [
            "Epoch: 66, Train loss: 4.038759190620679, Val metrics: {'r2': 0.23573328032474605, 'mae': 3.1596596837601187, 'rmse': np.float64(4.052964164898995)}\n"
          ]
        },
        {
          "name": "stderr",
          "output_type": "stream",
          "text": [
            "100%|██████████| 15/15 [00:04<00:00,  3.70it/s]\n"
          ]
        },
        {
          "name": "stdout",
          "output_type": "stream",
          "text": [
            "Epoch: 67, Train loss: 4.007690199298313, Val metrics: {'r2': 0.2685232691488181, 'mae': 3.0538408988781907, 'rmse': np.float64(3.965067155376816)}\n"
          ]
        },
        {
          "name": "stderr",
          "output_type": "stream",
          "text": [
            "100%|██████████| 15/15 [00:03<00:00,  4.26it/s]\n"
          ]
        },
        {
          "name": "stdout",
          "output_type": "stream",
          "text": [
            "Epoch: 68, Train loss: 4.037519335570822, Val metrics: {'r2': 0.21599564909784252, 'mae': 3.1621324840831053, 'rmse': np.float64(4.104965637904045)}\n"
          ]
        },
        {
          "name": "stderr",
          "output_type": "stream",
          "text": [
            "100%|██████████| 15/15 [00:03<00:00,  4.13it/s]\n"
          ]
        },
        {
          "name": "stdout",
          "output_type": "stream",
          "text": [
            "Epoch: 69, Train loss: 3.9819771282851706, Val metrics: {'r2': 0.24067247288784277, 'mae': 3.133102348317444, 'rmse': np.float64(4.039846481086125)}\n"
          ]
        },
        {
          "name": "stderr",
          "output_type": "stream",
          "text": [
            "100%|██████████| 15/15 [00:03<00:00,  3.76it/s]\n"
          ]
        },
        {
          "name": "stdout",
          "output_type": "stream",
          "text": [
            "Epoch: 70, Train loss: 3.97925018371711, Val metrics: {'r2': 0.22633649179703363, 'mae': 3.167336956994408, 'rmse': np.float64(4.077803985517338)}\n"
          ]
        },
        {
          "name": "stderr",
          "output_type": "stream",
          "text": [
            "100%|██████████| 15/15 [00:03<00:00,  4.28it/s]\n"
          ]
        },
        {
          "name": "stdout",
          "output_type": "stream",
          "text": [
            "Epoch: 71, Train loss: 3.983094607841628, Val metrics: {'r2': 0.19796809921394265, 'mae': 3.227090327359074, 'rmse': np.float64(4.15189260179527)}\n"
          ]
        },
        {
          "name": "stderr",
          "output_type": "stream",
          "text": [
            "100%|██████████| 15/15 [00:03<00:00,  4.30it/s]\n"
          ]
        },
        {
          "name": "stdout",
          "output_type": "stream",
          "text": [
            "Epoch: 72, Train loss: 3.9668857156550597, Val metrics: {'r2': 0.255881795882856, 'mae': 3.1124123513738393, 'rmse': np.float64(3.999182784846357)}\n"
          ]
        },
        {
          "name": "stderr",
          "output_type": "stream",
          "text": [
            "100%|██████████| 15/15 [00:04<00:00,  3.71it/s]\n"
          ]
        },
        {
          "name": "stdout",
          "output_type": "stream",
          "text": [
            "Epoch: 73, Train loss: 3.9756975167552273, Val metrics: {'r2': 0.20121037839444023, 'mae': 3.2358254051240354, 'rmse': np.float64(4.143491921350732)}\n"
          ]
        },
        {
          "name": "stderr",
          "output_type": "stream",
          "text": [
            "100%|██████████| 15/15 [00:03<00:00,  4.12it/s]\n"
          ]
        },
        {
          "name": "stdout",
          "output_type": "stream",
          "text": [
            "Epoch: 74, Train loss: 3.955882467296513, Val metrics: {'r2': 0.23971692664425848, 'mae': 3.1234399877553316, 'rmse': np.float64(4.042387575875125)}\n"
          ]
        },
        {
          "name": "stderr",
          "output_type": "stream",
          "text": [
            "100%|██████████| 15/15 [00:03<00:00,  4.20it/s]\n"
          ]
        },
        {
          "name": "stdout",
          "output_type": "stream",
          "text": [
            "Epoch: 75, Train loss: 3.9277525297766576, Val metrics: {'r2': 0.20939989863050068, 'mae': 3.2196906098860776, 'rmse': np.float64(4.122196806180529)}\n"
          ]
        },
        {
          "name": "stderr",
          "output_type": "stream",
          "text": [
            "100%|██████████| 15/15 [00:04<00:00,  3.68it/s]\n"
          ]
        },
        {
          "name": "stdout",
          "output_type": "stream",
          "text": [
            "Epoch: 76, Train loss: 3.9360715807739814, Val metrics: {'r2': 0.2270469012458104, 'mae': 3.166563057405756, 'rmse': np.float64(4.075931352407633)}\n"
          ]
        },
        {
          "name": "stderr",
          "output_type": "stream",
          "text": [
            "100%|██████████| 15/15 [00:03<00:00,  4.20it/s]\n"
          ]
        },
        {
          "name": "stdout",
          "output_type": "stream",
          "text": [
            "Epoch: 77, Train loss: 3.9219800535343037, Val metrics: {'r2': 0.1861919841953309, 'mae': 3.2675706583894564, 'rmse': np.float64(4.182262339974152)}\n"
          ]
        },
        {
          "name": "stderr",
          "output_type": "stream",
          "text": [
            "100%|██████████| 15/15 [00:03<00:00,  4.22it/s]\n"
          ]
        },
        {
          "name": "stdout",
          "output_type": "stream",
          "text": [
            "Epoch: 78, Train loss: 3.9219628114212797, Val metrics: {'r2': 0.16404566996283476, 'mae': 3.3091042757989886, 'rmse': np.float64(4.23878672413179)}\n"
          ]
        },
        {
          "name": "stderr",
          "output_type": "stream",
          "text": [
            "100%|██████████| 15/15 [00:04<00:00,  3.73it/s]\n"
          ]
        },
        {
          "name": "stdout",
          "output_type": "stream",
          "text": [
            "Epoch: 79, Train loss: 3.902259678292335, Val metrics: {'r2': 0.20982772968968344, 'mae': 3.197242728120578, 'rmse': np.float64(4.121081297543733)}\n"
          ]
        },
        {
          "name": "stderr",
          "output_type": "stream",
          "text": [
            "100%|██████████| 15/15 [00:03<00:00,  4.22it/s]\n"
          ]
        },
        {
          "name": "stdout",
          "output_type": "stream",
          "text": [
            "Epoch: 80, Train loss: 3.910743394250536, Val metrics: {'r2': 0.2018393873139226, 'mae': 3.2161133170844556, 'rmse': np.float64(4.141860198434569)}\n"
          ]
        },
        {
          "name": "stderr",
          "output_type": "stream",
          "text": [
            "100%|██████████| 15/15 [00:03<00:00,  4.27it/s]\n"
          ]
        },
        {
          "name": "stdout",
          "output_type": "stream",
          "text": [
            "Epoch: 81, Train loss: 3.89698803733535, Val metrics: {'r2': 0.1922032206679397, 'mae': 3.2266544031953526, 'rmse': np.float64(4.16678745816994)}\n"
          ]
        },
        {
          "name": "stderr",
          "output_type": "stream",
          "text": [
            "100%|██████████| 15/15 [00:04<00:00,  3.72it/s]\n"
          ]
        },
        {
          "name": "stdout",
          "output_type": "stream",
          "text": [
            "Epoch: 82, Train loss: 3.8829006847080634, Val metrics: {'r2': 0.17774119143661582, 'mae': 3.2808995932679057, 'rmse': np.float64(4.2039211041466835)}\n"
          ]
        },
        {
          "name": "stderr",
          "output_type": "stream",
          "text": [
            "100%|██████████| 15/15 [00:03<00:00,  4.23it/s]\n"
          ]
        },
        {
          "name": "stdout",
          "output_type": "stream",
          "text": [
            "Epoch: 83, Train loss: 3.8478196826570388, Val metrics: {'r2': 0.20520127350938544, 'mae': 3.2291230538087285, 'rmse': np.float64(4.133128148787859)}\n"
          ]
        },
        {
          "name": "stderr",
          "output_type": "stream",
          "text": [
            "100%|██████████| 15/15 [00:03<00:00,  4.15it/s]\n"
          ]
        },
        {
          "name": "stdout",
          "output_type": "stream",
          "text": [
            "Epoch: 84, Train loss: 3.869325607683168, Val metrics: {'r2': 0.20709750943201355, 'mae': 3.196127690246444, 'rmse': np.float64(4.12819478263274)}\n"
          ]
        },
        {
          "name": "stderr",
          "output_type": "stream",
          "text": [
            "100%|██████████| 15/15 [00:04<00:00,  3.73it/s]\n"
          ]
        },
        {
          "name": "stdout",
          "output_type": "stream",
          "text": [
            "Epoch: 85, Train loss: 3.876220669631876, Val metrics: {'r2': 0.20386878726399305, 'mae': 3.200651603487227, 'rmse': np.float64(4.1365913086326325)}\n"
          ]
        },
        {
          "name": "stderr",
          "output_type": "stream",
          "text": [
            "100%|██████████| 15/15 [00:03<00:00,  4.27it/s]\n"
          ]
        },
        {
          "name": "stdout",
          "output_type": "stream",
          "text": [
            "Epoch: 86, Train loss: 3.867476110088574, Val metrics: {'r2': 0.20107570000721264, 'mae': 3.2481823288765286, 'rmse': np.float64(4.143841209370119)}\n"
          ]
        },
        {
          "name": "stderr",
          "output_type": "stream",
          "text": [
            "100%|██████████| 15/15 [00:03<00:00,  4.22it/s]\n"
          ]
        },
        {
          "name": "stdout",
          "output_type": "stream",
          "text": [
            "Epoch: 87, Train loss: 3.8493458588107647, Val metrics: {'r2': 0.1946649087319533, 'mae': 3.2236515329293427, 'rmse': np.float64(4.160433658726183)}\n"
          ]
        },
        {
          "name": "stderr",
          "output_type": "stream",
          "text": [
            "100%|██████████| 15/15 [00:04<00:00,  3.75it/s]\n"
          ]
        },
        {
          "name": "stdout",
          "output_type": "stream",
          "text": [
            "Epoch: 88, Train loss: 3.8436705578290007, Val metrics: {'r2': 0.1874970613339797, 'mae': 3.247718027423203, 'rmse': np.float64(4.178907516175429)}\n"
          ]
        },
        {
          "name": "stderr",
          "output_type": "stream",
          "text": [
            "100%|██████████| 15/15 [00:03<00:00,  4.25it/s]\n"
          ]
        },
        {
          "name": "stdout",
          "output_type": "stream",
          "text": [
            "Epoch: 89, Train loss: 3.829982096982869, Val metrics: {'r2': 0.20626061344356772, 'mae': 3.2160595943868837, 'rmse': np.float64(4.13037283008181)}\n"
          ]
        },
        {
          "name": "stderr",
          "output_type": "stream",
          "text": [
            "100%|██████████| 15/15 [00:03<00:00,  4.19it/s]\n"
          ]
        },
        {
          "name": "stdout",
          "output_type": "stream",
          "text": [
            "Epoch: 90, Train loss: 3.854880909975401, Val metrics: {'r2': 0.2051152586186309, 'mae': 3.2137735428297285, 'rmse': np.float64(4.133351790910278)}\n"
          ]
        },
        {
          "name": "stderr",
          "output_type": "stream",
          "text": [
            "100%|██████████| 15/15 [00:03<00:00,  3.88it/s]\n"
          ]
        },
        {
          "name": "stdout",
          "output_type": "stream",
          "text": [
            "Epoch: 91, Train loss: 3.8480285103650886, Val metrics: {'r2': 0.22388058273384204, 'mae': 3.164093670051896, 'rmse': np.float64(4.084271125687469)}\n"
          ]
        },
        {
          "name": "stderr",
          "output_type": "stream",
          "text": [
            "100%|██████████| 15/15 [00:03<00:00,  4.22it/s]\n"
          ]
        },
        {
          "name": "stdout",
          "output_type": "stream",
          "text": [
            "Epoch: 92, Train loss: 3.842098113467801, Val metrics: {'r2': 0.20381751004945636, 'mae': 3.2182028679666157, 'rmse': np.float64(4.136724521262196)}\n"
          ]
        },
        {
          "name": "stderr",
          "output_type": "stream",
          "text": [
            "100%|██████████| 15/15 [00:03<00:00,  3.93it/s]\n"
          ]
        },
        {
          "name": "stdout",
          "output_type": "stream",
          "text": [
            "Epoch: 93, Train loss: 3.836559377675662, Val metrics: {'r2': 0.1913520253723332, 'mae': 3.2316422199040313, 'rmse': np.float64(4.168982203271982)}\n"
          ]
        },
        {
          "name": "stderr",
          "output_type": "stream",
          "text": [
            "100%|██████████| 15/15 [00:03<00:00,  3.96it/s]\n"
          ]
        },
        {
          "name": "stdout",
          "output_type": "stream",
          "text": [
            "Epoch: 94, Train loss: 3.8376917932140064, Val metrics: {'r2': 0.2329038641014819, 'mae': 3.1624365920612796, 'rmse': np.float64(4.060459538108542)}\n"
          ]
        },
        {
          "name": "stderr",
          "output_type": "stream",
          "text": [
            "100%|██████████| 15/15 [00:03<00:00,  4.19it/s]\n"
          ]
        },
        {
          "name": "stdout",
          "output_type": "stream",
          "text": [
            "Epoch: 95, Train loss: 3.8281218544614406, Val metrics: {'r2': 0.1986819273862942, 'mae': 3.2335367291628243, 'rmse': np.float64(4.150044547092945)}\n"
          ]
        },
        {
          "name": "stderr",
          "output_type": "stream",
          "text": [
            "100%|██████████| 15/15 [00:03<00:00,  3.90it/s]\n"
          ]
        },
        {
          "name": "stdout",
          "output_type": "stream",
          "text": [
            "Epoch: 96, Train loss: 3.8391634966564805, Val metrics: {'r2': 0.1853709874783943, 'mae': 3.2641688685140053, 'rmse': np.float64(4.184371411175098)}\n"
          ]
        },
        {
          "name": "stderr",
          "output_type": "stream",
          "text": [
            "100%|██████████| 15/15 [00:03<00:00,  4.14it/s]\n"
          ]
        },
        {
          "name": "stdout",
          "output_type": "stream",
          "text": [
            "Epoch: 97, Train loss: 3.8397910172677308, Val metrics: {'r2': 0.2060044025043426, 'mae': 3.2167937492798706, 'rmse': np.float64(4.13103939730529)}\n"
          ]
        },
        {
          "name": "stderr",
          "output_type": "stream",
          "text": [
            "100%|██████████| 15/15 [00:03<00:00,  4.31it/s]\n"
          ]
        },
        {
          "name": "stdout",
          "output_type": "stream",
          "text": [
            "Epoch: 98, Train loss: 3.8309801700018276, Val metrics: {'r2': 0.18884725584342898, 'mae': 3.2584563622254885, 'rmse': np.float64(4.1754338770447275)}\n"
          ]
        },
        {
          "name": "stderr",
          "output_type": "stream",
          "text": [
            "100%|██████████| 15/15 [00:03<00:00,  3.89it/s]\n"
          ]
        },
        {
          "name": "stdout",
          "output_type": "stream",
          "text": [
            "Epoch: 99, Train loss: 3.83084807497662, Val metrics: {'r2': 0.20531309772707518, 'mae': 3.2324727295714375, 'rmse': np.float64(4.132837383299486)}\n"
          ]
        },
        {
          "name": "stderr",
          "output_type": "stream",
          "text": [
            "100%|██████████| 15/15 [00:03<00:00,  4.24it/s]\n"
          ]
        },
        {
          "name": "stdout",
          "output_type": "stream",
          "text": [
            "Epoch: 100, Train loss: 3.816460137781194, Val metrics: {'r2': 0.2048383071074874, 'mae': 3.2287177874553024, 'rmse': np.float64(4.134071793616806)}\n",
            "Best Val metrics: {'r2': 0.3712960643930062, 'mae': 2.763410614232819, 'rmse': np.float64(3.675982025317781)}\n",
            "Best test metrics: {'r2': -0.06436639316943205, 'mae': 4.36718601795665, 'rmse': np.float64(5.375457500226308)}\n"
          ]
        },
        {
          "data": {
            "image/png": "[encoded data removed]",
            "text/plain": [
              "<Figure size 900x500 with 1 Axes>"
            ]
          },
          "metadata": {},
          "output_type": "display_data"
        }
      ],
      "source": [
        "model = Model(\n",
        "    data=data,\n",
        "    col_stats_dict=col_stats_dict,\n",
        "    num_layers=1,\n",
        "    channels=128,\n",
        "    out_channels=1,\n",
        "    aggr=\"sum\",\n",
        "    norm=\"batch_norm\",\n",
        ").to(device)\n",
        "\n",
        "#copiamo i pesi del modello perché così possiamo vedere se stiamo effettivamente modificando model:\n",
        "initial_state = copy.deepcopy(model.state_dict())\n",
        "\n",
        "\n",
        "# Edge types con almeno un arco nel training set: prenderemo solo questi per il \n",
        "# pre training process:\n",
        "valid_edge_types = []\n",
        "for edge_type in data.edge_types:\n",
        "    edge_index = data[edge_type].edge_index\n",
        "    if edge_index.size(1) > 0:\n",
        "        valid_edge_types.append(edge_type)\n",
        "\n",
        "train_data = next(iter(loader_dict[\"train\"]))\n",
        "active_edge_types = [et for et in valid_edge_types if et in train_data.edge_types and train_data[et].edge_index.size(1) > 0]\n",
        "\n",
        "\n",
        "for edge_type in active_edge_types:\n",
        "    print(f\"\\nPretraining per edge_type: {edge_type}\")\n",
        "    #model.load_state_dict(initial_state)\n",
        "    edge_model = EdgePredictionModel(model)\n",
        "    pretrain_optimizer = torch.optim.Adam(edge_model.parameters(), lr=0.001)\n",
        "    try:\n",
        "        pretrain_edge_prediction(edge_model, loader_dict[\"train\"], edge_type=edge_type, optimizer=pretrain_optimizer, epochs=50)\n",
        "        model.load_state_dict(edge_model.model.state_dict())  # salva pesi aggiornati\n",
        "        #break\n",
        "    except ValueError as e:\n",
        "        print(f\"skipping edge_type {edge_type}: {e}\")\n",
        "\n",
        "\n",
        "after_state = model.state_dict()\n",
        "\n",
        "#verifica se sono cambiati\n",
        "changed_params = [k for k in initial_state if not torch.equal(initial_state[k], after_state[k])]\n",
        "print(\"Parametri modificati:\", changed_params if changed_params else \"Nessuno è cambiato\")\n",
        "\n",
        "\n",
        "model.load_state_dict(edge_model.model.state_dict())  #in teoria inutile\n",
        "\n",
        "\n",
        "#down stream\n",
        "optimizer = torch.optim.Adam(model.parameters(), lr=0.001, weight_decay=0.001)\n",
        "epochs = 100\n",
        "total_steps = epochs * len(loader_dict[\"train\"])\n",
        "warmup_steps = int(0.1 * total_steps)  # 10% warmup\n",
        "scheduler = get_cosine_schedule_with_warmup(optimizer, warmup_steps, total_steps)\n",
        "state_dict = None\n",
        "best_val_metric = -math.inf if higher_is_better else math.inf\n",
        "\n",
        "#per mantenere la storia dei MAE nel tempo:\n",
        "val_metr_history = []\n",
        "\n",
        "for epoch in range(1, epochs + 1):\n",
        "    train_loss = train(model, optimizer, scheduler)\n",
        "    val_pred = test(model, loader_dict[\"val\"])\n",
        "    #val_metrics = task.evaluate(val_pred, val_table)\n",
        "    val_metrics = custom_evaluate(val_pred, val_table, task.metrics)\n",
        "\n",
        "    val_metr_history.append(val_metrics[tune_metric])\n",
        "\n",
        "    print(f\"Epoch: {epoch:02d}, Train loss: {train_loss}, Val metrics: {val_metrics}\")\n",
        "\n",
        "    if (higher_is_better and val_metrics[tune_metric] > best_val_metric) or (\n",
        "            not higher_is_better and val_metrics[tune_metric] < best_val_metric\n",
        "    ):\n",
        "        best_val_metric = val_metrics[tune_metric]\n",
        "        state_dict = copy.deepcopy(model.state_dict())\n",
        "\n",
        "\n",
        "model.load_state_dict(state_dict)\n",
        "val_pred = test(model, loader_dict[\"val\"])\n",
        "val_metrics = custom_evaluate(val_pred, val_table, task.metrics)\n",
        "print(f\"Best Val metrics: {val_metrics}\")\n",
        "\n",
        "test_table = task.get_table(\"test\", mask_input_cols=False)\n",
        "test_pred = test(model,loader_dict[\"test\"])\n",
        "test_metrics = custom_evaluate(test_pred, test_table, task.metrics)\n",
        "print(f\"Best test metrics: {test_metrics}\")\n",
        "\n",
        "plot_validation_metrics([val_metr_history], [\"basic model\"],  metric_name=tune_metric)\n"
      ]
    },
    {
      "cell_type": "markdown",
      "metadata": {
        "id": "VkY-BYdoanwe"
      },
      "source": [
        "# Import a predefined model to use it"
      ]
    },
    {
      "cell_type": "code",
      "execution_count": null,
      "metadata": {
        "id": "OMAAXTPFanwe"
      },
      "outputs": [],
      "source": [
        "# model.load_state_dict(torch.load('best_model_GAT_head2.pth', map_location=torch.device('cpu')))"
      ]
    }
  ],
  "metadata": {
    "accelerator": "GPU",
    "colab": {
      "gpuType": "T4",
      "provenance": []
    },
    "kernelspec": {
      "display_name": ".venv",
      "language": "python",
      "name": "python3"
    },
    "language_info": {
      "codemirror_mode": {
        "name": "ipython",
        "version": 3
      },
      "file_extension": ".py",
      "mimetype": "text/x-python",
      "name": "python",
      "nbconvert_exporter": "python",
      "pygments_lexer": "ipython3",
      "version": "3.10.0"
    }
  },
  "nbformat": 4,
  "nbformat_minor": 0
}
