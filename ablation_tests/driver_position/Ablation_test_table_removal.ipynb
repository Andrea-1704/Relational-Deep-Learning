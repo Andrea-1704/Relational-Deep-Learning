{
  "cells": [
    {
      "cell_type": "markdown",
      "metadata": {
        "id": "view-in-github"
      },
      "source": [
        "<a href=\"https://colab.research.google.com/github/Andrea-1704/Pytorch_Geometric_tutorial/blob/main/train_model_baseline_f1.ipynb\" target=\"_parent\"><img src=\"https://colab.research.google.com/assets/colab-badge.svg\" alt=\"Open In Colab\"/></a>"
      ]
    },
    {
      "cell_type": "markdown",
      "metadata": {
        "id": "gAnf26iN5QYQ"
      },
      "source": [
        "# Obiettivo\n",
        "Il dataset su cui stiamo lavorando presenta tantissime tabelle (9). Domanda: sono tutte ugualmente importanti? qualcuna è \"inutile\"? capire la risposta a queste domande è il fine di questo notebook. L'idea è quella di costruire in modo compatto un loop in cui rimuoviamo una tabella prima della costruzione del grafo e valutare la differenza in termini di performance.\n"
      ]
    },
    {
      "cell_type": "markdown",
      "metadata": {
        "id": "4D3ONst6S0pI"
      },
      "source": [
        "# Libraries to install"
      ]
    },
    {
      "cell_type": "code",
      "execution_count": 33,
      "metadata": {
        "id": "zNziUzq9nTdU"
      },
      "outputs": [],
      "source": [
        "# !pip install torch==2.6.0+cu118 torchvision torchaudio --index-url https://download.pytorch.org/whl/cu118\n",
        "\n",
        "# !pip install pyg-lib -f https://data.pyg.org/whl/torch-2.6.0+cu118.html\n",
        "# !pip install torch-scatter -f https://data.pyg.org/whl/torch-2.6.0+cu118.html\n",
        "# !pip install torch-sparse -f https://data.pyg.org/whl/torch-2.6.0+cu118.html\n",
        "# !pip install torch-cluster -f https://data.pyg.org/whl/torch-2.6.0+cu118.html\n",
        "# !pip install torch-spline-conv -f https://data.pyg.org/whl/torch-2.6.0+cu118.html\n",
        "# !pip install torch-geometric==2.6.0 -f https://data.pyg.org/whl/torch-2.6.0+cu118.html\n",
        "\n",
        "# !pip install pytorch_frame[full]==1.2.2\n",
        "# !pip install relbench[full]==1.0.0"
      ]
    },
    {
      "cell_type": "markdown",
      "metadata": {
        "id": "UnQsMT_H0Cd5"
      },
      "source": [
        "# Import"
      ]
    },
    {
      "cell_type": "code",
      "execution_count": 34,
      "metadata": {
        "id": "I4CRrrOj0Dyp"
      },
      "outputs": [],
      "source": [
        "import os\n",
        "import torch\n",
        "import relbench\n",
        "import numpy as np\n",
        "from torch.nn import BCEWithLogitsLoss, L1Loss\n",
        "from relbench.datasets import get_dataset\n",
        "from relbench.tasks import get_task\n",
        "import math\n",
        "from tqdm import tqdm\n",
        "import torch_geometric\n",
        "import torch_frame\n",
        "from torch_geometric.seed import seed_everything\n",
        "from relbench.modeling.utils import get_stype_proposal\n",
        "from collections import defaultdict\n",
        "import requests\n",
        "from io import StringIO\n",
        "from torch_frame.config.text_embedder import TextEmbedderConfig\n",
        "from relbench.modeling.graph import make_pkey_fkey_graph\n",
        "from torch.nn import BCEWithLogitsLoss\n",
        "import copy\n",
        "from typing import Any, Dict, List\n",
        "from torch import Tensor\n",
        "from torch.nn import Embedding, ModuleDict\n",
        "from torch_frame.data.stats import StatType\n",
        "from torch_geometric.data import HeteroData\n",
        "from torch_geometric.nn import MLP\n",
        "from torch_geometric.typing import NodeType\n",
        "from relbench.modeling.nn import HeteroEncoder, HeteroGraphSAGE, HeteroTemporalEncoder\n",
        "from relbench.modeling.graph import get_node_train_table_input, make_pkey_fkey_graph\n",
        "from torch_geometric.loader import NeighborLoader\n",
        "import pyg_lib\n",
        "import matplotlib.pyplot as plt\n",
        "from sklearn.metrics import mean_squared_error"
      ]
    },
    {
      "cell_type": "markdown",
      "metadata": {
        "id": "3JWVJkt7XmNa"
      },
      "source": [
        "#Utility functions"
      ]
    },
    {
      "cell_type": "code",
      "execution_count": 35,
      "metadata": {
        "id": "ObC7OswYXn6e"
      },
      "outputs": [],
      "source": [
        "@torch.no_grad()\n",
        "def alignment_check(loader: NeighborLoader, expected_node_ids: torch.Tensor):\n",
        "    node_id_list = []\n",
        "\n",
        "    for batch in loader:\n",
        "        batch = batch.to(device)\n",
        "\n",
        "        node_id_list.append(batch[task.entity_table].n_id.cpu())\n",
        "\n",
        "    actual_node_ids = torch.cat(node_id_list, dim=0)\n",
        "\n",
        "    assert len(actual_node_ids) == len(expected_node_ids), \"Mismatch nella lunghezza\"\n",
        "\n",
        "    if not torch.equal(actual_node_ids, expected_node_ids):\n",
        "        raise ValueError(\"Ordine dei nodi predetti diverso da val_table!\")\n",
        "\n",
        "    return"
      ]
    },
    {
      "cell_type": "code",
      "execution_count": 36,
      "metadata": {
        "id": "nVP-uHSKYA5H"
      },
      "outputs": [],
      "source": [
        "def evaluate_performance(pred: np.ndarray, target_table, metrics) -> dict:\n",
        "    \"\"\"Custom evaluation function to replace task.evaluate.\"\"\"\n",
        "    target = target_table.df[task.target_col].to_numpy()\n",
        "\n",
        "    if len(pred) != len(target):\n",
        "        raise ValueError(\n",
        "            f\"The length of pred and target must be the same (got \"\n",
        "            f\"{len(pred)} and {len(target)}, respectively).\"\n",
        "        )\n",
        "\n",
        "    results = {}\n",
        "    for metric_fn in metrics:\n",
        "        if metric_fn.__name__ == \"rmse\":\n",
        "            results[\"rmse\"] = np.sqrt(np.mean((target - pred)**2))\n",
        "        else:\n",
        "            results[metric_fn.__name__] = metric_fn(target, pred)\n",
        "\n",
        "    return results"
      ]
    },
    {
      "cell_type": "code",
      "execution_count": 37,
      "metadata": {
        "id": "lipjiwyaYEJU"
      },
      "outputs": [],
      "source": [
        "import numpy as np\n",
        "\n",
        "def evaluate_on_train_during_training() -> float:\n",
        "    model.eval()\n",
        "    pred_list, target_list = [], []\n",
        "\n",
        "    for batch in loader_dict[\"train\"]:\n",
        "        batch = batch.to(device)\n",
        "        pred = model(batch, task.entity_table)\n",
        "        pred = pred.view(-1) if pred.size(1) == 1 else pred\n",
        "        pred_list.append(pred.detach().cpu())\n",
        "        target_list.append(batch[task.entity_table].y.detach().cpu())\n",
        "\n",
        "    pred_all = torch.cat(pred_list, dim=0).numpy()\n",
        "    target_all = torch.cat(target_list, dim=0).numpy()\n",
        "\n",
        "    mae = np.mean(np.abs(pred_all - target_all))\n",
        "    return mae\n"
      ]
    },
    {
      "cell_type": "code",
      "execution_count": 38,
      "metadata": {
        "id": "0rqwI5h4YH6j"
      },
      "outputs": [],
      "source": [
        "def rmse(true, pred):\n",
        "    \"\"\"Calculate the Root Mean Squared Error (RMSE).\"\"\"\n",
        "    return np.sqrt(np.mean((true - pred)**2))"
      ]
    },
    {
      "cell_type": "code",
      "execution_count": 39,
      "metadata": {
        "id": "QuupsoIvdGj2"
      },
      "outputs": [],
      "source": [
        "@torch.no_grad()\n",
        "def evaluate_on_full_train(model, loader) -> float:\n",
        "    model.eval()\n",
        "    pred_list, target_list = [], []\n",
        "\n",
        "    for batch in loader:\n",
        "        batch = batch.to(device)\n",
        "        pred = model(batch, task.entity_table)\n",
        "        pred = pred.view(-1) if pred.size(1) == 1 else pred\n",
        "        pred_list.append(pred.cpu())\n",
        "        target_list.append(batch[task.entity_table].y.cpu())\n",
        "\n",
        "    pred_all = torch.cat(pred_list, dim=0).numpy()\n",
        "    target_all = torch.cat(target_list, dim=0).numpy()\n",
        "\n",
        "    mae = np.mean(np.abs(pred_all - target_all))\n",
        "    return mae\n"
      ]
    },
    {
      "cell_type": "code",
      "execution_count": 40,
      "metadata": {
        "id": "cPY4bzTVpzsf"
      },
      "outputs": [],
      "source": [
        "class EarlyStopping:\n",
        "    def __init__(self, patience=10, delta=0, verbose=False, path='checkpoint.pt'):\n",
        "        \"\"\"\n",
        "        Args:\n",
        "            patience (int): Quanto aspettare senza miglioramenti prima di fermare.\n",
        "            delta (float): Miglioramento minimo richiesto per considerare un miglioramento.\n",
        "            verbose (bool): Se stampare informazioni.\n",
        "            path (str): Dove salvare il modello migliore.\n",
        "        \"\"\"\n",
        "        self.patience = patience\n",
        "        self.counter = 0\n",
        "        self.best_score = None\n",
        "        self.early_stop = False\n",
        "        self.val_loss_min = float('inf')\n",
        "        self.delta = delta\n",
        "        self.verbose = verbose\n",
        "        self.path = path\n",
        "\n",
        "    def __call__(self, val_loss, model):\n",
        "\n",
        "        score = -val_loss  # Perché vogliamo MINIMIZZARE la loss\n",
        "\n",
        "        if self.best_score is None:\n",
        "            self.best_score = score\n",
        "            self.save_checkpoint(val_loss, model)\n",
        "\n",
        "        elif score < self.best_score + self.delta:\n",
        "            self.counter += 1\n",
        "            if self.verbose:\n",
        "                print(f'EarlyStopping counter: {self.counter} / {self.patience}')\n",
        "            if self.counter >= self.patience:\n",
        "                self.early_stop = True\n",
        "\n",
        "        else:\n",
        "            self.best_score = score\n",
        "            self.save_checkpoint(val_loss, model)\n",
        "            self.counter = 0\n",
        "\n",
        "    def save_checkpoint(self, val_loss, model):\n",
        "        '''Salva il modello migliore'''\n",
        "        if self.verbose:\n",
        "            print(f'Validation loss migliorata ({self.val_loss_min:.6f} --> {val_loss:.6f}). Salvo modello...')\n",
        "        torch.save(model.state_dict(), self.path)\n",
        "        self.val_loss_min = val_loss\n"
      ]
    },
    {
      "cell_type": "markdown",
      "metadata": {
        "id": "P6q-HPJfr7c_"
      },
      "source": [
        "# Dataset and task creation"
      ]
    },
    {
      "cell_type": "code",
      "execution_count": 59,
      "metadata": {
        "colab": {
          "base_uri": "https://localhost:8080/"
        },
        "id": "6DWB-Kf6nl2y",
        "outputId": "01068382-b807-4b78-fd71-fd2ec0dc63b2"
      },
      "outputs": [
        {
          "output_type": "stream",
          "name": "stdout",
          "text": [
            "cuda\n"
          ]
        }
      ],
      "source": [
        "dataset = get_dataset(\"rel-f1\", download=True)\n",
        "task = get_task(\"rel-f1\", \"driver-position\", download=True)\n",
        "\n",
        "train_table = task.get_table(\"train\") #date  driverId  qualifying\n",
        "val_table = task.get_table(\"val\") #date  driverId  qualifying\n",
        "test_table = task.get_table(\"test\") # date  driverId\n",
        "\n",
        "out_channels = 1\n",
        "loss_fn = L1Loss()\n",
        "# this is the mae loss and is used when have regressions tasks.\n",
        "tune_metric = \"mae\"\n",
        "higher_is_better = False\n",
        "\n",
        "seed_everything(42)\n",
        "device = torch.device(\"cuda\" if torch.cuda.is_available() else \"cpu\")\n",
        "print(device)\n",
        "root_dir = \"./data\"\n",
        "\n",
        "db = dataset.get_db() #get all tables\n",
        "col_to_stype_dict = get_stype_proposal(db)\n",
        "entity_table = task.entity_table\n",
        "#this is used to get the stype of the columns"
      ]
    },
    {
      "cell_type": "code",
      "source": [
        "list(db.table_dict.keys())"
      ],
      "metadata": {
        "colab": {
          "base_uri": "https://localhost:8080/"
        },
        "id": "IuMISXZv8LVS",
        "outputId": "3bb46700-d122-45f2-cfd0-a36bf9bddedb"
      },
      "execution_count": 42,
      "outputs": [
        {
          "output_type": "execute_result",
          "data": {
            "text/plain": [
              "['circuits',\n",
              " 'results',\n",
              " 'qualifying',\n",
              " 'standings',\n",
              " 'constructor_standings',\n",
              " 'constructors',\n",
              " 'constructor_results',\n",
              " 'races',\n",
              " 'drivers']"
            ]
          },
          "metadata": {},
          "execution_count": 42
        }
      ]
    },
    {
      "cell_type": "markdown",
      "metadata": {
        "id": "1gvkjcjPr7dB"
      },
      "source": [
        "# Embedder"
      ]
    },
    {
      "cell_type": "code",
      "execution_count": 43,
      "metadata": {
        "id": "QQHYmgIxkX1j"
      },
      "outputs": [],
      "source": [
        "class LightweightGloveEmbedder:\n",
        "    def __init__(self, device=None):\n",
        "        self.device = device\n",
        "        self.embeddings = defaultdict(lambda: np.zeros(300))\n",
        "        self._load_embeddings()\n",
        "\n",
        "    def _load_embeddings(self):\n",
        "      try:\n",
        "          path = \"glove.6B.300d.txt\"\n",
        "          with open(path, encoding=\"utf-8\") as f:\n",
        "              for line in f:\n",
        "                  parts = line.strip().split()\n",
        "                  word = parts[0]\n",
        "                  vector = np.array(parts[1:], dtype=np.float32)\n",
        "                  self.embeddings[word] = vector\n",
        "          #print(f\"Loaded {len(self.embeddings)} GloVe embeddings.\")\n",
        "      except Exception as e:\n",
        "          print(f\"Failed to load GloVe: {e}\")\n",
        "\n",
        "    def __call__(self, sentences):\n",
        "        results = []\n",
        "        for text in sentences:\n",
        "            words = text.lower().split()\n",
        "            vectors = [self.embeddings[w] for w in words if w in self.embeddings]\n",
        "            if vectors:\n",
        "                avg_vector = np.mean(vectors, axis=0)\n",
        "            else:\n",
        "                #print(\"non trovato\")\n",
        "                #print(f\"Numero parole in embedding: {len(self.embeddings)}\")\n",
        "\n",
        "                avg_vector = np.zeros(300)\n",
        "            results.append(avg_vector)\n",
        "\n",
        "        tensor = torch.tensor(np.array(results), dtype=torch.float32)\n",
        "        return tensor.to(self.device) if self.device else tensor"
      ]
    },
    {
      "cell_type": "code",
      "execution_count": 44,
      "metadata": {
        "id": "L-BBpUrakdwY"
      },
      "outputs": [],
      "source": [
        "text_embedder_cfg = TextEmbedderConfig(\n",
        "    text_embedder=LightweightGloveEmbedder(device=device), batch_size=256\n",
        ")\n",
        "\n",
        "# data, col_stats_dict = make_pkey_fkey_graph(\n",
        "#     db,\n",
        "#     col_to_stype_dict=col_to_stype_dict,\n",
        "#     text_embedder_cfg=text_embedder_cfg,\n",
        "#     cache_dir=os.path.join(\n",
        "#         root_dir, f\"rel-f1_materialized_cache\"\n",
        "#     ),\n",
        "# )"
      ]
    },
    {
      "cell_type": "markdown",
      "metadata": {
        "id": "6xMIwSVTXXnr"
      },
      "source": [
        "# Graph Loader"
      ]
    },
    {
      "cell_type": "code",
      "execution_count": 45,
      "metadata": {
        "id": "LDbdc2Iz1Odp"
      },
      "outputs": [],
      "source": [
        "# qui i parametri di train_table, val_table, test_table, task e data sono\n",
        "#parametri globali\n",
        "\n",
        "def loader_dict_fn(batch_size, num_neighbours, data):\n",
        "    loader_dict = {}\n",
        "\n",
        "    for split, table in [\n",
        "        (\"train\", train_table),\n",
        "        (\"val\", val_table),\n",
        "        (\"test\", test_table),\n",
        "    ]:\n",
        "        table_input = get_node_train_table_input(\n",
        "            table=table,\n",
        "            task=task,\n",
        "        )\n",
        "\n",
        "        loader_dict[split] = NeighborLoader(\n",
        "            data,\n",
        "            num_neighbors=[num_neighbours for _ in range(2)],\n",
        "            time_attr=\"time\",\n",
        "            input_nodes=table_input.nodes,\n",
        "            input_time=table_input.time,\n",
        "            transform=table_input.transform,\n",
        "            batch_size=batch_size,\n",
        "            temporal_strategy=\"uniform\",\n",
        "            shuffle=split == \"train\",\n",
        "            num_workers=0,\n",
        "            persistent_workers=False,\n",
        "        )\n",
        "\n",
        "    return loader_dict\n"
      ]
    },
    {
      "cell_type": "markdown",
      "metadata": {
        "id": "Nr7qtFXgr7dE"
      },
      "source": [
        "# Model"
      ]
    },
    {
      "cell_type": "code",
      "execution_count": 46,
      "metadata": {
        "id": "u3m3jEqClQnw"
      },
      "outputs": [],
      "source": [
        "class Model(torch.nn.Module):\n",
        "\n",
        "    def __init__(\n",
        "        self,\n",
        "        data: HeteroData,\n",
        "        col_stats_dict: Dict[str, Dict[str, Dict[StatType, Any]]],\n",
        "        num_layers: int,\n",
        "        channels: int,\n",
        "        out_channels: int,\n",
        "        aggr: str,\n",
        "        norm: str,\n",
        "        shallow_list: List[NodeType] = [],\n",
        "        id_awareness: bool = False,\n",
        "    ):\n",
        "        super().__init__()\n",
        "\n",
        "        self.encoder = HeteroEncoder(\n",
        "            channels=channels,\n",
        "            node_to_col_names_dict={\n",
        "                node_type: data[node_type].tf.col_names_dict\n",
        "                for node_type in data.node_types\n",
        "            },\n",
        "            node_to_col_stats=col_stats_dict,\n",
        "        )\n",
        "\n",
        "        self.temporal_encoder = HeteroTemporalEncoder(\n",
        "            node_types=[\n",
        "                node_type for node_type in data.node_types if \"time\" in data[node_type]\n",
        "            ],\n",
        "            channels=channels,\n",
        "        )\n",
        "\n",
        "        self.gnn = HeteroGraphSAGE(\n",
        "            node_types=data.node_types,\n",
        "            edge_types=data.edge_types,\n",
        "            channels=channels,\n",
        "            aggr=aggr,\n",
        "            num_layers=num_layers,\n",
        "        )\n",
        "        self.head = MLP(\n",
        "            channels,\n",
        "            out_channels=out_channels,\n",
        "            norm=norm,\n",
        "            num_layers=1, ###################################################\n",
        "        )\n",
        "        self.embedding_dict = ModuleDict(\n",
        "            {\n",
        "                node: Embedding(data.num_nodes_dict[node], channels)\n",
        "                for node in shallow_list\n",
        "            }\n",
        "        )\n",
        "\n",
        "        self.id_awareness_emb = None\n",
        "        if id_awareness:\n",
        "            self.id_awareness_emb = torch.nn.Embedding(1, channels)\n",
        "        self.reset_parameters()\n",
        "\n",
        "    def reset_parameters(self):\n",
        "        self.encoder.reset_parameters()\n",
        "        self.temporal_encoder.reset_parameters()\n",
        "        self.gnn.reset_parameters()\n",
        "        self.head.reset_parameters()\n",
        "        for embedding in self.embedding_dict.values():\n",
        "            torch.nn.init.normal_(embedding.weight, std=0.1)\n",
        "        if self.id_awareness_emb is not None:\n",
        "            self.id_awareness_emb.reset_parameters()\n",
        "\n",
        "    def forward(\n",
        "        self,\n",
        "        batch: HeteroData,\n",
        "        entity_table: NodeType,\n",
        "    ) -> Tensor:\n",
        "        seed_time = batch[entity_table].seed_time\n",
        "        x_dict = self.encoder(batch.tf_dict)\n",
        "\n",
        "        rel_time_dict = self.temporal_encoder(\n",
        "            seed_time, batch.time_dict, batch.batch_dict\n",
        "        )\n",
        "\n",
        "        for node_type, rel_time in rel_time_dict.items():\n",
        "            x_dict[node_type] = x_dict[node_type] + rel_time\n",
        "\n",
        "        for node_type, embedding in self.embedding_dict.items():\n",
        "            x_dict[node_type] = x_dict[node_type] + embedding(batch[node_type].n_id)\n",
        "\n",
        "        x_dict = self.gnn(\n",
        "            x_dict,\n",
        "            batch.edge_index_dict,\n",
        "            batch.num_sampled_nodes_dict,\n",
        "            batch.num_sampled_edges_dict,\n",
        "        )\n",
        "\n",
        "        return self.head(x_dict[entity_table][: seed_time.size(0)])\n",
        "\n",
        "    def forward_dst_readout(\n",
        "        self,\n",
        "        batch: HeteroData,\n",
        "        entity_table: NodeType,\n",
        "        dst_table: NodeType,\n",
        "    ) -> Tensor:\n",
        "        if self.id_awareness_emb is None:\n",
        "            raise RuntimeError(\n",
        "                \"id_awareness must be set True to use forward_dst_readout\"\n",
        "            )\n",
        "        seed_time = batch[entity_table].seed_time\n",
        "        x_dict = self.encoder(batch.tf_dict)\n",
        "        x_dict[entity_table][: seed_time.size(0)] += self.id_awareness_emb.weight\n",
        "\n",
        "        rel_time_dict = self.temporal_encoder(\n",
        "            seed_time, batch.time_dict, batch.batch_dict\n",
        "        )\n",
        "\n",
        "        for node_type, rel_time in rel_time_dict.items():\n",
        "            x_dict[node_type] = x_dict[node_type] + rel_time\n",
        "\n",
        "        for node_type, embedding in self.embedding_dict.items():\n",
        "            x_dict[node_type] = x_dict[node_type] + embedding(batch[node_type].n_id)\n",
        "\n",
        "        x_dict = self.gnn(\n",
        "            x_dict,\n",
        "            batch.edge_index_dict,\n",
        "        )\n",
        "\n",
        "        return self.head(x_dict[dst_table])"
      ]
    },
    {
      "cell_type": "markdown",
      "metadata": {
        "id": "-H1f8MgdYMFQ"
      },
      "source": [
        "# Training functions"
      ]
    },
    {
      "cell_type": "markdown",
      "metadata": {
        "id": "04u3lZVg4I3n"
      },
      "source": [
        "Ora necessito di modificare la funzione di train per prendere anche il valore del loader_dict: utile per tuning dei parametri (vedi il codice della funzione di tuning)."
      ]
    },
    {
      "cell_type": "code",
      "execution_count": 47,
      "metadata": {
        "id": "SAHRIr15lVs6"
      },
      "outputs": [],
      "source": [
        "def train(model, optimizer, loader_dict) -> float:\n",
        "    model.train()\n",
        "\n",
        "    loss_accum = count_accum = 0\n",
        "    for batch in tqdm(loader_dict[\"train\"]):\n",
        "        batch = batch.to(device)\n",
        "\n",
        "        optimizer.zero_grad()\n",
        "        pred = model(\n",
        "            batch,\n",
        "            task.entity_table,\n",
        "        )\n",
        "        pred = pred.view(-1) if pred.size(1) == 1 else pred\n",
        "\n",
        "        loss = loss_fn(pred.float(), batch[entity_table].y.float())\n",
        "        loss.backward()\n",
        "        optimizer.step()\n",
        "\n",
        "        loss_accum += loss.detach().item() * pred.size(0)\n",
        "        count_accum += pred.size(0)\n",
        "\n",
        "    return loss_accum / count_accum\n",
        "\n",
        "\n",
        "@torch.no_grad()\n",
        "def test(model, loader: NeighborLoader) -> np.ndarray:\n",
        "    model.eval()\n",
        "\n",
        "    pred_list = []\n",
        "    for batch in loader:\n",
        "        batch = batch.to(device)\n",
        "        pred = model(\n",
        "            batch,\n",
        "            task.entity_table,\n",
        "        )\n",
        "        pred = pred.view(-1) if pred.size(1) == 1 else pred\n",
        "        pred_list.append(pred.detach().cpu())\n",
        "    return torch.cat(pred_list, dim=0).numpy()"
      ]
    },
    {
      "cell_type": "code",
      "execution_count": 48,
      "metadata": {
        "colab": {
          "base_uri": "https://localhost:8080/"
        },
        "id": "A9TjoM9pzkAy",
        "outputId": "dcd10327-9a05-407e-fbe4-fd4e489e14f6"
      },
      "outputs": [
        {
          "output_type": "stream",
          "name": "stdout",
          "text": [
            "position\n"
          ]
        }
      ],
      "source": [
        "print(task.target_col)"
      ]
    },
    {
      "cell_type": "markdown",
      "source": [
        "# Ablation test on tables"
      ],
      "metadata": {
        "id": "r2YI11G3UYeV"
      }
    },
    {
      "cell_type": "markdown",
      "source": [
        "## Preliminary analysis"
      ],
      "metadata": {
        "id": "M2or6GRjRDvu"
      }
    },
    {
      "cell_type": "markdown",
      "source": [
        "Codice per rimuovere una tabella specifica dal db"
      ],
      "metadata": {
        "id": "7Bd4NoxCVhNV"
      }
    },
    {
      "cell_type": "markdown",
      "source": [
        "Ma, attenzione, questo non basta perché non basta rimuovere semplicemente la tabella, ma dobbiamo anche rimuovere ogni riferimento di chiave esterno che si riferiscono a quella tabella. Questo lo facciamo sott."
      ],
      "metadata": {
        "id": "kiPkauR72U6J"
      }
    },
    {
      "cell_type": "code",
      "source": [
        "import copy\n",
        "from relbench.modeling.graph import make_pkey_fkey_graph\n",
        "\n",
        "def build_graph_excluding_table(dataset, table_to_remove, root_dir, text_embedder_cfg):\n",
        "    # 1. Deepcopy del db originale\n",
        "    original_db = dataset.get_db()\n",
        "    db = copy.deepcopy(original_db)\n",
        "\n",
        "    # 2. Elimina la tabella dal table_dict\n",
        "    if table_to_remove in db.table_dict:\n",
        "        del db.table_dict[table_to_remove]\n",
        "\n",
        "    # 3. Rimuovi tutti i fkey che puntano alla tabella rimossa\n",
        "    for table_name, table in db.table_dict.items():\n",
        "        table.fkey_col_to_pkey_table = {\n",
        "            col: tgt for col, tgt in table.fkey_col_to_pkey_table.items()\n",
        "            if tgt != table_to_remove\n",
        "        }\n",
        "\n",
        "    # 4. Costruisci col_to_stype_dict filtrato\n",
        "    full_stype = get_stype_proposal(original_db)\n",
        "    filtered_stype = {\n",
        "        tab: stype for tab, stype in full_stype.items()\n",
        "        if tab != table_to_remove\n",
        "    }\n",
        "\n",
        "    # 5. Costruisci il grafo\n",
        "    data, col_stats_dict = make_pkey_fkey_graph(\n",
        "        db,\n",
        "        col_to_stype_dict=filtered_stype,\n",
        "        text_embedder_cfg=text_embedder_cfg,\n",
        "        cache_dir=os.path.join(root_dir, f\"ablation_cache_{table_to_remove}\")\n",
        "    )\n",
        "\n",
        "    return data, col_stats_dict\n"
      ],
      "metadata": {
        "id": "p-B8pSPy3EsR"
      },
      "execution_count": 53,
      "outputs": []
    },
    {
      "cell_type": "code",
      "source": [
        "all_tables = list(db.table_dict.keys())"
      ],
      "metadata": {
        "id": "QbsOz_lO7wrg"
      },
      "execution_count": 54,
      "outputs": []
    },
    {
      "cell_type": "code",
      "source": [
        "print(all_tables)"
      ],
      "metadata": {
        "colab": {
          "base_uri": "https://localhost:8080/"
        },
        "id": "9ATB0Snn7yIH",
        "outputId": "e36344d3-dc82-4324-dd06-2a5f9ca0e715"
      },
      "execution_count": 55,
      "outputs": [
        {
          "output_type": "stream",
          "name": "stdout",
          "text": [
            "['circuits', 'results', 'qualifying', 'standings', 'constructor_standings', 'constructors', 'constructor_results', 'races', 'drivers']\n"
          ]
        }
      ]
    },
    {
      "cell_type": "code",
      "source": [
        "all_tables = list(db.table_dict.keys())\n",
        "ablation_results = []\n",
        "\n",
        "for table_to_remove in all_tables:\n",
        "    if table_to_remove == task.entity_table:\n",
        "      print(f\"Skipping ablation on target table: {table_to_remove}\")\n",
        "      continue\n",
        "\n",
        "    print(f\"Testing without table: {table_to_remove}\")\n",
        "\n",
        "    # Copia del DB con una tabella rimossa\n",
        "    import copy\n",
        "    #dataset_copy = dataset.deepcopy(dataset)\n",
        "\n",
        "    #db_copy.pop(table_to_remove)\n",
        "    #db_filtered = build_filtered_db(db_copy, table_to_remove)\n",
        "\n",
        "    # Ricostruisci il grafo\n",
        "\n",
        "    data, col_stats_dict = build_graph_excluding_table(\n",
        "        dataset, table_to_remove=table_to_remove,\n",
        "        root_dir=root_dir,\n",
        "        text_embedder_cfg=text_embedder_cfg\n",
        "    )\n",
        "\n",
        "    loader_dict = loader_dict_fn(batch_size=512, num_neighbours=256, data=data)\n",
        "\n",
        "    model = Model(\n",
        "        data=data,\n",
        "        col_stats_dict=col_stats_dict,\n",
        "        num_layers=2,\n",
        "        channels=128,\n",
        "        out_channels=1,\n",
        "        aggr=\"max\",\n",
        "        norm=\"batch_norm\",\n",
        "    ).to(device)\n",
        "\n",
        "    optimizer = torch.optim.Adam(model.parameters(), lr=0.0005, weight_decay=0)\n",
        "\n",
        "    scheduler = torch.optim.lr_scheduler.ReduceLROnPlateau(\n",
        "        optimizer,\n",
        "        mode=\"min\",\n",
        "        factor=0.5,\n",
        "        patience=10,\n",
        "        verbose=True\n",
        "    )\n",
        "\n",
        "    for epoch in range(15):  # Poche epoche per test rapido\n",
        "        train(model, optimizer, loader_dict)\n",
        "\n",
        "    val_pred = test(model, loader_dict[\"val\"])\n",
        "    val_mae = evaluate_performance(val_pred, val_table, task.metrics)[\"mae\"]\n",
        "\n",
        "    ablation_results.append((table_to_remove, val_mae))\n"
      ],
      "metadata": {
        "colab": {
          "base_uri": "https://localhost:8080/"
        },
        "id": "xOekr6IqUaTS",
        "outputId": "b3da55fc-f595-4057-a718-5d35d83e0f3b"
      },
      "execution_count": 62,
      "outputs": [
        {
          "output_type": "stream",
          "name": "stdout",
          "text": [
            "Testing without table: circuits\n"
          ]
        },
        {
          "output_type": "stream",
          "name": "stderr",
          "text": [
            "/usr/local/lib/python3.11/dist-packages/torch_frame/utils/io.py:113: UserWarning: Weights only load failed. Please file an issue to make `torch.load(weights_only=True)` compatible in your case. Please use `torch.serialization.add_safe_globals([scalar])` to allowlist this global.\n",
            "  warnings.warn(f\"{warn_msg} Please use \"\n",
            "/usr/local/lib/python3.11/dist-packages/torch_frame/utils/io.py:113: UserWarning: Weights only load failed. Please file an issue to make `torch.load(weights_only=True)` compatible in your case. Please use `torch.serialization.add_safe_globals([scalar])` to allowlist this global.\n",
            "  warnings.warn(f\"{warn_msg} Please use \"\n",
            "/usr/local/lib/python3.11/dist-packages/torch_frame/utils/io.py:113: UserWarning: Weights only load failed. Please file an issue to make `torch.load(weights_only=True)` compatible in your case. Please use `torch.serialization.add_safe_globals([scalar])` to allowlist this global.\n",
            "  warnings.warn(f\"{warn_msg} Please use \"\n",
            "/usr/local/lib/python3.11/dist-packages/torch_frame/utils/io.py:113: UserWarning: Weights only load failed. Please file an issue to make `torch.load(weights_only=True)` compatible in your case. Please use `torch.serialization.add_safe_globals([scalar])` to allowlist this global.\n",
            "  warnings.warn(f\"{warn_msg} Please use \"\n",
            "/usr/local/lib/python3.11/dist-packages/torch_frame/utils/io.py:113: UserWarning: Weights only load failed. Please file an issue to make `torch.load(weights_only=True)` compatible in your case. Please use `torch.serialization.add_safe_globals([scalar])` to allowlist this global.\n",
            "  warnings.warn(f\"{warn_msg} Please use \"\n",
            "/usr/local/lib/python3.11/dist-packages/torch_frame/utils/io.py:113: UserWarning: Weights only load failed. Please file an issue to make `torch.load(weights_only=True)` compatible in your case. Please use `torch.serialization.add_safe_globals([scalar])` to allowlist this global.\n",
            "  warnings.warn(f\"{warn_msg} Please use \"\n",
            "/usr/local/lib/python3.11/dist-packages/torch_frame/utils/io.py:113: UserWarning: Weights only load failed. Please file an issue to make `torch.load(weights_only=True)` compatible in your case. Please use `torch.serialization.add_safe_globals([scalar])` to allowlist this global.\n",
            "  warnings.warn(f\"{warn_msg} Please use \"\n",
            "/usr/local/lib/python3.11/dist-packages/torch/optim/lr_scheduler.py:62: UserWarning: The verbose parameter is deprecated. Please use get_last_lr() to access the learning rate.\n",
            "  warnings.warn(\n",
            "100%|██████████| 15/15 [00:02<00:00,  5.37it/s]\n",
            "100%|██████████| 15/15 [00:02<00:00,  5.51it/s]\n",
            "100%|██████████| 15/15 [00:02<00:00,  5.56it/s]\n",
            "100%|██████████| 15/15 [00:02<00:00,  5.28it/s]\n",
            "100%|██████████| 15/15 [00:02<00:00,  5.05it/s]\n",
            "100%|██████████| 15/15 [00:02<00:00,  5.48it/s]\n",
            "100%|██████████| 15/15 [00:02<00:00,  5.50it/s]\n",
            "100%|██████████| 15/15 [00:02<00:00,  5.51it/s]\n",
            "100%|██████████| 15/15 [00:03<00:00,  4.93it/s]\n",
            "100%|██████████| 15/15 [00:02<00:00,  5.29it/s]\n",
            "100%|██████████| 15/15 [00:02<00:00,  5.47it/s]\n",
            "100%|██████████| 15/15 [00:02<00:00,  5.51it/s]\n",
            "100%|██████████| 15/15 [00:02<00:00,  5.38it/s]\n",
            "100%|██████████| 15/15 [00:03<00:00,  4.94it/s]\n",
            "100%|██████████| 15/15 [00:02<00:00,  5.57it/s]\n"
          ]
        },
        {
          "output_type": "stream",
          "name": "stdout",
          "text": [
            "Testing without table: results\n"
          ]
        },
        {
          "output_type": "stream",
          "name": "stderr",
          "text": [
            "/usr/local/lib/python3.11/dist-packages/torch_frame/utils/io.py:113: UserWarning: Weights only load failed. Please file an issue to make `torch.load(weights_only=True)` compatible in your case. Please use `torch.serialization.add_safe_globals([scalar])` to allowlist this global.\n",
            "  warnings.warn(f\"{warn_msg} Please use \"\n",
            "/usr/local/lib/python3.11/dist-packages/torch_frame/utils/io.py:113: UserWarning: Weights only load failed. Please file an issue to make `torch.load(weights_only=True)` compatible in your case. Please use `torch.serialization.add_safe_globals([scalar])` to allowlist this global.\n",
            "  warnings.warn(f\"{warn_msg} Please use \"\n",
            "/usr/local/lib/python3.11/dist-packages/torch_frame/utils/io.py:113: UserWarning: Weights only load failed. Please file an issue to make `torch.load(weights_only=True)` compatible in your case. Please use `torch.serialization.add_safe_globals([scalar])` to allowlist this global.\n",
            "  warnings.warn(f\"{warn_msg} Please use \"\n",
            "/usr/local/lib/python3.11/dist-packages/torch_frame/utils/io.py:113: UserWarning: Weights only load failed. Please file an issue to make `torch.load(weights_only=True)` compatible in your case. Please use `torch.serialization.add_safe_globals([scalar])` to allowlist this global.\n",
            "  warnings.warn(f\"{warn_msg} Please use \"\n",
            "/usr/local/lib/python3.11/dist-packages/torch_frame/utils/io.py:113: UserWarning: Weights only load failed. Please file an issue to make `torch.load(weights_only=True)` compatible in your case. Please use `torch.serialization.add_safe_globals([scalar])` to allowlist this global.\n",
            "  warnings.warn(f\"{warn_msg} Please use \"\n",
            "/usr/local/lib/python3.11/dist-packages/torch_frame/utils/io.py:113: UserWarning: Weights only load failed. Please file an issue to make `torch.load(weights_only=True)` compatible in your case. Please use `torch.serialization.add_safe_globals([scalar])` to allowlist this global.\n",
            "  warnings.warn(f\"{warn_msg} Please use \"\n",
            "/usr/local/lib/python3.11/dist-packages/torch/optim/lr_scheduler.py:62: UserWarning: The verbose parameter is deprecated. Please use get_last_lr() to access the learning rate.\n",
            "  warnings.warn(\n",
            "100%|██████████| 15/15 [00:01<00:00,  8.22it/s]\n",
            "100%|██████████| 15/15 [00:01<00:00,  8.24it/s]\n",
            "100%|██████████| 15/15 [00:01<00:00,  8.25it/s]\n",
            "100%|██████████| 15/15 [00:02<00:00,  7.31it/s]\n",
            "100%|██████████| 15/15 [00:02<00:00,  7.01it/s]\n",
            "100%|██████████| 15/15 [00:01<00:00,  8.32it/s]\n",
            "100%|██████████| 15/15 [00:01<00:00,  8.38it/s]\n",
            "100%|██████████| 15/15 [00:01<00:00,  8.41it/s]\n",
            "100%|██████████| 15/15 [00:01<00:00,  8.39it/s]\n",
            "100%|██████████| 15/15 [00:01<00:00,  8.31it/s]\n",
            "100%|██████████| 15/15 [00:02<00:00,  7.10it/s]\n",
            "100%|██████████| 15/15 [00:02<00:00,  7.12it/s]\n",
            "100%|██████████| 15/15 [00:01<00:00,  8.23it/s]\n",
            "100%|██████████| 15/15 [00:01<00:00,  8.54it/s]\n",
            "100%|██████████| 15/15 [00:01<00:00,  8.43it/s]\n"
          ]
        },
        {
          "output_type": "stream",
          "name": "stdout",
          "text": [
            "Testing without table: qualifying\n"
          ]
        },
        {
          "output_type": "stream",
          "name": "stderr",
          "text": [
            "/usr/local/lib/python3.11/dist-packages/torch_frame/utils/io.py:113: UserWarning: Weights only load failed. Please file an issue to make `torch.load(weights_only=True)` compatible in your case. Please use `torch.serialization.add_safe_globals([scalar])` to allowlist this global.\n",
            "  warnings.warn(f\"{warn_msg} Please use \"\n",
            "/usr/local/lib/python3.11/dist-packages/torch_frame/utils/io.py:113: UserWarning: Weights only load failed. Please file an issue to make `torch.load(weights_only=True)` compatible in your case. Please use `torch.serialization.add_safe_globals([scalar])` to allowlist this global.\n",
            "  warnings.warn(f\"{warn_msg} Please use \"\n",
            "/usr/local/lib/python3.11/dist-packages/torch_frame/utils/io.py:113: UserWarning: Weights only load failed. Please file an issue to make `torch.load(weights_only=True)` compatible in your case. Please use `torch.serialization.add_safe_globals([scalar])` to allowlist this global.\n",
            "  warnings.warn(f\"{warn_msg} Please use \"\n",
            "/usr/local/lib/python3.11/dist-packages/torch_frame/utils/io.py:113: UserWarning: Weights only load failed. Please file an issue to make `torch.load(weights_only=True)` compatible in your case. Please use `torch.serialization.add_safe_globals([scalar])` to allowlist this global.\n",
            "  warnings.warn(f\"{warn_msg} Please use \"\n",
            "/usr/local/lib/python3.11/dist-packages/torch_frame/utils/io.py:113: UserWarning: Weights only load failed. Please file an issue to make `torch.load(weights_only=True)` compatible in your case. Please use `torch.serialization.add_safe_globals([scalar])` to allowlist this global.\n",
            "  warnings.warn(f\"{warn_msg} Please use \"\n",
            "/usr/local/lib/python3.11/dist-packages/torch_frame/utils/io.py:113: UserWarning: Weights only load failed. Please file an issue to make `torch.load(weights_only=True)` compatible in your case. Please use `torch.serialization.add_safe_globals([scalar])` to allowlist this global.\n",
            "  warnings.warn(f\"{warn_msg} Please use \"\n",
            "/usr/local/lib/python3.11/dist-packages/torch/optim/lr_scheduler.py:62: UserWarning: The verbose parameter is deprecated. Please use get_last_lr() to access the learning rate.\n",
            "  warnings.warn(\n",
            "100%|██████████| 15/15 [00:02<00:00,  5.84it/s]\n",
            "100%|██████████| 15/15 [00:02<00:00,  5.39it/s]\n",
            "100%|██████████| 15/15 [00:02<00:00,  5.59it/s]\n",
            "100%|██████████| 15/15 [00:02<00:00,  5.85it/s]\n",
            "100%|██████████| 15/15 [00:02<00:00,  5.85it/s]\n",
            "100%|██████████| 15/15 [00:02<00:00,  5.80it/s]\n",
            "100%|██████████| 15/15 [00:02<00:00,  5.23it/s]\n",
            "100%|██████████| 15/15 [00:02<00:00,  5.69it/s]\n",
            "100%|██████████| 15/15 [00:02<00:00,  5.80it/s]\n",
            "100%|██████████| 15/15 [00:02<00:00,  5.76it/s]\n",
            "100%|██████████| 15/15 [00:02<00:00,  5.81it/s]\n",
            "100%|██████████| 15/15 [00:02<00:00,  5.18it/s]\n",
            "100%|██████████| 15/15 [00:02<00:00,  5.80it/s]\n",
            "100%|██████████| 15/15 [00:02<00:00,  5.84it/s]\n",
            "100%|██████████| 15/15 [00:02<00:00,  5.81it/s]\n"
          ]
        },
        {
          "output_type": "stream",
          "name": "stdout",
          "text": [
            "Testing without table: standings\n"
          ]
        },
        {
          "output_type": "stream",
          "name": "stderr",
          "text": [
            "/usr/local/lib/python3.11/dist-packages/torch_frame/utils/io.py:113: UserWarning: Weights only load failed. Please file an issue to make `torch.load(weights_only=True)` compatible in your case. Please use `torch.serialization.add_safe_globals([scalar])` to allowlist this global.\n",
            "  warnings.warn(f\"{warn_msg} Please use \"\n",
            "/usr/local/lib/python3.11/dist-packages/torch_frame/utils/io.py:113: UserWarning: Weights only load failed. Please file an issue to make `torch.load(weights_only=True)` compatible in your case. Please use `torch.serialization.add_safe_globals([scalar])` to allowlist this global.\n",
            "  warnings.warn(f\"{warn_msg} Please use \"\n",
            "/usr/local/lib/python3.11/dist-packages/torch_frame/utils/io.py:113: UserWarning: Weights only load failed. Please file an issue to make `torch.load(weights_only=True)` compatible in your case. Please use `torch.serialization.add_safe_globals([scalar])` to allowlist this global.\n",
            "  warnings.warn(f\"{warn_msg} Please use \"\n",
            "/usr/local/lib/python3.11/dist-packages/torch_frame/utils/io.py:113: UserWarning: Weights only load failed. Please file an issue to make `torch.load(weights_only=True)` compatible in your case. Please use `torch.serialization.add_safe_globals([scalar])` to allowlist this global.\n",
            "  warnings.warn(f\"{warn_msg} Please use \"\n",
            "/usr/local/lib/python3.11/dist-packages/torch_frame/utils/io.py:113: UserWarning: Weights only load failed. Please file an issue to make `torch.load(weights_only=True)` compatible in your case. Please use `torch.serialization.add_safe_globals([scalar])` to allowlist this global.\n",
            "  warnings.warn(f\"{warn_msg} Please use \"\n",
            "/usr/local/lib/python3.11/dist-packages/torch_frame/utils/io.py:113: UserWarning: Weights only load failed. Please file an issue to make `torch.load(weights_only=True)` compatible in your case. Please use `torch.serialization.add_safe_globals([scalar])` to allowlist this global.\n",
            "  warnings.warn(f\"{warn_msg} Please use \"\n",
            "/usr/local/lib/python3.11/dist-packages/torch/optim/lr_scheduler.py:62: UserWarning: The verbose parameter is deprecated. Please use get_last_lr() to access the learning rate.\n",
            "  warnings.warn(\n",
            "100%|██████████| 15/15 [00:02<00:00,  7.36it/s]\n",
            "100%|██████████| 15/15 [00:02<00:00,  6.20it/s]\n",
            "100%|██████████| 15/15 [00:01<00:00,  7.60it/s]\n",
            "100%|██████████| 15/15 [00:01<00:00,  7.54it/s]\n",
            "100%|██████████| 15/15 [00:01<00:00,  7.59it/s]\n",
            "100%|██████████| 15/15 [00:01<00:00,  7.71it/s]\n",
            "100%|██████████| 15/15 [00:01<00:00,  7.51it/s]\n",
            "100%|██████████| 15/15 [00:02<00:00,  6.44it/s]\n",
            "100%|██████████| 15/15 [00:02<00:00,  6.99it/s]\n",
            "100%|██████████| 15/15 [00:01<00:00,  7.67it/s]\n",
            "100%|██████████| 15/15 [00:01<00:00,  7.65it/s]\n",
            "100%|██████████| 15/15 [00:01<00:00,  7.72it/s]\n",
            "100%|██████████| 15/15 [00:01<00:00,  7.65it/s]\n",
            "100%|██████████| 15/15 [00:02<00:00,  7.04it/s]\n",
            "100%|██████████| 15/15 [00:02<00:00,  6.60it/s]\n"
          ]
        },
        {
          "output_type": "stream",
          "name": "stdout",
          "text": [
            "Testing without table: constructor_standings\n"
          ]
        },
        {
          "output_type": "stream",
          "name": "stderr",
          "text": [
            "/usr/local/lib/python3.11/dist-packages/torch_frame/utils/io.py:113: UserWarning: Weights only load failed. Please file an issue to make `torch.load(weights_only=True)` compatible in your case. Please use `torch.serialization.add_safe_globals([scalar])` to allowlist this global.\n",
            "  warnings.warn(f\"{warn_msg} Please use \"\n",
            "/usr/local/lib/python3.11/dist-packages/torch_frame/utils/io.py:113: UserWarning: Weights only load failed. Please file an issue to make `torch.load(weights_only=True)` compatible in your case. Please use `torch.serialization.add_safe_globals([scalar])` to allowlist this global.\n",
            "  warnings.warn(f\"{warn_msg} Please use \"\n",
            "/usr/local/lib/python3.11/dist-packages/torch_frame/utils/io.py:113: UserWarning: Weights only load failed. Please file an issue to make `torch.load(weights_only=True)` compatible in your case. Please use `torch.serialization.add_safe_globals([scalar])` to allowlist this global.\n",
            "  warnings.warn(f\"{warn_msg} Please use \"\n",
            "/usr/local/lib/python3.11/dist-packages/torch_frame/utils/io.py:113: UserWarning: Weights only load failed. Please file an issue to make `torch.load(weights_only=True)` compatible in your case. Please use `torch.serialization.add_safe_globals([scalar])` to allowlist this global.\n",
            "  warnings.warn(f\"{warn_msg} Please use \"\n",
            "/usr/local/lib/python3.11/dist-packages/torch_frame/utils/io.py:113: UserWarning: Weights only load failed. Please file an issue to make `torch.load(weights_only=True)` compatible in your case. Please use `torch.serialization.add_safe_globals([scalar])` to allowlist this global.\n",
            "  warnings.warn(f\"{warn_msg} Please use \"\n",
            "/usr/local/lib/python3.11/dist-packages/torch_frame/utils/io.py:113: UserWarning: Weights only load failed. Please file an issue to make `torch.load(weights_only=True)` compatible in your case. Please use `torch.serialization.add_safe_globals([scalar])` to allowlist this global.\n",
            "  warnings.warn(f\"{warn_msg} Please use \"\n",
            "/usr/local/lib/python3.11/dist-packages/torch/optim/lr_scheduler.py:62: UserWarning: The verbose parameter is deprecated. Please use get_last_lr() to access the learning rate.\n",
            "  warnings.warn(\n",
            "100%|██████████| 15/15 [00:02<00:00,  5.60it/s]\n",
            "100%|██████████| 15/15 [00:02<00:00,  5.62it/s]\n",
            "100%|██████████| 15/15 [00:02<00:00,  5.62it/s]\n",
            "100%|██████████| 15/15 [00:03<00:00,  4.99it/s]\n",
            "100%|██████████| 15/15 [00:02<00:00,  5.43it/s]\n",
            "100%|██████████| 15/15 [00:02<00:00,  5.64it/s]\n",
            "100%|██████████| 15/15 [00:02<00:00,  5.63it/s]\n",
            "100%|██████████| 15/15 [00:02<00:00,  5.44it/s]\n",
            "100%|██████████| 15/15 [00:02<00:00,  5.01it/s]\n",
            "100%|██████████| 15/15 [00:02<00:00,  5.59it/s]\n",
            "100%|██████████| 15/15 [00:02<00:00,  5.61it/s]\n",
            "100%|██████████| 15/15 [00:02<00:00,  5.62it/s]\n",
            "100%|██████████| 15/15 [00:02<00:00,  5.26it/s]\n",
            "100%|██████████| 15/15 [00:02<00:00,  5.20it/s]\n",
            "100%|██████████| 15/15 [00:02<00:00,  5.60it/s]\n"
          ]
        },
        {
          "output_type": "stream",
          "name": "stdout",
          "text": [
            "Testing without table: constructors\n"
          ]
        },
        {
          "output_type": "stream",
          "name": "stderr",
          "text": [
            "/usr/local/lib/python3.11/dist-packages/torch_frame/utils/io.py:113: UserWarning: Weights only load failed. Please file an issue to make `torch.load(weights_only=True)` compatible in your case. Please use `torch.serialization.add_safe_globals([scalar])` to allowlist this global.\n",
            "  warnings.warn(f\"{warn_msg} Please use \"\n",
            "/usr/local/lib/python3.11/dist-packages/torch_frame/utils/io.py:113: UserWarning: Weights only load failed. Please file an issue to make `torch.load(weights_only=True)` compatible in your case. Please use `torch.serialization.add_safe_globals([scalar])` to allowlist this global.\n",
            "  warnings.warn(f\"{warn_msg} Please use \"\n",
            "/usr/local/lib/python3.11/dist-packages/torch_frame/utils/io.py:113: UserWarning: Weights only load failed. Please file an issue to make `torch.load(weights_only=True)` compatible in your case. Please use `torch.serialization.add_safe_globals([scalar])` to allowlist this global.\n",
            "  warnings.warn(f\"{warn_msg} Please use \"\n",
            "/usr/local/lib/python3.11/dist-packages/torch_frame/utils/io.py:113: UserWarning: Weights only load failed. Please file an issue to make `torch.load(weights_only=True)` compatible in your case. Please use `torch.serialization.add_safe_globals([scalar])` to allowlist this global.\n",
            "  warnings.warn(f\"{warn_msg} Please use \"\n",
            "/usr/local/lib/python3.11/dist-packages/torch_frame/utils/io.py:113: UserWarning: Weights only load failed. Please file an issue to make `torch.load(weights_only=True)` compatible in your case. Please use `torch.serialization.add_safe_globals([scalar])` to allowlist this global.\n",
            "  warnings.warn(f\"{warn_msg} Please use \"\n",
            "/usr/local/lib/python3.11/dist-packages/torch_frame/utils/io.py:113: UserWarning: Weights only load failed. Please file an issue to make `torch.load(weights_only=True)` compatible in your case. Please use `torch.serialization.add_safe_globals([scalar])` to allowlist this global.\n",
            "  warnings.warn(f\"{warn_msg} Please use \"\n",
            "/usr/local/lib/python3.11/dist-packages/torch_frame/utils/io.py:113: UserWarning: Weights only load failed. Please file an issue to make `torch.load(weights_only=True)` compatible in your case. Please use `torch.serialization.add_safe_globals([scalar])` to allowlist this global.\n",
            "  warnings.warn(f\"{warn_msg} Please use \"\n",
            "/usr/local/lib/python3.11/dist-packages/torch/optim/lr_scheduler.py:62: UserWarning: The verbose parameter is deprecated. Please use get_last_lr() to access the learning rate.\n",
            "  warnings.warn(\n",
            "100%|██████████| 15/15 [00:02<00:00,  5.74it/s]\n",
            "100%|██████████| 15/15 [00:02<00:00,  5.71it/s]\n",
            "100%|██████████| 15/15 [00:02<00:00,  5.08it/s]\n",
            "100%|██████████| 15/15 [00:02<00:00,  5.75it/s]\n",
            "100%|██████████| 15/15 [00:02<00:00,  5.76it/s]\n",
            "100%|██████████| 15/15 [00:02<00:00,  5.77it/s]\n",
            "100%|██████████| 15/15 [00:02<00:00,  5.59it/s]\n",
            "100%|██████████| 15/15 [00:02<00:00,  5.11it/s]\n",
            "100%|██████████| 15/15 [00:02<00:00,  5.73it/s]\n",
            "100%|██████████| 15/15 [00:02<00:00,  5.75it/s]\n",
            "100%|██████████| 15/15 [00:02<00:00,  5.75it/s]\n",
            "100%|██████████| 15/15 [00:02<00:00,  5.46it/s]\n",
            "100%|██████████| 15/15 [00:02<00:00,  5.28it/s]\n",
            "100%|██████████| 15/15 [00:02<00:00,  5.76it/s]\n",
            "100%|██████████| 15/15 [00:02<00:00,  5.78it/s]\n"
          ]
        },
        {
          "output_type": "stream",
          "name": "stdout",
          "text": [
            "Testing without table: constructor_results\n"
          ]
        },
        {
          "output_type": "stream",
          "name": "stderr",
          "text": [
            "/usr/local/lib/python3.11/dist-packages/torch_frame/utils/io.py:113: UserWarning: Weights only load failed. Please file an issue to make `torch.load(weights_only=True)` compatible in your case. Please use `torch.serialization.add_safe_globals([scalar])` to allowlist this global.\n",
            "  warnings.warn(f\"{warn_msg} Please use \"\n",
            "/usr/local/lib/python3.11/dist-packages/torch_frame/utils/io.py:113: UserWarning: Weights only load failed. Please file an issue to make `torch.load(weights_only=True)` compatible in your case. Please use `torch.serialization.add_safe_globals([scalar])` to allowlist this global.\n",
            "  warnings.warn(f\"{warn_msg} Please use \"\n",
            "/usr/local/lib/python3.11/dist-packages/torch_frame/utils/io.py:113: UserWarning: Weights only load failed. Please file an issue to make `torch.load(weights_only=True)` compatible in your case. Please use `torch.serialization.add_safe_globals([scalar])` to allowlist this global.\n",
            "  warnings.warn(f\"{warn_msg} Please use \"\n",
            "/usr/local/lib/python3.11/dist-packages/torch_frame/utils/io.py:113: UserWarning: Weights only load failed. Please file an issue to make `torch.load(weights_only=True)` compatible in your case. Please use `torch.serialization.add_safe_globals([scalar])` to allowlist this global.\n",
            "  warnings.warn(f\"{warn_msg} Please use \"\n",
            "/usr/local/lib/python3.11/dist-packages/torch_frame/utils/io.py:113: UserWarning: Weights only load failed. Please file an issue to make `torch.load(weights_only=True)` compatible in your case. Please use `torch.serialization.add_safe_globals([scalar])` to allowlist this global.\n",
            "  warnings.warn(f\"{warn_msg} Please use \"\n",
            "/usr/local/lib/python3.11/dist-packages/torch_frame/utils/io.py:113: UserWarning: Weights only load failed. Please file an issue to make `torch.load(weights_only=True)` compatible in your case. Please use `torch.serialization.add_safe_globals([scalar])` to allowlist this global.\n",
            "  warnings.warn(f\"{warn_msg} Please use \"\n",
            "/usr/local/lib/python3.11/dist-packages/torch/optim/lr_scheduler.py:62: UserWarning: The verbose parameter is deprecated. Please use get_last_lr() to access the learning rate.\n",
            "  warnings.warn(\n",
            "100%|██████████| 15/15 [00:02<00:00,  5.49it/s]\n",
            "100%|██████████| 15/15 [00:03<00:00,  4.89it/s]\n",
            "100%|██████████| 15/15 [00:02<00:00,  5.51it/s]\n",
            "100%|██████████| 15/15 [00:02<00:00,  5.57it/s]\n",
            "100%|██████████| 15/15 [00:02<00:00,  5.52it/s]\n",
            "100%|██████████| 15/15 [00:02<00:00,  5.30it/s]\n",
            "100%|██████████| 15/15 [00:02<00:00,  5.01it/s]\n",
            "100%|██████████| 15/15 [00:02<00:00,  5.53it/s]\n",
            "100%|██████████| 15/15 [00:02<00:00,  5.57it/s]\n",
            "100%|██████████| 15/15 [00:02<00:00,  5.52it/s]\n",
            "100%|██████████| 15/15 [00:02<00:00,  5.10it/s]\n",
            "100%|██████████| 15/15 [00:02<00:00,  5.31it/s]\n",
            "100%|██████████| 15/15 [00:02<00:00,  5.61it/s]\n",
            "100%|██████████| 15/15 [00:02<00:00,  5.52it/s]\n",
            "100%|██████████| 15/15 [00:02<00:00,  5.52it/s]\n"
          ]
        },
        {
          "output_type": "stream",
          "name": "stdout",
          "text": [
            "Testing without table: races\n"
          ]
        },
        {
          "output_type": "stream",
          "name": "stderr",
          "text": [
            "/usr/local/lib/python3.11/dist-packages/torch_frame/utils/io.py:113: UserWarning: Weights only load failed. Please file an issue to make `torch.load(weights_only=True)` compatible in your case. Please use `torch.serialization.add_safe_globals([scalar])` to allowlist this global.\n",
            "  warnings.warn(f\"{warn_msg} Please use \"\n",
            "/usr/local/lib/python3.11/dist-packages/torch_frame/utils/io.py:113: UserWarning: Weights only load failed. Please file an issue to make `torch.load(weights_only=True)` compatible in your case. Please use `torch.serialization.add_safe_globals([scalar])` to allowlist this global.\n",
            "  warnings.warn(f\"{warn_msg} Please use \"\n",
            "/usr/local/lib/python3.11/dist-packages/torch_frame/utils/io.py:113: UserWarning: Weights only load failed. Please file an issue to make `torch.load(weights_only=True)` compatible in your case. Please use `torch.serialization.add_safe_globals([scalar])` to allowlist this global.\n",
            "  warnings.warn(f\"{warn_msg} Please use \"\n",
            "/usr/local/lib/python3.11/dist-packages/torch_frame/utils/io.py:113: UserWarning: Weights only load failed. Please file an issue to make `torch.load(weights_only=True)` compatible in your case. Please use `torch.serialization.add_safe_globals([scalar])` to allowlist this global.\n",
            "  warnings.warn(f\"{warn_msg} Please use \"\n",
            "/usr/local/lib/python3.11/dist-packages/torch_frame/utils/io.py:113: UserWarning: Weights only load failed. Please file an issue to make `torch.load(weights_only=True)` compatible in your case. Please use `torch.serialization.add_safe_globals([scalar])` to allowlist this global.\n",
            "  warnings.warn(f\"{warn_msg} Please use \"\n",
            "/usr/local/lib/python3.11/dist-packages/torch_frame/utils/io.py:113: UserWarning: Weights only load failed. Please file an issue to make `torch.load(weights_only=True)` compatible in your case. Please use `torch.serialization.add_safe_globals([scalar])` to allowlist this global.\n",
            "  warnings.warn(f\"{warn_msg} Please use \"\n",
            "/usr/local/lib/python3.11/dist-packages/torch_geometric/data/data.py:1190: UserWarning: The node types {'circuits'} are isolated and are not referenced by any edge type \n",
            "  warnings.warn(msg)\n",
            "/usr/local/lib/python3.11/dist-packages/torch/optim/lr_scheduler.py:62: UserWarning: The verbose parameter is deprecated. Please use get_last_lr() to access the learning rate.\n",
            "  warnings.warn(\n",
            "100%|██████████| 15/15 [00:02<00:00,  6.57it/s]\n",
            "100%|██████████| 15/15 [00:01<00:00,  7.93it/s]\n",
            "100%|██████████| 15/15 [00:01<00:00,  8.02it/s]\n",
            "100%|██████████| 15/15 [00:01<00:00,  7.77it/s]\n",
            "100%|██████████| 15/15 [00:01<00:00,  7.97it/s]\n",
            "100%|██████████| 15/15 [00:01<00:00,  8.07it/s]\n",
            "100%|██████████| 15/15 [00:02<00:00,  6.82it/s]\n",
            "100%|██████████| 15/15 [00:02<00:00,  7.15it/s]\n",
            "100%|██████████| 15/15 [00:01<00:00,  7.95it/s]\n",
            "100%|██████████| 15/15 [00:01<00:00,  7.90it/s]\n",
            "100%|██████████| 15/15 [00:01<00:00,  7.90it/s]\n",
            "100%|██████████| 15/15 [00:01<00:00,  8.03it/s]\n",
            "100%|██████████| 15/15 [00:02<00:00,  7.46it/s]\n",
            "100%|██████████| 15/15 [00:02<00:00,  6.47it/s]\n",
            "100%|██████████| 15/15 [00:01<00:00,  8.05it/s]\n"
          ]
        },
        {
          "output_type": "stream",
          "name": "stdout",
          "text": [
            "Skipping ablation on target table: drivers\n"
          ]
        }
      ]
    },
    {
      "cell_type": "code",
      "source": [
        "ablation_results.sort(key=lambda x: x[1])  # ordina per MAE crescente\n",
        "for table, mae in ablation_results:\n",
        "    print(f\"{table:20s} → val MAE: {mae:.4f}\")\n"
      ],
      "metadata": {
        "colab": {
          "base_uri": "https://localhost:8080/"
        },
        "id": "WkTx_C0NU3Ae",
        "outputId": "59128924-e41a-4842-e981-e0c59829f566"
      },
      "execution_count": 63,
      "outputs": [
        {
          "output_type": "stream",
          "name": "stdout",
          "text": [
            "circuits             → val MAE: 3.8530\n",
            "constructor_results  → val MAE: 3.8537\n",
            "qualifying           → val MAE: 3.8641\n",
            "standings            → val MAE: 3.8670\n",
            "results              → val MAE: 3.8696\n",
            "races                → val MAE: 3.8744\n",
            "constructors         → val MAE: 3.8816\n",
            "constructor_standings → val MAE: 3.8895\n"
          ]
        }
      ]
    },
    {
      "cell_type": "markdown",
      "source": [
        "Adesso vediamo il modello completo che risultati ottiene con epoche pari a 15"
      ],
      "metadata": {
        "id": "uMMV5EsSCbus"
      }
    },
    {
      "cell_type": "code",
      "source": [
        "all_tables = list(db.table_dict.keys())\n",
        "ablation_results = []\n",
        "print(all_tables)\n",
        "data, col_stats_dict = build_graph_excluding_table(\n",
        "        dataset, table_to_remove=None,\n",
        "        root_dir=root_dir,\n",
        "        text_embedder_cfg=text_embedder_cfg\n",
        "    )\n",
        "\n",
        "loader_dict = loader_dict_fn(batch_size=512, num_neighbours=256, data=data)\n",
        "\n",
        "model = Model(\n",
        "        data=data,\n",
        "        col_stats_dict=col_stats_dict,\n",
        "        num_layers=2,\n",
        "        channels=128,\n",
        "        out_channels=1,\n",
        "        aggr=\"max\",\n",
        "        norm=\"batch_norm\",\n",
        ").to(device)\n",
        "\n",
        "optimizer = torch.optim.Adam(model.parameters(), lr=0.0005, weight_decay=0)\n",
        "\n",
        "scheduler = torch.optim.lr_scheduler.ReduceLROnPlateau(\n",
        "        optimizer,\n",
        "        mode=\"min\",\n",
        "        factor=0.5,\n",
        "        patience=10,\n",
        "        verbose=True\n",
        ")\n",
        "\n",
        "for epoch in range(15):  # Poche epoche per test rapido\n",
        "        train(model, optimizer, loader_dict)\n",
        "\n",
        "val_pred = test(model, loader_dict[\"val\"])\n",
        "val_mae = evaluate_performance(val_pred, val_table, task.metrics)[\"mae\"]"
      ],
      "metadata": {
        "colab": {
          "base_uri": "https://localhost:8080/"
        },
        "id": "2fG3dFbwCrTs",
        "outputId": "d9a14abe-2923-479c-ac3d-869e5a52803b"
      },
      "execution_count": 68,
      "outputs": [
        {
          "output_type": "stream",
          "name": "stdout",
          "text": [
            "['circuits', 'results', 'qualifying', 'standings', 'constructor_standings', 'constructors', 'constructor_results', 'races', 'drivers']\n"
          ]
        },
        {
          "output_type": "stream",
          "name": "stderr",
          "text": [
            "/usr/local/lib/python3.11/dist-packages/torch_frame/utils/io.py:113: UserWarning: Weights only load failed. Please file an issue to make `torch.load(weights_only=True)` compatible in your case. Please use `torch.serialization.add_safe_globals([scalar])` to allowlist this global.\n",
            "  warnings.warn(f\"{warn_msg} Please use \"\n",
            "/usr/local/lib/python3.11/dist-packages/torch_frame/utils/io.py:113: UserWarning: Weights only load failed. Please file an issue to make `torch.load(weights_only=True)` compatible in your case. Please use `torch.serialization.add_safe_globals([scalar])` to allowlist this global.\n",
            "  warnings.warn(f\"{warn_msg} Please use \"\n",
            "/usr/local/lib/python3.11/dist-packages/torch_frame/utils/io.py:113: UserWarning: Weights only load failed. Please file an issue to make `torch.load(weights_only=True)` compatible in your case. Please use `torch.serialization.add_safe_globals([scalar])` to allowlist this global.\n",
            "  warnings.warn(f\"{warn_msg} Please use \"\n",
            "/usr/local/lib/python3.11/dist-packages/torch_frame/utils/io.py:113: UserWarning: Weights only load failed. Please file an issue to make `torch.load(weights_only=True)` compatible in your case. Please use `torch.serialization.add_safe_globals([scalar])` to allowlist this global.\n",
            "  warnings.warn(f\"{warn_msg} Please use \"\n",
            "/usr/local/lib/python3.11/dist-packages/torch_frame/utils/io.py:113: UserWarning: Weights only load failed. Please file an issue to make `torch.load(weights_only=True)` compatible in your case. Please use `torch.serialization.add_safe_globals([scalar])` to allowlist this global.\n",
            "  warnings.warn(f\"{warn_msg} Please use \"\n",
            "/usr/local/lib/python3.11/dist-packages/torch_frame/utils/io.py:113: UserWarning: Weights only load failed. Please file an issue to make `torch.load(weights_only=True)` compatible in your case. Please use `torch.serialization.add_safe_globals([scalar])` to allowlist this global.\n",
            "  warnings.warn(f\"{warn_msg} Please use \"\n",
            "/usr/local/lib/python3.11/dist-packages/torch_frame/utils/io.py:113: UserWarning: Weights only load failed. Please file an issue to make `torch.load(weights_only=True)` compatible in your case. Please use `torch.serialization.add_safe_globals([scalar])` to allowlist this global.\n",
            "  warnings.warn(f\"{warn_msg} Please use \"\n",
            "/usr/local/lib/python3.11/dist-packages/torch/optim/lr_scheduler.py:62: UserWarning: The verbose parameter is deprecated. Please use get_last_lr() to access the learning rate.\n",
            "  warnings.warn(\n",
            "100%|██████████| 15/15 [00:03<00:00,  4.80it/s]\n",
            "100%|██████████| 15/15 [00:02<00:00,  5.50it/s]\n",
            "100%|██████████| 15/15 [00:02<00:00,  5.45it/s]\n",
            "100%|██████████| 15/15 [00:03<00:00,  4.96it/s]\n",
            "100%|██████████| 15/15 [00:02<00:00,  5.15it/s]\n",
            "100%|██████████| 15/15 [00:02<00:00,  5.42it/s]\n",
            "100%|██████████| 15/15 [00:02<00:00,  5.43it/s]\n",
            "100%|██████████| 15/15 [00:02<00:00,  5.28it/s]\n",
            "100%|██████████| 15/15 [00:03<00:00,  4.76it/s]\n",
            "100%|██████████| 15/15 [00:02<00:00,  5.39it/s]\n",
            "100%|██████████| 15/15 [00:02<00:00,  5.36it/s]\n",
            "100%|██████████| 15/15 [00:03<00:00,  4.76it/s]\n",
            "100%|██████████| 15/15 [00:03<00:00,  4.72it/s]\n",
            "100%|██████████| 15/15 [00:02<00:00,  5.25it/s]\n",
            "100%|██████████| 15/15 [00:02<00:00,  5.40it/s]\n"
          ]
        }
      ]
    },
    {
      "cell_type": "code",
      "source": [
        "print(val_mae)"
      ],
      "metadata": {
        "colab": {
          "base_uri": "https://localhost:8080/"
        },
        "id": "iC8LbxUfC_VL",
        "outputId": "b33d0458-d937-4ead-fa8e-e7a6d78cebbb"
      },
      "execution_count": 69,
      "outputs": [
        {
          "output_type": "stream",
          "name": "stdout",
          "text": [
            "3.8667647586636487\n"
          ]
        }
      ]
    },
    {
      "cell_type": "markdown",
      "source": [
        "| Tabella rimossa         | val MAE | Δ rispetto a baseline | Interpretazione                           |\n",
        "| ----------------------- | ------- | --------------------- | ----------------------------------------- |\n",
        "| `circuits`              | 3.8530  | **−0.0208**           | 🔥 Migliora → possibile tabella rumore    |\n",
        "| `constructor_results`   | 3.8537  | −0.0201               | 🔥 Migliora leggermente                   |\n",
        "| `qualifying`            | 3.8641  | −0.0097               | ↘️ Lieve miglioramento                    |\n",
        "| `standings`             | 3.8670  | −0.0068               | ↘️ Lieve miglioramento                    |\n",
        "| `results`               | 3.8696  | −0.0042               | 🔸 Quasi neutro                           |\n",
        "| `races`                 | 3.8744  | +0.0006               | 🔸 Identico                               |\n",
        "| `constructors`          | 3.8816  | +0.0078               | ↗️ Lieve peggioramento                    |\n",
        "| `constructor_standings` | 3.8895  | +0.0157               | 🔼 Peggiora → tabella probabilmente utile |\n"
      ],
      "metadata": {
        "id": "pGQfa0h9DefT"
      }
    },
    {
      "cell_type": "markdown",
      "source": [
        "# Removing circuits"
      ],
      "metadata": {
        "id": "biO2_W9fRIVL"
      }
    },
    {
      "cell_type": "markdown",
      "source": [
        "Proviamo a rimuovere le tabelle: circuits"
      ],
      "metadata": {
        "id": "TOOPga_HD3LZ"
      }
    },
    {
      "cell_type": "code",
      "source": [
        "print(f\"Testing without table: circuits\")\n",
        "table_to_remove = \"circuits\"\n",
        "\n",
        "data, col_stats_dict = build_graph_excluding_table(\n",
        "        dataset, table_to_remove=table_to_remove,\n",
        "        root_dir=root_dir,\n",
        "        text_embedder_cfg=text_embedder_cfg\n",
        ")\n",
        "\n",
        "loader_dict = loader_dict_fn(batch_size=512, num_neighbours=256, data=data)\n",
        "\n",
        "model = Model(\n",
        "        data=data,\n",
        "        col_stats_dict=col_stats_dict,\n",
        "        num_layers=2,\n",
        "        channels=128,\n",
        "        out_channels=1,\n",
        "        aggr=\"max\",\n",
        "        norm=\"batch_norm\",\n",
        ").to(device)\n",
        "\n",
        "optimizer = torch.optim.Adam(model.parameters(), lr=0.0005, weight_decay=0)\n",
        "\n",
        "scheduler = torch.optim.lr_scheduler.ReduceLROnPlateau(\n",
        "        optimizer,\n",
        "        mode=\"min\",\n",
        "        factor=0.5,\n",
        "        patience=10,\n",
        "        verbose=True\n",
        ")\n",
        "\n",
        "early_stopping = EarlyStopping(\n",
        "    patience=30,\n",
        "    delta=0.0,\n",
        "    verbose=True,\n",
        "    path=\"best_basic_model.pt\"\n",
        ")\n",
        "\n",
        "epochs = 600\n",
        "state_dict = None\n",
        "test_table = task.get_table(\"test\", mask_input_cols=False)\n",
        "best_val_metric = -math.inf if higher_is_better else math.inf\n",
        "best_test_metric = -math.inf if higher_is_better else math.inf\n",
        "for epoch in range(1, epochs + 1):\n",
        "    train_loss = train(model, optimizer, loader_dict=loader_dict)\n",
        "\n",
        "    train_pred = test(model, loader_dict[\"train\"])\n",
        "    train_metrics = evaluate_performance(train_pred, train_table, task.metrics)\n",
        "    train_mae_preciso = evaluate_on_full_train(model, loader_dict[\"train\"])\n",
        "\n",
        "    val_pred = test(model, loader_dict[\"val\"])\n",
        "    val_metrics = evaluate_performance(val_pred, val_table, task.metrics)\n",
        "\n",
        "    test_pred = test(model, loader_dict[\"test\"])\n",
        "    test_metrics = evaluate_performance(test_pred, test_table, task.metrics)\n",
        "\n",
        "    scheduler.step(val_metrics[tune_metric])\n",
        "\n",
        "    if (higher_is_better and val_metrics[tune_metric] > best_val_metric) or (\n",
        "            not higher_is_better and val_metrics[tune_metric] < best_val_metric\n",
        "    ):\n",
        "        best_val_metric = val_metrics[tune_metric]\n",
        "        state_dict = copy.deepcopy(model.state_dict())\n",
        "\n",
        "    #test:\n",
        "    if (higher_is_better and test_metrics[tune_metric] > best_test_metric) or (\n",
        "            not higher_is_better and test_metrics[tune_metric] < best_test_metric\n",
        "    ):\n",
        "        best_test_metric = test_metrics[tune_metric]\n",
        "        state_dict_test = copy.deepcopy(model.state_dict())\n",
        "\n",
        "    current_lr = optimizer.param_groups[0][\"lr\"]\n",
        "    print(f\"Epoch: {epoch:02d}, Train mae: {train_mae_preciso:.2f}, Validation MAE: {val_metrics[tune_metric]:.2f}, Test MAE: {test_metrics[tune_metric]:.2f}, LR: {current_lr:.6f}\")\n",
        "\n",
        "    early_stopping(val_metrics[tune_metric], model)\n",
        "\n",
        "    if early_stopping.early_stop:\n",
        "        print(f\"Early stopping triggered at epoch {epoch}\")\n",
        "        break\n",
        "print(f\"best validation results: {best_val_metric}\")\n",
        "print(f\"best test results: {best_test_metric}\")"
      ],
      "metadata": {
        "colab": {
          "base_uri": "https://localhost:8080/"
        },
        "id": "e0eSP8n3D-r-",
        "outputId": "1dec275c-90c9-4574-f70d-b3dde17c874b"
      },
      "execution_count": 70,
      "outputs": [
        {
          "output_type": "stream",
          "name": "stdout",
          "text": [
            "Testing without table: circuits\n"
          ]
        },
        {
          "output_type": "stream",
          "name": "stderr",
          "text": [
            "/usr/local/lib/python3.11/dist-packages/torch_frame/utils/io.py:113: UserWarning: Weights only load failed. Please file an issue to make `torch.load(weights_only=True)` compatible in your case. Please use `torch.serialization.add_safe_globals([scalar])` to allowlist this global.\n",
            "  warnings.warn(f\"{warn_msg} Please use \"\n",
            "/usr/local/lib/python3.11/dist-packages/torch_frame/utils/io.py:113: UserWarning: Weights only load failed. Please file an issue to make `torch.load(weights_only=True)` compatible in your case. Please use `torch.serialization.add_safe_globals([scalar])` to allowlist this global.\n",
            "  warnings.warn(f\"{warn_msg} Please use \"\n",
            "/usr/local/lib/python3.11/dist-packages/torch_frame/utils/io.py:113: UserWarning: Weights only load failed. Please file an issue to make `torch.load(weights_only=True)` compatible in your case. Please use `torch.serialization.add_safe_globals([scalar])` to allowlist this global.\n",
            "  warnings.warn(f\"{warn_msg} Please use \"\n",
            "/usr/local/lib/python3.11/dist-packages/torch_frame/utils/io.py:113: UserWarning: Weights only load failed. Please file an issue to make `torch.load(weights_only=True)` compatible in your case. Please use `torch.serialization.add_safe_globals([scalar])` to allowlist this global.\n",
            "  warnings.warn(f\"{warn_msg} Please use \"\n",
            "/usr/local/lib/python3.11/dist-packages/torch_frame/utils/io.py:113: UserWarning: Weights only load failed. Please file an issue to make `torch.load(weights_only=True)` compatible in your case. Please use `torch.serialization.add_safe_globals([scalar])` to allowlist this global.\n",
            "  warnings.warn(f\"{warn_msg} Please use \"\n",
            "/usr/local/lib/python3.11/dist-packages/torch_frame/utils/io.py:113: UserWarning: Weights only load failed. Please file an issue to make `torch.load(weights_only=True)` compatible in your case. Please use `torch.serialization.add_safe_globals([scalar])` to allowlist this global.\n",
            "  warnings.warn(f\"{warn_msg} Please use \"\n",
            "/usr/local/lib/python3.11/dist-packages/torch_frame/utils/io.py:113: UserWarning: Weights only load failed. Please file an issue to make `torch.load(weights_only=True)` compatible in your case. Please use `torch.serialization.add_safe_globals([scalar])` to allowlist this global.\n",
            "  warnings.warn(f\"{warn_msg} Please use \"\n",
            "/usr/local/lib/python3.11/dist-packages/torch/optim/lr_scheduler.py:62: UserWarning: The verbose parameter is deprecated. Please use get_last_lr() to access the learning rate.\n",
            "  warnings.warn(\n",
            "100%|██████████| 15/15 [00:02<00:00,  5.15it/s]\n"
          ]
        },
        {
          "output_type": "stream",
          "name": "stdout",
          "text": [
            "Epoch: 01, Train mae: 9.86, Validation MAE: 7.07, Test MAE: 7.90, LR: 0.000500\n",
            "Validation loss migliorata (inf --> 7.073873). Salvo modello...\n"
          ]
        },
        {
          "output_type": "stream",
          "name": "stderr",
          "text": [
            "100%|██████████| 15/15 [00:02<00:00,  5.55it/s]\n"
          ]
        },
        {
          "output_type": "stream",
          "name": "stdout",
          "text": [
            "Epoch: 02, Train mae: 9.34, Validation MAE: 6.57, Test MAE: 7.40, LR: 0.000500\n",
            "Validation loss migliorata (7.073873 --> 6.565605). Salvo modello...\n"
          ]
        },
        {
          "output_type": "stream",
          "name": "stderr",
          "text": [
            "100%|██████████| 15/15 [00:02<00:00,  5.23it/s]\n"
          ]
        },
        {
          "output_type": "stream",
          "name": "stdout",
          "text": [
            "Epoch: 03, Train mae: 8.91, Validation MAE: 6.16, Test MAE: 6.97, LR: 0.000500\n",
            "Validation loss migliorata (6.565605 --> 6.158110). Salvo modello...\n"
          ]
        },
        {
          "output_type": "stream",
          "name": "stderr",
          "text": [
            "100%|██████████| 15/15 [00:02<00:00,  5.47it/s]\n"
          ]
        },
        {
          "output_type": "stream",
          "name": "stdout",
          "text": [
            "Epoch: 04, Train mae: 8.50, Validation MAE: 5.78, Test MAE: 6.59, LR: 0.000500\n",
            "Validation loss migliorata (6.158110 --> 5.782600). Salvo modello...\n"
          ]
        },
        {
          "output_type": "stream",
          "name": "stderr",
          "text": [
            "100%|██████████| 15/15 [00:02<00:00,  5.44it/s]\n"
          ]
        },
        {
          "output_type": "stream",
          "name": "stdout",
          "text": [
            "Epoch: 05, Train mae: 8.12, Validation MAE: 5.44, Test MAE: 6.24, LR: 0.000500\n",
            "Validation loss migliorata (5.782600 --> 5.439477). Salvo modello...\n"
          ]
        },
        {
          "output_type": "stream",
          "name": "stderr",
          "text": [
            "100%|██████████| 15/15 [00:02<00:00,  5.61it/s]\n"
          ]
        },
        {
          "output_type": "stream",
          "name": "stdout",
          "text": [
            "Epoch: 06, Train mae: 7.75, Validation MAE: 5.13, Test MAE: 5.91, LR: 0.000500\n",
            "Validation loss migliorata (5.439477 --> 5.130195). Salvo modello...\n"
          ]
        },
        {
          "output_type": "stream",
          "name": "stderr",
          "text": [
            "100%|██████████| 15/15 [00:02<00:00,  5.40it/s]\n"
          ]
        },
        {
          "output_type": "stream",
          "name": "stdout",
          "text": [
            "Epoch: 07, Train mae: 7.40, Validation MAE: 4.85, Test MAE: 5.61, LR: 0.000500\n",
            "Validation loss migliorata (5.130195 --> 4.851018). Salvo modello...\n"
          ]
        },
        {
          "output_type": "stream",
          "name": "stderr",
          "text": [
            "100%|██████████| 15/15 [00:02<00:00,  5.51it/s]\n"
          ]
        },
        {
          "output_type": "stream",
          "name": "stdout",
          "text": [
            "Epoch: 08, Train mae: 7.09, Validation MAE: 4.61, Test MAE: 5.32, LR: 0.000500\n",
            "Validation loss migliorata (4.851018 --> 4.610202). Salvo modello...\n"
          ]
        },
        {
          "output_type": "stream",
          "name": "stderr",
          "text": [
            "100%|██████████| 15/15 [00:02<00:00,  5.49it/s]\n"
          ]
        },
        {
          "output_type": "stream",
          "name": "stdout",
          "text": [
            "Epoch: 09, Train mae: 6.81, Validation MAE: 4.41, Test MAE: 5.08, LR: 0.000500\n",
            "Validation loss migliorata (4.610202 --> 4.406978). Salvo modello...\n"
          ]
        },
        {
          "output_type": "stream",
          "name": "stderr",
          "text": [
            "100%|██████████| 15/15 [00:02<00:00,  5.63it/s]\n"
          ]
        },
        {
          "output_type": "stream",
          "name": "stdout",
          "text": [
            "Epoch: 10, Train mae: 6.56, Validation MAE: 4.23, Test MAE: 4.86, LR: 0.000500\n",
            "Validation loss migliorata (4.406978 --> 4.234230). Salvo modello...\n"
          ]
        },
        {
          "output_type": "stream",
          "name": "stderr",
          "text": [
            "100%|██████████| 15/15 [00:02<00:00,  5.45it/s]\n"
          ]
        },
        {
          "output_type": "stream",
          "name": "stdout",
          "text": [
            "Epoch: 11, Train mae: 6.35, Validation MAE: 4.11, Test MAE: 4.69, LR: 0.000500\n",
            "Validation loss migliorata (4.234230 --> 4.108389). Salvo modello...\n"
          ]
        },
        {
          "output_type": "stream",
          "name": "stderr",
          "text": [
            "100%|██████████| 15/15 [00:02<00:00,  5.62it/s]\n"
          ]
        },
        {
          "output_type": "stream",
          "name": "stdout",
          "text": [
            "Epoch: 12, Train mae: 6.17, Validation MAE: 4.01, Test MAE: 4.55, LR: 0.000500\n",
            "Validation loss migliorata (4.108389 --> 4.007903). Salvo modello...\n"
          ]
        },
        {
          "output_type": "stream",
          "name": "stderr",
          "text": [
            "100%|██████████| 15/15 [00:02<00:00,  5.49it/s]\n"
          ]
        },
        {
          "output_type": "stream",
          "name": "stdout",
          "text": [
            "Epoch: 13, Train mae: 6.01, Validation MAE: 3.93, Test MAE: 4.45, LR: 0.000500\n",
            "Validation loss migliorata (4.007903 --> 3.928822). Salvo modello...\n"
          ]
        },
        {
          "output_type": "stream",
          "name": "stderr",
          "text": [
            "100%|██████████| 15/15 [00:02<00:00,  5.59it/s]\n"
          ]
        },
        {
          "output_type": "stream",
          "name": "stdout",
          "text": [
            "Epoch: 14, Train mae: 5.88, Validation MAE: 3.87, Test MAE: 4.37, LR: 0.000500\n",
            "Validation loss migliorata (3.928822 --> 3.873489). Salvo modello...\n"
          ]
        },
        {
          "output_type": "stream",
          "name": "stderr",
          "text": [
            "100%|██████████| 15/15 [00:02<00:00,  5.49it/s]\n"
          ]
        },
        {
          "output_type": "stream",
          "name": "stdout",
          "text": [
            "Epoch: 15, Train mae: 5.78, Validation MAE: 3.85, Test MAE: 4.32, LR: 0.000500\n",
            "Validation loss migliorata (3.873489 --> 3.850142). Salvo modello...\n"
          ]
        },
        {
          "output_type": "stream",
          "name": "stderr",
          "text": [
            "100%|██████████| 15/15 [00:02<00:00,  5.57it/s]\n"
          ]
        },
        {
          "output_type": "stream",
          "name": "stdout",
          "text": [
            "Epoch: 16, Train mae: 5.71, Validation MAE: 3.85, Test MAE: 4.29, LR: 0.000500\n",
            "Validation loss migliorata (3.850142 --> 3.849219). Salvo modello...\n"
          ]
        },
        {
          "output_type": "stream",
          "name": "stderr",
          "text": [
            "100%|██████████| 15/15 [00:02<00:00,  5.47it/s]\n"
          ]
        },
        {
          "output_type": "stream",
          "name": "stdout",
          "text": [
            "Epoch: 17, Train mae: 5.65, Validation MAE: 3.86, Test MAE: 4.28, LR: 0.000500\n",
            "EarlyStopping counter: 1 / 30\n"
          ]
        },
        {
          "output_type": "stream",
          "name": "stderr",
          "text": [
            "100%|██████████| 15/15 [00:02<00:00,  5.55it/s]\n"
          ]
        },
        {
          "output_type": "stream",
          "name": "stdout",
          "text": [
            "Epoch: 18, Train mae: 5.61, Validation MAE: 3.88, Test MAE: 4.28, LR: 0.000500\n",
            "EarlyStopping counter: 2 / 30\n"
          ]
        },
        {
          "output_type": "stream",
          "name": "stderr",
          "text": [
            "100%|██████████| 15/15 [00:02<00:00,  5.57it/s]\n"
          ]
        },
        {
          "output_type": "stream",
          "name": "stdout",
          "text": [
            "Epoch: 19, Train mae: 5.58, Validation MAE: 3.90, Test MAE: 4.28, LR: 0.000500\n",
            "EarlyStopping counter: 3 / 30\n"
          ]
        },
        {
          "output_type": "stream",
          "name": "stderr",
          "text": [
            "100%|██████████| 15/15 [00:02<00:00,  5.59it/s]\n"
          ]
        },
        {
          "output_type": "stream",
          "name": "stdout",
          "text": [
            "Epoch: 20, Train mae: 5.56, Validation MAE: 3.89, Test MAE: 4.27, LR: 0.000500\n",
            "EarlyStopping counter: 4 / 30\n"
          ]
        },
        {
          "output_type": "stream",
          "name": "stderr",
          "text": [
            "100%|██████████| 15/15 [00:02<00:00,  5.60it/s]\n"
          ]
        },
        {
          "output_type": "stream",
          "name": "stdout",
          "text": [
            "Epoch: 21, Train mae: 5.53, Validation MAE: 3.81, Test MAE: 4.21, LR: 0.000500\n",
            "Validation loss migliorata (3.849219 --> 3.810520). Salvo modello...\n"
          ]
        },
        {
          "output_type": "stream",
          "name": "stderr",
          "text": [
            "100%|██████████| 15/15 [00:02<00:00,  5.58it/s]\n"
          ]
        },
        {
          "output_type": "stream",
          "name": "stdout",
          "text": [
            "Epoch: 22, Train mae: 5.38, Validation MAE: 3.49, Test MAE: 3.92, LR: 0.000500\n",
            "Validation loss migliorata (3.810520 --> 3.494952). Salvo modello...\n"
          ]
        },
        {
          "output_type": "stream",
          "name": "stderr",
          "text": [
            "100%|██████████| 15/15 [00:02<00:00,  5.62it/s]\n"
          ]
        },
        {
          "output_type": "stream",
          "name": "stdout",
          "text": [
            "Epoch: 23, Train mae: 5.20, Validation MAE: 3.35, Test MAE: 3.86, LR: 0.000500\n",
            "Validation loss migliorata (3.494952 --> 3.346861). Salvo modello...\n"
          ]
        },
        {
          "output_type": "stream",
          "name": "stderr",
          "text": [
            "100%|██████████| 15/15 [00:02<00:00,  5.57it/s]\n"
          ]
        },
        {
          "output_type": "stream",
          "name": "stdout",
          "text": [
            "Epoch: 24, Train mae: 5.15, Validation MAE: 3.29, Test MAE: 3.81, LR: 0.000500\n",
            "Validation loss migliorata (3.346861 --> 3.286716). Salvo modello...\n"
          ]
        },
        {
          "output_type": "stream",
          "name": "stderr",
          "text": [
            "100%|██████████| 15/15 [00:02<00:00,  5.55it/s]\n"
          ]
        },
        {
          "output_type": "stream",
          "name": "stdout",
          "text": [
            "Epoch: 25, Train mae: 5.01, Validation MAE: 3.10, Test MAE: 4.08, LR: 0.000500\n",
            "Validation loss migliorata (3.286716 --> 3.102877). Salvo modello...\n"
          ]
        },
        {
          "output_type": "stream",
          "name": "stderr",
          "text": [
            "100%|██████████| 15/15 [00:02<00:00,  5.57it/s]\n"
          ]
        },
        {
          "output_type": "stream",
          "name": "stdout",
          "text": [
            "Epoch: 26, Train mae: 4.88, Validation MAE: 3.13, Test MAE: 3.93, LR: 0.000500\n",
            "EarlyStopping counter: 1 / 30\n"
          ]
        },
        {
          "output_type": "stream",
          "name": "stderr",
          "text": [
            "100%|██████████| 15/15 [00:02<00:00,  5.57it/s]\n"
          ]
        },
        {
          "output_type": "stream",
          "name": "stdout",
          "text": [
            "Epoch: 27, Train mae: 4.88, Validation MAE: 2.82, Test MAE: 4.10, LR: 0.000500\n",
            "Validation loss migliorata (3.102877 --> 2.824219). Salvo modello...\n"
          ]
        },
        {
          "output_type": "stream",
          "name": "stderr",
          "text": [
            "100%|██████████| 15/15 [00:02<00:00,  5.54it/s]\n"
          ]
        },
        {
          "output_type": "stream",
          "name": "stdout",
          "text": [
            "Epoch: 28, Train mae: 4.79, Validation MAE: 2.92, Test MAE: 4.09, LR: 0.000500\n",
            "EarlyStopping counter: 1 / 30\n"
          ]
        },
        {
          "output_type": "stream",
          "name": "stderr",
          "text": [
            "100%|██████████| 15/15 [00:02<00:00,  5.57it/s]\n"
          ]
        },
        {
          "output_type": "stream",
          "name": "stdout",
          "text": [
            "Epoch: 29, Train mae: 4.74, Validation MAE: 2.86, Test MAE: 4.14, LR: 0.000500\n",
            "EarlyStopping counter: 2 / 30\n"
          ]
        },
        {
          "output_type": "stream",
          "name": "stderr",
          "text": [
            "100%|██████████| 15/15 [00:02<00:00,  5.49it/s]\n"
          ]
        },
        {
          "output_type": "stream",
          "name": "stdout",
          "text": [
            "Epoch: 30, Train mae: 4.68, Validation MAE: 2.97, Test MAE: 4.04, LR: 0.000500\n",
            "EarlyStopping counter: 3 / 30\n"
          ]
        },
        {
          "output_type": "stream",
          "name": "stderr",
          "text": [
            "100%|██████████| 15/15 [00:02<00:00,  5.61it/s]\n"
          ]
        },
        {
          "output_type": "stream",
          "name": "stdout",
          "text": [
            "Epoch: 31, Train mae: 4.59, Validation MAE: 2.83, Test MAE: 4.09, LR: 0.000500\n",
            "EarlyStopping counter: 4 / 30\n"
          ]
        },
        {
          "output_type": "stream",
          "name": "stderr",
          "text": [
            "100%|██████████| 15/15 [00:02<00:00,  5.28it/s]\n"
          ]
        },
        {
          "output_type": "stream",
          "name": "stdout",
          "text": [
            "Epoch: 32, Train mae: 4.56, Validation MAE: 2.79, Test MAE: 4.19, LR: 0.000500\n",
            "Validation loss migliorata (2.824219 --> 2.793760). Salvo modello...\n"
          ]
        },
        {
          "output_type": "stream",
          "name": "stderr",
          "text": [
            "100%|██████████| 15/15 [00:02<00:00,  5.56it/s]\n"
          ]
        },
        {
          "output_type": "stream",
          "name": "stdout",
          "text": [
            "Epoch: 33, Train mae: 4.48, Validation MAE: 2.85, Test MAE: 4.19, LR: 0.000500\n",
            "EarlyStopping counter: 1 / 30\n"
          ]
        },
        {
          "output_type": "stream",
          "name": "stderr",
          "text": [
            "100%|██████████| 15/15 [00:02<00:00,  5.21it/s]\n"
          ]
        },
        {
          "output_type": "stream",
          "name": "stdout",
          "text": [
            "Epoch: 34, Train mae: 4.44, Validation MAE: 2.85, Test MAE: 4.17, LR: 0.000500\n",
            "EarlyStopping counter: 2 / 30\n"
          ]
        },
        {
          "output_type": "stream",
          "name": "stderr",
          "text": [
            "100%|██████████| 15/15 [00:02<00:00,  5.55it/s]\n"
          ]
        },
        {
          "output_type": "stream",
          "name": "stdout",
          "text": [
            "Epoch: 35, Train mae: 4.42, Validation MAE: 2.99, Test MAE: 4.31, LR: 0.000500\n",
            "EarlyStopping counter: 3 / 30\n"
          ]
        },
        {
          "output_type": "stream",
          "name": "stderr",
          "text": [
            "100%|██████████| 15/15 [00:02<00:00,  5.12it/s]\n"
          ]
        },
        {
          "output_type": "stream",
          "name": "stdout",
          "text": [
            "Epoch: 36, Train mae: 4.35, Validation MAE: 2.79, Test MAE: 4.37, LR: 0.000500\n",
            "Validation loss migliorata (2.793760 --> 2.788670). Salvo modello...\n"
          ]
        },
        {
          "output_type": "stream",
          "name": "stderr",
          "text": [
            "100%|██████████| 15/15 [00:02<00:00,  5.55it/s]\n"
          ]
        },
        {
          "output_type": "stream",
          "name": "stdout",
          "text": [
            "Epoch: 37, Train mae: 4.47, Validation MAE: 3.02, Test MAE: 4.37, LR: 0.000500\n",
            "EarlyStopping counter: 1 / 30\n"
          ]
        },
        {
          "output_type": "stream",
          "name": "stderr",
          "text": [
            "100%|██████████| 15/15 [00:02<00:00,  5.00it/s]\n"
          ]
        },
        {
          "output_type": "stream",
          "name": "stdout",
          "text": [
            "Epoch: 38, Train mae: 4.25, Validation MAE: 2.83, Test MAE: 4.46, LR: 0.000500\n",
            "EarlyStopping counter: 2 / 30\n"
          ]
        },
        {
          "output_type": "stream",
          "name": "stderr",
          "text": [
            "100%|██████████| 15/15 [00:02<00:00,  5.54it/s]\n"
          ]
        },
        {
          "output_type": "stream",
          "name": "stdout",
          "text": [
            "Epoch: 39, Train mae: 4.23, Validation MAE: 2.83, Test MAE: 4.56, LR: 0.000500\n",
            "EarlyStopping counter: 3 / 30\n"
          ]
        },
        {
          "output_type": "stream",
          "name": "stderr",
          "text": [
            "100%|██████████| 15/15 [00:03<00:00,  4.92it/s]\n"
          ]
        },
        {
          "output_type": "stream",
          "name": "stdout",
          "text": [
            "Epoch: 40, Train mae: 4.21, Validation MAE: 2.86, Test MAE: 4.55, LR: 0.000500\n",
            "EarlyStopping counter: 4 / 30\n"
          ]
        },
        {
          "output_type": "stream",
          "name": "stderr",
          "text": [
            "100%|██████████| 15/15 [00:02<00:00,  5.60it/s]\n"
          ]
        },
        {
          "output_type": "stream",
          "name": "stdout",
          "text": [
            "Epoch: 41, Train mae: 4.15, Validation MAE: 2.84, Test MAE: 4.48, LR: 0.000500\n",
            "EarlyStopping counter: 5 / 30\n"
          ]
        },
        {
          "output_type": "stream",
          "name": "stderr",
          "text": [
            "100%|██████████| 15/15 [00:03<00:00,  4.97it/s]\n"
          ]
        },
        {
          "output_type": "stream",
          "name": "stdout",
          "text": [
            "Epoch: 42, Train mae: 4.05, Validation MAE: 2.86, Test MAE: 4.65, LR: 0.000500\n",
            "EarlyStopping counter: 6 / 30\n"
          ]
        },
        {
          "output_type": "stream",
          "name": "stderr",
          "text": [
            "100%|██████████| 15/15 [00:02<00:00,  5.56it/s]\n"
          ]
        },
        {
          "output_type": "stream",
          "name": "stdout",
          "text": [
            "Epoch: 43, Train mae: 4.02, Validation MAE: 2.91, Test MAE: 4.64, LR: 0.000500\n",
            "EarlyStopping counter: 7 / 30\n"
          ]
        },
        {
          "output_type": "stream",
          "name": "stderr",
          "text": [
            "100%|██████████| 15/15 [00:02<00:00,  5.17it/s]\n"
          ]
        },
        {
          "output_type": "stream",
          "name": "stdout",
          "text": [
            "Epoch: 44, Train mae: 3.94, Validation MAE: 2.86, Test MAE: 4.50, LR: 0.000500\n",
            "EarlyStopping counter: 8 / 30\n"
          ]
        },
        {
          "output_type": "stream",
          "name": "stderr",
          "text": [
            "100%|██████████| 15/15 [00:02<00:00,  5.55it/s]\n"
          ]
        },
        {
          "output_type": "stream",
          "name": "stdout",
          "text": [
            "Epoch: 45, Train mae: 3.95, Validation MAE: 2.85, Test MAE: 4.26, LR: 0.000500\n",
            "EarlyStopping counter: 9 / 30\n"
          ]
        },
        {
          "output_type": "stream",
          "name": "stderr",
          "text": [
            "100%|██████████| 15/15 [00:02<00:00,  5.34it/s]\n"
          ]
        },
        {
          "output_type": "stream",
          "name": "stdout",
          "text": [
            "Epoch: 46, Train mae: 3.86, Validation MAE: 2.82, Test MAE: 4.22, LR: 0.000500\n",
            "EarlyStopping counter: 10 / 30\n"
          ]
        },
        {
          "output_type": "stream",
          "name": "stderr",
          "text": [
            "100%|██████████| 15/15 [00:02<00:00,  5.58it/s]\n"
          ]
        },
        {
          "output_type": "stream",
          "name": "stdout",
          "text": [
            "Epoch: 47, Train mae: 3.68, Validation MAE: 2.93, Test MAE: 4.35, LR: 0.000250\n",
            "EarlyStopping counter: 11 / 30\n"
          ]
        },
        {
          "output_type": "stream",
          "name": "stderr",
          "text": [
            "100%|██████████| 15/15 [00:02<00:00,  5.36it/s]\n"
          ]
        },
        {
          "output_type": "stream",
          "name": "stdout",
          "text": [
            "Epoch: 48, Train mae: 3.65, Validation MAE: 2.94, Test MAE: 4.50, LR: 0.000250\n",
            "EarlyStopping counter: 12 / 30\n"
          ]
        },
        {
          "output_type": "stream",
          "name": "stderr",
          "text": [
            "100%|██████████| 15/15 [00:02<00:00,  5.56it/s]\n"
          ]
        },
        {
          "output_type": "stream",
          "name": "stdout",
          "text": [
            "Epoch: 49, Train mae: 3.58, Validation MAE: 3.02, Test MAE: 4.29, LR: 0.000250\n",
            "EarlyStopping counter: 13 / 30\n"
          ]
        },
        {
          "output_type": "stream",
          "name": "stderr",
          "text": [
            "100%|██████████| 15/15 [00:02<00:00,  5.47it/s]\n"
          ]
        },
        {
          "output_type": "stream",
          "name": "stdout",
          "text": [
            "Epoch: 50, Train mae: 3.52, Validation MAE: 2.92, Test MAE: 4.38, LR: 0.000250\n",
            "EarlyStopping counter: 14 / 30\n"
          ]
        },
        {
          "output_type": "stream",
          "name": "stderr",
          "text": [
            "100%|██████████| 15/15 [00:02<00:00,  5.56it/s]\n"
          ]
        },
        {
          "output_type": "stream",
          "name": "stdout",
          "text": [
            "Epoch: 51, Train mae: 3.46, Validation MAE: 2.99, Test MAE: 4.42, LR: 0.000250\n",
            "EarlyStopping counter: 15 / 30\n"
          ]
        },
        {
          "output_type": "stream",
          "name": "stderr",
          "text": [
            "100%|██████████| 15/15 [00:02<00:00,  5.57it/s]\n"
          ]
        },
        {
          "output_type": "stream",
          "name": "stdout",
          "text": [
            "Epoch: 52, Train mae: 3.32, Validation MAE: 3.06, Test MAE: 4.45, LR: 0.000250\n",
            "EarlyStopping counter: 16 / 30\n"
          ]
        },
        {
          "output_type": "stream",
          "name": "stderr",
          "text": [
            "100%|██████████| 15/15 [00:02<00:00,  5.56it/s]\n"
          ]
        },
        {
          "output_type": "stream",
          "name": "stdout",
          "text": [
            "Epoch: 53, Train mae: 3.28, Validation MAE: 2.98, Test MAE: 4.48, LR: 0.000250\n",
            "EarlyStopping counter: 17 / 30\n"
          ]
        },
        {
          "output_type": "stream",
          "name": "stderr",
          "text": [
            "100%|██████████| 15/15 [00:02<00:00,  5.57it/s]\n"
          ]
        },
        {
          "output_type": "stream",
          "name": "stdout",
          "text": [
            "Epoch: 54, Train mae: 3.23, Validation MAE: 3.16, Test MAE: 4.68, LR: 0.000250\n",
            "EarlyStopping counter: 18 / 30\n"
          ]
        },
        {
          "output_type": "stream",
          "name": "stderr",
          "text": [
            "100%|██████████| 15/15 [00:02<00:00,  5.61it/s]\n"
          ]
        },
        {
          "output_type": "stream",
          "name": "stdout",
          "text": [
            "Epoch: 55, Train mae: 3.14, Validation MAE: 3.01, Test MAE: 4.65, LR: 0.000250\n",
            "EarlyStopping counter: 19 / 30\n"
          ]
        },
        {
          "output_type": "stream",
          "name": "stderr",
          "text": [
            "100%|██████████| 15/15 [00:02<00:00,  5.56it/s]\n"
          ]
        },
        {
          "output_type": "stream",
          "name": "stdout",
          "text": [
            "Epoch: 56, Train mae: 3.18, Validation MAE: 3.10, Test MAE: 4.60, LR: 0.000250\n",
            "EarlyStopping counter: 20 / 30\n"
          ]
        },
        {
          "output_type": "stream",
          "name": "stderr",
          "text": [
            "100%|██████████| 15/15 [00:02<00:00,  5.56it/s]\n"
          ]
        },
        {
          "output_type": "stream",
          "name": "stdout",
          "text": [
            "Epoch: 57, Train mae: 2.99, Validation MAE: 3.13, Test MAE: 4.70, LR: 0.000250\n",
            "EarlyStopping counter: 21 / 30\n"
          ]
        },
        {
          "output_type": "stream",
          "name": "stderr",
          "text": [
            "100%|██████████| 15/15 [00:02<00:00,  5.57it/s]\n"
          ]
        },
        {
          "output_type": "stream",
          "name": "stdout",
          "text": [
            "Epoch: 58, Train mae: 2.91, Validation MAE: 3.12, Test MAE: 4.59, LR: 0.000125\n",
            "EarlyStopping counter: 22 / 30\n"
          ]
        },
        {
          "output_type": "stream",
          "name": "stderr",
          "text": [
            "100%|██████████| 15/15 [00:02<00:00,  5.44it/s]\n"
          ]
        },
        {
          "output_type": "stream",
          "name": "stdout",
          "text": [
            "Epoch: 59, Train mae: 2.86, Validation MAE: 3.15, Test MAE: 4.69, LR: 0.000125\n",
            "EarlyStopping counter: 23 / 30\n"
          ]
        },
        {
          "output_type": "stream",
          "name": "stderr",
          "text": [
            "100%|██████████| 15/15 [00:02<00:00,  5.53it/s]\n"
          ]
        },
        {
          "output_type": "stream",
          "name": "stdout",
          "text": [
            "Epoch: 60, Train mae: 2.80, Validation MAE: 3.15, Test MAE: 4.75, LR: 0.000125\n",
            "EarlyStopping counter: 24 / 30\n"
          ]
        },
        {
          "output_type": "stream",
          "name": "stderr",
          "text": [
            "100%|██████████| 15/15 [00:02<00:00,  5.32it/s]\n"
          ]
        },
        {
          "output_type": "stream",
          "name": "stdout",
          "text": [
            "Epoch: 61, Train mae: 2.74, Validation MAE: 3.18, Test MAE: 4.78, LR: 0.000125\n",
            "EarlyStopping counter: 25 / 30\n"
          ]
        },
        {
          "output_type": "stream",
          "name": "stderr",
          "text": [
            "100%|██████████| 15/15 [00:02<00:00,  5.49it/s]\n"
          ]
        },
        {
          "output_type": "stream",
          "name": "stdout",
          "text": [
            "Epoch: 62, Train mae: 2.72, Validation MAE: 3.21, Test MAE: 4.67, LR: 0.000125\n",
            "EarlyStopping counter: 26 / 30\n"
          ]
        },
        {
          "output_type": "stream",
          "name": "stderr",
          "text": [
            "100%|██████████| 15/15 [00:02<00:00,  5.25it/s]\n"
          ]
        },
        {
          "output_type": "stream",
          "name": "stdout",
          "text": [
            "Epoch: 63, Train mae: 2.67, Validation MAE: 3.15, Test MAE: 4.69, LR: 0.000125\n",
            "EarlyStopping counter: 27 / 30\n"
          ]
        },
        {
          "output_type": "stream",
          "name": "stderr",
          "text": [
            "100%|██████████| 15/15 [00:02<00:00,  5.54it/s]\n"
          ]
        },
        {
          "output_type": "stream",
          "name": "stdout",
          "text": [
            "Epoch: 64, Train mae: 2.76, Validation MAE: 3.21, Test MAE: 4.80, LR: 0.000125\n",
            "EarlyStopping counter: 28 / 30\n"
          ]
        },
        {
          "output_type": "stream",
          "name": "stderr",
          "text": [
            "100%|██████████| 15/15 [00:02<00:00,  5.11it/s]\n"
          ]
        },
        {
          "output_type": "stream",
          "name": "stdout",
          "text": [
            "Epoch: 65, Train mae: 2.76, Validation MAE: 3.36, Test MAE: 4.84, LR: 0.000125\n",
            "EarlyStopping counter: 29 / 30\n"
          ]
        },
        {
          "output_type": "stream",
          "name": "stderr",
          "text": [
            "100%|██████████| 15/15 [00:02<00:00,  5.52it/s]\n"
          ]
        },
        {
          "output_type": "stream",
          "name": "stdout",
          "text": [
            "Epoch: 66, Train mae: 2.59, Validation MAE: 3.28, Test MAE: 4.74, LR: 0.000125\n",
            "EarlyStopping counter: 30 / 30\n",
            "Early stopping triggered at epoch 66\n",
            "best validation results: 2.7886699412135014\n",
            "best test results: 3.8109309199818395\n"
          ]
        }
      ]
    },
    {
      "cell_type": "markdown",
      "source": [
        "Proviamo adesso a rimuovere sia circuits che constructor_results:"
      ],
      "metadata": {
        "id": "qPGDh6-DGVAk"
      }
    },
    {
      "cell_type": "markdown",
      "source": [
        "# Multiple tables removal"
      ],
      "metadata": {
        "id": "AgBNAJOzQvdE"
      }
    },
    {
      "cell_type": "markdown",
      "source": [
        "Progetto una funzione che effettua la rimozione per lista di tables:"
      ],
      "metadata": {
        "id": "pDTUymtnS6DL"
      }
    },
    {
      "cell_type": "code",
      "source": [
        "def build_graph_excluding_tables(dataset, tables_to_remove, root_dir, text_embedder_cfg):\n",
        "    import copy\n",
        "    from relbench.modeling.graph import make_pkey_fkey_graph\n",
        "\n",
        "    # 1. Deepcopy del db originale\n",
        "    original_db = dataset.get_db()\n",
        "    db = copy.deepcopy(original_db)\n",
        "\n",
        "    # 2. Rimuovi tutte le tabelle\n",
        "    for table_to_remove in tables_to_remove:\n",
        "        if table_to_remove in db.table_dict:\n",
        "            del db.table_dict[table_to_remove]\n",
        "\n",
        "    # 3. Rimuovi fkey che puntano a tabelle escluse\n",
        "    for table in db.table_dict.values():\n",
        "        table.fkey_col_to_pkey_table = {\n",
        "            col: tgt for col, tgt in table.fkey_col_to_pkey_table.items()\n",
        "            if tgt not in tables_to_remove\n",
        "        }\n",
        "        # Rimuoviamo anche le colonne fkey nei df\n",
        "        table.df = table.df.drop(\n",
        "            columns=[\n",
        "                col for col, tgt in table.fkey_col_to_pkey_table.items()\n",
        "                if tgt not in db.table_dict\n",
        "            ],\n",
        "            errors=\"ignore\"\n",
        "        )\n",
        "\n",
        "    # 4. Filtra anche lo stype\n",
        "    full_stype = get_stype_proposal(original_db)\n",
        "    filtered_stype = {\n",
        "        tab: stype for tab, stype in full_stype.items()\n",
        "        if tab not in tables_to_remove\n",
        "    }\n",
        "\n",
        "    # 5. Costruzione del grafo UNA sola volta\n",
        "    cache_name = \"_\".join(sorted(tables_to_remove))\n",
        "    data, col_stats_dict = make_pkey_fkey_graph(\n",
        "        db,\n",
        "        col_to_stype_dict=filtered_stype,\n",
        "        text_embedder_cfg=text_embedder_cfg,\n",
        "        cache_dir=os.path.join(root_dir, f\"ablation_cache_{cache_name}\")\n",
        "    )\n",
        "\n",
        "    all_tables = list(db.table_dict.keys())\n",
        "    print(f\"Tabelle rimanenti nel grafo: {all_tables}\")\n",
        "\n",
        "    return data, col_stats_dict\n"
      ],
      "metadata": {
        "id": "f0YZY5xjS5In"
      },
      "execution_count": null,
      "outputs": []
    },
    {
      "cell_type": "markdown",
      "source": [
        "## circuits and constructor_results"
      ],
      "metadata": {
        "id": "_C4jfd3JQ05_"
      }
    },
    {
      "cell_type": "code",
      "source": [
        "print(f\"Testing without table: circuits and constructor_result\")\n",
        "tables_to_remove = [\"circuits\",\"constructor_results\"]\n",
        "\n",
        "data, col_stats_dict = build_graph_excluding_tables(\n",
        "        dataset, tables_to_remove=tables_to_remove,\n",
        "        root_dir=root_dir,\n",
        "        text_embedder_cfg=text_embedder_cfg\n",
        ")\n",
        "\n",
        "loader_dict = loader_dict_fn(batch_size=512, num_neighbours=256, data=data)\n",
        "\n",
        "model = Model(\n",
        "        data=data,\n",
        "        col_stats_dict=col_stats_dict,\n",
        "        num_layers=2,\n",
        "        channels=128,\n",
        "        out_channels=1,\n",
        "        aggr=\"max\",\n",
        "        norm=\"batch_norm\",\n",
        ").to(device)\n",
        "\n",
        "optimizer = torch.optim.Adam(model.parameters(), lr=0.0005, weight_decay=0)\n",
        "\n",
        "scheduler = torch.optim.lr_scheduler.ReduceLROnPlateau(\n",
        "        optimizer,\n",
        "        mode=\"min\",\n",
        "        factor=0.5,\n",
        "        patience=10,\n",
        "        verbose=True\n",
        ")\n",
        "\n",
        "early_stopping = EarlyStopping(\n",
        "    patience=30,\n",
        "    delta=0.0,\n",
        "    verbose=True,\n",
        "    path=\"best_basic_model.pt\"\n",
        ")\n",
        "\n",
        "epochs = 600\n",
        "state_dict = None\n",
        "test_table = task.get_table(\"test\", mask_input_cols=False)\n",
        "best_val_metric = -math.inf if higher_is_better else math.inf\n",
        "best_test_metric = -math.inf if higher_is_better else math.inf\n",
        "for epoch in range(1, epochs + 1):\n",
        "    train_loss = train(model, optimizer, loader_dict=loader_dict)\n",
        "\n",
        "    train_pred = test(model, loader_dict[\"train\"])\n",
        "    train_metrics = evaluate_performance(train_pred, train_table, task.metrics)\n",
        "    train_mae_preciso = evaluate_on_full_train(model, loader_dict[\"train\"])\n",
        "\n",
        "    val_pred = test(model, loader_dict[\"val\"])\n",
        "    val_metrics = evaluate_performance(val_pred, val_table, task.metrics)\n",
        "\n",
        "    test_pred = test(model, loader_dict[\"test\"])\n",
        "    test_metrics = evaluate_performance(test_pred, test_table, task.metrics)\n",
        "\n",
        "    scheduler.step(val_metrics[tune_metric])\n",
        "\n",
        "    if (higher_is_better and val_metrics[tune_metric] > best_val_metric) or (\n",
        "            not higher_is_better and val_metrics[tune_metric] < best_val_metric\n",
        "    ):\n",
        "        best_val_metric = val_metrics[tune_metric]\n",
        "        state_dict = copy.deepcopy(model.state_dict())\n",
        "\n",
        "    #test:\n",
        "    if (higher_is_better and test_metrics[tune_metric] > best_test_metric) or (\n",
        "            not higher_is_better and test_metrics[tune_metric] < best_test_metric\n",
        "    ):\n",
        "        best_test_metric = test_metrics[tune_metric]\n",
        "        state_dict_test = copy.deepcopy(model.state_dict())\n",
        "\n",
        "    current_lr = optimizer.param_groups[0][\"lr\"]\n",
        "    print(f\"Epoch: {epoch:02d}, Train mae: {train_mae_preciso:.2f}, Validation MAE: {val_metrics[tune_metric]:.2f}, Test MAE: {test_metrics[tune_metric]:.2f}, LR: {current_lr:.6f}\")\n",
        "\n",
        "    early_stopping(val_metrics[tune_metric], model)\n",
        "\n",
        "    if early_stopping.early_stop:\n",
        "        print(f\"Early stopping triggered at epoch {epoch}\")\n",
        "        break\n",
        "print(f\"best validation results: {best_val_metric}\")\n",
        "print(f\"best test results: {best_test_metric}\")"
      ],
      "metadata": {
        "colab": {
          "base_uri": "https://localhost:8080/"
        },
        "id": "u77bmKvtGc0Z",
        "outputId": "4d98a944-a52e-49f4-e995-84d86ba6de88"
      },
      "execution_count": 93,
      "outputs": [
        {
          "output_type": "stream",
          "name": "stdout",
          "text": [
            "Testing without table: circuits and constructor_result\n",
            "Tabelle rimanenti nel grafo: ['results', 'qualifying', 'standings', 'constructor_standings', 'constructors', 'races', 'drivers']\n"
          ]
        },
        {
          "output_type": "stream",
          "name": "stderr",
          "text": [
            "/usr/local/lib/python3.11/dist-packages/torch_frame/utils/io.py:113: UserWarning: Weights only load failed. Please file an issue to make `torch.load(weights_only=True)` compatible in your case. Please use `torch.serialization.add_safe_globals([scalar])` to allowlist this global.\n",
            "  warnings.warn(f\"{warn_msg} Please use \"\n",
            "/usr/local/lib/python3.11/dist-packages/torch_frame/utils/io.py:113: UserWarning: Weights only load failed. Please file an issue to make `torch.load(weights_only=True)` compatible in your case. Please use `torch.serialization.add_safe_globals([scalar])` to allowlist this global.\n",
            "  warnings.warn(f\"{warn_msg} Please use \"\n",
            "/usr/local/lib/python3.11/dist-packages/torch_frame/utils/io.py:113: UserWarning: Weights only load failed. Please file an issue to make `torch.load(weights_only=True)` compatible in your case. Please use `torch.serialization.add_safe_globals([scalar])` to allowlist this global.\n",
            "  warnings.warn(f\"{warn_msg} Please use \"\n",
            "/usr/local/lib/python3.11/dist-packages/torch_frame/utils/io.py:113: UserWarning: Weights only load failed. Please file an issue to make `torch.load(weights_only=True)` compatible in your case. Please use `torch.serialization.add_safe_globals([scalar])` to allowlist this global.\n",
            "  warnings.warn(f\"{warn_msg} Please use \"\n",
            "/usr/local/lib/python3.11/dist-packages/torch_frame/utils/io.py:113: UserWarning: Weights only load failed. Please file an issue to make `torch.load(weights_only=True)` compatible in your case. Please use `torch.serialization.add_safe_globals([scalar])` to allowlist this global.\n",
            "  warnings.warn(f\"{warn_msg} Please use \"\n",
            "/usr/local/lib/python3.11/dist-packages/torch_frame/utils/io.py:113: UserWarning: Weights only load failed. Please file an issue to make `torch.load(weights_only=True)` compatible in your case. Please use `torch.serialization.add_safe_globals([scalar])` to allowlist this global.\n",
            "  warnings.warn(f\"{warn_msg} Please use \"\n",
            "/usr/local/lib/python3.11/dist-packages/torch/optim/lr_scheduler.py:62: UserWarning: The verbose parameter is deprecated. Please use get_last_lr() to access the learning rate.\n",
            "  warnings.warn(\n",
            "100%|██████████| 15/15 [00:02<00:00,  5.57it/s]\n"
          ]
        },
        {
          "output_type": "stream",
          "name": "stdout",
          "text": [
            "Epoch: 01, Train mae: 10.33, Validation MAE: 7.51, Test MAE: 8.40, LR: 0.000500\n",
            "Validation loss migliorata (inf --> 7.507688). Salvo modello...\n"
          ]
        },
        {
          "output_type": "stream",
          "name": "stderr",
          "text": [
            "100%|██████████| 15/15 [00:02<00:00,  5.02it/s]\n"
          ]
        },
        {
          "output_type": "stream",
          "name": "stdout",
          "text": [
            "Epoch: 02, Train mae: 9.87, Validation MAE: 7.06, Test MAE: 7.90, LR: 0.000500\n",
            "Validation loss migliorata (7.507688 --> 7.064141). Salvo modello...\n"
          ]
        },
        {
          "output_type": "stream",
          "name": "stderr",
          "text": [
            "100%|██████████| 15/15 [00:02<00:00,  5.67it/s]\n"
          ]
        },
        {
          "output_type": "stream",
          "name": "stdout",
          "text": [
            "Epoch: 03, Train mae: 9.45, Validation MAE: 6.67, Test MAE: 7.48, LR: 0.000500\n",
            "Validation loss migliorata (7.064141 --> 6.666592). Salvo modello...\n"
          ]
        },
        {
          "output_type": "stream",
          "name": "stderr",
          "text": [
            "100%|██████████| 15/15 [00:02<00:00,  5.14it/s]\n"
          ]
        },
        {
          "output_type": "stream",
          "name": "stdout",
          "text": [
            "Epoch: 04, Train mae: 9.05, Validation MAE: 6.29, Test MAE: 7.09, LR: 0.000500\n",
            "Validation loss migliorata (6.666592 --> 6.286310). Salvo modello...\n"
          ]
        },
        {
          "output_type": "stream",
          "name": "stderr",
          "text": [
            "100%|██████████| 15/15 [00:02<00:00,  5.65it/s]\n"
          ]
        },
        {
          "output_type": "stream",
          "name": "stdout",
          "text": [
            "Epoch: 05, Train mae: 8.65, Validation MAE: 5.92, Test MAE: 6.71, LR: 0.000500\n",
            "Validation loss migliorata (6.286310 --> 5.917766). Salvo modello...\n"
          ]
        },
        {
          "output_type": "stream",
          "name": "stderr",
          "text": [
            "100%|██████████| 15/15 [00:02<00:00,  5.29it/s]\n"
          ]
        },
        {
          "output_type": "stream",
          "name": "stdout",
          "text": [
            "Epoch: 06, Train mae: 8.26, Validation MAE: 5.57, Test MAE: 6.36, LR: 0.000500\n",
            "Validation loss migliorata (5.917766 --> 5.566150). Salvo modello...\n"
          ]
        },
        {
          "output_type": "stream",
          "name": "stderr",
          "text": [
            "100%|██████████| 15/15 [00:02<00:00,  5.67it/s]\n"
          ]
        },
        {
          "output_type": "stream",
          "name": "stdout",
          "text": [
            "Epoch: 07, Train mae: 7.89, Validation MAE: 5.25, Test MAE: 6.02, LR: 0.000500\n",
            "Validation loss migliorata (5.566150 --> 5.248413). Salvo modello...\n"
          ]
        },
        {
          "output_type": "stream",
          "name": "stderr",
          "text": [
            "100%|██████████| 15/15 [00:02<00:00,  5.42it/s]\n"
          ]
        },
        {
          "output_type": "stream",
          "name": "stdout",
          "text": [
            "Epoch: 08, Train mae: 7.54, Validation MAE: 4.96, Test MAE: 5.71, LR: 0.000500\n",
            "Validation loss migliorata (5.248413 --> 4.956344). Salvo modello...\n"
          ]
        },
        {
          "output_type": "stream",
          "name": "stderr",
          "text": [
            "100%|██████████| 15/15 [00:02<00:00,  5.67it/s]\n"
          ]
        },
        {
          "output_type": "stream",
          "name": "stdout",
          "text": [
            "Epoch: 09, Train mae: 7.21, Validation MAE: 4.70, Test MAE: 5.42, LR: 0.000500\n",
            "Validation loss migliorata (4.956344 --> 4.699998). Salvo modello...\n"
          ]
        },
        {
          "output_type": "stream",
          "name": "stderr",
          "text": [
            "100%|██████████| 15/15 [00:02<00:00,  5.50it/s]\n"
          ]
        },
        {
          "output_type": "stream",
          "name": "stdout",
          "text": [
            "Epoch: 10, Train mae: 6.91, Validation MAE: 4.48, Test MAE: 5.15, LR: 0.000500\n",
            "Validation loss migliorata (4.699998 --> 4.480751). Salvo modello...\n"
          ]
        },
        {
          "output_type": "stream",
          "name": "stderr",
          "text": [
            "100%|██████████| 15/15 [00:02<00:00,  5.65it/s]\n"
          ]
        },
        {
          "output_type": "stream",
          "name": "stdout",
          "text": [
            "Epoch: 11, Train mae: 6.65, Validation MAE: 4.29, Test MAE: 4.93, LR: 0.000500\n",
            "Validation loss migliorata (4.480751 --> 4.293558). Salvo modello...\n"
          ]
        },
        {
          "output_type": "stream",
          "name": "stderr",
          "text": [
            "100%|██████████| 15/15 [00:02<00:00,  5.60it/s]\n"
          ]
        },
        {
          "output_type": "stream",
          "name": "stdout",
          "text": [
            "Epoch: 12, Train mae: 6.42, Validation MAE: 4.15, Test MAE: 4.73, LR: 0.000500\n",
            "Validation loss migliorata (4.293558 --> 4.148866). Salvo modello...\n"
          ]
        },
        {
          "output_type": "stream",
          "name": "stderr",
          "text": [
            "100%|██████████| 15/15 [00:02<00:00,  5.69it/s]\n"
          ]
        },
        {
          "output_type": "stream",
          "name": "stdout",
          "text": [
            "Epoch: 13, Train mae: 6.22, Validation MAE: 4.04, Test MAE: 4.58, LR: 0.000500\n",
            "Validation loss migliorata (4.148866 --> 4.038844). Salvo modello...\n"
          ]
        },
        {
          "output_type": "stream",
          "name": "stderr",
          "text": [
            "100%|██████████| 15/15 [00:02<00:00,  5.66it/s]\n"
          ]
        },
        {
          "output_type": "stream",
          "name": "stdout",
          "text": [
            "Epoch: 14, Train mae: 6.06, Validation MAE: 3.95, Test MAE: 4.46, LR: 0.000500\n",
            "Validation loss migliorata (4.038844 --> 3.949599). Salvo modello...\n"
          ]
        },
        {
          "output_type": "stream",
          "name": "stderr",
          "text": [
            "100%|██████████| 15/15 [00:02<00:00,  5.69it/s]\n"
          ]
        },
        {
          "output_type": "stream",
          "name": "stdout",
          "text": [
            "Epoch: 15, Train mae: 5.92, Validation MAE: 3.89, Test MAE: 4.38, LR: 0.000500\n",
            "Validation loss migliorata (3.949599 --> 3.886333). Salvo modello...\n"
          ]
        },
        {
          "output_type": "stream",
          "name": "stderr",
          "text": [
            "100%|██████████| 15/15 [00:02<00:00,  5.69it/s]\n"
          ]
        },
        {
          "output_type": "stream",
          "name": "stdout",
          "text": [
            "Epoch: 16, Train mae: 5.81, Validation MAE: 3.85, Test MAE: 4.32, LR: 0.000500\n",
            "Validation loss migliorata (3.886333 --> 3.852624). Salvo modello...\n"
          ]
        },
        {
          "output_type": "stream",
          "name": "stderr",
          "text": [
            "100%|██████████| 15/15 [00:02<00:00,  5.64it/s]\n"
          ]
        },
        {
          "output_type": "stream",
          "name": "stdout",
          "text": [
            "Epoch: 17, Train mae: 5.72, Validation MAE: 3.85, Test MAE: 4.29, LR: 0.000500\n",
            "Validation loss migliorata (3.852624 --> 3.846872). Salvo modello...\n"
          ]
        },
        {
          "output_type": "stream",
          "name": "stderr",
          "text": [
            "100%|██████████| 15/15 [00:02<00:00,  5.65it/s]\n"
          ]
        },
        {
          "output_type": "stream",
          "name": "stdout",
          "text": [
            "Epoch: 18, Train mae: 5.66, Validation MAE: 3.85, Test MAE: 4.27, LR: 0.000500\n",
            "EarlyStopping counter: 1 / 30\n"
          ]
        },
        {
          "output_type": "stream",
          "name": "stderr",
          "text": [
            "100%|██████████| 15/15 [00:02<00:00,  5.59it/s]\n"
          ]
        },
        {
          "output_type": "stream",
          "name": "stdout",
          "text": [
            "Epoch: 19, Train mae: 5.61, Validation MAE: 3.87, Test MAE: 4.27, LR: 0.000500\n",
            "EarlyStopping counter: 2 / 30\n"
          ]
        },
        {
          "output_type": "stream",
          "name": "stderr",
          "text": [
            "100%|██████████| 15/15 [00:02<00:00,  5.63it/s]\n"
          ]
        },
        {
          "output_type": "stream",
          "name": "stdout",
          "text": [
            "Epoch: 20, Train mae: 5.58, Validation MAE: 3.88, Test MAE: 4.27, LR: 0.000500\n",
            "EarlyStopping counter: 3 / 30\n"
          ]
        },
        {
          "output_type": "stream",
          "name": "stderr",
          "text": [
            "100%|██████████| 15/15 [00:02<00:00,  5.38it/s]\n"
          ]
        },
        {
          "output_type": "stream",
          "name": "stdout",
          "text": [
            "Epoch: 21, Train mae: 5.55, Validation MAE: 3.86, Test MAE: 4.25, LR: 0.000500\n",
            "EarlyStopping counter: 4 / 30\n"
          ]
        },
        {
          "output_type": "stream",
          "name": "stderr",
          "text": [
            "100%|██████████| 15/15 [00:02<00:00,  5.67it/s]\n"
          ]
        },
        {
          "output_type": "stream",
          "name": "stdout",
          "text": [
            "Epoch: 22, Train mae: 5.46, Validation MAE: 3.61, Test MAE: 4.03, LR: 0.000500\n",
            "Validation loss migliorata (3.846872 --> 3.608312). Salvo modello...\n"
          ]
        },
        {
          "output_type": "stream",
          "name": "stderr",
          "text": [
            "100%|██████████| 15/15 [00:02<00:00,  5.19it/s]\n"
          ]
        },
        {
          "output_type": "stream",
          "name": "stdout",
          "text": [
            "Epoch: 23, Train mae: 5.32, Validation MAE: 3.51, Test MAE: 3.82, LR: 0.000500\n",
            "Validation loss migliorata (3.608312 --> 3.513636). Salvo modello...\n"
          ]
        },
        {
          "output_type": "stream",
          "name": "stderr",
          "text": [
            "100%|██████████| 15/15 [00:02<00:00,  5.65it/s]\n"
          ]
        },
        {
          "output_type": "stream",
          "name": "stdout",
          "text": [
            "Epoch: 24, Train mae: 5.26, Validation MAE: 3.42, Test MAE: 3.84, LR: 0.000500\n",
            "Validation loss migliorata (3.513636 --> 3.417082). Salvo modello...\n"
          ]
        },
        {
          "output_type": "stream",
          "name": "stderr",
          "text": [
            "100%|██████████| 15/15 [00:02<00:00,  5.11it/s]\n"
          ]
        },
        {
          "output_type": "stream",
          "name": "stdout",
          "text": [
            "Epoch: 25, Train mae: 5.16, Validation MAE: 3.23, Test MAE: 3.84, LR: 0.000500\n",
            "Validation loss migliorata (3.417082 --> 3.225280). Salvo modello...\n"
          ]
        },
        {
          "output_type": "stream",
          "name": "stderr",
          "text": [
            "100%|██████████| 15/15 [00:02<00:00,  5.70it/s]\n"
          ]
        },
        {
          "output_type": "stream",
          "name": "stdout",
          "text": [
            "Epoch: 26, Train mae: 5.04, Validation MAE: 3.01, Test MAE: 3.96, LR: 0.000500\n",
            "Validation loss migliorata (3.225280 --> 3.010029). Salvo modello...\n"
          ]
        },
        {
          "output_type": "stream",
          "name": "stderr",
          "text": [
            "100%|██████████| 15/15 [00:02<00:00,  5.00it/s]\n"
          ]
        },
        {
          "output_type": "stream",
          "name": "stdout",
          "text": [
            "Epoch: 27, Train mae: 4.99, Validation MAE: 3.27, Test MAE: 4.00, LR: 0.000500\n",
            "EarlyStopping counter: 1 / 30\n"
          ]
        },
        {
          "output_type": "stream",
          "name": "stderr",
          "text": [
            "100%|██████████| 15/15 [00:02<00:00,  5.64it/s]\n"
          ]
        },
        {
          "output_type": "stream",
          "name": "stdout",
          "text": [
            "Epoch: 28, Train mae: 4.87, Validation MAE: 2.95, Test MAE: 4.07, LR: 0.000500\n",
            "Validation loss migliorata (3.010029 --> 2.947026). Salvo modello...\n"
          ]
        },
        {
          "output_type": "stream",
          "name": "stderr",
          "text": [
            "100%|██████████| 15/15 [00:02<00:00,  5.23it/s]\n"
          ]
        },
        {
          "output_type": "stream",
          "name": "stdout",
          "text": [
            "Epoch: 29, Train mae: 4.81, Validation MAE: 2.97, Test MAE: 4.01, LR: 0.000500\n",
            "EarlyStopping counter: 1 / 30\n"
          ]
        },
        {
          "output_type": "stream",
          "name": "stderr",
          "text": [
            "100%|██████████| 15/15 [00:02<00:00,  5.70it/s]\n"
          ]
        },
        {
          "output_type": "stream",
          "name": "stdout",
          "text": [
            "Epoch: 30, Train mae: 4.76, Validation MAE: 2.88, Test MAE: 4.12, LR: 0.000500\n",
            "Validation loss migliorata (2.947026 --> 2.877523). Salvo modello...\n"
          ]
        },
        {
          "output_type": "stream",
          "name": "stderr",
          "text": [
            "100%|██████████| 15/15 [00:02<00:00,  5.47it/s]\n"
          ]
        },
        {
          "output_type": "stream",
          "name": "stdout",
          "text": [
            "Epoch: 31, Train mae: 4.73, Validation MAE: 3.02, Test MAE: 4.03, LR: 0.000500\n",
            "EarlyStopping counter: 1 / 30\n"
          ]
        },
        {
          "output_type": "stream",
          "name": "stderr",
          "text": [
            "100%|██████████| 15/15 [00:02<00:00,  5.65it/s]\n"
          ]
        },
        {
          "output_type": "stream",
          "name": "stdout",
          "text": [
            "Epoch: 32, Train mae: 4.69, Validation MAE: 3.00, Test MAE: 4.02, LR: 0.000500\n",
            "EarlyStopping counter: 2 / 30\n"
          ]
        },
        {
          "output_type": "stream",
          "name": "stderr",
          "text": [
            "100%|██████████| 15/15 [00:02<00:00,  5.51it/s]\n"
          ]
        },
        {
          "output_type": "stream",
          "name": "stdout",
          "text": [
            "Epoch: 33, Train mae: 4.62, Validation MAE: 2.94, Test MAE: 4.03, LR: 0.000500\n",
            "EarlyStopping counter: 3 / 30\n"
          ]
        },
        {
          "output_type": "stream",
          "name": "stderr",
          "text": [
            "100%|██████████| 15/15 [00:02<00:00,  5.66it/s]\n"
          ]
        },
        {
          "output_type": "stream",
          "name": "stdout",
          "text": [
            "Epoch: 34, Train mae: 4.56, Validation MAE: 2.78, Test MAE: 4.00, LR: 0.000500\n",
            "Validation loss migliorata (2.877523 --> 2.783158). Salvo modello...\n"
          ]
        },
        {
          "output_type": "stream",
          "name": "stderr",
          "text": [
            "100%|██████████| 15/15 [00:02<00:00,  5.62it/s]\n"
          ]
        },
        {
          "output_type": "stream",
          "name": "stdout",
          "text": [
            "Epoch: 35, Train mae: 4.49, Validation MAE: 2.98, Test MAE: 4.09, LR: 0.000500\n",
            "EarlyStopping counter: 1 / 30\n"
          ]
        },
        {
          "output_type": "stream",
          "name": "stderr",
          "text": [
            "100%|██████████| 15/15 [00:02<00:00,  5.63it/s]\n"
          ]
        },
        {
          "output_type": "stream",
          "name": "stdout",
          "text": [
            "Epoch: 36, Train mae: 4.41, Validation MAE: 2.83, Test MAE: 4.06, LR: 0.000500\n",
            "EarlyStopping counter: 2 / 30\n"
          ]
        },
        {
          "output_type": "stream",
          "name": "stderr",
          "text": [
            "100%|██████████| 15/15 [00:02<00:00,  5.67it/s]\n"
          ]
        },
        {
          "output_type": "stream",
          "name": "stdout",
          "text": [
            "Epoch: 37, Train mae: 4.38, Validation MAE: 2.93, Test MAE: 4.23, LR: 0.000500\n",
            "EarlyStopping counter: 3 / 30\n"
          ]
        },
        {
          "output_type": "stream",
          "name": "stderr",
          "text": [
            "100%|██████████| 15/15 [00:02<00:00,  5.51it/s]\n"
          ]
        },
        {
          "output_type": "stream",
          "name": "stdout",
          "text": [
            "Epoch: 38, Train mae: 4.29, Validation MAE: 2.88, Test MAE: 4.20, LR: 0.000500\n",
            "EarlyStopping counter: 4 / 30\n"
          ]
        },
        {
          "output_type": "stream",
          "name": "stderr",
          "text": [
            "100%|██████████| 15/15 [00:02<00:00,  5.67it/s]\n"
          ]
        },
        {
          "output_type": "stream",
          "name": "stdout",
          "text": [
            "Epoch: 39, Train mae: 4.29, Validation MAE: 2.79, Test MAE: 4.31, LR: 0.000500\n",
            "EarlyStopping counter: 5 / 30\n"
          ]
        },
        {
          "output_type": "stream",
          "name": "stderr",
          "text": [
            "100%|██████████| 15/15 [00:02<00:00,  5.33it/s]\n"
          ]
        },
        {
          "output_type": "stream",
          "name": "stdout",
          "text": [
            "Epoch: 40, Train mae: 4.17, Validation MAE: 2.94, Test MAE: 4.27, LR: 0.000500\n",
            "EarlyStopping counter: 6 / 30\n"
          ]
        },
        {
          "output_type": "stream",
          "name": "stderr",
          "text": [
            "100%|██████████| 15/15 [00:02<00:00,  5.60it/s]\n"
          ]
        },
        {
          "output_type": "stream",
          "name": "stdout",
          "text": [
            "Epoch: 41, Train mae: 4.07, Validation MAE: 2.85, Test MAE: 4.45, LR: 0.000500\n",
            "EarlyStopping counter: 7 / 30\n"
          ]
        },
        {
          "output_type": "stream",
          "name": "stderr",
          "text": [
            "100%|██████████| 15/15 [00:02<00:00,  5.13it/s]\n"
          ]
        },
        {
          "output_type": "stream",
          "name": "stdout",
          "text": [
            "Epoch: 42, Train mae: 4.01, Validation MAE: 2.84, Test MAE: 4.46, LR: 0.000500\n",
            "EarlyStopping counter: 8 / 30\n"
          ]
        },
        {
          "output_type": "stream",
          "name": "stderr",
          "text": [
            "100%|██████████| 15/15 [00:02<00:00,  5.60it/s]\n"
          ]
        },
        {
          "output_type": "stream",
          "name": "stdout",
          "text": [
            "Epoch: 43, Train mae: 4.01, Validation MAE: 2.95, Test MAE: 4.48, LR: 0.000500\n",
            "EarlyStopping counter: 9 / 30\n"
          ]
        },
        {
          "output_type": "stream",
          "name": "stderr",
          "text": [
            "100%|██████████| 15/15 [00:02<00:00,  5.05it/s]\n"
          ]
        },
        {
          "output_type": "stream",
          "name": "stdout",
          "text": [
            "Epoch: 44, Train mae: 3.91, Validation MAE: 2.90, Test MAE: 4.68, LR: 0.000500\n",
            "EarlyStopping counter: 10 / 30\n"
          ]
        },
        {
          "output_type": "stream",
          "name": "stderr",
          "text": [
            "100%|██████████| 15/15 [00:02<00:00,  5.65it/s]\n"
          ]
        },
        {
          "output_type": "stream",
          "name": "stdout",
          "text": [
            "Epoch: 45, Train mae: 3.93, Validation MAE: 2.84, Test MAE: 4.44, LR: 0.000250\n",
            "EarlyStopping counter: 11 / 30\n"
          ]
        },
        {
          "output_type": "stream",
          "name": "stderr",
          "text": [
            "100%|██████████| 15/15 [00:02<00:00,  5.20it/s]\n"
          ]
        },
        {
          "output_type": "stream",
          "name": "stdout",
          "text": [
            "Epoch: 46, Train mae: 3.68, Validation MAE: 2.85, Test MAE: 4.39, LR: 0.000250\n",
            "EarlyStopping counter: 12 / 30\n"
          ]
        },
        {
          "output_type": "stream",
          "name": "stderr",
          "text": [
            "100%|██████████| 15/15 [00:02<00:00,  5.67it/s]\n"
          ]
        },
        {
          "output_type": "stream",
          "name": "stdout",
          "text": [
            "Epoch: 47, Train mae: 3.58, Validation MAE: 2.97, Test MAE: 4.40, LR: 0.000250\n",
            "EarlyStopping counter: 13 / 30\n"
          ]
        },
        {
          "output_type": "stream",
          "name": "stderr",
          "text": [
            "100%|██████████| 15/15 [00:02<00:00,  5.42it/s]\n"
          ]
        },
        {
          "output_type": "stream",
          "name": "stdout",
          "text": [
            "Epoch: 48, Train mae: 3.49, Validation MAE: 2.90, Test MAE: 4.34, LR: 0.000250\n",
            "EarlyStopping counter: 14 / 30\n"
          ]
        },
        {
          "output_type": "stream",
          "name": "stderr",
          "text": [
            "100%|██████████| 15/15 [00:02<00:00,  5.68it/s]\n"
          ]
        },
        {
          "output_type": "stream",
          "name": "stdout",
          "text": [
            "Epoch: 49, Train mae: 3.47, Validation MAE: 3.08, Test MAE: 4.52, LR: 0.000250\n",
            "EarlyStopping counter: 15 / 30\n"
          ]
        },
        {
          "output_type": "stream",
          "name": "stderr",
          "text": [
            "100%|██████████| 15/15 [00:02<00:00,  5.57it/s]\n"
          ]
        },
        {
          "output_type": "stream",
          "name": "stdout",
          "text": [
            "Epoch: 50, Train mae: 3.38, Validation MAE: 2.94, Test MAE: 4.27, LR: 0.000250\n",
            "EarlyStopping counter: 16 / 30\n"
          ]
        },
        {
          "output_type": "stream",
          "name": "stderr",
          "text": [
            "100%|██████████| 15/15 [00:02<00:00,  5.65it/s]\n"
          ]
        },
        {
          "output_type": "stream",
          "name": "stdout",
          "text": [
            "Epoch: 51, Train mae: 3.45, Validation MAE: 3.00, Test MAE: 4.86, LR: 0.000250\n",
            "EarlyStopping counter: 17 / 30\n"
          ]
        },
        {
          "output_type": "stream",
          "name": "stderr",
          "text": [
            "100%|██████████| 15/15 [00:02<00:00,  5.66it/s]\n"
          ]
        },
        {
          "output_type": "stream",
          "name": "stdout",
          "text": [
            "Epoch: 52, Train mae: 3.29, Validation MAE: 2.93, Test MAE: 4.57, LR: 0.000250\n",
            "EarlyStopping counter: 18 / 30\n"
          ]
        },
        {
          "output_type": "stream",
          "name": "stderr",
          "text": [
            "100%|██████████| 15/15 [00:02<00:00,  5.62it/s]\n"
          ]
        },
        {
          "output_type": "stream",
          "name": "stdout",
          "text": [
            "Epoch: 53, Train mae: 3.18, Validation MAE: 3.00, Test MAE: 4.91, LR: 0.000250\n",
            "EarlyStopping counter: 19 / 30\n"
          ]
        },
        {
          "output_type": "stream",
          "name": "stderr",
          "text": [
            "100%|██████████| 15/15 [00:02<00:00,  5.63it/s]\n"
          ]
        },
        {
          "output_type": "stream",
          "name": "stdout",
          "text": [
            "Epoch: 54, Train mae: 3.25, Validation MAE: 3.03, Test MAE: 4.93, LR: 0.000250\n",
            "EarlyStopping counter: 20 / 30\n"
          ]
        },
        {
          "output_type": "stream",
          "name": "stderr",
          "text": [
            "100%|██████████| 15/15 [00:02<00:00,  5.48it/s]\n"
          ]
        },
        {
          "output_type": "stream",
          "name": "stdout",
          "text": [
            "Epoch: 55, Train mae: 2.98, Validation MAE: 2.96, Test MAE: 4.82, LR: 0.000250\n",
            "EarlyStopping counter: 21 / 30\n"
          ]
        },
        {
          "output_type": "stream",
          "name": "stderr",
          "text": [
            "100%|██████████| 15/15 [00:02<00:00,  5.64it/s]\n"
          ]
        },
        {
          "output_type": "stream",
          "name": "stdout",
          "text": [
            "Epoch: 56, Train mae: 3.01, Validation MAE: 3.00, Test MAE: 4.98, LR: 0.000125\n",
            "EarlyStopping counter: 22 / 30\n"
          ]
        },
        {
          "output_type": "stream",
          "name": "stderr",
          "text": [
            "100%|██████████| 15/15 [00:02<00:00,  5.27it/s]\n"
          ]
        },
        {
          "output_type": "stream",
          "name": "stdout",
          "text": [
            "Epoch: 57, Train mae: 2.90, Validation MAE: 3.00, Test MAE: 4.93, LR: 0.000125\n",
            "EarlyStopping counter: 23 / 30\n"
          ]
        },
        {
          "output_type": "stream",
          "name": "stderr",
          "text": [
            "100%|██████████| 15/15 [00:02<00:00,  5.58it/s]\n"
          ]
        },
        {
          "output_type": "stream",
          "name": "stdout",
          "text": [
            "Epoch: 58, Train mae: 2.81, Validation MAE: 3.02, Test MAE: 4.95, LR: 0.000125\n",
            "EarlyStopping counter: 24 / 30\n"
          ]
        },
        {
          "output_type": "stream",
          "name": "stderr",
          "text": [
            "100%|██████████| 15/15 [00:02<00:00,  5.11it/s]\n"
          ]
        },
        {
          "output_type": "stream",
          "name": "stdout",
          "text": [
            "Epoch: 59, Train mae: 2.75, Validation MAE: 3.05, Test MAE: 4.87, LR: 0.000125\n",
            "EarlyStopping counter: 25 / 30\n"
          ]
        },
        {
          "output_type": "stream",
          "name": "stderr",
          "text": [
            "100%|██████████| 15/15 [00:02<00:00,  5.65it/s]\n"
          ]
        },
        {
          "output_type": "stream",
          "name": "stdout",
          "text": [
            "Epoch: 60, Train mae: 2.75, Validation MAE: 3.06, Test MAE: 4.88, LR: 0.000125\n",
            "EarlyStopping counter: 26 / 30\n"
          ]
        },
        {
          "output_type": "stream",
          "name": "stderr",
          "text": [
            "100%|██████████| 15/15 [00:02<00:00,  5.04it/s]\n"
          ]
        },
        {
          "output_type": "stream",
          "name": "stdout",
          "text": [
            "Epoch: 61, Train mae: 2.65, Validation MAE: 3.03, Test MAE: 4.75, LR: 0.000125\n",
            "EarlyStopping counter: 27 / 30\n"
          ]
        },
        {
          "output_type": "stream",
          "name": "stderr",
          "text": [
            "100%|██████████| 15/15 [00:02<00:00,  5.65it/s]\n"
          ]
        },
        {
          "output_type": "stream",
          "name": "stdout",
          "text": [
            "Epoch: 62, Train mae: 2.65, Validation MAE: 3.11, Test MAE: 4.92, LR: 0.000125\n",
            "EarlyStopping counter: 28 / 30\n"
          ]
        },
        {
          "output_type": "stream",
          "name": "stderr",
          "text": [
            "100%|██████████| 15/15 [00:02<00:00,  5.30it/s]\n"
          ]
        },
        {
          "output_type": "stream",
          "name": "stdout",
          "text": [
            "Epoch: 63, Train mae: 2.64, Validation MAE: 3.01, Test MAE: 4.79, LR: 0.000125\n",
            "EarlyStopping counter: 29 / 30\n"
          ]
        },
        {
          "output_type": "stream",
          "name": "stderr",
          "text": [
            "100%|██████████| 15/15 [00:02<00:00,  5.63it/s]\n"
          ]
        },
        {
          "output_type": "stream",
          "name": "stdout",
          "text": [
            "Epoch: 64, Train mae: 2.59, Validation MAE: 3.12, Test MAE: 4.82, LR: 0.000125\n",
            "EarlyStopping counter: 30 / 30\n",
            "Early stopping triggered at epoch 64\n",
            "best validation results: 2.7831582932290666\n",
            "best test results: 3.8213064945789808\n"
          ]
        }
      ]
    },
    {
      "cell_type": "markdown",
      "source": [
        "Sembra che la rete benefici di queste rimozioni!"
      ],
      "metadata": {
        "id": "9SPUV2P-I19c"
      }
    },
    {
      "cell_type": "markdown",
      "source": [
        "## Circuits, constructor_results, standings, qualifying"
      ],
      "metadata": {
        "id": "g7R52TtKQ7SP"
      }
    },
    {
      "cell_type": "markdown",
      "source": [
        "PROVIAMO A RIMUOVERE CIRCUITS, CONSTRUCTOR_RESULTS, STANDINGS E qualifying"
      ],
      "metadata": {
        "id": "suGdqLlfJcpK"
      }
    },
    {
      "cell_type": "code",
      "source": [
        "print(f\"Testing without table: circuits,constructor_results, standings, qualifying\")\n",
        "tables_to_remove = [\"circuits\",\"constructor_results\", \"standings\", \"qualifying\"]\n",
        "\n",
        "data, col_stats_dict = build_graph_excluding_tables(\n",
        "        dataset, tables_to_remove=tables_to_remove,\n",
        "        root_dir=root_dir,\n",
        "        text_embedder_cfg=text_embedder_cfg\n",
        ")\n",
        "\n",
        "loader_dict = loader_dict_fn(batch_size=512, num_neighbours=256, data=data)\n",
        "\n",
        "model = Model(\n",
        "        data=data,\n",
        "        col_stats_dict=col_stats_dict,\n",
        "        num_layers=2,\n",
        "        channels=128,\n",
        "        out_channels=1,\n",
        "        aggr=\"max\",\n",
        "        norm=\"batch_norm\",\n",
        ").to(device)\n",
        "\n",
        "optimizer = torch.optim.Adam(model.parameters(), lr=0.0005, weight_decay=0)\n",
        "\n",
        "scheduler = torch.optim.lr_scheduler.ReduceLROnPlateau(\n",
        "        optimizer,\n",
        "        mode=\"min\",\n",
        "        factor=0.5,\n",
        "        patience=10,\n",
        "        verbose=True\n",
        ")\n",
        "\n",
        "early_stopping = EarlyStopping(\n",
        "    patience=30,\n",
        "    delta=0.0,\n",
        "    verbose=True,\n",
        "    path=\"best_basic_model.pt\"\n",
        ")\n",
        "\n",
        "epochs = 600\n",
        "state_dict = None\n",
        "test_table = task.get_table(\"test\", mask_input_cols=False)\n",
        "best_val_metric = -math.inf if higher_is_better else math.inf\n",
        "best_test_metric = -math.inf if higher_is_better else math.inf\n",
        "for epoch in range(1, epochs + 1):\n",
        "    train_loss = train(model, optimizer, loader_dict=loader_dict)\n",
        "\n",
        "    train_pred = test(model, loader_dict[\"train\"])\n",
        "    train_metrics = evaluate_performance(train_pred, train_table, task.metrics)\n",
        "    train_mae_preciso = evaluate_on_full_train(model, loader_dict[\"train\"])\n",
        "\n",
        "    val_pred = test(model, loader_dict[\"val\"])\n",
        "    val_metrics = evaluate_performance(val_pred, val_table, task.metrics)\n",
        "\n",
        "    test_pred = test(model, loader_dict[\"test\"])\n",
        "    test_metrics = evaluate_performance(test_pred, test_table, task.metrics)\n",
        "\n",
        "    scheduler.step(val_metrics[tune_metric])\n",
        "\n",
        "    if (higher_is_better and val_metrics[tune_metric] > best_val_metric) or (\n",
        "            not higher_is_better and val_metrics[tune_metric] < best_val_metric\n",
        "    ):\n",
        "        best_val_metric = val_metrics[tune_metric]\n",
        "        state_dict = copy.deepcopy(model.state_dict())\n",
        "\n",
        "    #test:\n",
        "    if (higher_is_better and test_metrics[tune_metric] > best_test_metric) or (\n",
        "            not higher_is_better and test_metrics[tune_metric] < best_test_metric\n",
        "    ):\n",
        "        best_test_metric = test_metrics[tune_metric]\n",
        "        state_dict_test = copy.deepcopy(model.state_dict())\n",
        "\n",
        "    current_lr = optimizer.param_groups[0][\"lr\"]\n",
        "    print(f\"Epoch: {epoch:02d}, Train mae: {train_mae_preciso:.2f}, Validation MAE: {val_metrics[tune_metric]:.2f}, Test MAE: {test_metrics[tune_metric]:.2f}, LR: {current_lr:.6f}\")\n",
        "\n",
        "    early_stopping(val_metrics[tune_metric], model)\n",
        "\n",
        "    if early_stopping.early_stop:\n",
        "        print(f\"Early stopping triggered at epoch {epoch}\")\n",
        "        break\n",
        "print(f\"best validation results: {best_val_metric}\")\n",
        "print(f\"best test results: {best_test_metric}\")"
      ],
      "metadata": {
        "colab": {
          "base_uri": "https://localhost:8080/"
        },
        "id": "dO1alJiOJjRw",
        "outputId": "0e4000cf-2d1e-4da6-dd62-497ed1b393c9"
      },
      "execution_count": 90,
      "outputs": [
        {
          "output_type": "stream",
          "name": "stdout",
          "text": [
            "Testing without table: circuits,constructor_results, standings, qualifying\n"
          ]
        },
        {
          "output_type": "stream",
          "name": "stderr",
          "text": [
            "/usr/local/lib/python3.11/dist-packages/torch_frame/utils/io.py:113: UserWarning: Weights only load failed. Please file an issue to make `torch.load(weights_only=True)` compatible in your case. Please use `torch.serialization.add_safe_globals([scalar])` to allowlist this global.\n",
            "  warnings.warn(f\"{warn_msg} Please use \"\n",
            "/usr/local/lib/python3.11/dist-packages/torch_frame/utils/io.py:113: UserWarning: Weights only load failed. Please file an issue to make `torch.load(weights_only=True)` compatible in your case. Please use `torch.serialization.add_safe_globals([scalar])` to allowlist this global.\n",
            "  warnings.warn(f\"{warn_msg} Please use \"\n",
            "/usr/local/lib/python3.11/dist-packages/torch_frame/utils/io.py:113: UserWarning: Weights only load failed. Please file an issue to make `torch.load(weights_only=True)` compatible in your case. Please use `torch.serialization.add_safe_globals([scalar])` to allowlist this global.\n",
            "  warnings.warn(f\"{warn_msg} Please use \"\n",
            "/usr/local/lib/python3.11/dist-packages/torch_frame/utils/io.py:113: UserWarning: Weights only load failed. Please file an issue to make `torch.load(weights_only=True)` compatible in your case. Please use `torch.serialization.add_safe_globals([scalar])` to allowlist this global.\n",
            "  warnings.warn(f\"{warn_msg} Please use \"\n"
          ]
        },
        {
          "output_type": "stream",
          "name": "stdout",
          "text": [
            "Tabelle rimanenti nel grafo: ['results', 'constructor_standings', 'constructors', 'races', 'drivers']\n"
          ]
        },
        {
          "output_type": "stream",
          "name": "stderr",
          "text": [
            "/usr/local/lib/python3.11/dist-packages/torch/optim/lr_scheduler.py:62: UserWarning: The verbose parameter is deprecated. Please use get_last_lr() to access the learning rate.\n",
            "  warnings.warn(\n",
            "100%|██████████| 15/15 [00:01<00:00,  8.52it/s]\n"
          ]
        },
        {
          "output_type": "stream",
          "name": "stdout",
          "text": [
            "Epoch: 01, Train mae: 10.56, Validation MAE: 7.71, Test MAE: 8.71, LR: 0.000500\n",
            "Validation loss migliorata (inf --> 7.707859). Salvo modello...\n"
          ]
        },
        {
          "output_type": "stream",
          "name": "stderr",
          "text": [
            "100%|██████████| 15/15 [00:01<00:00,  9.07it/s]\n"
          ]
        },
        {
          "output_type": "stream",
          "name": "stdout",
          "text": [
            "Epoch: 02, Train mae: 9.98, Validation MAE: 7.15, Test MAE: 8.05, LR: 0.000500\n",
            "Validation loss migliorata (7.707859 --> 7.150862). Salvo modello...\n"
          ]
        },
        {
          "output_type": "stream",
          "name": "stderr",
          "text": [
            "100%|██████████| 15/15 [00:01<00:00,  9.17it/s]\n"
          ]
        },
        {
          "output_type": "stream",
          "name": "stdout",
          "text": [
            "Epoch: 03, Train mae: 9.54, Validation MAE: 6.74, Test MAE: 7.58, LR: 0.000500\n",
            "Validation loss migliorata (7.150862 --> 6.741182). Salvo modello...\n"
          ]
        },
        {
          "output_type": "stream",
          "name": "stderr",
          "text": [
            "100%|██████████| 15/15 [00:01<00:00,  7.91it/s]\n"
          ]
        },
        {
          "output_type": "stream",
          "name": "stdout",
          "text": [
            "Epoch: 04, Train mae: 9.12, Validation MAE: 6.35, Test MAE: 7.16, LR: 0.000500\n",
            "Validation loss migliorata (6.741182 --> 6.353780). Salvo modello...\n"
          ]
        },
        {
          "output_type": "stream",
          "name": "stderr",
          "text": [
            "100%|██████████| 15/15 [00:01<00:00,  9.14it/s]\n"
          ]
        },
        {
          "output_type": "stream",
          "name": "stdout",
          "text": [
            "Epoch: 05, Train mae: 8.72, Validation MAE: 5.99, Test MAE: 6.78, LR: 0.000500\n",
            "Validation loss migliorata (6.353780 --> 5.985158). Salvo modello...\n"
          ]
        },
        {
          "output_type": "stream",
          "name": "stderr",
          "text": [
            "100%|██████████| 15/15 [00:01<00:00,  9.09it/s]\n"
          ]
        },
        {
          "output_type": "stream",
          "name": "stdout",
          "text": [
            "Epoch: 06, Train mae: 8.33, Validation MAE: 5.63, Test MAE: 6.42, LR: 0.000500\n",
            "Validation loss migliorata (5.985158 --> 5.630352). Salvo modello...\n"
          ]
        },
        {
          "output_type": "stream",
          "name": "stderr",
          "text": [
            "100%|██████████| 15/15 [00:01<00:00,  8.64it/s]\n"
          ]
        },
        {
          "output_type": "stream",
          "name": "stdout",
          "text": [
            "Epoch: 07, Train mae: 7.96, Validation MAE: 5.31, Test MAE: 6.08, LR: 0.000500\n",
            "Validation loss migliorata (5.630352 --> 5.312764). Salvo modello...\n"
          ]
        },
        {
          "output_type": "stream",
          "name": "stderr",
          "text": [
            "100%|██████████| 15/15 [00:01<00:00,  9.10it/s]\n"
          ]
        },
        {
          "output_type": "stream",
          "name": "stdout",
          "text": [
            "Epoch: 08, Train mae: 7.62, Validation MAE: 5.02, Test MAE: 5.77, LR: 0.000500\n",
            "Validation loss migliorata (5.312764 --> 5.021974). Salvo modello...\n"
          ]
        },
        {
          "output_type": "stream",
          "name": "stderr",
          "text": [
            "100%|██████████| 15/15 [00:01<00:00,  8.96it/s]\n"
          ]
        },
        {
          "output_type": "stream",
          "name": "stdout",
          "text": [
            "Epoch: 09, Train mae: 7.29, Validation MAE: 4.76, Test MAE: 5.48, LR: 0.000500\n",
            "Validation loss migliorata (5.021974 --> 4.760809). Salvo modello...\n"
          ]
        },
        {
          "output_type": "stream",
          "name": "stderr",
          "text": [
            "100%|██████████| 15/15 [00:01<00:00,  8.94it/s]\n"
          ]
        },
        {
          "output_type": "stream",
          "name": "stdout",
          "text": [
            "Epoch: 10, Train mae: 6.99, Validation MAE: 4.54, Test MAE: 5.21, LR: 0.000500\n",
            "Validation loss migliorata (4.760809 --> 4.541726). Salvo modello...\n"
          ]
        },
        {
          "output_type": "stream",
          "name": "stderr",
          "text": [
            "100%|██████████| 15/15 [00:01<00:00,  8.05it/s]\n"
          ]
        },
        {
          "output_type": "stream",
          "name": "stdout",
          "text": [
            "Epoch: 11, Train mae: 6.73, Validation MAE: 4.35, Test MAE: 4.98, LR: 0.000500\n",
            "Validation loss migliorata (4.541726 --> 4.352306). Salvo modello...\n"
          ]
        },
        {
          "output_type": "stream",
          "name": "stderr",
          "text": [
            "100%|██████████| 15/15 [00:01<00:00,  9.02it/s]\n"
          ]
        },
        {
          "output_type": "stream",
          "name": "stdout",
          "text": [
            "Epoch: 12, Train mae: 6.50, Validation MAE: 4.20, Test MAE: 4.78, LR: 0.000500\n",
            "Validation loss migliorata (4.352306 --> 4.196089). Salvo modello...\n"
          ]
        },
        {
          "output_type": "stream",
          "name": "stderr",
          "text": [
            "100%|██████████| 15/15 [00:01<00:00,  9.18it/s]\n"
          ]
        },
        {
          "output_type": "stream",
          "name": "stdout",
          "text": [
            "Epoch: 13, Train mae: 6.30, Validation MAE: 4.08, Test MAE: 4.61, LR: 0.000500\n",
            "Validation loss migliorata (4.196089 --> 4.079790). Salvo modello...\n"
          ]
        },
        {
          "output_type": "stream",
          "name": "stderr",
          "text": [
            "100%|██████████| 15/15 [00:01<00:00,  8.50it/s]\n"
          ]
        },
        {
          "output_type": "stream",
          "name": "stdout",
          "text": [
            "Epoch: 14, Train mae: 6.12, Validation MAE: 3.99, Test MAE: 4.49, LR: 0.000500\n",
            "Validation loss migliorata (4.079790 --> 3.986544). Salvo modello...\n"
          ]
        },
        {
          "output_type": "stream",
          "name": "stderr",
          "text": [
            "100%|██████████| 15/15 [00:01<00:00,  9.14it/s]\n"
          ]
        },
        {
          "output_type": "stream",
          "name": "stdout",
          "text": [
            "Epoch: 15, Train mae: 5.98, Validation MAE: 3.91, Test MAE: 4.39, LR: 0.000500\n",
            "Validation loss migliorata (3.986544 --> 3.912431). Salvo modello...\n"
          ]
        },
        {
          "output_type": "stream",
          "name": "stderr",
          "text": [
            "100%|██████████| 15/15 [00:01<00:00,  9.18it/s]\n"
          ]
        },
        {
          "output_type": "stream",
          "name": "stdout",
          "text": [
            "Epoch: 16, Train mae: 5.86, Validation MAE: 3.86, Test MAE: 4.33, LR: 0.000500\n",
            "Validation loss migliorata (3.912431 --> 3.864075). Salvo modello...\n"
          ]
        },
        {
          "output_type": "stream",
          "name": "stderr",
          "text": [
            "100%|██████████| 15/15 [00:01<00:00,  9.16it/s]\n"
          ]
        },
        {
          "output_type": "stream",
          "name": "stdout",
          "text": [
            "Epoch: 17, Train mae: 5.76, Validation MAE: 3.85, Test MAE: 4.28, LR: 0.000500\n",
            "Validation loss migliorata (3.864075 --> 3.845083). Salvo modello...\n"
          ]
        },
        {
          "output_type": "stream",
          "name": "stderr",
          "text": [
            "100%|██████████| 15/15 [00:01<00:00,  8.13it/s]\n"
          ]
        },
        {
          "output_type": "stream",
          "name": "stdout",
          "text": [
            "Epoch: 18, Train mae: 5.69, Validation MAE: 3.85, Test MAE: 4.26, LR: 0.000500\n",
            "EarlyStopping counter: 1 / 30\n"
          ]
        },
        {
          "output_type": "stream",
          "name": "stderr",
          "text": [
            "100%|██████████| 15/15 [00:01<00:00,  9.16it/s]\n"
          ]
        },
        {
          "output_type": "stream",
          "name": "stdout",
          "text": [
            "Epoch: 19, Train mae: 5.64, Validation MAE: 3.86, Test MAE: 4.26, LR: 0.000500\n",
            "EarlyStopping counter: 2 / 30\n"
          ]
        },
        {
          "output_type": "stream",
          "name": "stderr",
          "text": [
            "100%|██████████| 15/15 [00:01<00:00,  9.17it/s]\n"
          ]
        },
        {
          "output_type": "stream",
          "name": "stdout",
          "text": [
            "Epoch: 20, Train mae: 5.60, Validation MAE: 3.87, Test MAE: 4.26, LR: 0.000500\n",
            "EarlyStopping counter: 3 / 30\n"
          ]
        },
        {
          "output_type": "stream",
          "name": "stderr",
          "text": [
            "100%|██████████| 15/15 [00:01<00:00,  8.31it/s]\n"
          ]
        },
        {
          "output_type": "stream",
          "name": "stdout",
          "text": [
            "Epoch: 21, Train mae: 5.57, Validation MAE: 3.90, Test MAE: 4.27, LR: 0.000500\n",
            "EarlyStopping counter: 4 / 30\n"
          ]
        },
        {
          "output_type": "stream",
          "name": "stderr",
          "text": [
            "100%|██████████| 15/15 [00:01<00:00,  9.25it/s]\n"
          ]
        },
        {
          "output_type": "stream",
          "name": "stdout",
          "text": [
            "Epoch: 22, Train mae: 5.56, Validation MAE: 3.92, Test MAE: 4.29, LR: 0.000500\n",
            "EarlyStopping counter: 5 / 30\n"
          ]
        },
        {
          "output_type": "stream",
          "name": "stderr",
          "text": [
            "100%|██████████| 15/15 [00:01<00:00,  9.21it/s]\n"
          ]
        },
        {
          "output_type": "stream",
          "name": "stdout",
          "text": [
            "Epoch: 23, Train mae: 5.54, Validation MAE: 3.94, Test MAE: 4.31, LR: 0.000500\n",
            "EarlyStopping counter: 6 / 30\n"
          ]
        },
        {
          "output_type": "stream",
          "name": "stderr",
          "text": [
            "100%|██████████| 15/15 [00:01<00:00,  9.20it/s]\n"
          ]
        },
        {
          "output_type": "stream",
          "name": "stdout",
          "text": [
            "Epoch: 24, Train mae: 5.53, Validation MAE: 3.97, Test MAE: 4.33, LR: 0.000500\n",
            "EarlyStopping counter: 7 / 30\n"
          ]
        },
        {
          "output_type": "stream",
          "name": "stderr",
          "text": [
            "100%|██████████| 15/15 [00:01<00:00,  8.05it/s]\n"
          ]
        },
        {
          "output_type": "stream",
          "name": "stdout",
          "text": [
            "Epoch: 25, Train mae: 5.52, Validation MAE: 3.98, Test MAE: 4.35, LR: 0.000500\n",
            "EarlyStopping counter: 8 / 30\n"
          ]
        },
        {
          "output_type": "stream",
          "name": "stderr",
          "text": [
            "100%|██████████| 15/15 [00:01<00:00,  9.12it/s]\n"
          ]
        },
        {
          "output_type": "stream",
          "name": "stdout",
          "text": [
            "Epoch: 26, Train mae: 5.51, Validation MAE: 4.00, Test MAE: 4.36, LR: 0.000500\n",
            "EarlyStopping counter: 9 / 30\n"
          ]
        },
        {
          "output_type": "stream",
          "name": "stderr",
          "text": [
            "100%|██████████| 15/15 [00:01<00:00,  9.13it/s]\n"
          ]
        },
        {
          "output_type": "stream",
          "name": "stdout",
          "text": [
            "Epoch: 27, Train mae: 5.50, Validation MAE: 4.01, Test MAE: 4.38, LR: 0.000500\n",
            "EarlyStopping counter: 10 / 30\n"
          ]
        },
        {
          "output_type": "stream",
          "name": "stderr",
          "text": [
            "100%|██████████| 15/15 [00:01<00:00,  8.60it/s]\n"
          ]
        },
        {
          "output_type": "stream",
          "name": "stdout",
          "text": [
            "Epoch: 28, Train mae: 5.48, Validation MAE: 3.93, Test MAE: 4.33, LR: 0.000250\n",
            "EarlyStopping counter: 11 / 30\n"
          ]
        },
        {
          "output_type": "stream",
          "name": "stderr",
          "text": [
            "100%|██████████| 15/15 [00:01<00:00,  9.15it/s]\n"
          ]
        },
        {
          "output_type": "stream",
          "name": "stdout",
          "text": [
            "Epoch: 29, Train mae: 5.36, Validation MAE: 3.61, Test MAE: 4.12, LR: 0.000250\n",
            "Validation loss migliorata (3.845083 --> 3.606188). Salvo modello...\n"
          ]
        },
        {
          "output_type": "stream",
          "name": "stderr",
          "text": [
            "100%|██████████| 15/15 [00:01<00:00,  9.10it/s]\n"
          ]
        },
        {
          "output_type": "stream",
          "name": "stdout",
          "text": [
            "Epoch: 30, Train mae: 5.25, Validation MAE: 3.38, Test MAE: 3.92, LR: 0.000250\n",
            "Validation loss migliorata (3.606188 --> 3.380556). Salvo modello...\n"
          ]
        },
        {
          "output_type": "stream",
          "name": "stderr",
          "text": [
            "100%|██████████| 15/15 [00:01<00:00,  9.01it/s]\n"
          ]
        },
        {
          "output_type": "stream",
          "name": "stdout",
          "text": [
            "Epoch: 31, Train mae: 5.24, Validation MAE: 3.47, Test MAE: 4.06, LR: 0.000250\n",
            "EarlyStopping counter: 1 / 30\n"
          ]
        },
        {
          "output_type": "stream",
          "name": "stderr",
          "text": [
            "100%|██████████| 15/15 [00:01<00:00,  8.03it/s]\n"
          ]
        },
        {
          "output_type": "stream",
          "name": "stdout",
          "text": [
            "Epoch: 32, Train mae: 5.13, Validation MAE: 3.22, Test MAE: 4.02, LR: 0.000250\n",
            "Validation loss migliorata (3.380556 --> 3.216826). Salvo modello...\n"
          ]
        },
        {
          "output_type": "stream",
          "name": "stderr",
          "text": [
            "100%|██████████| 15/15 [00:01<00:00,  9.11it/s]\n"
          ]
        },
        {
          "output_type": "stream",
          "name": "stdout",
          "text": [
            "Epoch: 33, Train mae: 4.99, Validation MAE: 3.07, Test MAE: 3.98, LR: 0.000250\n",
            "Validation loss migliorata (3.216826 --> 3.070696). Salvo modello...\n"
          ]
        },
        {
          "output_type": "stream",
          "name": "stderr",
          "text": [
            "100%|██████████| 15/15 [00:01<00:00,  9.16it/s]\n"
          ]
        },
        {
          "output_type": "stream",
          "name": "stdout",
          "text": [
            "Epoch: 34, Train mae: 4.91, Validation MAE: 3.31, Test MAE: 4.04, LR: 0.000250\n",
            "EarlyStopping counter: 1 / 30\n"
          ]
        },
        {
          "output_type": "stream",
          "name": "stderr",
          "text": [
            "100%|██████████| 15/15 [00:01<00:00,  8.64it/s]\n"
          ]
        },
        {
          "output_type": "stream",
          "name": "stdout",
          "text": [
            "Epoch: 35, Train mae: 4.85, Validation MAE: 2.90, Test MAE: 4.12, LR: 0.000250\n",
            "Validation loss migliorata (3.070696 --> 2.899991). Salvo modello...\n"
          ]
        },
        {
          "output_type": "stream",
          "name": "stderr",
          "text": [
            "100%|██████████| 15/15 [00:01<00:00,  9.17it/s]\n"
          ]
        },
        {
          "output_type": "stream",
          "name": "stdout",
          "text": [
            "Epoch: 36, Train mae: 4.78, Validation MAE: 3.04, Test MAE: 4.11, LR: 0.000250\n",
            "EarlyStopping counter: 1 / 30\n"
          ]
        },
        {
          "output_type": "stream",
          "name": "stderr",
          "text": [
            "100%|██████████| 15/15 [00:01<00:00,  9.10it/s]\n"
          ]
        },
        {
          "output_type": "stream",
          "name": "stdout",
          "text": [
            "Epoch: 37, Train mae: 4.75, Validation MAE: 2.85, Test MAE: 4.26, LR: 0.000250\n",
            "Validation loss migliorata (2.899991 --> 2.853925). Salvo modello...\n"
          ]
        },
        {
          "output_type": "stream",
          "name": "stderr",
          "text": [
            "100%|██████████| 15/15 [00:01<00:00,  9.18it/s]\n"
          ]
        },
        {
          "output_type": "stream",
          "name": "stdout",
          "text": [
            "Epoch: 38, Train mae: 4.71, Validation MAE: 2.85, Test MAE: 4.28, LR: 0.000250\n",
            "Validation loss migliorata (2.853925 --> 2.846373). Salvo modello...\n"
          ]
        },
        {
          "output_type": "stream",
          "name": "stderr",
          "text": [
            "100%|██████████| 15/15 [00:01<00:00,  7.99it/s]\n"
          ]
        },
        {
          "output_type": "stream",
          "name": "stdout",
          "text": [
            "Epoch: 39, Train mae: 4.66, Validation MAE: 2.92, Test MAE: 4.27, LR: 0.000250\n",
            "EarlyStopping counter: 1 / 30\n"
          ]
        },
        {
          "output_type": "stream",
          "name": "stderr",
          "text": [
            "100%|██████████| 15/15 [00:01<00:00,  9.24it/s]\n"
          ]
        },
        {
          "output_type": "stream",
          "name": "stdout",
          "text": [
            "Epoch: 40, Train mae: 4.76, Validation MAE: 2.90, Test MAE: 4.50, LR: 0.000250\n",
            "EarlyStopping counter: 2 / 30\n"
          ]
        },
        {
          "output_type": "stream",
          "name": "stderr",
          "text": [
            "100%|██████████| 15/15 [00:01<00:00,  9.13it/s]\n"
          ]
        },
        {
          "output_type": "stream",
          "name": "stdout",
          "text": [
            "Epoch: 41, Train mae: 4.63, Validation MAE: 2.98, Test MAE: 4.24, LR: 0.000250\n",
            "EarlyStopping counter: 3 / 30\n"
          ]
        },
        {
          "output_type": "stream",
          "name": "stderr",
          "text": [
            "100%|██████████| 15/15 [00:01<00:00,  8.67it/s]\n"
          ]
        },
        {
          "output_type": "stream",
          "name": "stdout",
          "text": [
            "Epoch: 42, Train mae: 4.59, Validation MAE: 2.90, Test MAE: 4.32, LR: 0.000250\n",
            "EarlyStopping counter: 4 / 30\n"
          ]
        },
        {
          "output_type": "stream",
          "name": "stderr",
          "text": [
            "100%|██████████| 15/15 [00:01<00:00,  9.13it/s]\n"
          ]
        },
        {
          "output_type": "stream",
          "name": "stdout",
          "text": [
            "Epoch: 43, Train mae: 4.54, Validation MAE: 2.85, Test MAE: 4.28, LR: 0.000250\n",
            "EarlyStopping counter: 5 / 30\n"
          ]
        },
        {
          "output_type": "stream",
          "name": "stderr",
          "text": [
            "100%|██████████| 15/15 [00:01<00:00,  9.09it/s]\n"
          ]
        },
        {
          "output_type": "stream",
          "name": "stdout",
          "text": [
            "Epoch: 44, Train mae: 4.52, Validation MAE: 2.87, Test MAE: 4.37, LR: 0.000250\n",
            "EarlyStopping counter: 6 / 30\n"
          ]
        },
        {
          "output_type": "stream",
          "name": "stderr",
          "text": [
            "100%|██████████| 15/15 [00:01<00:00,  9.09it/s]\n"
          ]
        },
        {
          "output_type": "stream",
          "name": "stdout",
          "text": [
            "Epoch: 45, Train mae: 4.48, Validation MAE: 2.87, Test MAE: 4.26, LR: 0.000250\n",
            "EarlyStopping counter: 7 / 30\n"
          ]
        },
        {
          "output_type": "stream",
          "name": "stderr",
          "text": [
            "100%|██████████| 15/15 [00:01<00:00,  7.88it/s]\n"
          ]
        },
        {
          "output_type": "stream",
          "name": "stdout",
          "text": [
            "Epoch: 46, Train mae: 4.45, Validation MAE: 2.90, Test MAE: 4.32, LR: 0.000250\n",
            "EarlyStopping counter: 8 / 30\n"
          ]
        },
        {
          "output_type": "stream",
          "name": "stderr",
          "text": [
            "100%|██████████| 15/15 [00:01<00:00,  9.05it/s]\n"
          ]
        },
        {
          "output_type": "stream",
          "name": "stdout",
          "text": [
            "Epoch: 47, Train mae: 4.42, Validation MAE: 2.88, Test MAE: 4.37, LR: 0.000250\n",
            "EarlyStopping counter: 9 / 30\n"
          ]
        },
        {
          "output_type": "stream",
          "name": "stderr",
          "text": [
            "100%|██████████| 15/15 [00:01<00:00,  9.19it/s]\n"
          ]
        },
        {
          "output_type": "stream",
          "name": "stdout",
          "text": [
            "Epoch: 48, Train mae: 4.40, Validation MAE: 2.85, Test MAE: 4.44, LR: 0.000250\n",
            "EarlyStopping counter: 10 / 30\n"
          ]
        },
        {
          "output_type": "stream",
          "name": "stderr",
          "text": [
            "100%|██████████| 15/15 [00:01<00:00,  8.81it/s]\n"
          ]
        },
        {
          "output_type": "stream",
          "name": "stdout",
          "text": [
            "Epoch: 49, Train mae: 4.34, Validation MAE: 2.91, Test MAE: 4.45, LR: 0.000125\n",
            "EarlyStopping counter: 11 / 30\n"
          ]
        },
        {
          "output_type": "stream",
          "name": "stderr",
          "text": [
            "100%|██████████| 15/15 [00:01<00:00,  9.07it/s]\n"
          ]
        },
        {
          "output_type": "stream",
          "name": "stdout",
          "text": [
            "Epoch: 50, Train mae: 4.36, Validation MAE: 2.85, Test MAE: 4.57, LR: 0.000125\n",
            "EarlyStopping counter: 12 / 30\n"
          ]
        },
        {
          "output_type": "stream",
          "name": "stderr",
          "text": [
            "100%|██████████| 15/15 [00:01<00:00,  9.11it/s]\n"
          ]
        },
        {
          "output_type": "stream",
          "name": "stdout",
          "text": [
            "Epoch: 51, Train mae: 4.29, Validation MAE: 2.96, Test MAE: 4.41, LR: 0.000125\n",
            "EarlyStopping counter: 13 / 30\n"
          ]
        },
        {
          "output_type": "stream",
          "name": "stderr",
          "text": [
            "100%|██████████| 15/15 [00:01<00:00,  9.18it/s]\n"
          ]
        },
        {
          "output_type": "stream",
          "name": "stdout",
          "text": [
            "Epoch: 52, Train mae: 4.26, Validation MAE: 2.93, Test MAE: 4.44, LR: 0.000125\n",
            "EarlyStopping counter: 14 / 30\n"
          ]
        },
        {
          "output_type": "stream",
          "name": "stderr",
          "text": [
            "100%|██████████| 15/15 [00:01<00:00,  7.95it/s]\n"
          ]
        },
        {
          "output_type": "stream",
          "name": "stdout",
          "text": [
            "Epoch: 53, Train mae: 4.23, Validation MAE: 2.88, Test MAE: 4.53, LR: 0.000125\n",
            "EarlyStopping counter: 15 / 30\n"
          ]
        },
        {
          "output_type": "stream",
          "name": "stderr",
          "text": [
            "100%|██████████| 15/15 [00:01<00:00,  9.13it/s]\n"
          ]
        },
        {
          "output_type": "stream",
          "name": "stdout",
          "text": [
            "Epoch: 54, Train mae: 4.20, Validation MAE: 2.88, Test MAE: 4.53, LR: 0.000125\n",
            "EarlyStopping counter: 16 / 30\n"
          ]
        },
        {
          "output_type": "stream",
          "name": "stderr",
          "text": [
            "100%|██████████| 15/15 [00:01<00:00,  9.07it/s]\n"
          ]
        },
        {
          "output_type": "stream",
          "name": "stdout",
          "text": [
            "Epoch: 55, Train mae: 4.17, Validation MAE: 2.91, Test MAE: 4.50, LR: 0.000125\n",
            "EarlyStopping counter: 17 / 30\n"
          ]
        },
        {
          "output_type": "stream",
          "name": "stderr",
          "text": [
            "100%|██████████| 15/15 [00:01<00:00,  8.90it/s]\n"
          ]
        },
        {
          "output_type": "stream",
          "name": "stdout",
          "text": [
            "Epoch: 56, Train mae: 4.14, Validation MAE: 2.97, Test MAE: 4.39, LR: 0.000125\n",
            "EarlyStopping counter: 18 / 30\n"
          ]
        },
        {
          "output_type": "stream",
          "name": "stderr",
          "text": [
            "100%|██████████| 15/15 [00:01<00:00,  8.65it/s]\n"
          ]
        },
        {
          "output_type": "stream",
          "name": "stdout",
          "text": [
            "Epoch: 57, Train mae: 4.10, Validation MAE: 2.93, Test MAE: 4.43, LR: 0.000125\n",
            "EarlyStopping counter: 19 / 30\n"
          ]
        },
        {
          "output_type": "stream",
          "name": "stderr",
          "text": [
            "100%|██████████| 15/15 [00:01<00:00,  9.16it/s]\n"
          ]
        },
        {
          "output_type": "stream",
          "name": "stdout",
          "text": [
            "Epoch: 58, Train mae: 4.10, Validation MAE: 2.89, Test MAE: 4.44, LR: 0.000125\n",
            "EarlyStopping counter: 20 / 30\n"
          ]
        },
        {
          "output_type": "stream",
          "name": "stderr",
          "text": [
            "100%|██████████| 15/15 [00:01<00:00,  9.23it/s]\n"
          ]
        },
        {
          "output_type": "stream",
          "name": "stdout",
          "text": [
            "Epoch: 59, Train mae: 4.06, Validation MAE: 2.96, Test MAE: 4.35, LR: 0.000125\n",
            "EarlyStopping counter: 21 / 30\n"
          ]
        },
        {
          "output_type": "stream",
          "name": "stderr",
          "text": [
            "100%|██████████| 15/15 [00:01<00:00,  8.00it/s]\n"
          ]
        },
        {
          "output_type": "stream",
          "name": "stdout",
          "text": [
            "Epoch: 60, Train mae: 4.04, Validation MAE: 2.89, Test MAE: 4.35, LR: 0.000063\n",
            "EarlyStopping counter: 22 / 30\n"
          ]
        },
        {
          "output_type": "stream",
          "name": "stderr",
          "text": [
            "100%|██████████| 15/15 [00:01<00:00,  9.10it/s]\n"
          ]
        },
        {
          "output_type": "stream",
          "name": "stdout",
          "text": [
            "Epoch: 61, Train mae: 4.02, Validation MAE: 2.91, Test MAE: 4.37, LR: 0.000063\n",
            "EarlyStopping counter: 23 / 30\n"
          ]
        },
        {
          "output_type": "stream",
          "name": "stderr",
          "text": [
            "100%|██████████| 15/15 [00:01<00:00,  9.24it/s]\n"
          ]
        },
        {
          "output_type": "stream",
          "name": "stdout",
          "text": [
            "Epoch: 62, Train mae: 3.98, Validation MAE: 2.91, Test MAE: 4.29, LR: 0.000063\n",
            "EarlyStopping counter: 24 / 30\n"
          ]
        },
        {
          "output_type": "stream",
          "name": "stderr",
          "text": [
            "100%|██████████| 15/15 [00:01<00:00,  9.12it/s]\n"
          ]
        },
        {
          "output_type": "stream",
          "name": "stdout",
          "text": [
            "Epoch: 63, Train mae: 3.99, Validation MAE: 3.00, Test MAE: 4.32, LR: 0.000063\n",
            "EarlyStopping counter: 25 / 30\n"
          ]
        },
        {
          "output_type": "stream",
          "name": "stderr",
          "text": [
            "100%|██████████| 15/15 [00:01<00:00,  8.47it/s]\n"
          ]
        },
        {
          "output_type": "stream",
          "name": "stdout",
          "text": [
            "Epoch: 64, Train mae: 3.96, Validation MAE: 2.93, Test MAE: 4.34, LR: 0.000063\n",
            "EarlyStopping counter: 26 / 30\n"
          ]
        },
        {
          "output_type": "stream",
          "name": "stderr",
          "text": [
            "100%|██████████| 15/15 [00:01<00:00,  9.10it/s]\n"
          ]
        },
        {
          "output_type": "stream",
          "name": "stdout",
          "text": [
            "Epoch: 65, Train mae: 3.94, Validation MAE: 2.97, Test MAE: 4.33, LR: 0.000063\n",
            "EarlyStopping counter: 27 / 30\n"
          ]
        },
        {
          "output_type": "stream",
          "name": "stderr",
          "text": [
            "100%|██████████| 15/15 [00:01<00:00,  9.24it/s]\n"
          ]
        },
        {
          "output_type": "stream",
          "name": "stdout",
          "text": [
            "Epoch: 66, Train mae: 3.93, Validation MAE: 2.98, Test MAE: 4.32, LR: 0.000063\n",
            "EarlyStopping counter: 28 / 30\n"
          ]
        },
        {
          "output_type": "stream",
          "name": "stderr",
          "text": [
            "100%|██████████| 15/15 [00:01<00:00,  8.32it/s]\n"
          ]
        },
        {
          "output_type": "stream",
          "name": "stdout",
          "text": [
            "Epoch: 67, Train mae: 3.90, Validation MAE: 2.96, Test MAE: 4.32, LR: 0.000063\n",
            "EarlyStopping counter: 29 / 30\n"
          ]
        },
        {
          "output_type": "stream",
          "name": "stderr",
          "text": [
            "100%|██████████| 15/15 [00:01<00:00,  9.17it/s]\n"
          ]
        },
        {
          "output_type": "stream",
          "name": "stdout",
          "text": [
            "Epoch: 68, Train mae: 3.90, Validation MAE: 3.04, Test MAE: 4.25, LR: 0.000063\n",
            "EarlyStopping counter: 30 / 30\n",
            "Early stopping triggered at epoch 68\n",
            "best validation results: 2.8463728568995084\n",
            "best test results: 3.9194119374793868\n"
          ]
        }
      ]
    }
  ],
  "metadata": {
    "accelerator": "GPU",
    "colab": {
      "collapsed_sections": [
        "4D3ONst6S0pI",
        "3JWVJkt7XmNa",
        "P-vR0q-lS3mL",
        "P6q-HPJfr7c_",
        "1gvkjcjPr7dB",
        "6xMIwSVTXXnr",
        "Nr7qtFXgr7dE",
        "kgdIEP05xmmg"
      ],
      "gpuType": "T4",
      "provenance": []
    },
    "kernelspec": {
      "display_name": "Python 3",
      "name": "python3"
    },
    "language_info": {
      "codemirror_mode": {
        "name": "ipython",
        "version": 3
      },
      "file_extension": ".py",
      "mimetype": "text/x-python",
      "name": "python",
      "nbconvert_exporter": "python",
      "pygments_lexer": "ipython3",
      "version": "3.10.0"
    }
  },
  "nbformat": 4,
  "nbformat_minor": 0
}